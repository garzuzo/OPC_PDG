{
 "cells": [
  {
   "cell_type": "markdown",
   "metadata": {},
   "source": [
    "## OPC PDG\n",
    "\n",
    "# Integrantes: Sandra Niño y Johnatan Garzón\n",
    "\n",
    "En el presente jupyter notebook se hará uso de LDA (Latent Dirichlet Allocation) para que las respuestas a la pregunta \"Para ti,¿Que sí es paz?\", en este caso entendidos como documentos, formen topics o categorías de palabras relacionadas  a la pregunta."
   ]
  },
  {
   "cell_type": "code",
   "execution_count": 1,
   "metadata": {
    "scrolled": true
   },
   "outputs": [
    {
     "name": "stdout",
     "output_type": "stream",
     "text": [
      "[nltk_data] Downloading package stopwords to\n",
      "[nltk_data]     /home/garzuzo/nltk_data...\n",
      "[nltk_data]   Package stopwords is already up-to-date!\n",
      "[nltk_data] Downloading package wordnet to /home/garzuzo/nltk_data...\n",
      "[nltk_data]   Package wordnet is already up-to-date!\n"
     ]
    }
   ],
   "source": [
    "%matplotlib inline\n",
    "import numpy as np #operaciones matriciales y con vectores\n",
    "import pandas as pd #tratamiento de datos\n",
    "import matplotlib.pyplot as plt #gráficos\n",
    "from sklearn import datasets, metrics\n",
    "from sklearn import preprocessing\n",
    "# Sklearn\n",
    "from sklearn.decomposition import LatentDirichletAllocation, TruncatedSVD\n",
    "from sklearn.feature_extraction.text import CountVectorizer, TfidfVectorizer\n",
    "from sklearn.model_selection import GridSearchCV\n",
    "from pprint import pprint\n",
    "\n",
    "# Plotting tools\n",
    "import pyLDAvis\n",
    "import pyLDAvis.sklearn\n",
    "import matplotlib.pyplot as plt\n",
    "import seaborn as sns\n",
    "\n",
    "#remove stopwords\n",
    "import nltk\n",
    "nltk.download('stopwords')\n",
    "nltk.download('wordnet')\n",
    "\n",
    "# NLTK Stop words\n",
    "from nltk.corpus import stopwords\n",
    "stop_words = stopwords.words('spanish')\n",
    "\n",
    "import warnings; warnings.simplefilter('ignore')"
   ]
  },
  {
   "cell_type": "markdown",
   "metadata": {},
   "source": [
    "## Lectura de datos procesados"
   ]
  },
  {
   "cell_type": "markdown",
   "metadata": {},
   "source": [
    "Creamos el dataframe a partir de los datos procesados anteriormente"
   ]
  },
  {
   "cell_type": "code",
   "execution_count": 2,
   "metadata": {
    "collapsed": true
   },
   "outputs": [],
   "source": [
    "df=pd.read_excel('./data/df_limpieza.xlsx')"
   ]
  },
  {
   "cell_type": "code",
   "execution_count": 3,
   "metadata": {},
   "outputs": [
    {
     "data": {
      "text/html": [
       "<div>\n",
       "<style scoped>\n",
       "    .dataframe tbody tr th:only-of-type {\n",
       "        vertical-align: middle;\n",
       "    }\n",
       "\n",
       "    .dataframe tbody tr th {\n",
       "        vertical-align: top;\n",
       "    }\n",
       "\n",
       "    .dataframe thead th {\n",
       "        text-align: right;\n",
       "    }\n",
       "</style>\n",
       "<table border=\"1\" class=\"dataframe\">\n",
       "  <thead>\n",
       "    <tr style=\"text-align: right;\">\n",
       "      <th></th>\n",
       "      <th>Narrativa_lemmatized</th>\n",
       "    </tr>\n",
       "  </thead>\n",
       "  <tbody>\n",
       "    <tr>\n",
       "      <th>0</th>\n",
       "      <td>tranquilidad convivencia casa educacion colect...</td>\n",
       "    </tr>\n",
       "    <tr>\n",
       "      <th>1</th>\n",
       "      <td>semana semana padres cuidadores pasar hijos es...</td>\n",
       "    </tr>\n",
       "    <tr>\n",
       "      <th>2</th>\n",
       "      <td>tranquilidad familia empleabilidad tolerancia ...</td>\n",
       "    </tr>\n",
       "    <tr>\n",
       "      <th>3</th>\n",
       "      <td>accion dano integracion comunitaria respeto de...</td>\n",
       "    </tr>\n",
       "    <tr>\n",
       "      <th>4</th>\n",
       "      <td>procesos formativo multiplicacion numero alian...</td>\n",
       "    </tr>\n",
       "  </tbody>\n",
       "</table>\n",
       "</div>"
      ],
      "text/plain": [
       "                                Narrativa_lemmatized\n",
       "0  tranquilidad convivencia casa educacion colect...\n",
       "1  semana semana padres cuidadores pasar hijos es...\n",
       "2  tranquilidad familia empleabilidad tolerancia ...\n",
       "3  accion dano integracion comunitaria respeto de...\n",
       "4  procesos formativo multiplicacion numero alian..."
      ]
     },
     "execution_count": 3,
     "metadata": {},
     "output_type": "execute_result"
    }
   ],
   "source": [
    "df.head()"
   ]
  },
  {
   "cell_type": "markdown",
   "metadata": {},
   "source": [
    "## LDA (Latent Dirichlet Allocation)"
   ]
  },
  {
   "cell_type": "markdown",
   "metadata": {},
   "source": [
    "Se crea matriz Documento-Palabra como input para LDA.\n",
    "\n",
    "Se hará uso de CountVectorizer. Este se configurará para que tenga en cuenta palabras que aparezcan como mínimo 10 veces y que solo contengan letras, que su longitud sea de mínimo 3 caracteres y no borre los bigramas(palabras que tienen un guión bajo)."
   ]
  },
  {
   "cell_type": "code",
   "execution_count": 4,
   "metadata": {
    "collapsed": true
   },
   "outputs": [],
   "source": [
    "vectorizer = CountVectorizer(analyzer='word',       \n",
    "                             min_df=10,                        # minimo numero de ocurrencias\n",
    "                             token_pattern='[a-z\\_A-Z]{3,}',  # num chars > 3, que contenga bigramas (palabra_palabra)\n",
    "                            )\n",
    "\n",
    "data_vectorized = vectorizer.fit_transform(df['Narrativa_lemmatized'])"
   ]
  },
  {
   "cell_type": "markdown",
   "metadata": {},
   "source": [
    "Este es un ejemplo de lo que retorna data_vectorized. Esta es una matriz de dispersión que tiene en cuenta las ocurrencias de la palabra en cada documento. \n",
    "Por ejemplo, en el primer documento vemos que hay 2 palabras con 2 ocurrencias que son: tranquilidad y educación. "
   ]
  },
  {
   "cell_type": "code",
   "execution_count": 5,
   "metadata": {},
   "outputs": [
    {
     "data": {
      "text/plain": [
       "'tranquilidad convivencia casa educacion colectividad respeto tranquilidad acceso educacion humanizacion espacio siempre camino'"
      ]
     },
     "execution_count": 5,
     "metadata": {},
     "output_type": "execute_result"
    }
   ],
   "source": [
    "df.Narrativa_lemmatized[0]"
   ]
  },
  {
   "cell_type": "code",
   "execution_count": 6,
   "metadata": {},
   "outputs": [
    {
     "name": "stdout",
     "output_type": "stream",
     "text": [
      "  (0, 393)\t1\n",
      "  (0, 168)\t1\n",
      "  (0, 2)\t1\n",
      "  (0, 360)\t1\n",
      "  (0, 150)\t2\n",
      "  (0, 67)\t1\n",
      "  (0, 100)\t1\n",
      "  (0, 426)\t2\n",
      "  (1, 183)\t1\n",
      "  (1, 165)\t1\n",
      "  (1, 214)\t2\n",
      "  (1, 437)\t2\n",
      "  (1, 181)\t1\n",
      "  (1, 259)\t1\n",
      "  (1, 213)\t2\n",
      "  (1, 309)\t2\n",
      "  (1, 301)\t2\n",
      "  (1, 168)\t1\n",
      "  (2, 371)\t1\n",
      "  (2, 16)\t1\n",
      "  (2, 449)\t1\n",
      "  (2, 127)\t1\n",
      "  (2, 416)\t1\n",
      "  (2, 214)\t1\n",
      "  (2, 181)\t1\n",
      "  :\t:\n",
      "  (6, 40)\t1\n",
      "  (6, 422)\t1\n",
      "  (6, 83)\t1\n",
      "  (6, 289)\t2\n",
      "  (6, 416)\t2\n",
      "  (7, 362)\t1\n",
      "  (7, 214)\t1\n",
      "  (7, 426)\t1\n",
      "  (8, 140)\t1\n",
      "  (8, 348)\t1\n",
      "  (8, 155)\t1\n",
      "  (8, 26)\t1\n",
      "  (8, 446)\t1\n",
      "  (8, 307)\t1\n",
      "  (8, 85)\t1\n",
      "  (8, 400)\t1\n",
      "  (8, 4)\t1\n",
      "  (8, 77)\t1\n",
      "  (8, 360)\t2\n",
      "  (9, 137)\t1\n",
      "  (9, 287)\t1\n",
      "  (9, 438)\t1\n",
      "  (9, 60)\t1\n",
      "  (9, 289)\t1\n",
      "  (9, 360)\t2\n"
     ]
    }
   ],
   "source": [
    "print(data_vectorized[0:10])"
   ]
  },
  {
   "cell_type": "markdown",
   "metadata": {},
   "source": [
    "A continuación veremos las 20 palabras más comunes en nuestros datos. "
   ]
  },
  {
   "cell_type": "code",
   "execution_count": 7,
   "metadata": {},
   "outputs": [
    {
     "data": {
      "image/png": "[encoded data removed]",
      "text/plain": [
       "<matplotlib.figure.Figure at 0x7f5b8010cf28>"
      ]
     },
     "metadata": {},
     "output_type": "display_data"
    }
   ],
   "source": [
    "def plot_20_most_common_words(count_data, count_vectorizer):\n",
    "    import matplotlib.pyplot as plt\n",
    "    words = count_vectorizer.get_feature_names()\n",
    "    total_counts = np.zeros(len(words))\n",
    "    for t in count_data:\n",
    "        total_counts+=t.toarray()[0]\n",
    "    \n",
    "    count_dict = (zip(words, total_counts))\n",
    "    count_dict = sorted(count_dict, key=lambda x:x[1], reverse=True)[0:20]\n",
    "    words = [w[0] for w in count_dict]\n",
    "    counts = [w[1] for w in count_dict]\n",
    "    x_pos = np.arange(len(words)) \n",
    "    \n",
    "    plt.figure(2, figsize=(15, 15/1.6180))\n",
    "    plt.subplot(title='20 most common words')\n",
    "    sns.set_context(\"notebook\", font_scale=1.25, rc={\"lines.linewidth\": 2.5})\n",
    "    sns.barplot(x_pos, counts, palette='husl')\n",
    "    plt.xticks(x_pos, words, rotation=90) \n",
    "    plt.xlabel('words')\n",
    "    plt.ylabel('counts')\n",
    "    plt.show()\n",
    "\n",
    "# Visualise the 20 most common words\n",
    "plot_20_most_common_words(data_vectorized, vectorizer)"
   ]
  },
  {
   "cell_type": "markdown",
   "metadata": {},
   "source": [
    "## Encontrar el mejor LDA"
   ]
  },
  {
   "cell_type": "markdown",
   "metadata": {},
   "source": [
    "Realizaremos una búsqueda de parámetros para encontrar el mejor LDA. Para esto se tendrá en cuenta la variación de 2 parámetros:\n",
    "- n_components, el cual es el número de topicos (grupos) que queremos formar.\n",
    "- learning_decay, el cual controla la razón de aprendizaje. \n",
    "\n",
    "### Grid Search\n",
    "Este proceso de búsqueda de parámetros consume bastante tiempo, puesto que construye múltiples modelos de LDA para todas las posibles combinaciones de dichos parámetros en el diccionario **param_grid** (cross-validated grid-search)."
   ]
  },
  {
   "cell_type": "code",
   "execution_count": 8,
   "metadata": {
    "scrolled": true
   },
   "outputs": [
    {
     "data": {
      "text/plain": [
       "GridSearchCV(cv=None, error_score='raise',\n",
       "       estimator=LatentDirichletAllocation(batch_size=128, doc_topic_prior=None,\n",
       "             evaluate_every=-1, learning_decay=0.7, learning_method=None,\n",
       "             learning_offset=10.0, max_doc_update_iter=100, max_iter=10,\n",
       "             mean_change_tol=0.001, n_components=10, n_jobs=1,\n",
       "             n_topics=None, perp_tol=0.1, random_state=None,\n",
       "             topic_word_prior=None, total_samples=1000000.0, verbose=0),\n",
       "       fit_params=None, iid=True, n_jobs=1,\n",
       "       param_grid={'n_components': [5, 6, 7, 8], 'learning_decay': [0.5, 0.7, 0.9], 'random_state': [100]},\n",
       "       pre_dispatch='2*n_jobs', refit=True, return_train_score=True,\n",
       "       scoring=None, verbose=0)"
      ]
     },
     "execution_count": 8,
     "metadata": {},
     "output_type": "execute_result"
    }
   ],
   "source": [
    "# Se definen los parámetros de búsqueda\n",
    "search_params = {'n_components': [5, 6, 7 ,8], 'learning_decay': [.5, .7, .9], 'random_state':[100]}\n",
    "\n",
    "# Se inicializa el modelo\n",
    "lda = LatentDirichletAllocation()\n",
    "\n",
    "# Se inicializa la clase GridSearchCV\n",
    "model = GridSearchCV(lda, param_grid=search_params)\n",
    "\n",
    "# Se realiza Grid Search\n",
    "model.fit(data_vectorized)"
   ]
  },
  {
   "cell_type": "code",
   "execution_count": 9,
   "metadata": {
    "scrolled": true
   },
   "outputs": [
    {
     "name": "stdout",
     "output_type": "stream",
     "text": [
      "LatentDirichletAllocation(batch_size=128, doc_topic_prior=None,\n",
      "             evaluate_every=-1, learning_decay=0.7, learning_method=None,\n",
      "             learning_offset=10.0, max_doc_update_iter=100, max_iter=10,\n",
      "             mean_change_tol=0.001, n_components=5, n_jobs=1,\n",
      "             n_topics=None, perp_tol=0.1, random_state=100,\n",
      "             topic_word_prior=None, total_samples=1000000.0, verbose=0)\n"
     ]
    }
   ],
   "source": [
    "print(model.best_estimator_)"
   ]
  },
  {
   "cell_type": "markdown",
   "metadata": {},
   "source": [
    "## Escogencia del modelo"
   ]
  },
  {
   "cell_type": "markdown",
   "metadata": {},
   "source": [
    "Ahora construimos el modelo con los parámetros encontrados en el paso anterior. Para esto asignamos **model.best\\_estimator\\_** a la variable *lda_model*"
   ]
  },
  {
   "cell_type": "code",
   "execution_count": 10,
   "metadata": {},
   "outputs": [
    {
     "name": "stdout",
     "output_type": "stream",
     "text": [
      "Mejores parámetros del modelo:  {'learning_decay': 0.7, 'n_components': 5, 'random_state': 100}\n",
      "Mejor Log Likelihood Score:  -32922.08333896249\n",
      "Perplexity del modelo:  296.85744853407823\n"
     ]
    }
   ],
   "source": [
    "# Best Model\n",
    "lda_model = model.best_estimator_\n",
    "\n",
    "# Model Parameters\n",
    "print(\"Mejores parámetros del modelo: \", model.best_params_)\n",
    "\n",
    "# Log Likelihood Score\n",
    "print(\"Mejor Log Likelihood Score: \", model.best_score_)\n",
    "\n",
    "# Perplexity\n",
    "print(\"Perplexity del modelo: \", lda_model.perplexity(data_vectorized))"
   ]
  },
  {
   "cell_type": "markdown",
   "metadata": {},
   "source": [
    "Ahora graficamos la diferencia entre los diferentes modelos generados. Comparamos los scores de log-likelihood contra el número de tópicos, se ve claramente que el número de tópicos=5 tiene mejores resultados. También se observa que el learning_decay=0.7 tiene un mejor rendimiento que el resto."
   ]
  },
  {
   "cell_type": "code",
   "execution_count": 11,
   "metadata": {
    "scrolled": false
   },
   "outputs": [
    {
     "data": {
      "image/png": "[encoded data removed]",
      "text/plain": [
       "<matplotlib.figure.Figure at 0x7f5b800dbb00>"
      ]
     },
     "metadata": {},
     "output_type": "display_data"
    }
   ],
   "source": [
    "n_topics = [5,6,7,8]\n",
    "log_likelyhoods_5 = [round(gscore.mean_validation_score) for gscore in model.grid_scores_ if gscore.parameters['learning_decay']==0.5]\n",
    "log_likelyhoods_7 = [round(gscore.mean_validation_score) for gscore in model.grid_scores_ if gscore.parameters['learning_decay']==0.7]\n",
    "log_likelyhoods_9 = [round(gscore.mean_validation_score) for gscore in model.grid_scores_ if gscore.parameters['learning_decay']==0.9]\n",
    "\n",
    "plt.figure(figsize=(12, 8))\n",
    "plt.plot(n_topics, log_likelyhoods_5, label='0.5')\n",
    "plt.plot(n_topics, log_likelyhoods_7, label='0.7')\n",
    "plt.plot(n_topics, log_likelyhoods_9, label='0.9')\n",
    "plt.title(\"Escogiendo el modelo óptimo de LDA\")\n",
    "plt.xlabel(\"Número Tópicos\")\n",
    "plt.ylabel(\"Log Likelyhood Scores\")\n",
    "plt.legend(title='Learning decay', loc='best')\n",
    "plt.show()"
   ]
  },
  {
   "cell_type": "markdown",
   "metadata": {},
   "source": [
    "## Tópico dominante en cada documento"
   ]
  },
  {
   "cell_type": "markdown",
   "metadata": {},
   "source": [
    "Recordemos que los documentos contienen una mezcla de tópicos (grupos/categorías) y las palabras se agrupan en dichos tópicos. \n",
    "Por ende, veremos la proporción de cada tópico en cada documento y la última columna será el topico dominante, es decir, el que tiene mayor proporción. "
   ]
  },
  {
   "cell_type": "code",
   "execution_count": 12,
   "metadata": {
    "scrolled": true
   },
   "outputs": [
    {
     "data": {
      "text/html": [
       "<style  type=\"text/css\" >\n",
       "    #T_8568f97e_072e_11ea_b1a9_70c94e156e1erow0_col0 {\n",
       "            color:  green;\n",
       "            font-weight:  700;\n",
       "        }    #T_8568f97e_072e_11ea_b1a9_70c94e156e1erow0_col1 {\n",
       "            color:  green;\n",
       "            font-weight:  700;\n",
       "        }    #T_8568f97e_072e_11ea_b1a9_70c94e156e1erow0_col2 {\n",
       "            color:  green;\n",
       "            font-weight:  700;\n",
       "        }    #T_8568f97e_072e_11ea_b1a9_70c94e156e1erow0_col3 {\n",
       "            color:  black;\n",
       "            font-weight:  400;\n",
       "        }    #T_8568f97e_072e_11ea_b1a9_70c94e156e1erow0_col4 {\n",
       "            color:  green;\n",
       "            font-weight:  700;\n",
       "        }    #T_8568f97e_072e_11ea_b1a9_70c94e156e1erow0_col5 {\n",
       "            color:  green;\n",
       "            font-weight:  700;\n",
       "        }    #T_8568f97e_072e_11ea_b1a9_70c94e156e1erow1_col0 {\n",
       "            color:  green;\n",
       "            font-weight:  700;\n",
       "        }    #T_8568f97e_072e_11ea_b1a9_70c94e156e1erow1_col1 {\n",
       "            color:  black;\n",
       "            font-weight:  400;\n",
       "        }    #T_8568f97e_072e_11ea_b1a9_70c94e156e1erow1_col2 {\n",
       "            color:  green;\n",
       "            font-weight:  700;\n",
       "        }    #T_8568f97e_072e_11ea_b1a9_70c94e156e1erow1_col3 {\n",
       "            color:  green;\n",
       "            font-weight:  700;\n",
       "        }    #T_8568f97e_072e_11ea_b1a9_70c94e156e1erow1_col4 {\n",
       "            color:  black;\n",
       "            font-weight:  400;\n",
       "        }    #T_8568f97e_072e_11ea_b1a9_70c94e156e1erow1_col5 {\n",
       "            color:  green;\n",
       "            font-weight:  700;\n",
       "        }    #T_8568f97e_072e_11ea_b1a9_70c94e156e1erow2_col0 {\n",
       "            color:  green;\n",
       "            font-weight:  700;\n",
       "        }    #T_8568f97e_072e_11ea_b1a9_70c94e156e1erow2_col1 {\n",
       "            color:  green;\n",
       "            font-weight:  700;\n",
       "        }    #T_8568f97e_072e_11ea_b1a9_70c94e156e1erow2_col2 {\n",
       "            color:  green;\n",
       "            font-weight:  700;\n",
       "        }    #T_8568f97e_072e_11ea_b1a9_70c94e156e1erow2_col3 {\n",
       "            color:  black;\n",
       "            font-weight:  400;\n",
       "        }    #T_8568f97e_072e_11ea_b1a9_70c94e156e1erow2_col4 {\n",
       "            color:  green;\n",
       "            font-weight:  700;\n",
       "        }    #T_8568f97e_072e_11ea_b1a9_70c94e156e1erow2_col5 {\n",
       "            color:  green;\n",
       "            font-weight:  700;\n",
       "        }    #T_8568f97e_072e_11ea_b1a9_70c94e156e1erow3_col0 {\n",
       "            color:  green;\n",
       "            font-weight:  700;\n",
       "        }    #T_8568f97e_072e_11ea_b1a9_70c94e156e1erow3_col1 {\n",
       "            color:  green;\n",
       "            font-weight:  700;\n",
       "        }    #T_8568f97e_072e_11ea_b1a9_70c94e156e1erow3_col2 {\n",
       "            color:  black;\n",
       "            font-weight:  400;\n",
       "        }    #T_8568f97e_072e_11ea_b1a9_70c94e156e1erow3_col3 {\n",
       "            color:  green;\n",
       "            font-weight:  700;\n",
       "        }    #T_8568f97e_072e_11ea_b1a9_70c94e156e1erow3_col4 {\n",
       "            color:  green;\n",
       "            font-weight:  700;\n",
       "        }    #T_8568f97e_072e_11ea_b1a9_70c94e156e1erow3_col5 {\n",
       "            color:  green;\n",
       "            font-weight:  700;\n",
       "        }    #T_8568f97e_072e_11ea_b1a9_70c94e156e1erow4_col0 {\n",
       "            color:  black;\n",
       "            font-weight:  400;\n",
       "        }    #T_8568f97e_072e_11ea_b1a9_70c94e156e1erow4_col1 {\n",
       "            color:  black;\n",
       "            font-weight:  400;\n",
       "        }    #T_8568f97e_072e_11ea_b1a9_70c94e156e1erow4_col2 {\n",
       "            color:  green;\n",
       "            font-weight:  700;\n",
       "        }    #T_8568f97e_072e_11ea_b1a9_70c94e156e1erow4_col3 {\n",
       "            color:  black;\n",
       "            font-weight:  400;\n",
       "        }    #T_8568f97e_072e_11ea_b1a9_70c94e156e1erow4_col4 {\n",
       "            color:  green;\n",
       "            font-weight:  700;\n",
       "        }    #T_8568f97e_072e_11ea_b1a9_70c94e156e1erow4_col5 {\n",
       "            color:  green;\n",
       "            font-weight:  700;\n",
       "        }    #T_8568f97e_072e_11ea_b1a9_70c94e156e1erow5_col0 {\n",
       "            color:  green;\n",
       "            font-weight:  700;\n",
       "        }    #T_8568f97e_072e_11ea_b1a9_70c94e156e1erow5_col1 {\n",
       "            color:  green;\n",
       "            font-weight:  700;\n",
       "        }    #T_8568f97e_072e_11ea_b1a9_70c94e156e1erow5_col2 {\n",
       "            color:  black;\n",
       "            font-weight:  400;\n",
       "        }    #T_8568f97e_072e_11ea_b1a9_70c94e156e1erow5_col3 {\n",
       "            color:  green;\n",
       "            font-weight:  700;\n",
       "        }    #T_8568f97e_072e_11ea_b1a9_70c94e156e1erow5_col4 {\n",
       "            color:  green;\n",
       "            font-weight:  700;\n",
       "        }    #T_8568f97e_072e_11ea_b1a9_70c94e156e1erow5_col5 {\n",
       "            color:  green;\n",
       "            font-weight:  700;\n",
       "        }    #T_8568f97e_072e_11ea_b1a9_70c94e156e1erow6_col0 {\n",
       "            color:  black;\n",
       "            font-weight:  400;\n",
       "        }    #T_8568f97e_072e_11ea_b1a9_70c94e156e1erow6_col1 {\n",
       "            color:  black;\n",
       "            font-weight:  400;\n",
       "        }    #T_8568f97e_072e_11ea_b1a9_70c94e156e1erow6_col2 {\n",
       "            color:  green;\n",
       "            font-weight:  700;\n",
       "        }    #T_8568f97e_072e_11ea_b1a9_70c94e156e1erow6_col3 {\n",
       "            color:  black;\n",
       "            font-weight:  400;\n",
       "        }    #T_8568f97e_072e_11ea_b1a9_70c94e156e1erow6_col4 {\n",
       "            color:  black;\n",
       "            font-weight:  400;\n",
       "        }    #T_8568f97e_072e_11ea_b1a9_70c94e156e1erow6_col5 {\n",
       "            color:  green;\n",
       "            font-weight:  700;\n",
       "        }    #T_8568f97e_072e_11ea_b1a9_70c94e156e1erow7_col0 {\n",
       "            color:  black;\n",
       "            font-weight:  400;\n",
       "        }    #T_8568f97e_072e_11ea_b1a9_70c94e156e1erow7_col1 {\n",
       "            color:  green;\n",
       "            font-weight:  700;\n",
       "        }    #T_8568f97e_072e_11ea_b1a9_70c94e156e1erow7_col2 {\n",
       "            color:  black;\n",
       "            font-weight:  400;\n",
       "        }    #T_8568f97e_072e_11ea_b1a9_70c94e156e1erow7_col3 {\n",
       "            color:  green;\n",
       "            font-weight:  700;\n",
       "        }    #T_8568f97e_072e_11ea_b1a9_70c94e156e1erow7_col4 {\n",
       "            color:  black;\n",
       "            font-weight:  400;\n",
       "        }    #T_8568f97e_072e_11ea_b1a9_70c94e156e1erow7_col5 {\n",
       "            color:  green;\n",
       "            font-weight:  700;\n",
       "        }    #T_8568f97e_072e_11ea_b1a9_70c94e156e1erow8_col0 {\n",
       "            color:  green;\n",
       "            font-weight:  700;\n",
       "        }    #T_8568f97e_072e_11ea_b1a9_70c94e156e1erow8_col1 {\n",
       "            color:  black;\n",
       "            font-weight:  400;\n",
       "        }    #T_8568f97e_072e_11ea_b1a9_70c94e156e1erow8_col2 {\n",
       "            color:  green;\n",
       "            font-weight:  700;\n",
       "        }    #T_8568f97e_072e_11ea_b1a9_70c94e156e1erow8_col3 {\n",
       "            color:  black;\n",
       "            font-weight:  400;\n",
       "        }    #T_8568f97e_072e_11ea_b1a9_70c94e156e1erow8_col4 {\n",
       "            color:  green;\n",
       "            font-weight:  700;\n",
       "        }    #T_8568f97e_072e_11ea_b1a9_70c94e156e1erow8_col5 {\n",
       "            color:  green;\n",
       "            font-weight:  700;\n",
       "        }    #T_8568f97e_072e_11ea_b1a9_70c94e156e1erow9_col0 {\n",
       "            color:  black;\n",
       "            font-weight:  400;\n",
       "        }    #T_8568f97e_072e_11ea_b1a9_70c94e156e1erow9_col1 {\n",
       "            color:  black;\n",
       "            font-weight:  400;\n",
       "        }    #T_8568f97e_072e_11ea_b1a9_70c94e156e1erow9_col2 {\n",
       "            color:  black;\n",
       "            font-weight:  400;\n",
       "        }    #T_8568f97e_072e_11ea_b1a9_70c94e156e1erow9_col3 {\n",
       "            color:  black;\n",
       "            font-weight:  400;\n",
       "        }    #T_8568f97e_072e_11ea_b1a9_70c94e156e1erow9_col4 {\n",
       "            color:  green;\n",
       "            font-weight:  700;\n",
       "        }    #T_8568f97e_072e_11ea_b1a9_70c94e156e1erow9_col5 {\n",
       "            color:  green;\n",
       "            font-weight:  700;\n",
       "        }    #T_8568f97e_072e_11ea_b1a9_70c94e156e1erow10_col0 {\n",
       "            color:  green;\n",
       "            font-weight:  700;\n",
       "        }    #T_8568f97e_072e_11ea_b1a9_70c94e156e1erow10_col1 {\n",
       "            color:  black;\n",
       "            font-weight:  400;\n",
       "        }    #T_8568f97e_072e_11ea_b1a9_70c94e156e1erow10_col2 {\n",
       "            color:  green;\n",
       "            font-weight:  700;\n",
       "        }    #T_8568f97e_072e_11ea_b1a9_70c94e156e1erow10_col3 {\n",
       "            color:  black;\n",
       "            font-weight:  400;\n",
       "        }    #T_8568f97e_072e_11ea_b1a9_70c94e156e1erow10_col4 {\n",
       "            color:  green;\n",
       "            font-weight:  700;\n",
       "        }    #T_8568f97e_072e_11ea_b1a9_70c94e156e1erow10_col5 {\n",
       "            color:  green;\n",
       "            font-weight:  700;\n",
       "        }    #T_8568f97e_072e_11ea_b1a9_70c94e156e1erow11_col0 {\n",
       "            color:  green;\n",
       "            font-weight:  700;\n",
       "        }    #T_8568f97e_072e_11ea_b1a9_70c94e156e1erow11_col1 {\n",
       "            color:  black;\n",
       "            font-weight:  400;\n",
       "        }    #T_8568f97e_072e_11ea_b1a9_70c94e156e1erow11_col2 {\n",
       "            color:  black;\n",
       "            font-weight:  400;\n",
       "        }    #T_8568f97e_072e_11ea_b1a9_70c94e156e1erow11_col3 {\n",
       "            color:  black;\n",
       "            font-weight:  400;\n",
       "        }    #T_8568f97e_072e_11ea_b1a9_70c94e156e1erow11_col4 {\n",
       "            color:  green;\n",
       "            font-weight:  700;\n",
       "        }    #T_8568f97e_072e_11ea_b1a9_70c94e156e1erow11_col5 {\n",
       "            color:  green;\n",
       "            font-weight:  700;\n",
       "        }    #T_8568f97e_072e_11ea_b1a9_70c94e156e1erow12_col0 {\n",
       "            color:  black;\n",
       "            font-weight:  400;\n",
       "        }    #T_8568f97e_072e_11ea_b1a9_70c94e156e1erow12_col1 {\n",
       "            color:  black;\n",
       "            font-weight:  400;\n",
       "        }    #T_8568f97e_072e_11ea_b1a9_70c94e156e1erow12_col2 {\n",
       "            color:  green;\n",
       "            font-weight:  700;\n",
       "        }    #T_8568f97e_072e_11ea_b1a9_70c94e156e1erow12_col3 {\n",
       "            color:  black;\n",
       "            font-weight:  400;\n",
       "        }    #T_8568f97e_072e_11ea_b1a9_70c94e156e1erow12_col4 {\n",
       "            color:  green;\n",
       "            font-weight:  700;\n",
       "        }    #T_8568f97e_072e_11ea_b1a9_70c94e156e1erow12_col5 {\n",
       "            color:  green;\n",
       "            font-weight:  700;\n",
       "        }    #T_8568f97e_072e_11ea_b1a9_70c94e156e1erow13_col0 {\n",
       "            color:  green;\n",
       "            font-weight:  700;\n",
       "        }    #T_8568f97e_072e_11ea_b1a9_70c94e156e1erow13_col1 {\n",
       "            color:  black;\n",
       "            font-weight:  400;\n",
       "        }    #T_8568f97e_072e_11ea_b1a9_70c94e156e1erow13_col2 {\n",
       "            color:  green;\n",
       "            font-weight:  700;\n",
       "        }    #T_8568f97e_072e_11ea_b1a9_70c94e156e1erow13_col3 {\n",
       "            color:  green;\n",
       "            font-weight:  700;\n",
       "        }    #T_8568f97e_072e_11ea_b1a9_70c94e156e1erow13_col4 {\n",
       "            color:  green;\n",
       "            font-weight:  700;\n",
       "        }    #T_8568f97e_072e_11ea_b1a9_70c94e156e1erow13_col5 {\n",
       "            color:  green;\n",
       "            font-weight:  700;\n",
       "        }    #T_8568f97e_072e_11ea_b1a9_70c94e156e1erow14_col0 {\n",
       "            color:  black;\n",
       "            font-weight:  400;\n",
       "        }    #T_8568f97e_072e_11ea_b1a9_70c94e156e1erow14_col1 {\n",
       "            color:  green;\n",
       "            font-weight:  700;\n",
       "        }    #T_8568f97e_072e_11ea_b1a9_70c94e156e1erow14_col2 {\n",
       "            color:  green;\n",
       "            font-weight:  700;\n",
       "        }    #T_8568f97e_072e_11ea_b1a9_70c94e156e1erow14_col3 {\n",
       "            color:  green;\n",
       "            font-weight:  700;\n",
       "        }    #T_8568f97e_072e_11ea_b1a9_70c94e156e1erow14_col4 {\n",
       "            color:  green;\n",
       "            font-weight:  700;\n",
       "        }    #T_8568f97e_072e_11ea_b1a9_70c94e156e1erow14_col5 {\n",
       "            color:  green;\n",
       "            font-weight:  700;\n",
       "        }</style><table id=\"T_8568f97e_072e_11ea_b1a9_70c94e156e1e\" ><thead>    <tr>        <th class=\"blank level0\" ></th>        <th class=\"col_heading level0 col0\" >Topic0</th>        <th class=\"col_heading level0 col1\" >Topic1</th>        <th class=\"col_heading level0 col2\" >Topic2</th>        <th class=\"col_heading level0 col3\" >Topic3</th>        <th class=\"col_heading level0 col4\" >Topic4</th>        <th class=\"col_heading level0 col5\" >dominant_topic</th>    </tr></thead><tbody>\n",
       "                <tr>\n",
       "                        <th id=\"T_8568f97e_072e_11ea_b1a9_70c94e156e1elevel0_row0\" class=\"row_heading level0 row0\" >Doc0</th>\n",
       "                        <td id=\"T_8568f97e_072e_11ea_b1a9_70c94e156e1erow0_col0\" class=\"data row0 col0\" >0.16</td>\n",
       "                        <td id=\"T_8568f97e_072e_11ea_b1a9_70c94e156e1erow0_col1\" class=\"data row0 col1\" >0.28</td>\n",
       "                        <td id=\"T_8568f97e_072e_11ea_b1a9_70c94e156e1erow0_col2\" class=\"data row0 col2\" >0.11</td>\n",
       "                        <td id=\"T_8568f97e_072e_11ea_b1a9_70c94e156e1erow0_col3\" class=\"data row0 col3\" >0.02</td>\n",
       "                        <td id=\"T_8568f97e_072e_11ea_b1a9_70c94e156e1erow0_col4\" class=\"data row0 col4\" >0.43</td>\n",
       "                        <td id=\"T_8568f97e_072e_11ea_b1a9_70c94e156e1erow0_col5\" class=\"data row0 col5\" >4</td>\n",
       "            </tr>\n",
       "            <tr>\n",
       "                        <th id=\"T_8568f97e_072e_11ea_b1a9_70c94e156e1elevel0_row1\" class=\"row_heading level0 row1\" >Doc1</th>\n",
       "                        <td id=\"T_8568f97e_072e_11ea_b1a9_70c94e156e1erow1_col0\" class=\"data row1 col0\" >0.29</td>\n",
       "                        <td id=\"T_8568f97e_072e_11ea_b1a9_70c94e156e1erow1_col1\" class=\"data row1 col1\" >0.01</td>\n",
       "                        <td id=\"T_8568f97e_072e_11ea_b1a9_70c94e156e1erow1_col2\" class=\"data row1 col2\" >0.23</td>\n",
       "                        <td id=\"T_8568f97e_072e_11ea_b1a9_70c94e156e1erow1_col3\" class=\"data row1 col3\" >0.46</td>\n",
       "                        <td id=\"T_8568f97e_072e_11ea_b1a9_70c94e156e1erow1_col4\" class=\"data row1 col4\" >0.01</td>\n",
       "                        <td id=\"T_8568f97e_072e_11ea_b1a9_70c94e156e1erow1_col5\" class=\"data row1 col5\" >3</td>\n",
       "            </tr>\n",
       "            <tr>\n",
       "                        <th id=\"T_8568f97e_072e_11ea_b1a9_70c94e156e1elevel0_row2\" class=\"row_heading level0 row2\" >Doc2</th>\n",
       "                        <td id=\"T_8568f97e_072e_11ea_b1a9_70c94e156e1erow2_col0\" class=\"data row2 col0\" >0.14</td>\n",
       "                        <td id=\"T_8568f97e_072e_11ea_b1a9_70c94e156e1erow2_col1\" class=\"data row2 col1\" >0.2</td>\n",
       "                        <td id=\"T_8568f97e_072e_11ea_b1a9_70c94e156e1erow2_col2\" class=\"data row2 col2\" >0.17</td>\n",
       "                        <td id=\"T_8568f97e_072e_11ea_b1a9_70c94e156e1erow2_col3\" class=\"data row2 col3\" >0.02</td>\n",
       "                        <td id=\"T_8568f97e_072e_11ea_b1a9_70c94e156e1erow2_col4\" class=\"data row2 col4\" >0.48</td>\n",
       "                        <td id=\"T_8568f97e_072e_11ea_b1a9_70c94e156e1erow2_col5\" class=\"data row2 col5\" >4</td>\n",
       "            </tr>\n",
       "            <tr>\n",
       "                        <th id=\"T_8568f97e_072e_11ea_b1a9_70c94e156e1elevel0_row3\" class=\"row_heading level0 row3\" >Doc3</th>\n",
       "                        <td id=\"T_8568f97e_072e_11ea_b1a9_70c94e156e1erow3_col0\" class=\"data row3 col0\" >0.26</td>\n",
       "                        <td id=\"T_8568f97e_072e_11ea_b1a9_70c94e156e1erow3_col1\" class=\"data row3 col1\" >0.16</td>\n",
       "                        <td id=\"T_8568f97e_072e_11ea_b1a9_70c94e156e1erow3_col2\" class=\"data row3 col2\" >0.02</td>\n",
       "                        <td id=\"T_8568f97e_072e_11ea_b1a9_70c94e156e1erow3_col3\" class=\"data row3 col3\" >0.19</td>\n",
       "                        <td id=\"T_8568f97e_072e_11ea_b1a9_70c94e156e1erow3_col4\" class=\"data row3 col4\" >0.37</td>\n",
       "                        <td id=\"T_8568f97e_072e_11ea_b1a9_70c94e156e1erow3_col5\" class=\"data row3 col5\" >4</td>\n",
       "            </tr>\n",
       "            <tr>\n",
       "                        <th id=\"T_8568f97e_072e_11ea_b1a9_70c94e156e1elevel0_row4\" class=\"row_heading level0 row4\" >Doc4</th>\n",
       "                        <td id=\"T_8568f97e_072e_11ea_b1a9_70c94e156e1erow4_col0\" class=\"data row4 col0\" >0.04</td>\n",
       "                        <td id=\"T_8568f97e_072e_11ea_b1a9_70c94e156e1erow4_col1\" class=\"data row4 col1\" >0.04</td>\n",
       "                        <td id=\"T_8568f97e_072e_11ea_b1a9_70c94e156e1erow4_col2\" class=\"data row4 col2\" >0.33</td>\n",
       "                        <td id=\"T_8568f97e_072e_11ea_b1a9_70c94e156e1erow4_col3\" class=\"data row4 col3\" >0.04</td>\n",
       "                        <td id=\"T_8568f97e_072e_11ea_b1a9_70c94e156e1erow4_col4\" class=\"data row4 col4\" >0.55</td>\n",
       "                        <td id=\"T_8568f97e_072e_11ea_b1a9_70c94e156e1erow4_col5\" class=\"data row4 col5\" >4</td>\n",
       "            </tr>\n",
       "            <tr>\n",
       "                        <th id=\"T_8568f97e_072e_11ea_b1a9_70c94e156e1elevel0_row5\" class=\"row_heading level0 row5\" >Doc5</th>\n",
       "                        <td id=\"T_8568f97e_072e_11ea_b1a9_70c94e156e1erow5_col0\" class=\"data row5 col0\" >0.19</td>\n",
       "                        <td id=\"T_8568f97e_072e_11ea_b1a9_70c94e156e1erow5_col1\" class=\"data row5 col1\" >0.15</td>\n",
       "                        <td id=\"T_8568f97e_072e_11ea_b1a9_70c94e156e1erow5_col2\" class=\"data row5 col2\" >0.03</td>\n",
       "                        <td id=\"T_8568f97e_072e_11ea_b1a9_70c94e156e1erow5_col3\" class=\"data row5 col3\" >0.3</td>\n",
       "                        <td id=\"T_8568f97e_072e_11ea_b1a9_70c94e156e1erow5_col4\" class=\"data row5 col4\" >0.34</td>\n",
       "                        <td id=\"T_8568f97e_072e_11ea_b1a9_70c94e156e1erow5_col5\" class=\"data row5 col5\" >4</td>\n",
       "            </tr>\n",
       "            <tr>\n",
       "                        <th id=\"T_8568f97e_072e_11ea_b1a9_70c94e156e1elevel0_row6\" class=\"row_heading level0 row6\" >Doc6</th>\n",
       "                        <td id=\"T_8568f97e_072e_11ea_b1a9_70c94e156e1erow6_col0\" class=\"data row6 col0\" >0.03</td>\n",
       "                        <td id=\"T_8568f97e_072e_11ea_b1a9_70c94e156e1erow6_col1\" class=\"data row6 col1\" >0.03</td>\n",
       "                        <td id=\"T_8568f97e_072e_11ea_b1a9_70c94e156e1erow6_col2\" class=\"data row6 col2\" >0.9</td>\n",
       "                        <td id=\"T_8568f97e_072e_11ea_b1a9_70c94e156e1erow6_col3\" class=\"data row6 col3\" >0.03</td>\n",
       "                        <td id=\"T_8568f97e_072e_11ea_b1a9_70c94e156e1erow6_col4\" class=\"data row6 col4\" >0.03</td>\n",
       "                        <td id=\"T_8568f97e_072e_11ea_b1a9_70c94e156e1erow6_col5\" class=\"data row6 col5\" >2</td>\n",
       "            </tr>\n",
       "            <tr>\n",
       "                        <th id=\"T_8568f97e_072e_11ea_b1a9_70c94e156e1elevel0_row7\" class=\"row_heading level0 row7\" >Doc7</th>\n",
       "                        <td id=\"T_8568f97e_072e_11ea_b1a9_70c94e156e1erow7_col0\" class=\"data row7 col0\" >0.05</td>\n",
       "                        <td id=\"T_8568f97e_072e_11ea_b1a9_70c94e156e1erow7_col1\" class=\"data row7 col1\" >0.3</td>\n",
       "                        <td id=\"T_8568f97e_072e_11ea_b1a9_70c94e156e1erow7_col2\" class=\"data row7 col2\" >0.05</td>\n",
       "                        <td id=\"T_8568f97e_072e_11ea_b1a9_70c94e156e1erow7_col3\" class=\"data row7 col3\" >0.55</td>\n",
       "                        <td id=\"T_8568f97e_072e_11ea_b1a9_70c94e156e1erow7_col4\" class=\"data row7 col4\" >0.05</td>\n",
       "                        <td id=\"T_8568f97e_072e_11ea_b1a9_70c94e156e1erow7_col5\" class=\"data row7 col5\" >3</td>\n",
       "            </tr>\n",
       "            <tr>\n",
       "                        <th id=\"T_8568f97e_072e_11ea_b1a9_70c94e156e1elevel0_row8\" class=\"row_heading level0 row8\" >Doc8</th>\n",
       "                        <td id=\"T_8568f97e_072e_11ea_b1a9_70c94e156e1erow8_col0\" class=\"data row8 col0\" >0.12</td>\n",
       "                        <td id=\"T_8568f97e_072e_11ea_b1a9_70c94e156e1erow8_col1\" class=\"data row8 col1\" >0.02</td>\n",
       "                        <td id=\"T_8568f97e_072e_11ea_b1a9_70c94e156e1erow8_col2\" class=\"data row8 col2\" >0.22</td>\n",
       "                        <td id=\"T_8568f97e_072e_11ea_b1a9_70c94e156e1erow8_col3\" class=\"data row8 col3\" >0.1</td>\n",
       "                        <td id=\"T_8568f97e_072e_11ea_b1a9_70c94e156e1erow8_col4\" class=\"data row8 col4\" >0.54</td>\n",
       "                        <td id=\"T_8568f97e_072e_11ea_b1a9_70c94e156e1erow8_col5\" class=\"data row8 col5\" >4</td>\n",
       "            </tr>\n",
       "            <tr>\n",
       "                        <th id=\"T_8568f97e_072e_11ea_b1a9_70c94e156e1elevel0_row9\" class=\"row_heading level0 row9\" >Doc9</th>\n",
       "                        <td id=\"T_8568f97e_072e_11ea_b1a9_70c94e156e1erow9_col0\" class=\"data row9 col0\" >0.03</td>\n",
       "                        <td id=\"T_8568f97e_072e_11ea_b1a9_70c94e156e1erow9_col1\" class=\"data row9 col1\" >0.03</td>\n",
       "                        <td id=\"T_8568f97e_072e_11ea_b1a9_70c94e156e1erow9_col2\" class=\"data row9 col2\" >0.03</td>\n",
       "                        <td id=\"T_8568f97e_072e_11ea_b1a9_70c94e156e1erow9_col3\" class=\"data row9 col3\" >0.03</td>\n",
       "                        <td id=\"T_8568f97e_072e_11ea_b1a9_70c94e156e1erow9_col4\" class=\"data row9 col4\" >0.9</td>\n",
       "                        <td id=\"T_8568f97e_072e_11ea_b1a9_70c94e156e1erow9_col5\" class=\"data row9 col5\" >4</td>\n",
       "            </tr>\n",
       "            <tr>\n",
       "                        <th id=\"T_8568f97e_072e_11ea_b1a9_70c94e156e1elevel0_row10\" class=\"row_heading level0 row10\" >Doc10</th>\n",
       "                        <td id=\"T_8568f97e_072e_11ea_b1a9_70c94e156e1erow10_col0\" class=\"data row10 col0\" >0.17</td>\n",
       "                        <td id=\"T_8568f97e_072e_11ea_b1a9_70c94e156e1erow10_col1\" class=\"data row10 col1\" >0.02</td>\n",
       "                        <td id=\"T_8568f97e_072e_11ea_b1a9_70c94e156e1erow10_col2\" class=\"data row10 col2\" >0.27</td>\n",
       "                        <td id=\"T_8568f97e_072e_11ea_b1a9_70c94e156e1erow10_col3\" class=\"data row10 col3\" >0.02</td>\n",
       "                        <td id=\"T_8568f97e_072e_11ea_b1a9_70c94e156e1erow10_col4\" class=\"data row10 col4\" >0.53</td>\n",
       "                        <td id=\"T_8568f97e_072e_11ea_b1a9_70c94e156e1erow10_col5\" class=\"data row10 col5\" >4</td>\n",
       "            </tr>\n",
       "            <tr>\n",
       "                        <th id=\"T_8568f97e_072e_11ea_b1a9_70c94e156e1elevel0_row11\" class=\"row_heading level0 row11\" >Doc11</th>\n",
       "                        <td id=\"T_8568f97e_072e_11ea_b1a9_70c94e156e1erow11_col0\" class=\"data row11 col0\" >0.24</td>\n",
       "                        <td id=\"T_8568f97e_072e_11ea_b1a9_70c94e156e1erow11_col1\" class=\"data row11 col1\" >0.04</td>\n",
       "                        <td id=\"T_8568f97e_072e_11ea_b1a9_70c94e156e1erow11_col2\" class=\"data row11 col2\" >0.04</td>\n",
       "                        <td id=\"T_8568f97e_072e_11ea_b1a9_70c94e156e1erow11_col3\" class=\"data row11 col3\" >0.04</td>\n",
       "                        <td id=\"T_8568f97e_072e_11ea_b1a9_70c94e156e1erow11_col4\" class=\"data row11 col4\" >0.64</td>\n",
       "                        <td id=\"T_8568f97e_072e_11ea_b1a9_70c94e156e1erow11_col5\" class=\"data row11 col5\" >4</td>\n",
       "            </tr>\n",
       "            <tr>\n",
       "                        <th id=\"T_8568f97e_072e_11ea_b1a9_70c94e156e1elevel0_row12\" class=\"row_heading level0 row12\" >Doc12</th>\n",
       "                        <td id=\"T_8568f97e_072e_11ea_b1a9_70c94e156e1erow12_col0\" class=\"data row12 col0\" >0.04</td>\n",
       "                        <td id=\"T_8568f97e_072e_11ea_b1a9_70c94e156e1erow12_col1\" class=\"data row12 col1\" >0.04</td>\n",
       "                        <td id=\"T_8568f97e_072e_11ea_b1a9_70c94e156e1erow12_col2\" class=\"data row12 col2\" >0.4</td>\n",
       "                        <td id=\"T_8568f97e_072e_11ea_b1a9_70c94e156e1erow12_col3\" class=\"data row12 col3\" >0.04</td>\n",
       "                        <td id=\"T_8568f97e_072e_11ea_b1a9_70c94e156e1erow12_col4\" class=\"data row12 col4\" >0.48</td>\n",
       "                        <td id=\"T_8568f97e_072e_11ea_b1a9_70c94e156e1erow12_col5\" class=\"data row12 col5\" >4</td>\n",
       "            </tr>\n",
       "            <tr>\n",
       "                        <th id=\"T_8568f97e_072e_11ea_b1a9_70c94e156e1elevel0_row13\" class=\"row_heading level0 row13\" >Doc13</th>\n",
       "                        <td id=\"T_8568f97e_072e_11ea_b1a9_70c94e156e1erow13_col0\" class=\"data row13 col0\" >0.2</td>\n",
       "                        <td id=\"T_8568f97e_072e_11ea_b1a9_70c94e156e1erow13_col1\" class=\"data row13 col1\" >0.02</td>\n",
       "                        <td id=\"T_8568f97e_072e_11ea_b1a9_70c94e156e1erow13_col2\" class=\"data row13 col2\" >0.15</td>\n",
       "                        <td id=\"T_8568f97e_072e_11ea_b1a9_70c94e156e1erow13_col3\" class=\"data row13 col3\" >0.36</td>\n",
       "                        <td id=\"T_8568f97e_072e_11ea_b1a9_70c94e156e1erow13_col4\" class=\"data row13 col4\" >0.26</td>\n",
       "                        <td id=\"T_8568f97e_072e_11ea_b1a9_70c94e156e1erow13_col5\" class=\"data row13 col5\" >3</td>\n",
       "            </tr>\n",
       "            <tr>\n",
       "                        <th id=\"T_8568f97e_072e_11ea_b1a9_70c94e156e1elevel0_row14\" class=\"row_heading level0 row14\" >Doc14</th>\n",
       "                        <td id=\"T_8568f97e_072e_11ea_b1a9_70c94e156e1erow14_col0\" class=\"data row14 col0\" >0.02</td>\n",
       "                        <td id=\"T_8568f97e_072e_11ea_b1a9_70c94e156e1erow14_col1\" class=\"data row14 col1\" >0.13</td>\n",
       "                        <td id=\"T_8568f97e_072e_11ea_b1a9_70c94e156e1erow14_col2\" class=\"data row14 col2\" >0.15</td>\n",
       "                        <td id=\"T_8568f97e_072e_11ea_b1a9_70c94e156e1erow14_col3\" class=\"data row14 col3\" >0.29</td>\n",
       "                        <td id=\"T_8568f97e_072e_11ea_b1a9_70c94e156e1erow14_col4\" class=\"data row14 col4\" >0.41</td>\n",
       "                        <td id=\"T_8568f97e_072e_11ea_b1a9_70c94e156e1erow14_col5\" class=\"data row14 col5\" >4</td>\n",
       "            </tr>\n",
       "    </tbody></table>"
      ],
      "text/plain": [
       "<pandas.io.formats.style.Styler at 0x7f5b7de029b0>"
      ]
     },
     "execution_count": 12,
     "metadata": {},
     "output_type": "execute_result"
    }
   ],
   "source": [
    "# Create Document - Topic Matrix\n",
    "lda_output = lda_model.transform(data_vectorized)\n",
    "\n",
    "# column names\n",
    "topicnames = [\"Topic\" + str(i) for i in range(lda_output.shape[1])]\n",
    "\n",
    "# index names\n",
    "docnames = [\"Doc\" + str(i) for i in range(lda_output.shape[0])]\n",
    "\n",
    "# Make the pandas dataframe\n",
    "df_document_topic = pd.DataFrame(np.round(lda_output, 2), columns=topicnames, index=docnames)\n",
    "\n",
    "# Get dominant topic for each document\n",
    "dominant_topic = np.argmax(df_document_topic.values, axis=1)\n",
    "df_document_topic['dominant_topic'] = dominant_topic\n",
    "\n",
    "# Styling\n",
    "def color_green(val):\n",
    "    color = 'green' if val > .1 else 'black'\n",
    "    return 'color: {col}'.format(col=color)\n",
    "\n",
    "def make_bold(val):\n",
    "    weight = 700 if val > .1 else 400\n",
    "    return 'font-weight: {weight}'.format(weight=weight)\n",
    "\n",
    "# Apply Style\n",
    "df_document_topics = df_document_topic.head(15).style.applymap(color_green).applymap(make_bold)\n",
    "df_document_topics"
   ]
  },
  {
   "cell_type": "markdown",
   "metadata": {},
   "source": [
    "Por ejemplo, vemos que el documento 0 tiene 44% de las palabras relacionados al topico 2, tiene 25% de las palabras relacionados al topico 4 y 8, y así sucesivamente. "
   ]
  },
  {
   "cell_type": "markdown",
   "metadata": {},
   "source": [
    "## Distribución de los tópicos en los documentos"
   ]
  },
  {
   "cell_type": "markdown",
   "metadata": {},
   "source": [
    "En esta parte vemos la cantidad de documentos asociados a cada tópico. Dicha lista está ordenada de mayor a menor, por tanto el topico 9 es el que tiene asociado una mayor cantidad de documentos."
   ]
  },
  {
   "cell_type": "code",
   "execution_count": 13,
   "metadata": {
    "scrolled": true
   },
   "outputs": [
    {
     "data": {
      "text/html": [
       "<div>\n",
       "<style scoped>\n",
       "    .dataframe tbody tr th:only-of-type {\n",
       "        vertical-align: middle;\n",
       "    }\n",
       "\n",
       "    .dataframe tbody tr th {\n",
       "        vertical-align: top;\n",
       "    }\n",
       "\n",
       "    .dataframe thead th {\n",
       "        text-align: right;\n",
       "    }\n",
       "</style>\n",
       "<table border=\"1\" class=\"dataframe\">\n",
       "  <thead>\n",
       "    <tr style=\"text-align: right;\">\n",
       "      <th></th>\n",
       "      <th>Topic Num</th>\n",
       "      <th>Num Documents</th>\n",
       "    </tr>\n",
       "  </thead>\n",
       "  <tbody>\n",
       "    <tr>\n",
       "      <th>0</th>\n",
       "      <td>0</td>\n",
       "      <td>735</td>\n",
       "    </tr>\n",
       "    <tr>\n",
       "      <th>1</th>\n",
       "      <td>4</td>\n",
       "      <td>601</td>\n",
       "    </tr>\n",
       "    <tr>\n",
       "      <th>2</th>\n",
       "      <td>1</td>\n",
       "      <td>574</td>\n",
       "    </tr>\n",
       "    <tr>\n",
       "      <th>3</th>\n",
       "      <td>3</td>\n",
       "      <td>532</td>\n",
       "    </tr>\n",
       "    <tr>\n",
       "      <th>4</th>\n",
       "      <td>2</td>\n",
       "      <td>492</td>\n",
       "    </tr>\n",
       "  </tbody>\n",
       "</table>\n",
       "</div>"
      ],
      "text/plain": [
       "   Topic Num  Num Documents\n",
       "0          0            735\n",
       "1          4            601\n",
       "2          1            574\n",
       "3          3            532\n",
       "4          2            492"
      ]
     },
     "execution_count": 13,
     "metadata": {},
     "output_type": "execute_result"
    }
   ],
   "source": [
    "df_topic_distribution = df_document_topic['dominant_topic'].value_counts().reset_index(name=\"Num Documents\")\n",
    "df_topic_distribution.columns = ['Topic Num', 'Num Documents']\n",
    "df_topic_distribution"
   ]
  },
  {
   "cell_type": "markdown",
   "metadata": {},
   "source": [
    "## 10 palabras de cada tópico"
   ]
  },
  {
   "cell_type": "markdown",
   "metadata": {},
   "source": [
    "Hemos hablado de tópico 0,1,2,3, etc. Ahora veremos en realidad cuáles palabras están asociadas a cada tópico. Solo visualizaremos las primeras 10.  "
   ]
  },
  {
   "cell_type": "code",
   "execution_count": 14,
   "metadata": {},
   "outputs": [
    {
     "name": "stdout",
     "output_type": "stream",
     "text": [
      "\n",
      "Topic #0:\n",
      "familia compartir casa dios bien comunidad amigos vivir disfrutar barrio\n",
      "\n",
      "Topic #1:\n",
      "tranquilidad naturaleza sentir representar problemas musica generar solidaridad animales conflicto\n",
      "\n",
      "Topic #2:\n",
      "respeto vida no_violencia personas tolerancia interior no_guerra entender existir mejor\n",
      "\n",
      "Topic #3:\n",
      "amor armonia vivir mundo respeto bueno union construir felicidad personas\n",
      "\n",
      "Topic #4:\n",
      "respeto tranquilo convivencia libertad social educacion igualdad pensar entorno vivir\n"
     ]
    }
   ],
   "source": [
    "# 18\n",
    "def print_topics(model, count_vectorizer, n_top_words):\n",
    "    words = count_vectorizer.get_feature_names()\n",
    "    for topic_idx, topic in enumerate(model.components_):\n",
    "        print(\"\\nTopic #%d:\" % topic_idx)\n",
    "        print(\" \".join([words[i]\n",
    "                        for i in topic.argsort()[:-n_top_words - 1:-1]]))\n",
    "\n",
    "number_words = 10\n",
    "\n",
    "print_topics(lda_model,vectorizer,number_words)"
   ]
  },
  {
   "cell_type": "markdown",
   "metadata": {},
   "source": [
    "Ahora con el uso de la librería pyLDAvis podremos visualizar de manera interactiva la composición de cada topico con sus respectivas palabras, así como la proporción de las mismas en el topico correspondiente. "
   ]
  },
  {
   "cell_type": "code",
   "execution_count": 15,
   "metadata": {},
   "outputs": [
    {
     "name": "stdout",
     "output_type": "stream",
     "text": [
      "CPU times: user 2.88 s, sys: 89.3 ms, total: 2.97 s\n",
      "Wall time: 38.8 s\n"
     ]
    }
   ],
   "source": [
    "%%time\n",
    "from pyLDAvis import sklearn as sklearn_lda\n",
    "import pickle \n",
    "import pyLDAvis\n",
    "import os\n",
    "\n",
    "pyLDAvis.enable_notebook()\n",
    "panel = pyLDAvis.sklearn.prepare(lda_model, data_vectorized, vectorizer, mds='tsne', sort_topics= False)\n"
   ]
  },
  {
   "cell_type": "code",
   "execution_count": 16,
   "metadata": {},
   "outputs": [
    {
     "data": {
      "text/html": [
       "\n",
       "<link rel=\"stylesheet\" type=\"text/css\" href=\"https://cdn.rawgit.com/bmabey/pyLDAvis/files/ldavis.v1.0.0.css\">\n",
       "\n",
       "\n",
       "<div id=\"ldavis_el22081400309676880721955189857\"></div>\n",
       "<script type=\"text/javascript\">\n",
       "\n",
       "var ldavis_el22081400309676880721955189857_data = {\"mdsDat\": {\"x\": [164.4615936279297, -56.69682693481445, 78.56104278564453, -137.87026977539062, 282.3073425292969], \"y\": [-195.50921630859375, -175.73606872558594, 92.29828643798828, 39.860172271728516, 2.4452898502349854], \"topics\": [1, 2, 3, 4, 5], \"cluster\": [1, 1, 1, 1, 1], \"Freq\": [21.957947030784776, 13.80405199598762, 22.223937316813334, 19.10564510242791, 22.90841855398635]}, \"tinfo\": {\"Category\": [\"Default\", \"Default\", \"Default\", \"Default\", \"Default\", \"Default\", \"Default\", \"Default\", \"Default\", \"Default\", \"Default\", \"Default\", \"Default\", \"Default\", \"Default\", \"Default\", \"Default\", \"Default\", \"Default\", \"Default\", \"Default\", \"Default\", \"Default\", \"Default\", \"Default\", \"Default\", \"Default\", \"Default\", \"Default\", \"Default\", \"Topic1\", \"Topic1\", \"Topic1\", \"Topic1\", \"Topic1\", \"Topic1\", \"Topic1\", \"Topic1\", \"Topic1\", \"Topic1\", \"Topic1\", \"Topic1\", \"Topic1\", \"Topic1\", \"Topic1\", \"Topic1\", \"Topic1\", \"Topic1\", \"Topic1\", \"Topic1\", \"Topic1\", \"Topic1\", \"Topic1\", \"Topic1\", \"Topic1\", \"Topic1\", \"Topic1\", \"Topic1\", \"Topic1\", \"Topic1\", \"Topic1\", \"Topic1\", \"Topic1\", \"Topic1\", \"Topic1\", \"Topic1\", \"Topic1\", \"Topic1\", \"Topic1\", \"Topic1\", \"Topic1\", \"Topic1\", \"Topic1\", \"Topic1\", \"Topic1\", \"Topic1\", \"Topic1\", \"Topic2\", \"Topic2\", \"Topic2\", \"Topic2\", \"Topic2\", \"Topic2\", \"Topic2\", \"Topic2\", \"Topic2\", \"Topic2\", \"Topic2\", \"Topic2\", \"Topic2\", \"Topic2\", \"Topic2\", \"Topic2\", \"Topic2\", \"Topic2\", \"Topic2\", \"Topic2\", \"Topic2\", \"Topic2\", \"Topic2\", \"Topic2\", \"Topic2\", \"Topic2\", \"Topic2\", \"Topic2\", \"Topic2\", \"Topic2\", \"Topic2\", \"Topic2\", \"Topic2\", \"Topic2\", \"Topic2\", \"Topic2\", \"Topic2\", \"Topic2\", \"Topic2\", \"Topic2\", \"Topic2\", \"Topic2\", \"Topic2\", \"Topic2\", \"Topic3\", \"Topic3\", \"Topic3\", \"Topic3\", \"Topic3\", \"Topic3\", \"Topic3\", \"Topic3\", \"Topic3\", \"Topic3\", \"Topic3\", \"Topic3\", \"Topic3\", \"Topic3\", \"Topic3\", \"Topic3\", \"Topic3\", \"Topic3\", \"Topic3\", \"Topic3\", \"Topic3\", \"Topic3\", \"Topic3\", \"Topic3\", \"Topic3\", \"Topic3\", \"Topic3\", \"Topic3\", \"Topic3\", \"Topic3\", \"Topic3\", \"Topic3\", \"Topic3\", \"Topic3\", \"Topic3\", \"Topic3\", \"Topic3\", \"Topic3\", \"Topic3\", \"Topic3\", \"Topic3\", \"Topic3\", \"Topic3\", \"Topic3\", \"Topic3\", \"Topic3\", \"Topic4\", \"Topic4\", \"Topic4\", \"Topic4\", \"Topic4\", \"Topic4\", \"Topic4\", \"Topic4\", \"Topic4\", \"Topic4\", \"Topic4\", \"Topic4\", \"Topic4\", \"Topic4\", \"Topic4\", \"Topic4\", \"Topic4\", \"Topic4\", \"Topic4\", \"Topic4\", \"Topic4\", \"Topic4\", \"Topic4\", \"Topic4\", \"Topic4\", \"Topic4\", \"Topic4\", \"Topic4\", \"Topic4\", \"Topic4\", \"Topic4\", \"Topic4\", \"Topic4\", \"Topic4\", \"Topic4\", \"Topic4\", \"Topic4\", \"Topic4\", \"Topic4\", \"Topic4\", \"Topic4\", \"Topic4\", \"Topic4\", \"Topic4\", \"Topic4\", \"Topic5\", \"Topic5\", \"Topic5\", \"Topic5\", \"Topic5\", \"Topic5\", \"Topic5\", \"Topic5\", \"Topic5\", \"Topic5\", \"Topic5\", \"Topic5\", \"Topic5\", \"Topic5\", \"Topic5\", \"Topic5\", \"Topic5\", \"Topic5\", \"Topic5\", \"Topic5\", \"Topic5\", \"Topic5\", \"Topic5\", \"Topic5\", \"Topic5\", \"Topic5\", \"Topic5\", \"Topic5\", \"Topic5\", \"Topic5\", \"Topic5\", \"Topic5\", \"Topic5\", \"Topic5\", \"Topic5\", \"Topic5\", \"Topic5\", \"Topic5\", \"Topic5\", \"Topic5\", \"Topic5\", \"Topic5\", \"Topic5\", \"Topic5\", \"Topic5\", \"Topic5\"], \"Freq\": [691.0, 420.0, 356.0, 328.0, 150.0, 152.0, 159.0, 131.0, 134.0, 124.0, 111.0, 489.0, 91.0, 102.0, 170.0, 89.0, 137.0, 60.0, 121.0, 83.0, 78.0, 78.0, 84.0, 124.0, 98.0, 73.0, 53.0, 113.0, 60.0, 61.0, 419.32952153080396, 130.6051474802349, 123.67992123099043, 77.41918957459553, 150.34430294269484, 41.764756083878616, 36.618429067821715, 36.326149018812764, 34.02173379505256, 33.8201606931613, 33.324445703920645, 32.529606661711895, 30.507173353957025, 29.67346306311328, 29.15402714111953, 26.773920507792205, 24.50333922583601, 22.14604842406992, 21.12148408420577, 21.159640623927707, 20.52522240187484, 20.220521359727847, 20.087307046609137, 19.665985044024428, 19.747811372301868, 17.873004002100437, 17.68675202542934, 17.29022758330511, 17.364510905061884, 17.202678485615923, 56.750838488946066, 26.833854691783337, 69.78259397769497, 94.81852208665795, 48.945175698537795, 31.77144136766414, 32.83387489950819, 81.76277611268779, 50.067005040017904, 31.622400655421764, 72.33387726602015, 27.976663128929495, 39.23748221138753, 34.31344964390049, 49.81686607251449, 30.06044258949975, 30.478243271039634, 690.5926297887642, 59.83412682953047, 52.43947035339849, 36.42278839458236, 31.61323116609121, 27.015613169624825, 24.958210164251923, 24.079787318660042, 22.4150774949381, 22.22046469122503, 20.02181350237644, 144.6587370711276, 19.09651805911479, 16.84976347738231, 17.264436086327667, 14.736740625235834, 14.682039362351546, 14.172805110578647, 13.760527750044135, 12.862238873657928, 12.860252918400723, 12.623281886596944, 11.762492442047305, 11.524792628729116, 11.205112763364857, 10.458114911010984, 10.055484856731725, 10.009521738698231, 52.541991049277385, 12.05950590542933, 80.96147492680491, 47.112609060462674, 28.85053037811906, 31.73026466831734, 27.274098531620808, 31.822629419571744, 22.021522355630662, 19.68777799119241, 22.139876229326955, 17.97877469099075, 17.047039005016067, 23.805451455965507, 15.57910522355135, 15.102440339782525, 72.41502105622676, 57.69748239186097, 55.21724271265244, 53.23741535290904, 52.11301649040314, 52.2813519580238, 50.41821753258978, 49.92723443851999, 47.439317098193506, 43.82207393549392, 39.056283317027614, 34.734886623775296, 31.95158757779984, 31.64393783344551, 29.134341916502898, 25.842927465752982, 25.340788439436572, 23.400518485022594, 22.73227222692175, 21.251416319677993, 21.09964398080778, 20.57209857445482, 22.113861421519104, 20.20993069278969, 19.309165450121306, 18.677893981895508, 18.83255850966461, 18.6875061419969, 18.16562380531098, 18.342163137914504, 149.5023464508677, 25.03153476574385, 46.80748084308831, 130.40233424446046, 33.795673419511964, 95.19670877476572, 27.50574990430025, 37.522315316228315, 39.471102058268656, 105.20977186283949, 155.05938861765935, 52.42621699894951, 41.53927266561054, 28.161996214401086, 41.89779142755301, 29.962854970521562, 327.38037047126596, 90.30679617194235, 61.102585215756754, 44.73659391926863, 42.91209474987276, 36.76209448042306, 347.27126233125216, 27.756294161466247, 28.33909896632, 26.59003703368434, 24.46738788115744, 24.826992038958846, 39.697352332227815, 40.73838629965509, 23.344369422384922, 21.8122324679468, 28.881173488242304, 21.88416183414865, 20.832949657094844, 19.365589300943835, 28.580038647562205, 18.477971152760244, 18.3169390335213, 18.006315011318552, 17.511933951380037, 17.21197420034293, 17.125029642732276, 16.81677444990202, 16.253055136162367, 15.985571870557093, 16.953798009319822, 74.92008911375814, 77.98403552288265, 169.57444471626187, 70.21346286186545, 38.3215111319456, 89.66307480336363, 59.74034979184279, 40.304628481316406, 28.546506780065794, 29.359713155836552, 26.772245958877782, 24.77333870554771, 24.959351640368162, 23.40612768740177, 133.37225697890045, 88.89872441019008, 78.17010105379623, 67.9734389564497, 63.85673162254774, 66.4796626738683, 54.25681959842785, 57.89333543144399, 81.96033486072463, 100.96732924809682, 45.60105846220542, 43.95143361780601, 39.11328678192253, 38.40844374550392, 37.21982653090111, 47.84084888834465, 32.065761729604255, 29.815863216117236, 26.468475252364968, 25.24050414553258, 24.782772403814654, 24.026973245691597, 24.467437667636148, 21.49409873863814, 19.94179096095937, 19.125136624607062, 16.073568455383512, 16.058567778459295, 15.802032490345935, 16.046552599943524, 17.037003092045545, 86.47695178292194, 23.991497186320476, 32.228223243953046, 22.143391829169293, 84.19689004426075, 77.71216796000405, 226.3745529830303, 64.97405801089388, 68.2483980936853, 35.080405009689436, 52.90342614545772, 39.941340392337395, 73.63303042841079, 41.26072141931876, 31.875929809266438], \"Term\": [\"tranquilidad\", \"familia\", \"amor\", \"armonia\", \"naturaleza\", \"compartir\", \"vida\", \"casa\", \"tranquilo\", \"dios\", \"sentir\", \"respeto\", \"mundo\", \"convivencia\", \"no_violencia\", \"libertad\", \"tolerancia\", \"representar\", \"bien\", \"igualdad\", \"amigos\", \"pensar\", \"union\", \"construir\", \"bueno\", \"interior\", \"musica\", \"social\", \"problemas\", \"felicidad\", \"familia\", \"casa\", \"dios\", \"amigos\", \"compartir\", \"salir\", \"miedo\", \"ciudad\", \"cuidar\", \"librar\", \"poder_compartir\", \"traer\", \"jugar\", \"parque\", \"calle\", \"espiritual\", \"colombia\", \"crecer\", \"caminar\", \"posibilidad\", \"tranquila\", \"problema\", \"junto\", \"ver\", \"llego\", \"sano\", \"andar\", \"pelear\", \"futbol\", \"amistad\", \"barrio\", \"vecinos\", \"disfrutar\", \"bien\", \"solo\", \"ninos\", \"pasar\", \"comunidad\", \"empezar\", \"deporte\", \"vivir\", \"gente\", \"mejor\", \"salud\", \"personas\", \"llegar\", \"ayudar\", \"tranquilidad\", \"representar\", \"musica\", \"solidaridad\", \"personal\", \"nuevo\", \"aire\", \"campo\", \"silencio\", \"agua\", \"paloma\", \"naturaleza\", \"tipo\", \"serenidad\", \"contaminacion\", \"unidad\", \"ningun\", \"sabiduria\", \"viajar\", \"agradable\", \"total\", \"entornar\", \"escuchar_musica\", \"dibujo\", \"unico\", \"abrazo\", \"canto\", \"bandera\", \"problemas\", \"tanta\", \"sentir\", \"generar\", \"conciencia\", \"conflicto\", \"territorio\", \"animales\", \"alegria\", \"espacio\", \"encontrar\", \"tierra\", \"confianza\", \"personas\", \"ayudar\", \"familiar\", \"interior\", \"no_guerra\", \"entender\", \"existir\", \"creer\", \"seguridad\", \"querer\", \"persona\", \"demas_personas\", \"significar\", \"forma\", \"respeto_hacia\", \"trabajar\", \"espacios\", \"tratar\", \"necesitar\", \"practicar\", \"mas_importante\", \"ausencia\", \"pueblo\", \"aceptacion\", \"siento\", \"mirar\", \"empieza\", \"actuar\", \"libre\", \"nivel\", \"positivo\", \"discriminacion\", \"pensamientos\", \"vida\", \"llevar\", \"siempre\", \"no_violencia\", \"cultura\", \"tolerancia\", \"diferenciar\", \"derecho\", \"saber\", \"personas\", \"respeto\", \"mejor\", \"sociedad\", \"ser_humano\", \"vivir\", \"sentir\", \"armonia\", \"mundo\", \"felicidad\", \"corazon\", \"perdonar\", \"sana_convivencia\", \"amor\", \"venir\", \"ambiente\", \"colectivo\", \"necesidades\", \"crear\", \"comprender\", \"amar\", \"opinion\", \"perdon\", \"padres\", \"dormir\", \"partir\", \"serio\", \"comprension\", \"transmitir\", \"ser_tolerante\", \"individual\", \"reflejo\", \"odio\", \"armas\", \"natural\", \"hija\", \"rencor\", \"familias\", \"union\", \"bueno\", \"vivir\", \"construir\", \"conflictos\", \"respeto\", \"personas\", \"hogar\", \"feliz\", \"lograr\", \"escuchar\", \"equilibrio\", \"hijos\", \"respeto_tolerancia\", \"tranquilo\", \"libertad\", \"pensar\", \"diferencias\", \"oportunidades\", \"valores\", \"convivir\", \"importar\", \"igualdad\", \"convivencia\", \"contar\", \"aceptar\", \"equidad\", \"construccion\", \"tener_buena\", \"oportunidad\", \"presentar\", \"aprender\", \"reconciliacion\", \"diferencia\", \"desarrollo\", \"concepto\", \"cultural\", \"sentirme\", \"diversidad\", \"reconocer\", \"inclusion\", \"normas\", \"fundamental\", \"cambio\", \"tolerar\", \"social\", \"derechos_sociales\", \"derechos\", \"no_discriminacion\", \"educacion\", \"entorno\", \"respeto\", \"sociedad\", \"comunidad\", \"diferente\", \"construir\", \"salud\", \"vivir\", \"tolerancia\", \"hogar\"], \"Total\": [691.0, 420.0, 356.0, 328.0, 150.0, 152.0, 159.0, 131.0, 134.0, 124.0, 111.0, 489.0, 91.0, 102.0, 170.0, 89.0, 137.0, 60.0, 121.0, 83.0, 78.0, 78.0, 84.0, 124.0, 98.0, 73.0, 53.0, 113.0, 60.0, 61.0, 420.1004080064157, 131.3685561507177, 124.43654052749109, 78.17531066219529, 152.51473871912373, 42.53012735460102, 37.375195166706796, 37.08998696478267, 34.79073653341923, 34.58916213683949, 34.082662278548966, 33.282970342835455, 31.26092210314803, 30.428049789454473, 29.910463638373994, 27.543386966512514, 25.25528601555473, 22.919583481264688, 21.884207501652316, 21.924814994806656, 21.291613708976964, 20.98555679529625, 20.855835901519544, 20.423773386075887, 20.531342219709465, 18.63034617063674, 18.444584543073212, 18.046586403030506, 18.131046902882808, 17.96630361986431, 61.995357401637456, 28.604769660882557, 78.67106007427832, 121.43819212799916, 63.758704040224615, 39.18823240448453, 41.785353474270416, 159.10777116762628, 86.24300350375935, 42.50657345203422, 370.75144604420115, 41.92952051947238, 102.9191789405185, 74.83512354148019, 263.1647676043989, 54.30203745890887, 75.43572166406878, 691.3722812612408, 60.58451222823596, 53.184922224805916, 37.17851406020819, 32.374832746518344, 27.805353009054887, 25.721529174094638, 24.82649615553726, 23.161383027350677, 22.9770860579627, 20.766954156276118, 150.17661186413736, 19.850313987376417, 17.593486153929483, 18.116191058330564, 15.483981011290018, 15.441594288942795, 14.932144395860439, 14.556663989566943, 13.608452421116342, 13.620790074648836, 13.374040615107068, 12.512988600247256, 12.288344078640874, 12.024787008470236, 11.229821524553682, 10.799894040635579, 10.751737311746187, 60.797069103180156, 14.384719474795006, 111.51789065357917, 76.06257624046803, 42.84287866746695, 51.33720358483932, 44.009427947092064, 59.401710496269146, 34.813470868212434, 29.3198507943876, 36.56788087084407, 35.449554796177935, 32.453289273241694, 263.1647676043989, 75.43572166406878, 37.41102747174256, 73.16986582072224, 58.45400056478669, 55.975539186713085, 53.99995516558911, 52.8732038053687, 53.04935831833153, 51.18104307295226, 50.6891549764606, 48.20565450157366, 44.5927938577151, 39.817068073831585, 35.521412110142236, 32.71377266852665, 32.41561457844324, 29.887930490517487, 26.60186705344876, 26.14853273807926, 24.158644566866087, 23.500395654934692, 22.008243529872676, 21.866752835402572, 21.333029179079592, 22.933077257022937, 20.966433828049844, 20.068580700235408, 19.432276276532143, 19.593399333050904, 19.459908635099815, 18.921992118179656, 19.106675634186733, 159.65852688701577, 26.27663836456954, 53.815211551426174, 170.0255788084142, 38.150380286783815, 137.02749707616672, 31.67959700126048, 48.46294678416814, 54.95407945087095, 263.1647676043989, 489.37581726366057, 102.9191789405185, 107.08071526244322, 40.92716622997678, 370.75144604420115, 111.51789065357917, 328.851947764734, 91.06313362964896, 61.85980479553712, 45.49627764750105, 43.667875112208414, 37.515465625230796, 356.05273269617925, 28.504494796114933, 29.105904488480306, 27.343552179224258, 25.230979445989007, 25.60824590747038, 40.959617513037955, 42.04414120792175, 24.09597035820632, 22.56022960361326, 29.878328027694764, 22.655928772368338, 21.605762228594333, 20.129955551908914, 29.73203603040686, 19.232863252731782, 19.069834562286527, 18.759089675570664, 18.268395284624553, 17.962942679947574, 17.883909484413614, 17.57148532520409, 17.00963053271464, 16.73571901845449, 17.781685979659677, 84.14285547481244, 98.30261823589011, 370.75144604420115, 124.0665662377277, 69.31019736119711, 489.37581726366057, 263.1647676043989, 112.41498422995892, 53.842293837385064, 58.422138753317256, 48.27656948267425, 40.79584339802173, 49.23385575207559, 56.05533472832357, 134.1334442176215, 89.65207407133491, 78.92757980148203, 68.72734680841583, 64.609555557819, 67.29982329807045, 55.01352782175531, 58.75662221802232, 83.22067733541517, 102.53760377715452, 46.3516325995686, 44.72006397066706, 39.85746761094986, 39.154815618903406, 37.97734422180241, 48.830781733432865, 32.81536508373518, 30.5729684205106, 27.213623132661787, 25.993135068919358, 25.530865955681804, 24.778494703894648, 25.30162240937607, 22.253049083786575, 20.803814180865547, 19.978460725673084, 16.816499167662606, 16.810376232342627, 16.548325921774243, 16.827176020291482, 17.92041071278893, 113.36805768101983, 26.50107711152759, 37.15886427965118, 24.29367298289598, 118.7628379478517, 109.53166255051192, 489.37581726366057, 107.08071526244322, 159.10777116762628, 52.233387789271035, 124.0665662377277, 74.83512354148019, 370.75144604420115, 137.02749707616672, 112.41498422995892], \"loglift\": [30.0, 29.0, 28.0, 27.0, 26.0, 25.0, 24.0, 23.0, 22.0, 21.0, 20.0, 19.0, 18.0, 17.0, 16.0, 15.0, 14.0, 13.0, 12.0, 11.0, 10.0, 9.0, 8.0, 7.0, 6.0, 5.0, 4.0, 3.0, 2.0, 1.0, 1.5142, 1.5102, 1.5099, 1.5063, 1.5017, 1.4979, 1.4956, 1.4952, 1.4937, 1.4936, 1.4935, 1.4931, 1.4916, 1.4909, 1.4904, 1.4877, 1.4858, 1.4817, 1.4806, 1.4805, 1.4794, 1.4789, 1.4785, 1.4782, 1.4771, 1.4745, 1.4741, 1.4732, 1.4728, 1.4726, 1.4277, 1.4521, 1.3962, 1.2686, 1.2516, 1.3062, 1.275, 0.8503, 0.9722, 1.2202, -0.1182, 1.1114, 0.5517, 0.7363, -0.1484, 0.9247, 0.6098, 1.9791, 1.9677, 1.9661, 1.9597, 1.9564, 1.9514, 1.9501, 1.9497, 1.9475, 1.9467, 1.9437, 1.9428, 1.9415, 1.937, 1.9321, 1.9307, 1.9298, 1.928, 1.924, 1.9238, 1.9228, 1.9224, 1.9184, 1.9161, 1.9096, 1.909, 1.9088, 1.9087, 1.8343, 1.8039, 1.66, 1.5012, 1.5848, 1.4991, 1.5017, 1.3561, 1.5222, 1.5819, 1.4784, 1.3013, 1.3364, -0.4227, 0.4029, 1.0731, 1.4936, 1.491, 1.4904, 1.4898, 1.4895, 1.4894, 1.489, 1.4889, 1.488, 1.4866, 1.4847, 1.4816, 1.4804, 1.4799, 1.4785, 1.4751, 1.4726, 1.4721, 1.4708, 1.469, 1.4683, 1.4677, 1.4676, 1.4673, 1.4654, 1.4644, 1.4644, 1.4635, 1.4632, 1.4632, 1.4383, 1.4555, 1.3645, 1.2387, 1.3828, 1.1398, 1.3627, 1.2481, 1.1731, 0.5872, 0.3547, 0.8295, 0.5571, 1.1302, -0.6763, 0.1898, 1.6507, 1.6468, 1.6429, 1.6383, 1.6377, 1.6349, 1.6302, 1.6286, 1.6285, 1.6272, 1.6245, 1.6242, 1.6239, 1.6236, 1.6235, 1.6215, 1.6212, 1.6205, 1.6188, 1.6165, 1.6157, 1.6151, 1.6149, 1.6142, 1.6129, 1.6125, 1.6118, 1.6113, 1.6097, 1.6093, 1.6075, 1.5391, 1.4236, 0.8729, 1.0859, 1.0626, -0.0419, 0.1724, 0.6295, 1.0207, 0.9671, 1.0656, 1.1564, 0.9759, 0.7818, 1.468, 1.4652, 1.464, 1.4626, 1.4619, 1.4614, 1.4598, 1.4589, 1.4584, 1.4582, 1.4573, 1.4563, 1.4548, 1.4544, 1.4535, 1.4532, 1.4506, 1.4486, 1.4459, 1.4443, 1.4439, 1.4429, 1.4401, 1.439, 1.4313, 1.43, 1.4285, 1.4279, 1.4275, 1.4262, 1.4231, 1.2029, 1.3742, 1.3313, 1.381, 1.1297, 1.1305, 0.7027, 0.9741, 0.6272, 1.0756, 0.6213, 0.8458, -0.1428, 0.2734, 0.2133], \"logprob\": [30.0, 29.0, 28.0, 27.0, 26.0, 25.0, 24.0, 23.0, 22.0, 21.0, 20.0, 19.0, 18.0, 17.0, 16.0, 15.0, 14.0, 13.0, 12.0, 11.0, 10.0, 9.0, 8.0, 7.0, 6.0, 5.0, 4.0, 3.0, 2.0, 1.0, -2.1259, -3.2924, -3.3469, -3.8153, -3.1516, -4.4325, -4.564, -4.572, -4.6376, -4.6435, -4.6583, -4.6824, -4.7466, -4.7743, -4.792, -4.8771, -4.9657, -5.0669, -5.1143, -5.1125, -5.1429, -5.1579, -5.1645, -5.1857, -5.1815, -5.2813, -5.2917, -5.3144, -5.3101, -5.3195, -4.1259, -4.8749, -3.9192, -3.6126, -4.2739, -4.706, -4.6731, -3.7607, -4.2512, -4.7107, -3.8833, -4.8332, -4.4949, -4.629, -4.2562, -4.7613, -4.7475, -1.1628, -3.6088, -3.7407, -4.1052, -4.2468, -4.404, -4.4832, -4.519, -4.5907, -4.5994, -4.7036, -2.726, -4.7509, -4.876, -4.8517, -5.01, -5.0138, -5.0491, -5.0786, -5.1461, -5.1462, -5.1648, -5.2355, -5.2559, -5.284, -5.353, -5.3923, -5.3968, -3.7388, -5.2105, -3.3064, -3.8478, -4.3383, -4.2431, -4.3944, -4.2402, -4.6084, -4.7204, -4.603, -4.8112, -4.8644, -4.5305, -4.9545, -4.9855, -3.8942, -4.1214, -4.1653, -4.2018, -4.2232, -4.22, -4.2562, -4.266, -4.3171, -4.3965, -4.5116, -4.6288, -4.7124, -4.722, -4.8047, -4.9246, -4.9442, -5.0238, -5.0528, -5.1202, -5.1273, -5.1527, -5.0804, -5.1704, -5.216, -5.2493, -5.241, -5.2487, -5.2771, -5.2674, -3.1693, -4.9565, -4.3306, -3.306, -4.6563, -3.6206, -4.8622, -4.5517, -4.501, -3.5206, -3.1328, -4.2172, -4.45, -4.8386, -4.4414, -4.7766, -2.2343, -3.5222, -3.9129, -4.2246, -4.2663, -4.4209, -2.1753, -4.7019, -4.6812, -4.7449, -4.8281, -4.8135, -4.3441, -4.3182, -4.8751, -4.9429, -4.6622, -4.9396, -4.9889, -5.0619, -4.6727, -5.1088, -5.1176, -5.1347, -5.1625, -5.1798, -5.1849, -5.203, -5.2371, -5.2537, -5.1949, -3.709, -3.6689, -2.8921, -3.7739, -4.3794, -3.5293, -3.9354, -4.3289, -4.6739, -4.6458, -4.738, -4.8156, -4.8082, -4.8724, -3.3138, -3.7194, -3.848, -3.9878, -4.0503, -4.01, -4.2132, -4.1483, -3.8007, -3.5921, -4.387, -4.4238, -4.5405, -4.5587, -4.5901, -4.339, -4.7391, -4.8119, -4.931, -4.9785, -4.9968, -5.0278, -5.0096, -5.1391, -5.2141, -5.2559, -5.4298, -5.4307, -5.4468, -5.4314, -5.3715, -3.7471, -5.0292, -4.7341, -5.1094, -3.7738, -3.8539, -2.7847, -4.0329, -3.9838, -4.6493, -4.2385, -4.5195, -3.9078, -4.487, -4.7451]}, \"token.table\": {\"Topic\": [2, 3, 5, 3, 2, 2, 2, 1, 2, 4, 3, 4, 4, 1, 1, 3, 4, 1, 1, 2, 5, 4, 4, 5, 3, 1, 2, 5, 2, 1, 4, 1, 5, 1, 3, 4, 1, 5, 1, 2, 2, 1, 1, 4, 1, 1, 3, 4, 3, 4, 3, 4, 1, 2, 5, 5, 2, 5, 2, 5, 2, 3, 4, 5, 5, 2, 4, 5, 2, 5, 3, 5, 5, 4, 4, 1, 3, 1, 3, 5, 5, 3, 1, 5, 3, 5, 3, 5, 3, 5, 5, 2, 5, 3, 5, 5, 3, 5, 1, 3, 1, 5, 5, 4, 1, 3, 5, 1, 3, 4, 3, 1, 2, 3, 2, 1, 3, 5, 5, 2, 3, 4, 2, 3, 4, 5, 2, 1, 2, 3, 3, 1, 3, 1, 1, 2, 5, 4, 4, 1, 4, 3, 5, 1, 1, 2, 4, 5, 1, 2, 3, 4, 1, 4, 1, 3, 4, 5, 1, 5, 5, 5, 4, 3, 1, 1, 5, 1, 3, 1, 3, 4, 1, 1, 3, 4, 5, 3, 1, 3, 4, 1, 3, 4, 2, 4, 1, 2, 4, 3, 2, 1, 3, 3, 3, 5, 3, 2, 3, 5, 5, 2, 4, 4, 5, 5, 4, 2, 1, 4, 1, 3, 4, 1, 3, 5, 4, 4, 3, 2, 1, 2, 3, 4, 5, 1, 1, 3, 3, 5, 1, 1, 2, 3, 3, 5, 5, 4, 4, 2, 1, 2, 3, 4, 5, 3, 2, 3, 4, 5, 3, 4, 2, 1, 1, 5, 4, 1, 3, 2, 3, 5, 3, 4, 4, 2, 4, 1, 3, 3, 3, 2, 3, 5, 3, 5, 2, 1, 5, 2, 4, 5, 2, 4, 5, 1, 2, 3, 2, 3, 5, 5, 2, 3, 1, 1, 2, 5, 4, 3, 2, 2, 4, 5, 5, 1, 5, 4, 1, 2, 3, 5, 1, 2, 3, 4, 5], \"Freq\": [0.8904861023957761, 0.9603620692140771, 0.983898413670889, 0.9467535489331902, 0.9552886395684346, 0.9574756322234301, 0.9719484339670861, 0.3159696440967024, 0.6319392881934048, 0.028724513099700217, 0.023784526720493103, 0.9751655955402173, 0.9620041188234502, 0.9849657052560502, 0.946215780368093, 0.022468581941277842, 0.9745747417029265, 0.9758962018344742, 0.4545323657253236, 0.538705026044828, 0.9812589862839027, 0.9505751533139905, 0.9943684452005772, 0.0030408820954146093, 0.9787069263734026, 0.3976895738281174, 0.21210110604166263, 0.38443325470051354, 0.9300822471801911, 0.9194236857241586, 0.08065120050211917, 0.7822909608195371, 0.21410068401376803, 0.19328071155141557, 0.010172669029021872, 0.793468184263706, 0.9695603635777179, 0.9508428497274878, 0.9595960922237848, 0.9667091098816649, 0.9259350103227028, 0.9971944873147965, 0.9706123659245924, 0.9874357151195121, 0.9898917788775982, 0.9835115036078254, 0.0065567433573855026, 0.0065567433573855026, 0.02441429048212395, 0.976571619284958, 0.033633754478748216, 0.9753788798836982, 0.5153739468426705, 0.0565654331900492, 0.4273832729914828, 0.9685818402934588, 0.6768919573562959, 0.303434325711443, 0.5238297990957976, 0.4622027639080567, 0.6233296277448602, 0.3701019664735108, 0.5482598729588103, 0.4328367418095871, 0.9705064217351115, 0.008060189222000951, 0.5642132455400667, 0.42719002876605044, 0.9383871005369369, 0.9924138033582042, 0.00975251969192985, 0.9850044888849149, 0.9815767528117965, 0.9890919065654965, 0.9762480448810067, 0.9598778275348507, 0.9834849462010464, 0.977271635722352, 0.8912099891119145, 0.10484823401316641, 0.9485557728940843, 0.974989355210719, 0.7528247374752478, 0.23525773046101495, 0.7841041975683952, 0.2063432098864198, 0.10764591646011278, 0.8611673316809022, 0.07546863063652717, 0.9056235676383261, 0.9792068958176617, 0.9765351558521166, 0.961792409177034, 0.8838496272186142, 0.126264232459802, 0.9894169229252603, 0.3254623282063254, 0.670069499248317, 0.9964918622324233, 0.9512740459661309, 0.8897808156380324, 0.10168923607291798, 0.9613621726344364, 0.9710482505944174, 0.15156256208616142, 0.13472227740992126, 0.7072919564020866, 0.5797571741320499, 0.25509315661810195, 0.15073686527433297, 0.9539056648366732, 0.3828496392625895, 0.6016208616983549, 0.9825720448451768, 0.9720323404218947, 0.0456489008161835, 0.23737428424415422, 0.7121228527324627, 0.9784866510005193, 0.19609840938814702, 0.19609840938814702, 0.6128075293379595, 0.12428389308302679, 0.2899957505270625, 0.5592775188736205, 0.020713982180504464, 0.9590035109408539, 0.20463951341623193, 0.6821317113874398, 0.13642634227748796, 0.9871785686050318, 0.9802715995976395, 0.9814822963737141, 0.9973806071466637, 0.3207610378801782, 0.4009512973502227, 0.2673008649001485, 0.956039827688227, 0.9861007515562165, 0.4643189994004565, 0.5386100393045296, 0.9794794515679427, 0.9668651726847635, 0.9376182242017711, 0.039441209439391715, 0.6179122812171369, 0.24979432644948088, 0.092029488691914, 0.6677872690434556, 0.02384954532298056, 0.2861945438757667, 0.9406435941819654, 0.4874694381211086, 0.5077806647094881, 0.1868078365517703, 0.17791222528740028, 0.35582445057480055, 0.2846595604598404, 0.012016244424081881, 0.9853320427747143, 0.987122775451339, 0.9514465430930655, 0.9595348341151543, 0.9840116445807268, 0.9916534098934415, 0.9589642004491803, 0.9927266147706069, 0.9829668572338155, 0.977754727733354, 0.5524654580908024, 0.1657396374272407, 0.2762327290454012, 0.9741204343085085, 0.03805661843519388, 0.9514154608798471, 0.49638716792704474, 0.4792703690330087, 0.9520401666716358, 0.3789381182543227, 0.505250824339097, 0.10687998207173205, 0.9899613857524144, 0.9593130373841481, 0.9883253124807598, 0.9777207115242662, 0.9674765499542394, 0.0332941324080705, 0.9655298398340444, 0.9512115869847971, 0.9773750070910631, 0.9714022865333921, 0.8165716603318414, 0.1786250506975903, 0.9697143245557225, 0.08232596204814747, 0.9055855825296222, 0.9922331994320303, 0.04705174395562239, 0.7645908392788637, 0.18232550782803675, 0.9517930936736866, 0.9710360444338678, 0.9463928212039262, 0.9545164464466953, 0.9829865158012808, 0.990565550984583, 0.9706031734145021, 0.963068529428793, 0.9859323948653843, 0.9719629318241486, 0.7897504090834112, 0.1914546446262815, 0.023931830578285188, 0.9420064061059904, 0.9420791112292394, 0.9882477100676966, 0.975167380232534, 0.9847055733650366, 0.9864042914745642, 0.988422094734724, 0.18999503791921815, 0.09119761820122471, 0.39898957963035814, 0.2279940455030618, 0.09499751895960908, 0.9682342221478873, 0.9578188005223434, 0.9763663517787396, 0.9560765894750687, 0.97515294796646, 0.9530364238171104, 0.13158529050837975, 0.8717525496180158, 0.9541879147009553, 0.9769242086123797, 0.9554038384839247, 0.9510242185767733, 0.9853082178022255, 0.9560389955374363, 0.9903521179466798, 0.022477612525903665, 0.016347354564293575, 0.316729994683188, 0.18390773884830272, 0.4618127664412935, 0.9853211885685884, 0.017839515272660054, 0.17839515272660056, 0.4103088512711813, 0.39246933599852124, 0.7096834373299997, 0.2729551682038461, 0.9375746462699053, 0.9875352511836842, 0.45433211560283215, 0.5345083712974495, 0.9862599166333118, 0.9661656222131701, 0.9802192080809974, 0.7263408545954263, 0.26901513133163935, 0.943690903701842, 0.6841421622660897, 0.2932037838283242, 0.9438991167546735, 0.9662667109442133, 0.9438669623986446, 0.11149263985084143, 0.8733590121649245, 0.9843890346615107, 0.9867065100337385, 0.9498569223617074, 0.22934149646592153, 0.7585911036949713, 0.3922274883676538, 0.6070187319975595, 0.9683012059519199, 0.7685225215538647, 0.21957786330110418, 0.8342185623450269, 0.1390364270575045, 0.9742650719309296, 0.6135049070044555, 0.04544480792625596, 0.3408360594469197, 0.028209098978806274, 0.5077637816185129, 0.4513455836609004, 0.9571637008907182, 0.6932915073767585, 0.2992100189731274, 0.9486389722010068, 0.9544233431947345, 0.9781812793113477, 0.9914980441973573, 0.9863038230468171, 0.9994615328509242, 0.9915498761384031, 0.9358980908598376, 0.9702913358019486, 0.9147771176530297, 0.9687431151628818, 0.8913412740366378, 0.10696095288439654, 0.9806860815620044, 0.9438985288150352, 0.03495920477092723, 0.9823012195191162, 0.9792509749268566, 0.9617588212542437, 0.9395050983161661, 0.05637030589896997, 0.19420018658920113, 0.03506392257860576, 0.113283442177034, 0.4585282183356138, 0.19959463621667894], \"Term\": [\"abrazo\", \"aceptacion\", \"aceptar\", \"actuar\", \"agradable\", \"agua\", \"aire\", \"alegria\", \"alegria\", \"alegria\", \"amar\", \"amar\", \"ambiente\", \"amigos\", \"amistad\", \"amor\", \"amor\", \"andar\", \"animales\", \"animales\", \"aprender\", \"armas\", \"armonia\", \"armonia\", \"ausencia\", \"ayudar\", \"ayudar\", \"ayudar\", \"bandera\", \"barrio\", \"barrio\", \"bien\", \"bien\", \"bueno\", \"bueno\", \"bueno\", \"calle\", \"cambio\", \"caminar\", \"campo\", \"canto\", \"casa\", \"ciudad\", \"colectivo\", \"colombia\", \"compartir\", \"compartir\", \"compartir\", \"comprender\", \"comprender\", \"comprension\", \"comprension\", \"comunidad\", \"comunidad\", \"comunidad\", \"concepto\", \"conciencia\", \"conciencia\", \"confianza\", \"confianza\", \"conflicto\", \"conflicto\", \"conflictos\", \"conflictos\", \"construccion\", \"construir\", \"construir\", \"construir\", \"contaminacion\", \"contar\", \"convivencia\", \"convivencia\", \"convivir\", \"corazon\", \"crear\", \"crecer\", \"creer\", \"cuidar\", \"cultura\", \"cultura\", \"cultural\", \"demas_personas\", \"deporte\", \"deporte\", \"derecho\", \"derecho\", \"derechos\", \"derechos\", \"derechos_sociales\", \"derechos_sociales\", \"desarrollo\", \"dibujo\", \"diferencia\", \"diferenciar\", \"diferenciar\", \"diferencias\", \"diferente\", \"diferente\", \"dios\", \"discriminacion\", \"disfrutar\", \"disfrutar\", \"diversidad\", \"dormir\", \"educacion\", \"educacion\", \"educacion\", \"empezar\", \"empezar\", \"empezar\", \"empieza\", \"encontrar\", \"encontrar\", \"entender\", \"entornar\", \"entorno\", \"entorno\", \"entorno\", \"equidad\", \"equilibrio\", \"equilibrio\", \"equilibrio\", \"escuchar\", \"escuchar\", \"escuchar\", \"escuchar\", \"escuchar_musica\", \"espacio\", \"espacio\", \"espacio\", \"espacios\", \"espiritual\", \"existir\", \"familia\", \"familiar\", \"familiar\", \"familiar\", \"familias\", \"felicidad\", \"feliz\", \"feliz\", \"forma\", \"fundamental\", \"futbol\", \"generar\", \"generar\", \"generar\", \"generar\", \"gente\", \"gente\", \"gente\", \"hija\", \"hijos\", \"hijos\", \"hogar\", \"hogar\", \"hogar\", \"hogar\", \"igualdad\", \"igualdad\", \"importar\", \"inclusion\", \"individual\", \"interior\", \"jugar\", \"junto\", \"libertad\", \"librar\", \"libre\", \"llegar\", \"llegar\", \"llegar\", \"llego\", \"llevar\", \"llevar\", \"lograr\", \"lograr\", \"mas_importante\", \"mejor\", \"mejor\", \"mejor\", \"miedo\", \"mirar\", \"mundo\", \"musica\", \"natural\", \"naturaleza\", \"naturaleza\", \"necesidades\", \"necesitar\", \"ningun\", \"ninos\", \"ninos\", \"nivel\", \"no_discriminacion\", \"no_discriminacion\", \"no_guerra\", \"no_violencia\", \"no_violencia\", \"no_violencia\", \"normas\", \"nuevo\", \"odio\", \"opinion\", \"oportunidad\", \"oportunidades\", \"padres\", \"paloma\", \"parque\", \"partir\", \"pasar\", \"pasar\", \"pasar\", \"pelear\", \"pensamientos\", \"pensar\", \"perdon\", \"perdonar\", \"persona\", \"personal\", \"personas\", \"personas\", \"personas\", \"personas\", \"personas\", \"poder_compartir\", \"posibilidad\", \"positivo\", \"practicar\", \"presentar\", \"problema\", \"problemas\", \"problemas\", \"pueblo\", \"querer\", \"reconciliacion\", \"reconocer\", \"reflejo\", \"rencor\", \"representar\", \"respeto\", \"respeto\", \"respeto\", \"respeto\", \"respeto\", \"respeto_hacia\", \"respeto_tolerancia\", \"respeto_tolerancia\", \"respeto_tolerancia\", \"respeto_tolerancia\", \"saber\", \"saber\", \"sabiduria\", \"salir\", \"salud\", \"salud\", \"sana_convivencia\", \"sano\", \"seguridad\", \"sentir\", \"sentir\", \"sentirme\", \"ser_humano\", \"ser_humano\", \"ser_tolerante\", \"serenidad\", \"serio\", \"siempre\", \"siempre\", \"siento\", \"significar\", \"silencio\", \"social\", \"social\", \"sociedad\", \"sociedad\", \"solidaridad\", \"solo\", \"solo\", \"tanta\", \"tanta\", \"tener_buena\", \"territorio\", \"territorio\", \"territorio\", \"tierra\", \"tierra\", \"tierra\", \"tipo\", \"tolerancia\", \"tolerancia\", \"tolerar\", \"total\", \"trabajar\", \"traer\", \"tranquila\", \"tranquilidad\", \"tranquilo\", \"transmitir\", \"tratar\", \"unico\", \"unidad\", \"union\", \"union\", \"valores\", \"vecinos\", \"vecinos\", \"venir\", \"ver\", \"viajar\", \"vida\", \"vida\", \"vivir\", \"vivir\", \"vivir\", \"vivir\", \"vivir\"]}, \"R\": 30, \"lambda.step\": 0.01, \"plot.opts\": {\"xlab\": \"PC1\", \"ylab\": \"PC2\"}, \"topic.order\": [1, 2, 3, 4, 5]};\n",
       "\n",
       "function LDAvis_load_lib(url, callback){\n",
       "  var s = document.createElement('script');\n",
       "  s.src = url;\n",
       "  s.async = true;\n",
       "  s.onreadystatechange = s.onload = callback;\n",
       "  s.onerror = function(){console.warn(\"failed to load library \" + url);};\n",
       "  document.getElementsByTagName(\"head\")[0].appendChild(s);\n",
       "}\n",
       "\n",
       "if(typeof(LDAvis) !== \"undefined\"){\n",
       "   // already loaded: just create the visualization\n",
       "   !function(LDAvis){\n",
       "       new LDAvis(\"#\" + \"ldavis_el22081400309676880721955189857\", ldavis_el22081400309676880721955189857_data);\n",
       "   }(LDAvis);\n",
       "}else if(typeof define === \"function\" && define.amd){\n",
       "   // require.js is available: use it to load d3/LDAvis\n",
       "   require.config({paths: {d3: \"https://cdnjs.cloudflare.com/ajax/libs/d3/3.5.5/d3.min\"}});\n",
       "   require([\"d3\"], function(d3){\n",
       "      window.d3 = d3;\n",
       "      LDAvis_load_lib(\"https://cdn.rawgit.com/bmabey/pyLDAvis/files/ldavis.v1.0.0.js\", function(){\n",
       "        new LDAvis(\"#\" + \"ldavis_el22081400309676880721955189857\", ldavis_el22081400309676880721955189857_data);\n",
       "      });\n",
       "    });\n",
       "}else{\n",
       "    // require.js not available: dynamically load d3 & LDAvis\n",
       "    LDAvis_load_lib(\"https://cdnjs.cloudflare.com/ajax/libs/d3/3.5.5/d3.min.js\", function(){\n",
       "         LDAvis_load_lib(\"https://cdn.rawgit.com/bmabey/pyLDAvis/files/ldavis.v1.0.0.js\", function(){\n",
       "                 new LDAvis(\"#\" + \"ldavis_el22081400309676880721955189857\", ldavis_el22081400309676880721955189857_data);\n",
       "            })\n",
       "         });\n",
       "}\n",
       "</script>"
      ],
      "text/plain": [
       "PreparedData(topic_coordinates=                x           y  topics  cluster       Freq\n",
       "topic                                                    \n",
       "0      164.461594 -195.509216       1        1  21.957947\n",
       "1      -56.696827 -175.736069       2        1  13.804052\n",
       "2       78.561043   92.298286       3        1  22.223937\n",
       "3     -137.870270   39.860172       4        1  19.105645\n",
       "4      282.307343    2.445290       5        1  22.908419, topic_info=    Category        Freq          Term       Total  loglift  logprob\n",
       "426  Default  691.000000  tranquilidad  691.000000  30.0000  30.0000\n",
       "181  Default  420.000000       familia  420.000000  29.0000  29.0000\n",
       "26   Default  356.000000          amor  356.000000  28.0000  28.0000\n",
       "35   Default  328.000000       armonia  328.000000  27.0000  27.0000\n",
       "279  Default  150.000000    naturaleza  150.000000  26.0000  26.0000\n",
       "..       ...         ...           ...         ...      ...      ...\n",
       "97    Topic5   52.903426     construir  124.066566   0.6213  -4.2385\n",
       "371   Topic5   39.941340         salud   74.835124   0.8458  -4.5195\n",
       "450   Topic5   73.633030         vivir  370.751446  -0.1428  -3.9078\n",
       "416   Topic5   41.260721    tolerancia  137.027497   0.2734  -4.4870\n",
       "214   Topic5   31.875930         hogar  112.414984   0.2133  -4.7451\n",
       "\n",
       "[258 rows x 6 columns], token_table=      Topic      Freq        Term\n",
       "term                             \n",
       "0         2  0.890486      abrazo\n",
       "5         3  0.960362  aceptacion\n",
       "6         5  0.983898     aceptar\n",
       "7         3  0.946754      actuar\n",
       "10        2  0.955289   agradable\n",
       "...     ...       ...         ...\n",
       "450       1  0.194200       vivir\n",
       "450       2  0.035064       vivir\n",
       "450       3  0.113283       vivir\n",
       "450       4  0.458528       vivir\n",
       "450       5  0.199595       vivir\n",
       "\n",
       "[317 rows x 3 columns], R=30, lambda_step=0.01, plot_opts={'xlab': 'PC1', 'ylab': 'PC2'}, topic_order=[1, 2, 3, 4, 5])"
      ]
     },
     "execution_count": 16,
     "metadata": {},
     "output_type": "execute_result"
    }
   ],
   "source": [
    "panel"
   ]
  },
  {
   "cell_type": "markdown",
   "metadata": {},
   "source": [
    "## Exportamos el modelo"
   ]
  },
  {
   "cell_type": "markdown",
   "metadata": {},
   "source": [
    "Exportamos el modelo LDA para poder predecir futuros textos y clasificarlos en una categoria correspondiente."
   ]
  },
  {
   "cell_type": "code",
   "execution_count": 17,
   "metadata": {
    "scrolled": true
   },
   "outputs": [
    {
     "data": {
      "text/plain": [
       "['modelo_entrenado.pkl']"
      ]
     },
     "execution_count": 17,
     "metadata": {},
     "output_type": "execute_result"
    }
   ],
   "source": [
    "from sklearn.externals import joblib\n",
    "\n",
    "joblib.dump(lda_model,'modelo_entrenado.pkl')"
   ]
  },
  {
   "cell_type": "markdown",
   "metadata": {},
   "source": [
    "Exportamos el modelo Vectorizer para crear nuevas matrices de dispersión acorde a los datos entrenados."
   ]
  },
  {
   "cell_type": "code",
   "execution_count": 18,
   "metadata": {},
   "outputs": [
    {
     "data": {
      "text/plain": [
       "['modelo_vectorizer.pkl']"
      ]
     },
     "execution_count": 18,
     "metadata": {},
     "output_type": "execute_result"
    }
   ],
   "source": [
    "joblib.dump(vectorizer,'modelo_vectorizer.pkl')"
   ]
  }
 ],
 "metadata": {
  "kernelspec": {
   "display_name": "Python 3",
   "language": "python",
   "name": "python3"
  },
  "language_info": {
   "codemirror_mode": {
    "name": "ipython",
    "version": 3
   },
   "file_extension": ".py",
   "mimetype": "text/x-python",
   "name": "python",
   "nbconvert_exporter": "python",
   "pygments_lexer": "ipython3",
   "version": "3.6.2"
  }
 },
 "nbformat": 4,
 "nbformat_minor": 2
}
