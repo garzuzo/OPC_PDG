{
 "cells": [
  {
   "cell_type": "markdown",
   "metadata": {},
   "source": [
    "## OPC PDG\n",
    "\n",
    "# Integrantes: Sandra Niño y Johnatan Garzón\n",
    "\n",
    "En el presente jupyter notebook se hará uso de LDA (Latent Dirichlet Allocation) para que las respuestas a la pregunta \"Para ti,¿Que sí es paz?\", en este caso entendidos como documentos, formen topics o categorías de palabras relacionadas  a la pregunta."
   ]
  },
  {
   "cell_type": "code",
   "execution_count": 1,
   "metadata": {
    "scrolled": true
   },
   "outputs": [],
   "source": [
    "%matplotlib inline\n",
    "import numpy as np #operaciones matriciales y con vectores\n",
    "import pandas as pd #tratamiento de datos\n",
    "import matplotlib.pyplot as plt #gráficos\n",
    "from sklearn.neighbors import KNeighborsClassifier\n",
    "from sklearn.naive_bayes import GaussianNB\n",
    "from sklearn.linear_model import LinearRegression # modelos lineales\n",
    "from sklearn.metrics import r2_score\n",
    "from sklearn.model_selection import train_test_split #metodo de particionamiento de datasets para evaluación\n",
    "from sklearn.model_selection import cross_val_score #protocolo de evaluación\n",
    "from sklearn import datasets, metrics\n",
    "from sklearn import preprocessing\n",
    "# Sklearn\n",
    "from sklearn.decomposition import LatentDirichletAllocation, TruncatedSVD\n",
    "from sklearn.feature_extraction.text import CountVectorizer, TfidfVectorizer\n",
    "from sklearn.model_selection import GridSearchCV\n",
    "from pprint import pprint\n",
    "\n",
    "# Plotting tools\n",
    "import pyLDAvis\n",
    "import pyLDAvis.sklearn\n",
    "import matplotlib.pyplot as plt\n",
    "import seaborn as sns"
   ]
  },
  {
   "cell_type": "code",
   "execution_count": 2,
   "metadata": {
    "collapsed": true
   },
   "outputs": [],
   "source": [
    "dfEncuestaSPCC=pd.read_excel('./data/encuesta_SPCC-25ABR2018-MODIFICADA-ORTOGRAFIA.xlsx')"
   ]
  },
  {
   "cell_type": "code",
   "execution_count": 3,
   "metadata": {
    "collapsed": true
   },
   "outputs": [],
   "source": [
    "dfPazUSC=pd.read_excel('./data/marco_PAZ_USC_09ABR2019_latest_version_False_2019-MAY-09_0936-MODIFICADA-ORTOGRAFIA.xlsx')"
   ]
  },
  {
   "cell_type": "code",
   "execution_count": 4,
   "metadata": {
    "collapsed": true
   },
   "outputs": [],
   "source": [
    "dfNarrativasMayo=pd.read_excel('./data/respaldo_actualizacion_NARRATIVAS-10MAY2019-0600-MODIFICADA-ORTOGRAFIA.xlsx')"
   ]
  },
  {
   "cell_type": "markdown",
   "metadata": {},
   "source": [
    "# Exploración y preparación de datos"
   ]
  },
  {
   "cell_type": "markdown",
   "metadata": {},
   "source": [
    "## DfEncuestaSPCC"
   ]
  },
  {
   "cell_type": "code",
   "execution_count": 5,
   "metadata": {},
   "outputs": [
    {
     "data": {
      "text/html": [
       "<div>\n",
       "<style scoped>\n",
       "    .dataframe tbody tr th:only-of-type {\n",
       "        vertical-align: middle;\n",
       "    }\n",
       "\n",
       "    .dataframe tbody tr th {\n",
       "        vertical-align: top;\n",
       "    }\n",
       "\n",
       "    .dataframe thead th {\n",
       "        text-align: right;\n",
       "    }\n",
       "</style>\n",
       "<table border=\"1\" class=\"dataframe\">\n",
       "  <thead>\n",
       "    <tr style=\"text-align: right;\">\n",
       "      <th></th>\n",
       "      <th>¿Cuál es el sistema operativo de su dispositivo móvil?</th>\n",
       "      <th>Nombre/s:</th>\n",
       "      <th>Apellido/s:</th>\n",
       "      <th>Sexo</th>\n",
       "      <th>Edad</th>\n",
       "      <th>¿Nació en Cali?</th>\n",
       "      <th>¿En qué departamento nació?</th>\n",
       "      <th>¿En qué municipio nació?</th>\n",
       "      <th>De acuerdo con su cultura, pueblo o rasgos físicos usted es o se reconoce como:</th>\n",
       "      <th>¿Cuántas personas componen su hogar?</th>\n",
       "      <th>...</th>\n",
       "      <th>Seleccione las tres palabras/conceptos/expresiones más PODEROSAS para definir Paz/Alimentación</th>\n",
       "      <th>Seleccione las tres palabras/conceptos/expresiones más PODEROSAS para definir Paz/Derecho a la vivienda digna</th>\n",
       "      <th>Seleccione las tres palabras/conceptos/expresiones más PODEROSAS para definir Paz/No acoso (sexual, laboral)</th>\n",
       "      <th>Seleccione las tres palabras/conceptos/expresiones más PODEROSAS para definir Paz/Primera infancia</th>\n",
       "      <th>Escriba una frase corta en la que exprese su significado de la Paz:</th>\n",
       "      <th>Escriba un deseo de Paz para los demás:</th>\n",
       "      <th>Sugerencias específicas para medir ¿qué si es Paz?:</th>\n",
       "      <th>Sugerencias específicas para mejorar las capacidades de la SPCC:</th>\n",
       "      <th>Sugerencias específicas al OPC para una futura encuesta:</th>\n",
       "      <th>_index</th>\n",
       "    </tr>\n",
       "  </thead>\n",
       "  <tbody>\n",
       "    <tr>\n",
       "      <th>0</th>\n",
       "      <td>Android</td>\n",
       "      <td>Gregorry</td>\n",
       "      <td>Rivera Garibello</td>\n",
       "      <td>Hombre</td>\n",
       "      <td>25</td>\n",
       "      <td>Si</td>\n",
       "      <td>NaN</td>\n",
       "      <td>NaN</td>\n",
       "      <td>Ninguno de los anteriores</td>\n",
       "      <td>4</td>\n",
       "      <td>...</td>\n",
       "      <td>0</td>\n",
       "      <td>0</td>\n",
       "      <td>0</td>\n",
       "      <td>0</td>\n",
       "      <td>La humanización del espacio, ese siempre será ...</td>\n",
       "      <td>La búsqueda sigue su curso, un gran camino ocu...</td>\n",
       "      <td>Vamos bien!!!</td>\n",
       "      <td>Más apoyo entre equipos, para mejorar la comun...</td>\n",
       "      <td>Que sea más corta</td>\n",
       "      <td>1</td>\n",
       "    </tr>\n",
       "    <tr>\n",
       "      <th>1</th>\n",
       "      <td>Android</td>\n",
       "      <td>Mauricio</td>\n",
       "      <td>Sedano</td>\n",
       "      <td>Hombre</td>\n",
       "      <td>43</td>\n",
       "      <td>No</td>\n",
       "      <td>Santander</td>\n",
       "      <td>Barrancabermeja</td>\n",
       "      <td>Negro(a), mulato(a) y afrocolombiano(a)</td>\n",
       "      <td>2</td>\n",
       "      <td>...</td>\n",
       "      <td>0</td>\n",
       "      <td>0</td>\n",
       "      <td>0</td>\n",
       "      <td>0</td>\n",
       "      <td>Mantener las familias unidas</td>\n",
       "      <td>Identificar lo que sí es paz, y emitir recomen...</td>\n",
       "      <td>diseñar inclusión y representatividad, procesa...</td>\n",
       "      <td>Dar cursos cortos online y certificados como E...</td>\n",
       "      <td>No combinar sectores con tipos de experiencias...</td>\n",
       "      <td>2</td>\n",
       "    </tr>\n",
       "    <tr>\n",
       "      <th>2</th>\n",
       "      <td>Android</td>\n",
       "      <td>Andrés Felipe</td>\n",
       "      <td>Suárez Sánchez</td>\n",
       "      <td>Hombre</td>\n",
       "      <td>31</td>\n",
       "      <td>Si</td>\n",
       "      <td>NaN</td>\n",
       "      <td>NaN</td>\n",
       "      <td>Ninguno de los anteriores</td>\n",
       "      <td>2</td>\n",
       "      <td>...</td>\n",
       "      <td>0</td>\n",
       "      <td>0</td>\n",
       "      <td>0</td>\n",
       "      <td>0</td>\n",
       "      <td>La paz es satisfacer los derechos básicos cons...</td>\n",
       "      <td>Trabajemos junto en asegurar los derechos bási...</td>\n",
       "      <td>Incluir una muestra de todos los grupos social...</td>\n",
       "      <td>Promover la auto formación virtual para ser es...</td>\n",
       "      <td>Planear un poco mejor el proceso de realizació...</td>\n",
       "      <td>3</td>\n",
       "    </tr>\n",
       "    <tr>\n",
       "      <th>3</th>\n",
       "      <td>Android</td>\n",
       "      <td>Ana María</td>\n",
       "      <td>Gálvez Yepes</td>\n",
       "      <td>Mujer</td>\n",
       "      <td>27</td>\n",
       "      <td>Si</td>\n",
       "      <td>NaN</td>\n",
       "      <td>NaN</td>\n",
       "      <td>Ninguno de los anteriores</td>\n",
       "      <td>4</td>\n",
       "      <td>...</td>\n",
       "      <td>0</td>\n",
       "      <td>0</td>\n",
       "      <td>0</td>\n",
       "      <td>0</td>\n",
       "      <td>La paz es el bien común</td>\n",
       "      <td>Deseo que tus días estén llenos de fuerza, fel...</td>\n",
       "      <td>Tener en cuenta la voz de las comunidades</td>\n",
       "      <td>Crear una herramieta de impacto que permita po...</td>\n",
       "      <td>Sintetizar la introducción</td>\n",
       "      <td>4</td>\n",
       "    </tr>\n",
       "    <tr>\n",
       "      <th>4</th>\n",
       "      <td>iOS (Iphone)</td>\n",
       "      <td>Ana Cristina</td>\n",
       "      <td>Alzate Restrepo</td>\n",
       "      <td>Mujer</td>\n",
       "      <td>39</td>\n",
       "      <td>No</td>\n",
       "      <td>Antioquia</td>\n",
       "      <td>Medellín</td>\n",
       "      <td>Ninguno de los anteriores</td>\n",
       "      <td>1</td>\n",
       "      <td>...</td>\n",
       "      <td>0</td>\n",
       "      <td>0</td>\n",
       "      <td>0</td>\n",
       "      <td>0</td>\n",
       "      <td>Concertación</td>\n",
       "      <td>Tolerancia con el otro en todo momento y lugar</td>\n",
       "      <td>Conocer por medio de casos puntuales el nivel ...</td>\n",
       "      <td>Formación en proyectos sociales: formulacion y...</td>\n",
       "      <td>Medir temas de clima organizacional como una a...</td>\n",
       "      <td>5</td>\n",
       "    </tr>\n",
       "  </tbody>\n",
       "</table>\n",
       "<p>5 rows × 221 columns</p>\n",
       "</div>"
      ],
      "text/plain": [
       "  ¿Cuál es el sistema operativo de su dispositivo móvil?      Nombre/s:  \\\n",
       "0                                            Android           Gregorry   \n",
       "1                                            Android           Mauricio   \n",
       "2                                            Android      Andrés Felipe   \n",
       "3                                            Android          Ana María   \n",
       "4                                       iOS (Iphone)       Ana Cristina   \n",
       "\n",
       "        Apellido/s:    Sexo  Edad ¿Nació en Cali? ¿En qué departamento nació?  \\\n",
       "0  Rivera Garibello  Hombre    25              Si                         NaN   \n",
       "1            Sedano  Hombre    43              No                   Santander   \n",
       "2    Suárez Sánchez  Hombre    31              Si                         NaN   \n",
       "3      Gálvez Yepes   Mujer    27              Si                         NaN   \n",
       "4   Alzate Restrepo   Mujer    39              No                   Antioquia   \n",
       "\n",
       "  ¿En qué municipio nació?  \\\n",
       "0                      NaN   \n",
       "1          Barrancabermeja   \n",
       "2                      NaN   \n",
       "3                      NaN   \n",
       "4                 Medellín   \n",
       "\n",
       "  De acuerdo con su cultura, pueblo o rasgos físicos usted es o se reconoce como:  \\\n",
       "0                          Ninguno de los anteriores                                \n",
       "1            Negro(a), mulato(a) y afrocolombiano(a)                                \n",
       "2                          Ninguno de los anteriores                                \n",
       "3                          Ninguno de los anteriores                                \n",
       "4                          Ninguno de los anteriores                                \n",
       "\n",
       "   ¿Cuántas personas componen su hogar?  ...  \\\n",
       "0                                     4  ...   \n",
       "1                                     2  ...   \n",
       "2                                     2  ...   \n",
       "3                                     4  ...   \n",
       "4                                     1  ...   \n",
       "\n",
       "  Seleccione las tres palabras/conceptos/expresiones más PODEROSAS para definir Paz/Alimentación  \\\n",
       "0                                                  0                                               \n",
       "1                                                  0                                               \n",
       "2                                                  0                                               \n",
       "3                                                  0                                               \n",
       "4                                                  0                                               \n",
       "\n",
       "  Seleccione las tres palabras/conceptos/expresiones más PODEROSAS para definir Paz/Derecho a la vivienda digna  \\\n",
       "0                                                  0                                                              \n",
       "1                                                  0                                                              \n",
       "2                                                  0                                                              \n",
       "3                                                  0                                                              \n",
       "4                                                  0                                                              \n",
       "\n",
       "  Seleccione las tres palabras/conceptos/expresiones más PODEROSAS para definir Paz/No acoso (sexual, laboral)  \\\n",
       "0                                                  0                                                             \n",
       "1                                                  0                                                             \n",
       "2                                                  0                                                             \n",
       "3                                                  0                                                             \n",
       "4                                                  0                                                             \n",
       "\n",
       "  Seleccione las tres palabras/conceptos/expresiones más PODEROSAS para definir Paz/Primera infancia  \\\n",
       "0                                                  0                                                   \n",
       "1                                                  0                                                   \n",
       "2                                                  0                                                   \n",
       "3                                                  0                                                   \n",
       "4                                                  0                                                   \n",
       "\n",
       "  Escriba una frase corta en la que exprese su significado de la Paz:  \\\n",
       "0  La humanización del espacio, ese siempre será ...                    \n",
       "1                       Mantener las familias unidas                    \n",
       "2  La paz es satisfacer los derechos básicos cons...                    \n",
       "3                            La paz es el bien común                    \n",
       "4                                       Concertación                    \n",
       "\n",
       "             Escriba un deseo de Paz para los demás:  \\\n",
       "0  La búsqueda sigue su curso, un gran camino ocu...   \n",
       "1  Identificar lo que sí es paz, y emitir recomen...   \n",
       "2  Trabajemos junto en asegurar los derechos bási...   \n",
       "3  Deseo que tus días estén llenos de fuerza, fel...   \n",
       "4     Tolerancia con el otro en todo momento y lugar   \n",
       "\n",
       "  Sugerencias específicas para medir ¿qué si es Paz?:  \\\n",
       "0                                      Vamos bien!!!    \n",
       "1  diseñar inclusión y representatividad, procesa...    \n",
       "2  Incluir una muestra de todos los grupos social...    \n",
       "3          Tener en cuenta la voz de las comunidades    \n",
       "4  Conocer por medio de casos puntuales el nivel ...    \n",
       "\n",
       "  Sugerencias específicas para mejorar las capacidades de la SPCC:  \\\n",
       "0  Más apoyo entre equipos, para mejorar la comun...                 \n",
       "1  Dar cursos cortos online y certificados como E...                 \n",
       "2  Promover la auto formación virtual para ser es...                 \n",
       "3  Crear una herramieta de impacto que permita po...                 \n",
       "4  Formación en proyectos sociales: formulacion y...                 \n",
       "\n",
       "  Sugerencias específicas al OPC para una futura encuesta: _index  \n",
       "0                                  Que sea más corta            1  \n",
       "1  No combinar sectores con tipos de experiencias...            2  \n",
       "2  Planear un poco mejor el proceso de realizació...            3  \n",
       "3                         Sintetizar la introducción            4  \n",
       "4  Medir temas de clima organizacional como una a...            5  \n",
       "\n",
       "[5 rows x 221 columns]"
      ]
     },
     "execution_count": 5,
     "metadata": {},
     "output_type": "execute_result"
    }
   ],
   "source": [
    "dfEncuestaSPCC.head()"
   ]
  },
  {
   "cell_type": "code",
   "execution_count": 6,
   "metadata": {},
   "outputs": [
    {
     "name": "stdout",
     "output_type": "stream",
     "text": [
      "<class 'pandas.core.frame.DataFrame'>\n",
      "RangeIndex: 128 entries, 0 to 127\n",
      "Columns: 221 entries, ¿Cuál es el sistema operativo de su dispositivo móvil? to _index\n",
      "dtypes: float64(64), int64(58), object(99)\n",
      "memory usage: 221.1+ KB\n"
     ]
    }
   ],
   "source": [
    "dfEncuestaSPCC.info()"
   ]
  },
  {
   "cell_type": "code",
   "execution_count": 7,
   "metadata": {},
   "outputs": [
    {
     "data": {
      "text/plain": [
       "['¿Cuál es el sistema operativo de su dispositivo móvil?',\n",
       " 'Nombre/s:',\n",
       " 'Apellido/s:',\n",
       " 'Sexo',\n",
       " 'Edad',\n",
       " '¿Nació en Cali?',\n",
       " '¿En qué departamento nació?',\n",
       " '¿En qué municipio nació?',\n",
       " 'De acuerdo con su cultura, pueblo o rasgos físicos usted es o se reconoce como:',\n",
       " '¿Cuántas personas componen su hogar?',\n",
       " 'Actualmente las condiciones de vida en su hogar son:',\n",
       " 'En relación al hogar donde se crió en su primera infancia, su hogar actual vive económicamente:',\n",
       " 'Usted piensa que el nivel de vida actual de su hogar, respecto al que tenía 5 años atrás, es:',\n",
       " 'Selecciona, según la estructura del organismo de la que haces parte:',\n",
       " 'Seleccione el proyecto para el cual trabaja',\n",
       " 'Especifique',\n",
       " '¿Cuál es su principal función en el proyecto?',\n",
       " '¿Cuál es el problema central que trata de resolver su proyecto?',\n",
       " '¿Qué metodología/s de trabajo destacaría/s del proyecto?, ¿por qué?',\n",
       " 'Indique cinco (5x) palabras claves para su proyecto',\n",
       " 'Advierta cinco (5x) palabras claves que NO son del proyecto',\n",
       " '¿En cuál de las siguientes sedes (espacios físicos) desarrolla sus trabajos de oficina para la SPCC?',\n",
       " 'Precise otros espacios de trabajo donde se encuentra con sus grupos de destinatarios ó aliados (incluso para realizar trabajos de campo)',\n",
       " 'Mencione tres (3x) “Indicadores de CONSTRUCCIÓN DE PAZ”',\n",
       " 'Mencione tres (3x) palabras claves para la RECONCILIACIÓN',\n",
       " '¿Cuál es tu lugar de residencia?:',\n",
       " 'Comuna:',\n",
       " 'Barrio:',\n",
       " 'Corregimiento:',\n",
       " 'Vereda:',\n",
       " 'Otros nombres utilizados para referirse a tu Barrio / Vereda / Zona / Sector:',\n",
       " 'Departamento:',\n",
       " 'Municipio:',\n",
       " 'Tiempo de residencia:',\n",
       " '¿Qué tan satisfecho se siente de vivir en ese barrio o corregimiento?',\n",
       " 'Durante los ÚLTIMOS DOCE MESES, ¿de cuáles de los siguientes hechos ha sido víctima usted o algún miembro del hogar dentro de su barrio o vereda?',\n",
       " 'Durante los ÚLTIMOS DOCE MESES, ¿de cuáles de los siguientes hechos ha sido víctima usted o algún miembro del hogar dentro de su barrio o vereda?/Atracos o robos',\n",
       " 'Durante los ÚLTIMOS DOCE MESES, ¿de cuáles de los siguientes hechos ha sido víctima usted o algún miembro del hogar dentro de su barrio o vereda?/Homicidios o asesinatos',\n",
       " 'Durante los ÚLTIMOS DOCE MESES, ¿de cuáles de los siguientes hechos ha sido víctima usted o algún miembro del hogar dentro de su barrio o vereda?/Secuestros o desapariciones',\n",
       " 'Durante los ÚLTIMOS DOCE MESES, ¿de cuáles de los siguientes hechos ha sido víctima usted o algún miembro del hogar dentro de su barrio o vereda?/Violencia física o psicológica',\n",
       " 'Durante los ÚLTIMOS DOCE MESES, ¿de cuáles de los siguientes hechos ha sido víctima usted o algún miembro del hogar dentro de su barrio o vereda?/Violencia sexual',\n",
       " 'Durante los ÚLTIMOS DOCE MESES, ¿de cuáles de los siguientes hechos ha sido víctima usted o algún miembro del hogar dentro de su barrio o vereda?/Extorsión o chantaje',\n",
       " 'Durante los ÚLTIMOS DOCE MESES, ¿de cuáles de los siguientes hechos ha sido víctima usted o algún miembro del hogar dentro de su barrio o vereda?/Amenazas',\n",
       " 'Durante los ÚLTIMOS DOCE MESES, ¿de cuáles de los siguientes hechos ha sido víctima usted o algún miembro del hogar dentro de su barrio o vereda?/Estafa',\n",
       " 'Durante los ÚLTIMOS DOCE MESES, ¿de cuáles de los siguientes hechos ha sido víctima usted o algún miembro del hogar dentro de su barrio o vereda?/Desplazamiento forzado',\n",
       " 'Durante los ÚLTIMOS DOCE MESES, ¿de cuáles de los siguientes hechos ha sido víctima usted o algún miembro del hogar dentro de su barrio o vereda?/Ninguna de las anteriores',\n",
       " '¿De qué otro Barrio de Cali usted tiene mayor conocimiento?',\n",
       " '¿De qué otro Barrio de Cali usted tiene mayor conocimiento?.1',\n",
       " '¿Qué barrio de Cali usted visita regularmente?',\n",
       " 'Ruido',\n",
       " 'Exceso de anuncios publicitarios',\n",
       " 'Inseguridad',\n",
       " 'Contaminación del aire',\n",
       " 'Malos olores',\n",
       " 'Generación y manejo inadecuado de las basuras',\n",
       " 'Invasión de andenes y calles',\n",
       " 'Transporte público (buses, busetas o colectivos)',\n",
       " 'Estación o paradero alimentadores',\n",
       " 'Parque o zonas verdes',\n",
       " 'Tienda o supermercado',\n",
       " 'Droguería o farmacia',\n",
       " 'Bancos o cajeros',\n",
       " 'CAI o Estación de policía',\n",
       " 'Biblioteca',\n",
       " 'En los viajes que realiza de lunes a viernes ¿por cuáles motivo los realiza?',\n",
       " 'En los viajes que realiza de lunes a viernes ¿por cuáles motivo los realiza?/Para ir a trabajar',\n",
       " 'En los viajes que realiza de lunes a viernes ¿por cuáles motivo los realiza?/Para ir a estudiar',\n",
       " 'En los viajes que realiza de lunes a viernes ¿por cuáles motivo los realiza?/Para realizar actividades deportivas o culturales',\n",
       " 'En los viajes que realiza de lunes a viernes ¿por cuáles motivo los realiza?/Para ir a atención médica',\n",
       " 'En los viajes que realiza de lunes a viernes ¿por cuáles motivo los realiza?/Para ir de compras',\n",
       " 'En los viajes que realiza de lunes a viernes ¿por cuáles motivo los realiza?/Para realizar actividades sociales',\n",
       " 'En los viajes que realiza de lunes a viernes ¿por cuáles motivo los realiza?/Para asuntos personales',\n",
       " 'A continuación se llevará a cabo la descripción del desplazamiento del último viaje que realizó, de lunes a viernes, desde su casa hasta el lugar de trabajo.',\n",
       " '¿Cuál es el lugar de origen?',\n",
       " '¿Cuál es la hora del inicio del viaje?',\n",
       " '¿En cuántas etapas realizaste el último viaje desde el lugar de residencia al trabajo?',\n",
       " 'Medio de transporte',\n",
       " 'Tiempo de espera en minutos:',\n",
       " 'Tiempo de trayecto en minutos:',\n",
       " 'Medio de transporte.1',\n",
       " 'Tiempo de espera en minutos:.1',\n",
       " 'Tiempo de trayecto en minutos:.1',\n",
       " 'Medio de transporte.2',\n",
       " 'Tiempo de espera en minutos:.2',\n",
       " 'Tiempo de trayecto en minutos:.2',\n",
       " 'Medio de transporte.3',\n",
       " 'Tiempo de espera en minutos:.3',\n",
       " 'Tiempo de trayecto en minutos:.3',\n",
       " 'Medio de transporte.4',\n",
       " 'Tiempo de espera en minutos:.4',\n",
       " 'Tiempo de trayecto en minutos:.4',\n",
       " '¿De qué nivel es el título o diploma más alto que ha obtenido?',\n",
       " 'Nivel educativo más alto alcanzado sin graduación:',\n",
       " 'Último año aprobado',\n",
       " 'Último año aprobado.1',\n",
       " 'Último año aprobado.2',\n",
       " 'Último año aprobado.3',\n",
       " 'Último año aprobado.4',\n",
       " 'Último año aprobado.5',\n",
       " 'Último año aprobado.6',\n",
       " 'Último año aprobado.7',\n",
       " '¿Actualmente asiste a alguna institución educativa?',\n",
       " '¿A cuál Institución Educativa?',\n",
       " '¿Qué tipo de estudios cursa actualmente?',\n",
       " '¿Cuántos semestres lleva estudiando?',\n",
       " 'Años',\n",
       " 'Meses',\n",
       " 'experiencia_calculada',\n",
       " 'Su experiencia laboral total es de ${experiencia_calculada} meses',\n",
       " 'Años.1',\n",
       " 'Meses.1',\n",
       " 'experiencia_p_calculada',\n",
       " 'Su experiencia profesional total es de ${experiencia_p_calculada} meses',\n",
       " '¿Qué tipos de experiencias laborales ha tenido?',\n",
       " '¿Qué tipos de experiencias laborales ha tenido?/Educación/Monitorías universitarias',\n",
       " '¿Qué tipos de experiencias laborales ha tenido?/Administrativas',\n",
       " '¿Qué tipos de experiencias laborales ha tenido?/Coordinación de equipos de trabajo',\n",
       " '¿Qué tipos de experiencias laborales ha tenido?/Formulación y desarrollo de proyectos',\n",
       " '¿Qué tipos de experiencias laborales ha tenido?/Evaluación de proyectos',\n",
       " '¿Qué tipos de experiencias laborales ha tenido?/Trabajo con comunidades',\n",
       " '¿Qué tipos de experiencias laborales ha tenido?/Investigación académica',\n",
       " '¿Qué tipos de experiencias laborales ha tenido?/Comercio / Ventas',\n",
       " '¿Qué tipos de experiencias laborales ha tenido?/Sector público',\n",
       " '¿Qué tipos de experiencias laborales ha tenido?/Multinacionales / Multilatinas',\n",
       " '¿Qué tipos de experiencias laborales ha tenido?/Sector financiero',\n",
       " '¿Qué tipos de experiencias laborales ha tenido?/Organizaciones No Gubernamentales, Fundaciones',\n",
       " '¿Qué tipos de experiencias laborales ha tenido?/Cooperación internacional',\n",
       " '¿Qué tipos de experiencias laborales ha tenido?/Docencia',\n",
       " '¿Qué tipos de experiencias laborales ha tenido?/Diseño de actividades formativas',\n",
       " '¿Qué tipos de experiencias laborales ha tenido?/Coordinación de eventos',\n",
       " '¿Qué tipos de experiencias laborales ha tenido?/Logística',\n",
       " '¿Qué tipos de experiencias laborales ha tenido?/Metodologías (definición)',\n",
       " '¿Qué tipos de experiencias laborales ha tenido?/Metodologías (adaptación-ajuste)',\n",
       " '¿Qué tipos de experiencias laborales ha tenido?/Sistematización de experiencias',\n",
       " '¿Qué tipos de experiencias laborales ha tenido?/Sector agropecuario - rural',\n",
       " 'Años.2',\n",
       " 'Meses.2',\n",
       " 'experiencia_q_calculada',\n",
       " 'Su último contrato, antes de la SPCC, duró ${experiencia_q_calculada} meses',\n",
       " '¿De qué tipo fue su última experiencia laboral antes de ser contratado en la SPCC?',\n",
       " 'Años.3',\n",
       " 'Meses.3',\n",
       " 'experiencia_r_calculada',\n",
       " 'En la SPCC lleva trabajando ${experiencia_r_calculada} meses',\n",
       " 'Recuerdos',\n",
       " 'Sueños',\n",
       " 'Paisajes',\n",
       " 'No violencia',\n",
       " 'Familia',\n",
       " 'Hogar',\n",
       " 'Tranquilidad',\n",
       " 'Trabajo / Empleo',\n",
       " 'Salud',\n",
       " 'Educación',\n",
       " 'Dios',\n",
       " 'Espiritualidad',\n",
       " '¿Qué lugares recomiendas como territorios con mayor potencial para construir Paz?',\n",
       " '¿Qué lugares recomiendas como territorios con mayor potencial para construir Paz?/Barrio',\n",
       " '¿Qué lugares recomiendas como territorios con mayor potencial para construir Paz?/Centros Educativos',\n",
       " '¿Qué lugares recomiendas como territorios con mayor potencial para construir Paz?/Espacios Derportivos',\n",
       " '¿Qué lugares recomiendas como territorios con mayor potencial para construir Paz?/Vivienda',\n",
       " '¿Qué lugares recomiendas como territorios con mayor potencial para construir Paz?/Parques / Zonas Verdes',\n",
       " '¿Qué lugares recomiendas como territorios con mayor potencial para construir Paz?/Vía pública',\n",
       " '¿Qué lugares recomiendas como territorios con mayor potencial para construir Paz?/Campo / Zona Rural',\n",
       " '¿Qué lugares recomiendas como territorios con mayor potencial para construir Paz?/Espacios Culturales',\n",
       " '¿Qué lugares recomiendas como territorios con mayor potencial para construir Paz?/Territorios de origen',\n",
       " '¿Qué lugares crees que se deben priorizar para lograr pronta Paz?',\n",
       " '¿Qué lugares crees que se deben priorizar para lograr pronta Paz?/Barrio',\n",
       " '¿Qué lugares crees que se deben priorizar para lograr pronta Paz?/Centros Educativos',\n",
       " '¿Qué lugares crees que se deben priorizar para lograr pronta Paz?/Espacios Derportivos',\n",
       " '¿Qué lugares crees que se deben priorizar para lograr pronta Paz?/Vivienda',\n",
       " '¿Qué lugares crees que se deben priorizar para lograr pronta Paz?/Parques / Zonas Verdes',\n",
       " '¿Qué lugares crees que se deben priorizar para lograr pronta Paz?/Vía pública',\n",
       " '¿Qué lugares crees que se deben priorizar para lograr pronta Paz?/Campo / Zona Rural',\n",
       " '¿Qué lugares crees que se deben priorizar para lograr pronta Paz?/Espacios Culturales',\n",
       " '¿Qué lugares crees que se deben priorizar para lograr pronta Paz?/Territorios de origen',\n",
       " 'Vecinos',\n",
       " 'Amigos',\n",
       " 'Deporte y recreación',\n",
       " 'Cultura',\n",
       " 'Tradiciones culturales/religiosas',\n",
       " 'Tradiciones familiares',\n",
       " 'Cuidado de los recursos naturales',\n",
       " 'Animales y/o mascotas',\n",
       " 'Comunidad',\n",
       " 'Sistema de salud',\n",
       " 'Derechos sociales',\n",
       " 'Equidad',\n",
       " 'Diversidad cultural',\n",
       " 'Seleccione las tres palabras/conceptos/expresiones más PODEROSAS para definir Paz',\n",
       " 'Seleccione las tres palabras/conceptos/expresiones más PODEROSAS para definir Paz/Respeto',\n",
       " 'Seleccione las tres palabras/conceptos/expresiones más PODEROSAS para definir Paz/Tolerancia',\n",
       " 'Seleccione las tres palabras/conceptos/expresiones más PODEROSAS para definir Paz/Armonía',\n",
       " 'Seleccione las tres palabras/conceptos/expresiones más PODEROSAS para definir Paz/Hogar',\n",
       " 'Seleccione las tres palabras/conceptos/expresiones más PODEROSAS para definir Paz/Entorno protector',\n",
       " 'Seleccione las tres palabras/conceptos/expresiones más PODEROSAS para definir Paz/No discriminación',\n",
       " 'Seleccione las tres palabras/conceptos/expresiones más PODEROSAS para definir Paz/Amor',\n",
       " 'Seleccione las tres palabras/conceptos/expresiones más PODEROSAS para definir Paz/Compartir',\n",
       " 'Seleccione las tres palabras/conceptos/expresiones más PODEROSAS para definir Paz/Unión',\n",
       " 'Seleccione las tres palabras/conceptos/expresiones más PODEROSAS para definir Paz/Tranquilidad',\n",
       " 'Seleccione las tres palabras/conceptos/expresiones más PODEROSAS para definir Paz/Equilibrio',\n",
       " 'Seleccione las tres palabras/conceptos/expresiones más PODEROSAS para definir Paz/Trabajo / Empleo',\n",
       " 'Seleccione las tres palabras/conceptos/expresiones más PODEROSAS para definir Paz/Soñar / sueños',\n",
       " 'Seleccione las tres palabras/conceptos/expresiones más PODEROSAS para definir Paz/No violencia',\n",
       " 'Seleccione las tres palabras/conceptos/expresiones más PODEROSAS para definir Paz/Derechos sociales',\n",
       " 'Seleccione las tres palabras/conceptos/expresiones más PODEROSAS para definir Paz/Atención en salud',\n",
       " 'Seleccione las tres palabras/conceptos/expresiones más PODEROSAS para definir Paz/Acceso al transporte público',\n",
       " 'Seleccione las tres palabras/conceptos/expresiones más PODEROSAS para definir Paz/Acceso a la educación',\n",
       " 'Seleccione las tres palabras/conceptos/expresiones más PODEROSAS para definir Paz/Deporte y recreación',\n",
       " 'Seleccione las tres palabras/conceptos/expresiones más PODEROSAS para definir Paz/Arte y cultura',\n",
       " 'Seleccione las tres palabras/conceptos/expresiones más PODEROSAS para definir Paz/Cuidado de los recursos naturales',\n",
       " 'Seleccione las tres palabras/conceptos/expresiones más PODEROSAS para definir Paz/Alimentación',\n",
       " 'Seleccione las tres palabras/conceptos/expresiones más PODEROSAS para definir Paz/Derecho a la vivienda digna',\n",
       " 'Seleccione las tres palabras/conceptos/expresiones más PODEROSAS para definir Paz/No acoso (sexual, laboral)',\n",
       " 'Seleccione las tres palabras/conceptos/expresiones más PODEROSAS para definir Paz/Primera infancia',\n",
       " 'Escriba una frase corta en la que exprese su significado de la Paz:',\n",
       " 'Escriba un deseo de Paz para los demás:',\n",
       " 'Sugerencias específicas para medir ¿qué si es Paz?:',\n",
       " 'Sugerencias específicas para mejorar las capacidades de la SPCC:',\n",
       " 'Sugerencias específicas al OPC para una futura encuesta:',\n",
       " '_index']"
      ]
     },
     "execution_count": 7,
     "metadata": {},
     "output_type": "execute_result"
    }
   ],
   "source": [
    "cols = dfEncuestaSPCC.columns.tolist()\n",
    "cols"
   ]
  },
  {
   "cell_type": "markdown",
   "metadata": {},
   "source": [
    "Como podemos apreciar esta encuesta fue demasiado extensa. Las columnas que nos interesan son:  'Mencione tres (3x) “Indicadores de CONSTRUCCIÓN DE PAZ”', 'Seleccione las tres palabras/conceptos/expresiones más PODEROSAS para definir Paz' y  'Escriba una frase corta en la que exprese su significado de la Paz:'"
   ]
  },
  {
   "cell_type": "code",
   "execution_count": 8,
   "metadata": {},
   "outputs": [
    {
     "data": {
      "text/plain": [
       "23"
      ]
     },
     "execution_count": 8,
     "metadata": {},
     "output_type": "execute_result"
    }
   ],
   "source": [
    "dfEncuestaSPCC.columns.get_loc('Mencione tres (3x) “Indicadores de CONSTRUCCIÓN DE PAZ”')"
   ]
  },
  {
   "cell_type": "code",
   "execution_count": 9,
   "metadata": {
    "collapsed": true
   },
   "outputs": [],
   "source": [
    "dfEncuestaSPCC.drop(dfEncuestaSPCC.iloc[:, 0:23], inplace = True, axis = 1) "
   ]
  },
  {
   "cell_type": "code",
   "execution_count": 10,
   "metadata": {},
   "outputs": [
    {
     "data": {
      "text/plain": [
       "['Mencione tres (3x) “Indicadores de CONSTRUCCIÓN DE PAZ”',\n",
       " 'Mencione tres (3x) palabras claves para la RECONCILIACIÓN',\n",
       " '¿Cuál es tu lugar de residencia?:',\n",
       " 'Comuna:',\n",
       " 'Barrio:',\n",
       " 'Corregimiento:',\n",
       " 'Vereda:',\n",
       " 'Otros nombres utilizados para referirse a tu Barrio / Vereda / Zona / Sector:',\n",
       " 'Departamento:',\n",
       " 'Municipio:',\n",
       " 'Tiempo de residencia:',\n",
       " '¿Qué tan satisfecho se siente de vivir en ese barrio o corregimiento?',\n",
       " 'Durante los ÚLTIMOS DOCE MESES, ¿de cuáles de los siguientes hechos ha sido víctima usted o algún miembro del hogar dentro de su barrio o vereda?',\n",
       " 'Durante los ÚLTIMOS DOCE MESES, ¿de cuáles de los siguientes hechos ha sido víctima usted o algún miembro del hogar dentro de su barrio o vereda?/Atracos o robos',\n",
       " 'Durante los ÚLTIMOS DOCE MESES, ¿de cuáles de los siguientes hechos ha sido víctima usted o algún miembro del hogar dentro de su barrio o vereda?/Homicidios o asesinatos',\n",
       " 'Durante los ÚLTIMOS DOCE MESES, ¿de cuáles de los siguientes hechos ha sido víctima usted o algún miembro del hogar dentro de su barrio o vereda?/Secuestros o desapariciones',\n",
       " 'Durante los ÚLTIMOS DOCE MESES, ¿de cuáles de los siguientes hechos ha sido víctima usted o algún miembro del hogar dentro de su barrio o vereda?/Violencia física o psicológica',\n",
       " 'Durante los ÚLTIMOS DOCE MESES, ¿de cuáles de los siguientes hechos ha sido víctima usted o algún miembro del hogar dentro de su barrio o vereda?/Violencia sexual',\n",
       " 'Durante los ÚLTIMOS DOCE MESES, ¿de cuáles de los siguientes hechos ha sido víctima usted o algún miembro del hogar dentro de su barrio o vereda?/Extorsión o chantaje',\n",
       " 'Durante los ÚLTIMOS DOCE MESES, ¿de cuáles de los siguientes hechos ha sido víctima usted o algún miembro del hogar dentro de su barrio o vereda?/Amenazas',\n",
       " 'Durante los ÚLTIMOS DOCE MESES, ¿de cuáles de los siguientes hechos ha sido víctima usted o algún miembro del hogar dentro de su barrio o vereda?/Estafa',\n",
       " 'Durante los ÚLTIMOS DOCE MESES, ¿de cuáles de los siguientes hechos ha sido víctima usted o algún miembro del hogar dentro de su barrio o vereda?/Desplazamiento forzado',\n",
       " 'Durante los ÚLTIMOS DOCE MESES, ¿de cuáles de los siguientes hechos ha sido víctima usted o algún miembro del hogar dentro de su barrio o vereda?/Ninguna de las anteriores',\n",
       " '¿De qué otro Barrio de Cali usted tiene mayor conocimiento?',\n",
       " '¿De qué otro Barrio de Cali usted tiene mayor conocimiento?.1',\n",
       " '¿Qué barrio de Cali usted visita regularmente?',\n",
       " 'Ruido',\n",
       " 'Exceso de anuncios publicitarios',\n",
       " 'Inseguridad',\n",
       " 'Contaminación del aire',\n",
       " 'Malos olores',\n",
       " 'Generación y manejo inadecuado de las basuras',\n",
       " 'Invasión de andenes y calles',\n",
       " 'Transporte público (buses, busetas o colectivos)',\n",
       " 'Estación o paradero alimentadores',\n",
       " 'Parque o zonas verdes',\n",
       " 'Tienda o supermercado',\n",
       " 'Droguería o farmacia',\n",
       " 'Bancos o cajeros',\n",
       " 'CAI o Estación de policía',\n",
       " 'Biblioteca',\n",
       " 'En los viajes que realiza de lunes a viernes ¿por cuáles motivo los realiza?',\n",
       " 'En los viajes que realiza de lunes a viernes ¿por cuáles motivo los realiza?/Para ir a trabajar',\n",
       " 'En los viajes que realiza de lunes a viernes ¿por cuáles motivo los realiza?/Para ir a estudiar',\n",
       " 'En los viajes que realiza de lunes a viernes ¿por cuáles motivo los realiza?/Para realizar actividades deportivas o culturales',\n",
       " 'En los viajes que realiza de lunes a viernes ¿por cuáles motivo los realiza?/Para ir a atención médica',\n",
       " 'En los viajes que realiza de lunes a viernes ¿por cuáles motivo los realiza?/Para ir de compras',\n",
       " 'En los viajes que realiza de lunes a viernes ¿por cuáles motivo los realiza?/Para realizar actividades sociales',\n",
       " 'En los viajes que realiza de lunes a viernes ¿por cuáles motivo los realiza?/Para asuntos personales',\n",
       " 'A continuación se llevará a cabo la descripción del desplazamiento del último viaje que realizó, de lunes a viernes, desde su casa hasta el lugar de trabajo.',\n",
       " '¿Cuál es el lugar de origen?',\n",
       " '¿Cuál es la hora del inicio del viaje?',\n",
       " '¿En cuántas etapas realizaste el último viaje desde el lugar de residencia al trabajo?',\n",
       " 'Medio de transporte',\n",
       " 'Tiempo de espera en minutos:',\n",
       " 'Tiempo de trayecto en minutos:',\n",
       " 'Medio de transporte.1',\n",
       " 'Tiempo de espera en minutos:.1',\n",
       " 'Tiempo de trayecto en minutos:.1',\n",
       " 'Medio de transporte.2',\n",
       " 'Tiempo de espera en minutos:.2',\n",
       " 'Tiempo de trayecto en minutos:.2',\n",
       " 'Medio de transporte.3',\n",
       " 'Tiempo de espera en minutos:.3',\n",
       " 'Tiempo de trayecto en minutos:.3',\n",
       " 'Medio de transporte.4',\n",
       " 'Tiempo de espera en minutos:.4',\n",
       " 'Tiempo de trayecto en minutos:.4',\n",
       " '¿De qué nivel es el título o diploma más alto que ha obtenido?',\n",
       " 'Nivel educativo más alto alcanzado sin graduación:',\n",
       " 'Último año aprobado',\n",
       " 'Último año aprobado.1',\n",
       " 'Último año aprobado.2',\n",
       " 'Último año aprobado.3',\n",
       " 'Último año aprobado.4',\n",
       " 'Último año aprobado.5',\n",
       " 'Último año aprobado.6',\n",
       " 'Último año aprobado.7',\n",
       " '¿Actualmente asiste a alguna institución educativa?',\n",
       " '¿A cuál Institución Educativa?',\n",
       " '¿Qué tipo de estudios cursa actualmente?',\n",
       " '¿Cuántos semestres lleva estudiando?',\n",
       " 'Años',\n",
       " 'Meses',\n",
       " 'experiencia_calculada',\n",
       " 'Su experiencia laboral total es de ${experiencia_calculada} meses',\n",
       " 'Años.1',\n",
       " 'Meses.1',\n",
       " 'experiencia_p_calculada',\n",
       " 'Su experiencia profesional total es de ${experiencia_p_calculada} meses',\n",
       " '¿Qué tipos de experiencias laborales ha tenido?',\n",
       " '¿Qué tipos de experiencias laborales ha tenido?/Educación/Monitorías universitarias',\n",
       " '¿Qué tipos de experiencias laborales ha tenido?/Administrativas',\n",
       " '¿Qué tipos de experiencias laborales ha tenido?/Coordinación de equipos de trabajo',\n",
       " '¿Qué tipos de experiencias laborales ha tenido?/Formulación y desarrollo de proyectos',\n",
       " '¿Qué tipos de experiencias laborales ha tenido?/Evaluación de proyectos',\n",
       " '¿Qué tipos de experiencias laborales ha tenido?/Trabajo con comunidades',\n",
       " '¿Qué tipos de experiencias laborales ha tenido?/Investigación académica',\n",
       " '¿Qué tipos de experiencias laborales ha tenido?/Comercio / Ventas',\n",
       " '¿Qué tipos de experiencias laborales ha tenido?/Sector público',\n",
       " '¿Qué tipos de experiencias laborales ha tenido?/Multinacionales / Multilatinas',\n",
       " '¿Qué tipos de experiencias laborales ha tenido?/Sector financiero',\n",
       " '¿Qué tipos de experiencias laborales ha tenido?/Organizaciones No Gubernamentales, Fundaciones',\n",
       " '¿Qué tipos de experiencias laborales ha tenido?/Cooperación internacional',\n",
       " '¿Qué tipos de experiencias laborales ha tenido?/Docencia',\n",
       " '¿Qué tipos de experiencias laborales ha tenido?/Diseño de actividades formativas',\n",
       " '¿Qué tipos de experiencias laborales ha tenido?/Coordinación de eventos',\n",
       " '¿Qué tipos de experiencias laborales ha tenido?/Logística',\n",
       " '¿Qué tipos de experiencias laborales ha tenido?/Metodologías (definición)',\n",
       " '¿Qué tipos de experiencias laborales ha tenido?/Metodologías (adaptación-ajuste)',\n",
       " '¿Qué tipos de experiencias laborales ha tenido?/Sistematización de experiencias',\n",
       " '¿Qué tipos de experiencias laborales ha tenido?/Sector agropecuario - rural',\n",
       " 'Años.2',\n",
       " 'Meses.2',\n",
       " 'experiencia_q_calculada',\n",
       " 'Su último contrato, antes de la SPCC, duró ${experiencia_q_calculada} meses',\n",
       " '¿De qué tipo fue su última experiencia laboral antes de ser contratado en la SPCC?',\n",
       " 'Años.3',\n",
       " 'Meses.3',\n",
       " 'experiencia_r_calculada',\n",
       " 'En la SPCC lleva trabajando ${experiencia_r_calculada} meses',\n",
       " 'Recuerdos',\n",
       " 'Sueños',\n",
       " 'Paisajes',\n",
       " 'No violencia',\n",
       " 'Familia',\n",
       " 'Hogar',\n",
       " 'Tranquilidad',\n",
       " 'Trabajo / Empleo',\n",
       " 'Salud',\n",
       " 'Educación',\n",
       " 'Dios',\n",
       " 'Espiritualidad',\n",
       " '¿Qué lugares recomiendas como territorios con mayor potencial para construir Paz?',\n",
       " '¿Qué lugares recomiendas como territorios con mayor potencial para construir Paz?/Barrio',\n",
       " '¿Qué lugares recomiendas como territorios con mayor potencial para construir Paz?/Centros Educativos',\n",
       " '¿Qué lugares recomiendas como territorios con mayor potencial para construir Paz?/Espacios Derportivos',\n",
       " '¿Qué lugares recomiendas como territorios con mayor potencial para construir Paz?/Vivienda',\n",
       " '¿Qué lugares recomiendas como territorios con mayor potencial para construir Paz?/Parques / Zonas Verdes',\n",
       " '¿Qué lugares recomiendas como territorios con mayor potencial para construir Paz?/Vía pública',\n",
       " '¿Qué lugares recomiendas como territorios con mayor potencial para construir Paz?/Campo / Zona Rural',\n",
       " '¿Qué lugares recomiendas como territorios con mayor potencial para construir Paz?/Espacios Culturales',\n",
       " '¿Qué lugares recomiendas como territorios con mayor potencial para construir Paz?/Territorios de origen',\n",
       " '¿Qué lugares crees que se deben priorizar para lograr pronta Paz?',\n",
       " '¿Qué lugares crees que se deben priorizar para lograr pronta Paz?/Barrio',\n",
       " '¿Qué lugares crees que se deben priorizar para lograr pronta Paz?/Centros Educativos',\n",
       " '¿Qué lugares crees que se deben priorizar para lograr pronta Paz?/Espacios Derportivos',\n",
       " '¿Qué lugares crees que se deben priorizar para lograr pronta Paz?/Vivienda',\n",
       " '¿Qué lugares crees que se deben priorizar para lograr pronta Paz?/Parques / Zonas Verdes',\n",
       " '¿Qué lugares crees que se deben priorizar para lograr pronta Paz?/Vía pública',\n",
       " '¿Qué lugares crees que se deben priorizar para lograr pronta Paz?/Campo / Zona Rural',\n",
       " '¿Qué lugares crees que se deben priorizar para lograr pronta Paz?/Espacios Culturales',\n",
       " '¿Qué lugares crees que se deben priorizar para lograr pronta Paz?/Territorios de origen',\n",
       " 'Vecinos',\n",
       " 'Amigos',\n",
       " 'Deporte y recreación',\n",
       " 'Cultura',\n",
       " 'Tradiciones culturales/religiosas',\n",
       " 'Tradiciones familiares',\n",
       " 'Cuidado de los recursos naturales',\n",
       " 'Animales y/o mascotas',\n",
       " 'Comunidad',\n",
       " 'Sistema de salud',\n",
       " 'Derechos sociales',\n",
       " 'Equidad',\n",
       " 'Diversidad cultural',\n",
       " 'Seleccione las tres palabras/conceptos/expresiones más PODEROSAS para definir Paz',\n",
       " 'Seleccione las tres palabras/conceptos/expresiones más PODEROSAS para definir Paz/Respeto',\n",
       " 'Seleccione las tres palabras/conceptos/expresiones más PODEROSAS para definir Paz/Tolerancia',\n",
       " 'Seleccione las tres palabras/conceptos/expresiones más PODEROSAS para definir Paz/Armonía',\n",
       " 'Seleccione las tres palabras/conceptos/expresiones más PODEROSAS para definir Paz/Hogar',\n",
       " 'Seleccione las tres palabras/conceptos/expresiones más PODEROSAS para definir Paz/Entorno protector',\n",
       " 'Seleccione las tres palabras/conceptos/expresiones más PODEROSAS para definir Paz/No discriminación',\n",
       " 'Seleccione las tres palabras/conceptos/expresiones más PODEROSAS para definir Paz/Amor',\n",
       " 'Seleccione las tres palabras/conceptos/expresiones más PODEROSAS para definir Paz/Compartir',\n",
       " 'Seleccione las tres palabras/conceptos/expresiones más PODEROSAS para definir Paz/Unión',\n",
       " 'Seleccione las tres palabras/conceptos/expresiones más PODEROSAS para definir Paz/Tranquilidad',\n",
       " 'Seleccione las tres palabras/conceptos/expresiones más PODEROSAS para definir Paz/Equilibrio',\n",
       " 'Seleccione las tres palabras/conceptos/expresiones más PODEROSAS para definir Paz/Trabajo / Empleo',\n",
       " 'Seleccione las tres palabras/conceptos/expresiones más PODEROSAS para definir Paz/Soñar / sueños',\n",
       " 'Seleccione las tres palabras/conceptos/expresiones más PODEROSAS para definir Paz/No violencia',\n",
       " 'Seleccione las tres palabras/conceptos/expresiones más PODEROSAS para definir Paz/Derechos sociales',\n",
       " 'Seleccione las tres palabras/conceptos/expresiones más PODEROSAS para definir Paz/Atención en salud',\n",
       " 'Seleccione las tres palabras/conceptos/expresiones más PODEROSAS para definir Paz/Acceso al transporte público',\n",
       " 'Seleccione las tres palabras/conceptos/expresiones más PODEROSAS para definir Paz/Acceso a la educación',\n",
       " 'Seleccione las tres palabras/conceptos/expresiones más PODEROSAS para definir Paz/Deporte y recreación',\n",
       " 'Seleccione las tres palabras/conceptos/expresiones más PODEROSAS para definir Paz/Arte y cultura',\n",
       " 'Seleccione las tres palabras/conceptos/expresiones más PODEROSAS para definir Paz/Cuidado de los recursos naturales',\n",
       " 'Seleccione las tres palabras/conceptos/expresiones más PODEROSAS para definir Paz/Alimentación',\n",
       " 'Seleccione las tres palabras/conceptos/expresiones más PODEROSAS para definir Paz/Derecho a la vivienda digna',\n",
       " 'Seleccione las tres palabras/conceptos/expresiones más PODEROSAS para definir Paz/No acoso (sexual, laboral)',\n",
       " 'Seleccione las tres palabras/conceptos/expresiones más PODEROSAS para definir Paz/Primera infancia',\n",
       " 'Escriba una frase corta en la que exprese su significado de la Paz:',\n",
       " 'Escriba un deseo de Paz para los demás:',\n",
       " 'Sugerencias específicas para medir ¿qué si es Paz?:',\n",
       " 'Sugerencias específicas para mejorar las capacidades de la SPCC:',\n",
       " 'Sugerencias específicas al OPC para una futura encuesta:',\n",
       " '_index']"
      ]
     },
     "execution_count": 10,
     "metadata": {},
     "output_type": "execute_result"
    }
   ],
   "source": [
    "cols = dfEncuestaSPCC.columns.tolist()\n",
    "cols"
   ]
  },
  {
   "cell_type": "code",
   "execution_count": 11,
   "metadata": {},
   "outputs": [
    {
     "data": {
      "text/plain": [
       "166"
      ]
     },
     "execution_count": 11,
     "metadata": {},
     "output_type": "execute_result"
    }
   ],
   "source": [
    "dfEncuestaSPCC.columns.get_loc(\"Seleccione las tres palabras/conceptos/expresiones más PODEROSAS para definir Paz\")"
   ]
  },
  {
   "cell_type": "code",
   "execution_count": 12,
   "metadata": {
    "collapsed": true
   },
   "outputs": [],
   "source": [
    "dfEncuestaSPCC.drop(dfEncuestaSPCC.iloc[:, 1:166], inplace = True, axis = 1) "
   ]
  },
  {
   "cell_type": "code",
   "execution_count": 13,
   "metadata": {},
   "outputs": [
    {
     "data": {
      "text/plain": [
       "['Mencione tres (3x) “Indicadores de CONSTRUCCIÓN DE PAZ”',\n",
       " 'Seleccione las tres palabras/conceptos/expresiones más PODEROSAS para definir Paz',\n",
       " 'Seleccione las tres palabras/conceptos/expresiones más PODEROSAS para definir Paz/Respeto',\n",
       " 'Seleccione las tres palabras/conceptos/expresiones más PODEROSAS para definir Paz/Tolerancia',\n",
       " 'Seleccione las tres palabras/conceptos/expresiones más PODEROSAS para definir Paz/Armonía',\n",
       " 'Seleccione las tres palabras/conceptos/expresiones más PODEROSAS para definir Paz/Hogar',\n",
       " 'Seleccione las tres palabras/conceptos/expresiones más PODEROSAS para definir Paz/Entorno protector',\n",
       " 'Seleccione las tres palabras/conceptos/expresiones más PODEROSAS para definir Paz/No discriminación',\n",
       " 'Seleccione las tres palabras/conceptos/expresiones más PODEROSAS para definir Paz/Amor',\n",
       " 'Seleccione las tres palabras/conceptos/expresiones más PODEROSAS para definir Paz/Compartir',\n",
       " 'Seleccione las tres palabras/conceptos/expresiones más PODEROSAS para definir Paz/Unión',\n",
       " 'Seleccione las tres palabras/conceptos/expresiones más PODEROSAS para definir Paz/Tranquilidad',\n",
       " 'Seleccione las tres palabras/conceptos/expresiones más PODEROSAS para definir Paz/Equilibrio',\n",
       " 'Seleccione las tres palabras/conceptos/expresiones más PODEROSAS para definir Paz/Trabajo / Empleo',\n",
       " 'Seleccione las tres palabras/conceptos/expresiones más PODEROSAS para definir Paz/Soñar / sueños',\n",
       " 'Seleccione las tres palabras/conceptos/expresiones más PODEROSAS para definir Paz/No violencia',\n",
       " 'Seleccione las tres palabras/conceptos/expresiones más PODEROSAS para definir Paz/Derechos sociales',\n",
       " 'Seleccione las tres palabras/conceptos/expresiones más PODEROSAS para definir Paz/Atención en salud',\n",
       " 'Seleccione las tres palabras/conceptos/expresiones más PODEROSAS para definir Paz/Acceso al transporte público',\n",
       " 'Seleccione las tres palabras/conceptos/expresiones más PODEROSAS para definir Paz/Acceso a la educación',\n",
       " 'Seleccione las tres palabras/conceptos/expresiones más PODEROSAS para definir Paz/Deporte y recreación',\n",
       " 'Seleccione las tres palabras/conceptos/expresiones más PODEROSAS para definir Paz/Arte y cultura',\n",
       " 'Seleccione las tres palabras/conceptos/expresiones más PODEROSAS para definir Paz/Cuidado de los recursos naturales',\n",
       " 'Seleccione las tres palabras/conceptos/expresiones más PODEROSAS para definir Paz/Alimentación',\n",
       " 'Seleccione las tres palabras/conceptos/expresiones más PODEROSAS para definir Paz/Derecho a la vivienda digna',\n",
       " 'Seleccione las tres palabras/conceptos/expresiones más PODEROSAS para definir Paz/No acoso (sexual, laboral)',\n",
       " 'Seleccione las tres palabras/conceptos/expresiones más PODEROSAS para definir Paz/Primera infancia',\n",
       " 'Escriba una frase corta en la que exprese su significado de la Paz:',\n",
       " 'Escriba un deseo de Paz para los demás:',\n",
       " 'Sugerencias específicas para medir ¿qué si es Paz?:',\n",
       " 'Sugerencias específicas para mejorar las capacidades de la SPCC:',\n",
       " 'Sugerencias específicas al OPC para una futura encuesta:',\n",
       " '_index']"
      ]
     },
     "execution_count": 13,
     "metadata": {},
     "output_type": "execute_result"
    }
   ],
   "source": [
    "cols = dfEncuestaSPCC.columns.tolist()\n",
    "cols"
   ]
  },
  {
   "cell_type": "code",
   "execution_count": 14,
   "metadata": {},
   "outputs": [
    {
     "data": {
      "text/plain": [
       "27"
      ]
     },
     "execution_count": 14,
     "metadata": {},
     "output_type": "execute_result"
    }
   ],
   "source": [
    "dfEncuestaSPCC.columns.get_loc(\"Escriba una frase corta en la que exprese su significado de la Paz:\")"
   ]
  },
  {
   "cell_type": "code",
   "execution_count": 15,
   "metadata": {
    "collapsed": true
   },
   "outputs": [],
   "source": [
    "dfEncuestaSPCC.drop(dfEncuestaSPCC.iloc[:, 2:27], inplace = True, axis = 1) "
   ]
  },
  {
   "cell_type": "code",
   "execution_count": 16,
   "metadata": {},
   "outputs": [
    {
     "data": {
      "text/plain": [
       "['Mencione tres (3x) “Indicadores de CONSTRUCCIÓN DE PAZ”',\n",
       " 'Seleccione las tres palabras/conceptos/expresiones más PODEROSAS para definir Paz',\n",
       " 'Escriba una frase corta en la que exprese su significado de la Paz:',\n",
       " 'Escriba un deseo de Paz para los demás:',\n",
       " 'Sugerencias específicas para medir ¿qué si es Paz?:',\n",
       " 'Sugerencias específicas para mejorar las capacidades de la SPCC:',\n",
       " 'Sugerencias específicas al OPC para una futura encuesta:',\n",
       " '_index']"
      ]
     },
     "execution_count": 16,
     "metadata": {},
     "output_type": "execute_result"
    }
   ],
   "source": [
    "cols = dfEncuestaSPCC.columns.tolist()\n",
    "cols"
   ]
  },
  {
   "cell_type": "code",
   "execution_count": 17,
   "metadata": {
    "collapsed": true
   },
   "outputs": [],
   "source": [
    "dfEncuestaSPCC.drop(dfEncuestaSPCC.iloc[:, 3:8], inplace = True, axis = 1) "
   ]
  },
  {
   "cell_type": "code",
   "execution_count": 18,
   "metadata": {},
   "outputs": [
    {
     "data": {
      "text/plain": [
       "['Mencione tres (3x) “Indicadores de CONSTRUCCIÓN DE PAZ”',\n",
       " 'Seleccione las tres palabras/conceptos/expresiones más PODEROSAS para definir Paz',\n",
       " 'Escriba una frase corta en la que exprese su significado de la Paz:']"
      ]
     },
     "execution_count": 18,
     "metadata": {},
     "output_type": "execute_result"
    }
   ],
   "source": [
    "cols = dfEncuestaSPCC.columns.tolist()\n",
    "cols"
   ]
  },
  {
   "cell_type": "markdown",
   "metadata": {},
   "source": [
    "## dfPazUSC"
   ]
  },
  {
   "cell_type": "code",
   "execution_count": 19,
   "metadata": {
    "scrolled": true
   },
   "outputs": [
    {
     "data": {
      "text/html": [
       "<div>\n",
       "<style scoped>\n",
       "    .dataframe tbody tr th:only-of-type {\n",
       "        vertical-align: middle;\n",
       "    }\n",
       "\n",
       "    .dataframe tbody tr th {\n",
       "        vertical-align: top;\n",
       "    }\n",
       "\n",
       "    .dataframe thead th {\n",
       "        text-align: right;\n",
       "    }\n",
       "</style>\n",
       "<table border=\"1\" class=\"dataframe\">\n",
       "  <thead>\n",
       "    <tr style=\"text-align: right;\">\n",
       "      <th></th>\n",
       "      <th>start</th>\n",
       "      <th>end</th>\n",
       "      <th>today</th>\n",
       "      <th>username</th>\n",
       "      <th>simserial</th>\n",
       "      <th>subscriberid</th>\n",
       "      <th>deviceid</th>\n",
       "      <th>phonenumber</th>\n",
       "      <th>equipo</th>\n",
       "      <th>punto_captura</th>\n",
       "      <th>...</th>\n",
       "      <th>municipio</th>\n",
       "      <th>cargo</th>\n",
       "      <th>facultad</th>\n",
       "      <th>programa_academico</th>\n",
       "      <th>__version__</th>\n",
       "      <th>_id</th>\n",
       "      <th>_uuid</th>\n",
       "      <th>_submission_time</th>\n",
       "      <th>_validation_status</th>\n",
       "      <th>_index</th>\n",
       "    </tr>\n",
       "  </thead>\n",
       "  <tbody>\n",
       "    <tr>\n",
       "      <th>0</th>\n",
       "      <td>2019-04-09T10:45:13.267-05</td>\n",
       "      <td>2019-04-09T11:10:35.529-05</td>\n",
       "      <td>2019-04-09</td>\n",
       "      <td>datospazcali</td>\n",
       "      <td>89571015019090214468</td>\n",
       "      <td>732101527021446</td>\n",
       "      <td>351712103831066</td>\n",
       "      <td>NaN</td>\n",
       "      <td>equipo_6</td>\n",
       "      <td>bloque_5</td>\n",
       "      <td>...</td>\n",
       "      <td>NaN</td>\n",
       "      <td>funcionario_operativo</td>\n",
       "      <td>NaN</td>\n",
       "      <td>NaN</td>\n",
       "      <td>vTnXvdYjdSdY5wARMg2L5Q</td>\n",
       "      <td>25553871</td>\n",
       "      <td>11f1cd0d-ba51-4a6f-afcd-95b2e120158c</td>\n",
       "      <td>2019-04-09T17:37:52</td>\n",
       "      <td>NaN</td>\n",
       "      <td>1</td>\n",
       "    </tr>\n",
       "    <tr>\n",
       "      <th>1</th>\n",
       "      <td>2019-04-09T11:14:49.149-05</td>\n",
       "      <td>2019-04-09T11:29:32.972-05</td>\n",
       "      <td>2019-04-09</td>\n",
       "      <td>datospazcali</td>\n",
       "      <td>8957123401818574217</td>\n",
       "      <td>732123630899421</td>\n",
       "      <td>358126076228817</td>\n",
       "      <td>NaN</td>\n",
       "      <td>equipo_6</td>\n",
       "      <td>bloque_5</td>\n",
       "      <td>...</td>\n",
       "      <td>NaN</td>\n",
       "      <td>estudiante</td>\n",
       "      <td>NaN</td>\n",
       "      <td>NaN</td>\n",
       "      <td>vTnXvdYjdSdY5wARMg2L5Q</td>\n",
       "      <td>25553956</td>\n",
       "      <td>c8477283-ae3e-45e8-9e9f-9d65b0222aac</td>\n",
       "      <td>2019-04-09T17:38:35</td>\n",
       "      <td>NaN</td>\n",
       "      <td>2</td>\n",
       "    </tr>\n",
       "    <tr>\n",
       "      <th>2</th>\n",
       "      <td>2019-04-09T11:30:09.295-05</td>\n",
       "      <td>2019-04-09T11:32:31.353-05</td>\n",
       "      <td>2019-04-09</td>\n",
       "      <td>datospazcali</td>\n",
       "      <td>8957123401818574217</td>\n",
       "      <td>732123630899421</td>\n",
       "      <td>358126076228817</td>\n",
       "      <td>NaN</td>\n",
       "      <td>equipo_6</td>\n",
       "      <td>bloque_5</td>\n",
       "      <td>...</td>\n",
       "      <td>NaN</td>\n",
       "      <td>estudiante</td>\n",
       "      <td>salud</td>\n",
       "      <td>medicina</td>\n",
       "      <td>vTnXvdYjdSdY5wARMg2L5Q</td>\n",
       "      <td>25553957</td>\n",
       "      <td>d3608c8b-5dd3-46fe-851c-af07d3eb53e2</td>\n",
       "      <td>2019-04-09T17:38:36</td>\n",
       "      <td>NaN</td>\n",
       "      <td>3</td>\n",
       "    </tr>\n",
       "    <tr>\n",
       "      <th>3</th>\n",
       "      <td>2019-04-09T10:23:40.386-05</td>\n",
       "      <td>2019-04-09T10:34:34.074-05</td>\n",
       "      <td>2019-04-09</td>\n",
       "      <td>datospazcali</td>\n",
       "      <td>89571015021013409001</td>\n",
       "      <td>732101543311682</td>\n",
       "      <td>353779105621165</td>\n",
       "      <td>NaN</td>\n",
       "      <td>tecnico_OPC</td>\n",
       "      <td>entrada_KL_5ta</td>\n",
       "      <td>...</td>\n",
       "      <td>76306.0</td>\n",
       "      <td>estudiante</td>\n",
       "      <td>derecho</td>\n",
       "      <td>derecho</td>\n",
       "      <td>vTnXvdYjdSdY5wARMg2L5Q</td>\n",
       "      <td>25546856</td>\n",
       "      <td>29d3b696-4f20-4df5-b5ea-5c922a589d43</td>\n",
       "      <td>2019-04-09T15:35:10</td>\n",
       "      <td>NaN</td>\n",
       "      <td>4</td>\n",
       "    </tr>\n",
       "    <tr>\n",
       "      <th>4</th>\n",
       "      <td>2019-04-09T10:21:54.412-05</td>\n",
       "      <td>2019-04-09T10:34:35.893-05</td>\n",
       "      <td>2019-04-09</td>\n",
       "      <td>datospazcali</td>\n",
       "      <td>89571015017080727838</td>\n",
       "      <td>732101502072783</td>\n",
       "      <td>355656080709710</td>\n",
       "      <td>NaN</td>\n",
       "      <td>tecnico_OPC</td>\n",
       "      <td>entrada_KL_5ta</td>\n",
       "      <td>...</td>\n",
       "      <td>NaN</td>\n",
       "      <td>estudiante</td>\n",
       "      <td>derecho</td>\n",
       "      <td>derecho</td>\n",
       "      <td>vTnXvdYjdSdY5wARMg2L5Q</td>\n",
       "      <td>25546861</td>\n",
       "      <td>9519762f-e31c-4842-a2cb-abee7d6ecfaf</td>\n",
       "      <td>2019-04-09T15:35:13</td>\n",
       "      <td>NaN</td>\n",
       "      <td>5</td>\n",
       "    </tr>\n",
       "  </tbody>\n",
       "</table>\n",
       "<p>5 rows × 56 columns</p>\n",
       "</div>"
      ],
      "text/plain": [
       "                        start                         end       today  \\\n",
       "0  2019-04-09T10:45:13.267-05  2019-04-09T11:10:35.529-05  2019-04-09   \n",
       "1  2019-04-09T11:14:49.149-05  2019-04-09T11:29:32.972-05  2019-04-09   \n",
       "2  2019-04-09T11:30:09.295-05  2019-04-09T11:32:31.353-05  2019-04-09   \n",
       "3  2019-04-09T10:23:40.386-05  2019-04-09T10:34:34.074-05  2019-04-09   \n",
       "4  2019-04-09T10:21:54.412-05  2019-04-09T10:34:35.893-05  2019-04-09   \n",
       "\n",
       "       username             simserial     subscriberid         deviceid  \\\n",
       "0  datospazcali  89571015019090214468  732101527021446  351712103831066   \n",
       "1  datospazcali   8957123401818574217  732123630899421  358126076228817   \n",
       "2  datospazcali   8957123401818574217  732123630899421  358126076228817   \n",
       "3  datospazcali  89571015021013409001  732101543311682  353779105621165   \n",
       "4  datospazcali  89571015017080727838  732101502072783  355656080709710   \n",
       "\n",
       "  phonenumber       equipo   punto_captura  ... municipio  \\\n",
       "0         NaN     equipo_6        bloque_5  ...       NaN   \n",
       "1         NaN     equipo_6        bloque_5  ...       NaN   \n",
       "2         NaN     equipo_6        bloque_5  ...       NaN   \n",
       "3         NaN  tecnico_OPC  entrada_KL_5ta  ...   76306.0   \n",
       "4         NaN  tecnico_OPC  entrada_KL_5ta  ...       NaN   \n",
       "\n",
       "                   cargo  facultad  programa_academico  \\\n",
       "0  funcionario_operativo       NaN                 NaN   \n",
       "1             estudiante       NaN                 NaN   \n",
       "2             estudiante     salud            medicina   \n",
       "3             estudiante   derecho             derecho   \n",
       "4             estudiante   derecho             derecho   \n",
       "\n",
       "              __version__       _id                                 _uuid  \\\n",
       "0  vTnXvdYjdSdY5wARMg2L5Q  25553871  11f1cd0d-ba51-4a6f-afcd-95b2e120158c   \n",
       "1  vTnXvdYjdSdY5wARMg2L5Q  25553956  c8477283-ae3e-45e8-9e9f-9d65b0222aac   \n",
       "2  vTnXvdYjdSdY5wARMg2L5Q  25553957  d3608c8b-5dd3-46fe-851c-af07d3eb53e2   \n",
       "3  vTnXvdYjdSdY5wARMg2L5Q  25546856  29d3b696-4f20-4df5-b5ea-5c922a589d43   \n",
       "4  vTnXvdYjdSdY5wARMg2L5Q  25546861  9519762f-e31c-4842-a2cb-abee7d6ecfaf   \n",
       "\n",
       "      _submission_time  _validation_status  _index  \n",
       "0  2019-04-09T17:37:52                 NaN       1  \n",
       "1  2019-04-09T17:38:35                 NaN       2  \n",
       "2  2019-04-09T17:38:36                 NaN       3  \n",
       "3  2019-04-09T15:35:10                 NaN       4  \n",
       "4  2019-04-09T15:35:13                 NaN       5  \n",
       "\n",
       "[5 rows x 56 columns]"
      ]
     },
     "execution_count": 19,
     "metadata": {},
     "output_type": "execute_result"
    }
   ],
   "source": [
    "dfPazUSC.head()"
   ]
  },
  {
   "cell_type": "code",
   "execution_count": 20,
   "metadata": {
    "scrolled": false
   },
   "outputs": [
    {
     "data": {
      "text/plain": [
       "['start',\n",
       " 'end',\n",
       " 'today',\n",
       " 'username',\n",
       " 'simserial',\n",
       " 'subscriberid',\n",
       " 'deviceid',\n",
       " 'phonenumber',\n",
       " 'equipo',\n",
       " 'punto_captura',\n",
       " 'narrativa_paz',\n",
       " 'componentes',\n",
       " 'componentes/tranquilidad',\n",
       " 'componentes/familia_hogar',\n",
       " 'componentes/vecinos_amigos',\n",
       " 'componentes/convivencia',\n",
       " 'componentes/narutaleza',\n",
       " 'componentes/no_violencia',\n",
       " 'componentes/zonas_verdes',\n",
       " 'componentes/démas_personas',\n",
       " 'componentes/respeto',\n",
       " 'componentes/comunidad',\n",
       " 'componentes/espiritualidad',\n",
       " 'componentes/no_discriminación',\n",
       " 'componentes/amor',\n",
       " 'componentes/tradiciones_familiares',\n",
       " 'componentes/libertad',\n",
       " 'componentes/derechos_sociales',\n",
       " 'componentes/salud',\n",
       " 'componentes/educación',\n",
       " 'componentes/derechos_espacio_publico',\n",
       " 'componentes/perdón',\n",
       " 'componentes/empleo',\n",
       " 'componentes/reconocimiento',\n",
       " 'componentes/reconciliación',\n",
       " 'sexo',\n",
       " 'edad',\n",
       " 'departamento_nacimiento',\n",
       " 'municipio_nacimiento',\n",
       " 'zona_residencia',\n",
       " 'comuna',\n",
       " 'barrio',\n",
       " 'corregimiento',\n",
       " 'vereda',\n",
       " 'otro_sector',\n",
       " 'departamento',\n",
       " 'municipio',\n",
       " 'cargo',\n",
       " 'facultad',\n",
       " 'programa_academico',\n",
       " '__version__',\n",
       " '_id',\n",
       " '_uuid',\n",
       " '_submission_time',\n",
       " '_validation_status',\n",
       " '_index']"
      ]
     },
     "execution_count": 20,
     "metadata": {},
     "output_type": "execute_result"
    }
   ],
   "source": [
    "cols = dfPazUSC.columns.tolist()\n",
    "cols"
   ]
  },
  {
   "cell_type": "markdown",
   "metadata": {},
   "source": [
    "La unica columna que nos interesa es: 'narrativa_paz'"
   ]
  },
  {
   "cell_type": "code",
   "execution_count": 21,
   "metadata": {},
   "outputs": [
    {
     "data": {
      "text/plain": [
       "10"
      ]
     },
     "execution_count": 21,
     "metadata": {},
     "output_type": "execute_result"
    }
   ],
   "source": [
    "dfPazUSC.columns.get_loc(\"narrativa_paz\")"
   ]
  },
  {
   "cell_type": "code",
   "execution_count": 22,
   "metadata": {
    "collapsed": true
   },
   "outputs": [],
   "source": [
    "dfPazUSC.drop(dfPazUSC.iloc[:, 0:10], inplace = True, axis = 1) "
   ]
  },
  {
   "cell_type": "code",
   "execution_count": 23,
   "metadata": {},
   "outputs": [
    {
     "data": {
      "text/plain": [
       "['narrativa_paz',\n",
       " 'componentes',\n",
       " 'componentes/tranquilidad',\n",
       " 'componentes/familia_hogar',\n",
       " 'componentes/vecinos_amigos',\n",
       " 'componentes/convivencia',\n",
       " 'componentes/narutaleza',\n",
       " 'componentes/no_violencia',\n",
       " 'componentes/zonas_verdes',\n",
       " 'componentes/démas_personas',\n",
       " 'componentes/respeto',\n",
       " 'componentes/comunidad',\n",
       " 'componentes/espiritualidad',\n",
       " 'componentes/no_discriminación',\n",
       " 'componentes/amor',\n",
       " 'componentes/tradiciones_familiares',\n",
       " 'componentes/libertad',\n",
       " 'componentes/derechos_sociales',\n",
       " 'componentes/salud',\n",
       " 'componentes/educación',\n",
       " 'componentes/derechos_espacio_publico',\n",
       " 'componentes/perdón',\n",
       " 'componentes/empleo',\n",
       " 'componentes/reconocimiento',\n",
       " 'componentes/reconciliación',\n",
       " 'sexo',\n",
       " 'edad',\n",
       " 'departamento_nacimiento',\n",
       " 'municipio_nacimiento',\n",
       " 'zona_residencia',\n",
       " 'comuna',\n",
       " 'barrio',\n",
       " 'corregimiento',\n",
       " 'vereda',\n",
       " 'otro_sector',\n",
       " 'departamento',\n",
       " 'municipio',\n",
       " 'cargo',\n",
       " 'facultad',\n",
       " 'programa_academico',\n",
       " '__version__',\n",
       " '_id',\n",
       " '_uuid',\n",
       " '_submission_time',\n",
       " '_validation_status',\n",
       " '_index']"
      ]
     },
     "execution_count": 23,
     "metadata": {},
     "output_type": "execute_result"
    }
   ],
   "source": [
    "cols = dfPazUSC.columns.tolist()\n",
    "cols"
   ]
  },
  {
   "cell_type": "code",
   "execution_count": 24,
   "metadata": {},
   "outputs": [
    {
     "data": {
      "text/plain": [
       "46"
      ]
     },
     "execution_count": 24,
     "metadata": {},
     "output_type": "execute_result"
    }
   ],
   "source": [
    "len(cols)"
   ]
  },
  {
   "cell_type": "code",
   "execution_count": 25,
   "metadata": {
    "collapsed": true
   },
   "outputs": [],
   "source": [
    "dfPazUSC.drop(dfPazUSC.iloc[:, 1:47], inplace = True, axis = 1) "
   ]
  },
  {
   "cell_type": "code",
   "execution_count": 26,
   "metadata": {},
   "outputs": [
    {
     "data": {
      "text/plain": [
       "['narrativa_paz']"
      ]
     },
     "execution_count": 26,
     "metadata": {},
     "output_type": "execute_result"
    }
   ],
   "source": [
    "cols = dfPazUSC.columns.tolist()\n",
    "cols"
   ]
  },
  {
   "cell_type": "markdown",
   "metadata": {},
   "source": [
    "## dfNarrativasMayo"
   ]
  },
  {
   "cell_type": "code",
   "execution_count": 27,
   "metadata": {},
   "outputs": [
    {
     "data": {
      "text/html": [
       "<div>\n",
       "<style scoped>\n",
       "    .dataframe tbody tr th:only-of-type {\n",
       "        vertical-align: middle;\n",
       "    }\n",
       "\n",
       "    .dataframe tbody tr th {\n",
       "        vertical-align: top;\n",
       "    }\n",
       "\n",
       "    .dataframe thead th {\n",
       "        text-align: right;\n",
       "    }\n",
       "</style>\n",
       "<table border=\"1\" class=\"dataframe\">\n",
       "  <thead>\n",
       "    <tr style=\"text-align: right;\">\n",
       "      <th></th>\n",
       "      <th>_orden</th>\n",
       "      <th>pre_INDEX\\nentrada_KOBO</th>\n",
       "      <th>_grupo</th>\n",
       "      <th>index_MA\\nsalida_KOBO</th>\n",
       "      <th>caso</th>\n",
       "    </tr>\n",
       "  </thead>\n",
       "  <tbody>\n",
       "    <tr>\n",
       "      <th>0</th>\n",
       "      <td>1</td>\n",
       "      <td>1</td>\n",
       "      <td>n15FEB2017</td>\n",
       "      <td>299.0</td>\n",
       "      <td>sin_INDEX</td>\n",
       "    </tr>\n",
       "    <tr>\n",
       "      <th>1</th>\n",
       "      <td>2</td>\n",
       "      <td>2</td>\n",
       "      <td>n15FEB2017</td>\n",
       "      <td>33.0</td>\n",
       "      <td>sin_INDEX</td>\n",
       "    </tr>\n",
       "    <tr>\n",
       "      <th>2</th>\n",
       "      <td>3</td>\n",
       "      <td>3</td>\n",
       "      <td>n15FEB2017</td>\n",
       "      <td>375.0</td>\n",
       "      <td>con_INDEX</td>\n",
       "    </tr>\n",
       "    <tr>\n",
       "      <th>3</th>\n",
       "      <td>4</td>\n",
       "      <td>4</td>\n",
       "      <td>n15FEB2017</td>\n",
       "      <td>396.0</td>\n",
       "      <td>sin_INDEX</td>\n",
       "    </tr>\n",
       "    <tr>\n",
       "      <th>4</th>\n",
       "      <td>5</td>\n",
       "      <td>5</td>\n",
       "      <td>n15FEB2017</td>\n",
       "      <td>649.0</td>\n",
       "      <td>sin_INDEX</td>\n",
       "    </tr>\n",
       "  </tbody>\n",
       "</table>\n",
       "</div>"
      ],
      "text/plain": [
       "   _orden  pre_INDEX\\nentrada_KOBO       _grupo  index_MA\\nsalida_KOBO  \\\n",
       "0       1                         1  n15FEB2017                  299.0   \n",
       "1       2                         2  n15FEB2017                   33.0   \n",
       "2       3                         3  n15FEB2017                  375.0   \n",
       "3       4                         4  n15FEB2017                  396.0   \n",
       "4       5                         5  n15FEB2017                  649.0   \n",
       "\n",
       "        caso  \n",
       "0  sin_INDEX  \n",
       "1  sin_INDEX  \n",
       "2  con_INDEX  \n",
       "3  sin_INDEX  \n",
       "4  sin_INDEX  "
      ]
     },
     "execution_count": 27,
     "metadata": {},
     "output_type": "execute_result"
    }
   ],
   "source": [
    "dfNarrativasMayo.head()"
   ]
  },
  {
   "cell_type": "code",
   "execution_count": 28,
   "metadata": {
    "collapsed": true
   },
   "outputs": [],
   "source": [
    "dfNarrativasMayo = pd.ExcelFile('./data/respaldo_actualizacion_NARRATIVAS-10MAY2019-0600-MODIFICADA-ORTOGRAFIA.xlsx')"
   ]
  },
  {
   "cell_type": "code",
   "execution_count": 29,
   "metadata": {
    "collapsed": true
   },
   "outputs": [],
   "source": [
    "dfSheet1 = pd.read_excel(dfNarrativasMayo, sheet_name=\"registros_ma-n15FEB2017\")"
   ]
  },
  {
   "cell_type": "code",
   "execution_count": 30,
   "metadata": {},
   "outputs": [
    {
     "data": {
      "text/html": [
       "<div>\n",
       "<style scoped>\n",
       "    .dataframe tbody tr th:only-of-type {\n",
       "        vertical-align: middle;\n",
       "    }\n",
       "\n",
       "    .dataframe tbody tr th {\n",
       "        vertical-align: top;\n",
       "    }\n",
       "\n",
       "    .dataframe thead th {\n",
       "        text-align: right;\n",
       "    }\n",
       "</style>\n",
       "<table border=\"1\" class=\"dataframe\">\n",
       "  <thead>\n",
       "    <tr style=\"text-align: right;\">\n",
       "      <th></th>\n",
       "      <th>Unnamed: 0</th>\n",
       "      <th>Unnamed: 1</th>\n",
       "      <th>Unnamed: 2</th>\n",
       "      <th>Unnamed: 3</th>\n",
       "      <th>Unnamed: 4</th>\n",
       "      <th>1</th>\n",
       "      <th>2</th>\n",
       "      <th>3</th>\n",
       "      <th>4</th>\n",
       "      <th>5</th>\n",
       "      <th>...</th>\n",
       "      <th>128</th>\n",
       "      <th>129</th>\n",
       "      <th>130</th>\n",
       "      <th>131</th>\n",
       "      <th>132</th>\n",
       "      <th>133</th>\n",
       "      <th>134</th>\n",
       "      <th>135</th>\n",
       "      <th>136</th>\n",
       "      <th>137</th>\n",
       "    </tr>\n",
       "  </thead>\n",
       "  <tbody>\n",
       "    <tr>\n",
       "      <th>0</th>\n",
       "      <td>NaN</td>\n",
       "      <td>NaN</td>\n",
       "      <td>NaN</td>\n",
       "      <td>header_listo</td>\n",
       "      <td>NaN</td>\n",
       "      <td>responsable</td>\n",
       "      <td>NaN</td>\n",
       "      <td>nombre</td>\n",
       "      <td>apellido</td>\n",
       "      <td>barrio</td>\n",
       "      <td>...</td>\n",
       "      <td>policia</td>\n",
       "      <td>soldado</td>\n",
       "      <td>fauna</td>\n",
       "      <td>flora</td>\n",
       "      <td>niños</td>\n",
       "      <td>adolecentes</td>\n",
       "      <td>jovenes</td>\n",
       "      <td>adultos</td>\n",
       "      <td>adulto_mayor</td>\n",
       "      <td>NaN</td>\n",
       "    </tr>\n",
       "    <tr>\n",
       "      <th>1</th>\n",
       "      <td>NaN</td>\n",
       "      <td>NaN</td>\n",
       "      <td>NaN</td>\n",
       "      <td>NaN</td>\n",
       "      <td>NaN</td>\n",
       "      <td>n15FEB2017-59x</td>\n",
       "      <td>n15FEB2017-59x</td>\n",
       "      <td>n15FEB2017-59x</td>\n",
       "      <td>n15FEB2017-59x</td>\n",
       "      <td>n15FEB2017-59x</td>\n",
       "      <td>...</td>\n",
       "      <td>quienes</td>\n",
       "      <td>quienes</td>\n",
       "      <td>quienes</td>\n",
       "      <td>quienes</td>\n",
       "      <td>quienes</td>\n",
       "      <td>quienes</td>\n",
       "      <td>quienes</td>\n",
       "      <td>quienes</td>\n",
       "      <td>quienes</td>\n",
       "      <td>escenario</td>\n",
       "    </tr>\n",
       "    <tr>\n",
       "      <th>2</th>\n",
       "      <td>_indice_HORIZONTAL</td>\n",
       "      <td>NaN</td>\n",
       "      <td>NaN</td>\n",
       "      <td>NaN</td>\n",
       "      <td>NaN</td>\n",
       "      <td>1</td>\n",
       "      <td>2</td>\n",
       "      <td>3</td>\n",
       "      <td>4</td>\n",
       "      <td>5</td>\n",
       "      <td>...</td>\n",
       "      <td>69</td>\n",
       "      <td>70</td>\n",
       "      <td>71</td>\n",
       "      <td>72</td>\n",
       "      <td>73</td>\n",
       "      <td>74</td>\n",
       "      <td>75</td>\n",
       "      <td>76</td>\n",
       "      <td>77</td>\n",
       "      <td>78</td>\n",
       "    </tr>\n",
       "    <tr>\n",
       "      <th>3</th>\n",
       "      <td>NaN</td>\n",
       "      <td>NaN</td>\n",
       "      <td>NaN</td>\n",
       "      <td>NaN</td>\n",
       "      <td>NaN</td>\n",
       "      <td>Responsable:</td>\n",
       "      <td>NaN</td>\n",
       "      <td>Nombre:</td>\n",
       "      <td>Apellido:</td>\n",
       "      <td>Barrio:</td>\n",
       "      <td>...</td>\n",
       "      <td>policia</td>\n",
       "      <td>soldado</td>\n",
       "      <td>fauna</td>\n",
       "      <td>flora</td>\n",
       "      <td>niños</td>\n",
       "      <td>adolecentes</td>\n",
       "      <td>jovenes</td>\n",
       "      <td>adultos</td>\n",
       "      <td>adulto_mayor</td>\n",
       "      <td>NaN</td>\n",
       "    </tr>\n",
       "    <tr>\n",
       "      <th>4</th>\n",
       "      <td>_orden</td>\n",
       "      <td>_index</td>\n",
       "      <td>_grupo</td>\n",
       "      <td>_index_MA</td>\n",
       "      <td>caso</td>\n",
       "      <td>NaN</td>\n",
       "      <td>NaN</td>\n",
       "      <td>NaN</td>\n",
       "      <td>NaN</td>\n",
       "      <td>NaN</td>\n",
       "      <td>...</td>\n",
       "      <td>NaN</td>\n",
       "      <td>NaN</td>\n",
       "      <td>NaN</td>\n",
       "      <td>NaN</td>\n",
       "      <td>NaN</td>\n",
       "      <td>NaN</td>\n",
       "      <td>NaN</td>\n",
       "      <td>NaN</td>\n",
       "      <td>NaN</td>\n",
       "      <td>NaN</td>\n",
       "    </tr>\n",
       "  </tbody>\n",
       "</table>\n",
       "<p>5 rows × 142 columns</p>\n",
       "</div>"
      ],
      "text/plain": [
       "           Unnamed: 0 Unnamed: 1 Unnamed: 2    Unnamed: 3 Unnamed: 4  \\\n",
       "0                 NaN        NaN        NaN  header_listo        NaN   \n",
       "1                 NaN        NaN        NaN           NaN        NaN   \n",
       "2  _indice_HORIZONTAL        NaN        NaN           NaN        NaN   \n",
       "3                 NaN        NaN        NaN           NaN        NaN   \n",
       "4              _orden     _index     _grupo     _index_MA       caso   \n",
       "\n",
       "                1               2               3               4  \\\n",
       "0     responsable             NaN          nombre        apellido   \n",
       "1  n15FEB2017-59x  n15FEB2017-59x  n15FEB2017-59x  n15FEB2017-59x   \n",
       "2               1               2               3               4   \n",
       "3    Responsable:             NaN         Nombre:       Apellido:   \n",
       "4             NaN             NaN             NaN             NaN   \n",
       "\n",
       "                5  ...      128      129      130      131      132  \\\n",
       "0          barrio  ...  policia  soldado    fauna    flora    niños   \n",
       "1  n15FEB2017-59x  ...  quienes  quienes  quienes  quienes  quienes   \n",
       "2               5  ...       69       70       71       72       73   \n",
       "3         Barrio:  ...  policia  soldado    fauna    flora    niños   \n",
       "4             NaN  ...      NaN      NaN      NaN      NaN      NaN   \n",
       "\n",
       "           133      134      135           136        137  \n",
       "0  adolecentes  jovenes  adultos  adulto_mayor        NaN  \n",
       "1      quienes  quienes  quienes       quienes  escenario  \n",
       "2           74       75       76            77         78  \n",
       "3  adolecentes  jovenes  adultos  adulto_mayor        NaN  \n",
       "4          NaN      NaN      NaN           NaN        NaN  \n",
       "\n",
       "[5 rows x 142 columns]"
      ]
     },
     "execution_count": 30,
     "metadata": {},
     "output_type": "execute_result"
    }
   ],
   "source": [
    "dfSheet1.head()"
   ]
  },
  {
   "cell_type": "code",
   "execution_count": 31,
   "metadata": {},
   "outputs": [
    {
     "data": {
      "text/plain": [
       "59"
      ]
     },
     "execution_count": 31,
     "metadata": {},
     "output_type": "execute_result"
    }
   ],
   "source": [
    "dfSheet1.columns.get_loc(55)"
   ]
  },
  {
   "cell_type": "code",
   "execution_count": 32,
   "metadata": {
    "collapsed": true
   },
   "outputs": [],
   "source": [
    "dfSheet1.drop(dfSheet1.iloc[:, 0:59], inplace = True, axis = 1) "
   ]
  },
  {
   "cell_type": "code",
   "execution_count": 33,
   "metadata": {
    "collapsed": true
   },
   "outputs": [],
   "source": [
    "cols = dfSheet1.columns.tolist()\n"
   ]
  },
  {
   "cell_type": "code",
   "execution_count": 34,
   "metadata": {},
   "outputs": [
    {
     "data": {
      "text/plain": [
       "83"
      ]
     },
     "execution_count": 34,
     "metadata": {},
     "output_type": "execute_result"
    }
   ],
   "source": [
    "len(cols)"
   ]
  },
  {
   "cell_type": "code",
   "execution_count": 35,
   "metadata": {
    "collapsed": true
   },
   "outputs": [],
   "source": [
    "dfSheet1.drop(dfSheet1.iloc[:, 1:84], inplace = True, axis = 1) "
   ]
  },
  {
   "cell_type": "code",
   "execution_count": 36,
   "metadata": {},
   "outputs": [
    {
     "data": {
      "text/plain": [
       "[55]"
      ]
     },
     "execution_count": 36,
     "metadata": {},
     "output_type": "execute_result"
    }
   ],
   "source": [
    "cols = dfSheet1.columns.tolist()\n",
    "cols"
   ]
  },
  {
   "cell_type": "code",
   "execution_count": 37,
   "metadata": {
    "scrolled": true
   },
   "outputs": [
    {
     "data": {
      "text/html": [
       "<div>\n",
       "<style scoped>\n",
       "    .dataframe tbody tr th:only-of-type {\n",
       "        vertical-align: middle;\n",
       "    }\n",
       "\n",
       "    .dataframe tbody tr th {\n",
       "        vertical-align: top;\n",
       "    }\n",
       "\n",
       "    .dataframe thead th {\n",
       "        text-align: right;\n",
       "    }\n",
       "</style>\n",
       "<table border=\"1\" class=\"dataframe\">\n",
       "  <thead>\n",
       "    <tr style=\"text-align: right;\">\n",
       "      <th></th>\n",
       "      <th>55</th>\n",
       "    </tr>\n",
       "  </thead>\n",
       "  <tbody>\n",
       "    <tr>\n",
       "      <th>0</th>\n",
       "      <td>texto</td>\n",
       "    </tr>\n",
       "    <tr>\n",
       "      <th>1</th>\n",
       "      <td>n15FEB2017-59x</td>\n",
       "    </tr>\n",
       "    <tr>\n",
       "      <th>2</th>\n",
       "      <td>55</td>\n",
       "    </tr>\n",
       "    <tr>\n",
       "      <th>3</th>\n",
       "      <td>Texto</td>\n",
       "    </tr>\n",
       "    <tr>\n",
       "      <th>4</th>\n",
       "      <td>NaN</td>\n",
       "    </tr>\n",
       "    <tr>\n",
       "      <th>5</th>\n",
       "      <td>NaN</td>\n",
       "    </tr>\n",
       "    <tr>\n",
       "      <th>6</th>\n",
       "      <td>convivencia pacifica con los demás y amor</td>\n",
       "    </tr>\n",
       "    <tr>\n",
       "      <th>7</th>\n",
       "      <td>No aparece</td>\n",
       "    </tr>\n",
       "    <tr>\n",
       "      <th>8</th>\n",
       "      <td>No aparece cuadro de datos</td>\n",
       "    </tr>\n",
       "    <tr>\n",
       "      <th>9</th>\n",
       "      <td>La Paz para mi es tener claridad sobre las cos...</td>\n",
       "    </tr>\n",
       "  </tbody>\n",
       "</table>\n",
       "</div>"
      ],
      "text/plain": [
       "                                                  55\n",
       "0                                              texto\n",
       "1                                     n15FEB2017-59x\n",
       "2                                                 55\n",
       "3                                              Texto\n",
       "4                                                NaN\n",
       "5                                                NaN\n",
       "6          convivencia pacifica con los demás y amor\n",
       "7                                         No aparece\n",
       "8                         No aparece cuadro de datos\n",
       "9  La Paz para mi es tener claridad sobre las cos..."
      ]
     },
     "execution_count": 37,
     "metadata": {},
     "output_type": "execute_result"
    }
   ],
   "source": [
    "dfSheet1.head(10)"
   ]
  },
  {
   "cell_type": "code",
   "execution_count": 38,
   "metadata": {
    "collapsed": true
   },
   "outputs": [],
   "source": [
    "dfSheet1.drop([0,1,2,3,4,5], inplace= True)"
   ]
  },
  {
   "cell_type": "code",
   "execution_count": 39,
   "metadata": {},
   "outputs": [
    {
     "data": {
      "text/html": [
       "<div>\n",
       "<style scoped>\n",
       "    .dataframe tbody tr th:only-of-type {\n",
       "        vertical-align: middle;\n",
       "    }\n",
       "\n",
       "    .dataframe tbody tr th {\n",
       "        vertical-align: top;\n",
       "    }\n",
       "\n",
       "    .dataframe thead th {\n",
       "        text-align: right;\n",
       "    }\n",
       "</style>\n",
       "<table border=\"1\" class=\"dataframe\">\n",
       "  <thead>\n",
       "    <tr style=\"text-align: right;\">\n",
       "      <th></th>\n",
       "      <th>55</th>\n",
       "    </tr>\n",
       "  </thead>\n",
       "  <tbody>\n",
       "    <tr>\n",
       "      <th>6</th>\n",
       "      <td>convivencia pacifica con los demás y amor</td>\n",
       "    </tr>\n",
       "    <tr>\n",
       "      <th>7</th>\n",
       "      <td>No aparece</td>\n",
       "    </tr>\n",
       "    <tr>\n",
       "      <th>8</th>\n",
       "      <td>No aparece cuadro de datos</td>\n",
       "    </tr>\n",
       "    <tr>\n",
       "      <th>9</th>\n",
       "      <td>La Paz para mi es tener claridad sobre las cos...</td>\n",
       "    </tr>\n",
       "    <tr>\n",
       "      <th>10</th>\n",
       "      <td>Para mi la Paz representa tranquilidad</td>\n",
       "    </tr>\n",
       "  </tbody>\n",
       "</table>\n",
       "</div>"
      ],
      "text/plain": [
       "                                                   55\n",
       "6           convivencia pacifica con los demás y amor\n",
       "7                                          No aparece\n",
       "8                          No aparece cuadro de datos\n",
       "9   La Paz para mi es tener claridad sobre las cos...\n",
       "10             Para mi la Paz representa tranquilidad"
      ]
     },
     "execution_count": 39,
     "metadata": {},
     "output_type": "execute_result"
    }
   ],
   "source": [
    "dfSheet1.head()"
   ]
  },
  {
   "cell_type": "code",
   "execution_count": 40,
   "metadata": {},
   "outputs": [
    {
     "data": {
      "text/html": [
       "<div>\n",
       "<style scoped>\n",
       "    .dataframe tbody tr th:only-of-type {\n",
       "        vertical-align: middle;\n",
       "    }\n",
       "\n",
       "    .dataframe tbody tr th {\n",
       "        vertical-align: top;\n",
       "    }\n",
       "\n",
       "    .dataframe thead th {\n",
       "        text-align: right;\n",
       "    }\n",
       "</style>\n",
       "<table border=\"1\" class=\"dataframe\">\n",
       "  <thead>\n",
       "    <tr style=\"text-align: right;\">\n",
       "      <th></th>\n",
       "      <th>55</th>\n",
       "    </tr>\n",
       "  </thead>\n",
       "  <tbody>\n",
       "    <tr>\n",
       "      <th>6</th>\n",
       "      <td>convivencia pacifica con los demás y amor</td>\n",
       "    </tr>\n",
       "    <tr>\n",
       "      <th>7</th>\n",
       "      <td>No aparece</td>\n",
       "    </tr>\n",
       "    <tr>\n",
       "      <th>8</th>\n",
       "      <td>No aparece cuadro de datos</td>\n",
       "    </tr>\n",
       "    <tr>\n",
       "      <th>9</th>\n",
       "      <td>La Paz para mi es tener claridad sobre las cos...</td>\n",
       "    </tr>\n",
       "    <tr>\n",
       "      <th>10</th>\n",
       "      <td>Para mi la Paz representa tranquilidad</td>\n",
       "    </tr>\n",
       "    <tr>\n",
       "      <th>11</th>\n",
       "      <td>la paz para mi creo que es vivir sin violencia...</td>\n",
       "    </tr>\n",
       "  </tbody>\n",
       "</table>\n",
       "</div>"
      ],
      "text/plain": [
       "                                                   55\n",
       "6           convivencia pacifica con los demás y amor\n",
       "7                                          No aparece\n",
       "8                          No aparece cuadro de datos\n",
       "9   La Paz para mi es tener claridad sobre las cos...\n",
       "10             Para mi la Paz representa tranquilidad\n",
       "11  la paz para mi creo que es vivir sin violencia..."
      ]
     },
     "execution_count": 40,
     "metadata": {},
     "output_type": "execute_result"
    }
   ],
   "source": [
    "dfSheet1.iloc[0:6]"
   ]
  },
  {
   "cell_type": "code",
   "execution_count": 41,
   "metadata": {
    "collapsed": true
   },
   "outputs": [],
   "source": [
    "dfSheet2 = pd.read_excel(dfNarrativasMayo, sheet_name=\"registros_ma-n16FEB2017\")"
   ]
  },
  {
   "cell_type": "code",
   "execution_count": 42,
   "metadata": {},
   "outputs": [
    {
     "data": {
      "text/html": [
       "<div>\n",
       "<style scoped>\n",
       "    .dataframe tbody tr th:only-of-type {\n",
       "        vertical-align: middle;\n",
       "    }\n",
       "\n",
       "    .dataframe tbody tr th {\n",
       "        vertical-align: top;\n",
       "    }\n",
       "\n",
       "    .dataframe thead th {\n",
       "        text-align: right;\n",
       "    }\n",
       "</style>\n",
       "<table border=\"1\" class=\"dataframe\">\n",
       "  <thead>\n",
       "    <tr style=\"text-align: right;\">\n",
       "      <th></th>\n",
       "      <th>Unnamed: 0</th>\n",
       "      <th>Unnamed: 1</th>\n",
       "      <th>Unnamed: 2</th>\n",
       "      <th>Unnamed: 3</th>\n",
       "      <th>Unnamed: 4</th>\n",
       "      <th>1</th>\n",
       "      <th>2</th>\n",
       "      <th>3</th>\n",
       "      <th>4</th>\n",
       "      <th>5</th>\n",
       "      <th>...</th>\n",
       "      <th>126</th>\n",
       "      <th>127</th>\n",
       "      <th>128</th>\n",
       "      <th>129</th>\n",
       "      <th>130</th>\n",
       "      <th>131</th>\n",
       "      <th>132</th>\n",
       "      <th>133</th>\n",
       "      <th>134</th>\n",
       "      <th>135</th>\n",
       "    </tr>\n",
       "  </thead>\n",
       "  <tbody>\n",
       "    <tr>\n",
       "      <th>0</th>\n",
       "      <td>NaN</td>\n",
       "      <td>NaN</td>\n",
       "      <td>NaN</td>\n",
       "      <td>NaN</td>\n",
       "      <td>NaN</td>\n",
       "      <td>responsable</td>\n",
       "      <td>nombre</td>\n",
       "      <td>apellido</td>\n",
       "      <td>edad</td>\n",
       "      <td>sexo</td>\n",
       "      <td>...</td>\n",
       "      <td>policia</td>\n",
       "      <td>soldado</td>\n",
       "      <td>fauna</td>\n",
       "      <td>flora</td>\n",
       "      <td>niños</td>\n",
       "      <td>adolecentes</td>\n",
       "      <td>jovenes</td>\n",
       "      <td>adultos</td>\n",
       "      <td>adulto_mayor</td>\n",
       "      <td>NaN</td>\n",
       "    </tr>\n",
       "    <tr>\n",
       "      <th>1</th>\n",
       "      <td>NaN</td>\n",
       "      <td>NaN</td>\n",
       "      <td>NaN</td>\n",
       "      <td>NaN</td>\n",
       "      <td>NaN</td>\n",
       "      <td>n16FEB2017-57x</td>\n",
       "      <td>n16FEB2017-57x</td>\n",
       "      <td>n16FEB2017-57x</td>\n",
       "      <td>n16FEB2017-57x</td>\n",
       "      <td>n16FEB2017-57x</td>\n",
       "      <td>...</td>\n",
       "      <td>quienes</td>\n",
       "      <td>quienes</td>\n",
       "      <td>quienes</td>\n",
       "      <td>quienes</td>\n",
       "      <td>quienes</td>\n",
       "      <td>quienes</td>\n",
       "      <td>quienes</td>\n",
       "      <td>quienes</td>\n",
       "      <td>quienes</td>\n",
       "      <td>escenario</td>\n",
       "    </tr>\n",
       "    <tr>\n",
       "      <th>2</th>\n",
       "      <td>_indice_HORIZONTAL</td>\n",
       "      <td>NaN</td>\n",
       "      <td>NaN</td>\n",
       "      <td>NaN</td>\n",
       "      <td>NaN</td>\n",
       "      <td>1</td>\n",
       "      <td>2</td>\n",
       "      <td>3</td>\n",
       "      <td>4</td>\n",
       "      <td>5</td>\n",
       "      <td>...</td>\n",
       "      <td>69</td>\n",
       "      <td>70</td>\n",
       "      <td>71</td>\n",
       "      <td>72</td>\n",
       "      <td>73</td>\n",
       "      <td>74</td>\n",
       "      <td>75</td>\n",
       "      <td>76</td>\n",
       "      <td>77</td>\n",
       "      <td>78</td>\n",
       "    </tr>\n",
       "    <tr>\n",
       "      <th>3</th>\n",
       "      <td>NaN</td>\n",
       "      <td>NaN</td>\n",
       "      <td>NaN</td>\n",
       "      <td>NaN</td>\n",
       "      <td>NaN</td>\n",
       "      <td>Responsable:</td>\n",
       "      <td>Nombre:</td>\n",
       "      <td>Apellido:</td>\n",
       "      <td>Edad</td>\n",
       "      <td>Sexo</td>\n",
       "      <td>...</td>\n",
       "      <td>policia</td>\n",
       "      <td>soldado</td>\n",
       "      <td>fauna</td>\n",
       "      <td>flora</td>\n",
       "      <td>niños</td>\n",
       "      <td>adolecentes</td>\n",
       "      <td>jovenes</td>\n",
       "      <td>adultos</td>\n",
       "      <td>adulto_mayor</td>\n",
       "      <td>NaN</td>\n",
       "    </tr>\n",
       "    <tr>\n",
       "      <th>4</th>\n",
       "      <td>_orden</td>\n",
       "      <td>_index</td>\n",
       "      <td>_grupo</td>\n",
       "      <td>_index_MA</td>\n",
       "      <td>caso</td>\n",
       "      <td>NaN</td>\n",
       "      <td>NaN</td>\n",
       "      <td>NaN</td>\n",
       "      <td>NaN</td>\n",
       "      <td>NaN</td>\n",
       "      <td>...</td>\n",
       "      <td>NaN</td>\n",
       "      <td>NaN</td>\n",
       "      <td>NaN</td>\n",
       "      <td>NaN</td>\n",
       "      <td>NaN</td>\n",
       "      <td>NaN</td>\n",
       "      <td>NaN</td>\n",
       "      <td>NaN</td>\n",
       "      <td>NaN</td>\n",
       "      <td>NaN</td>\n",
       "    </tr>\n",
       "  </tbody>\n",
       "</table>\n",
       "<p>5 rows × 140 columns</p>\n",
       "</div>"
      ],
      "text/plain": [
       "           Unnamed: 0 Unnamed: 1 Unnamed: 2 Unnamed: 3 Unnamed: 4  \\\n",
       "0                 NaN        NaN        NaN        NaN        NaN   \n",
       "1                 NaN        NaN        NaN        NaN        NaN   \n",
       "2  _indice_HORIZONTAL        NaN        NaN        NaN        NaN   \n",
       "3                 NaN        NaN        NaN        NaN        NaN   \n",
       "4              _orden     _index     _grupo  _index_MA       caso   \n",
       "\n",
       "                1               2               3               4  \\\n",
       "0     responsable          nombre        apellido            edad   \n",
       "1  n16FEB2017-57x  n16FEB2017-57x  n16FEB2017-57x  n16FEB2017-57x   \n",
       "2               1               2               3               4   \n",
       "3    Responsable:         Nombre:       Apellido:            Edad   \n",
       "4             NaN             NaN             NaN             NaN   \n",
       "\n",
       "                5  ...      126      127      128      129      130  \\\n",
       "0            sexo  ...  policia  soldado    fauna    flora    niños   \n",
       "1  n16FEB2017-57x  ...  quienes  quienes  quienes  quienes  quienes   \n",
       "2               5  ...       69       70       71       72       73   \n",
       "3            Sexo  ...  policia  soldado    fauna    flora    niños   \n",
       "4             NaN  ...      NaN      NaN      NaN      NaN      NaN   \n",
       "\n",
       "           131      132      133           134        135  \n",
       "0  adolecentes  jovenes  adultos  adulto_mayor        NaN  \n",
       "1      quienes  quienes  quienes       quienes  escenario  \n",
       "2           74       75       76            77         78  \n",
       "3  adolecentes  jovenes  adultos  adulto_mayor        NaN  \n",
       "4          NaN      NaN      NaN           NaN        NaN  \n",
       "\n",
       "[5 rows x 140 columns]"
      ]
     },
     "execution_count": 42,
     "metadata": {},
     "output_type": "execute_result"
    }
   ],
   "source": [
    "dfSheet2.head()"
   ]
  },
  {
   "cell_type": "code",
   "execution_count": 43,
   "metadata": {},
   "outputs": [
    {
     "data": {
      "text/plain": [
       "10"
      ]
     },
     "execution_count": 43,
     "metadata": {},
     "output_type": "execute_result"
    }
   ],
   "source": [
    "dfSheet2.columns.get_loc(6)"
   ]
  },
  {
   "cell_type": "code",
   "execution_count": 44,
   "metadata": {
    "collapsed": true
   },
   "outputs": [],
   "source": [
    "dfSheet2.drop(dfSheet2.iloc[:, 0:10], inplace = True, axis = 1) "
   ]
  },
  {
   "cell_type": "code",
   "execution_count": 45,
   "metadata": {},
   "outputs": [
    {
     "data": {
      "text/plain": [
       "130"
      ]
     },
     "execution_count": 45,
     "metadata": {},
     "output_type": "execute_result"
    }
   ],
   "source": [
    "cols = dfSheet2.columns.tolist()\n",
    "len(cols)"
   ]
  },
  {
   "cell_type": "code",
   "execution_count": 46,
   "metadata": {
    "collapsed": true
   },
   "outputs": [],
   "source": [
    "dfSheet2.drop(dfSheet2.iloc[:, 1:131], inplace = True, axis = 1) "
   ]
  },
  {
   "cell_type": "code",
   "execution_count": 47,
   "metadata": {},
   "outputs": [
    {
     "data": {
      "text/html": [
       "<div>\n",
       "<style scoped>\n",
       "    .dataframe tbody tr th:only-of-type {\n",
       "        vertical-align: middle;\n",
       "    }\n",
       "\n",
       "    .dataframe tbody tr th {\n",
       "        vertical-align: top;\n",
       "    }\n",
       "\n",
       "    .dataframe thead th {\n",
       "        text-align: right;\n",
       "    }\n",
       "</style>\n",
       "<table border=\"1\" class=\"dataframe\">\n",
       "  <thead>\n",
       "    <tr style=\"text-align: right;\">\n",
       "      <th></th>\n",
       "      <th>6</th>\n",
       "    </tr>\n",
       "  </thead>\n",
       "  <tbody>\n",
       "    <tr>\n",
       "      <th>0</th>\n",
       "      <td>texto</td>\n",
       "    </tr>\n",
       "    <tr>\n",
       "      <th>1</th>\n",
       "      <td>n16FEB2017-57x</td>\n",
       "    </tr>\n",
       "    <tr>\n",
       "      <th>2</th>\n",
       "      <td>6</td>\n",
       "    </tr>\n",
       "    <tr>\n",
       "      <th>3</th>\n",
       "      <td>Texto</td>\n",
       "    </tr>\n",
       "    <tr>\n",
       "      <th>4</th>\n",
       "      <td>NaN</td>\n",
       "    </tr>\n",
       "    <tr>\n",
       "      <th>5</th>\n",
       "      <td>Para mi paz es poder compartir con los demás y...</td>\n",
       "    </tr>\n",
       "    <tr>\n",
       "      <th>6</th>\n",
       "      <td>la paz es una construcción social que se gesta...</td>\n",
       "    </tr>\n",
       "    <tr>\n",
       "      <th>7</th>\n",
       "      <td>la paz es la ausencia de factores de generador...</td>\n",
       "    </tr>\n",
       "    <tr>\n",
       "      <th>8</th>\n",
       "      <td>Si aportamos nuestro grano de arena empezando ...</td>\n",
       "    </tr>\n",
       "    <tr>\n",
       "      <th>9</th>\n",
       "      <td>la paz es pasar rato con mi familia</td>\n",
       "    </tr>\n",
       "  </tbody>\n",
       "</table>\n",
       "</div>"
      ],
      "text/plain": [
       "                                                   6\n",
       "0                                              texto\n",
       "1                                     n16FEB2017-57x\n",
       "2                                                  6\n",
       "3                                              Texto\n",
       "4                                                NaN\n",
       "5  Para mi paz es poder compartir con los demás y...\n",
       "6  la paz es una construcción social que se gesta...\n",
       "7  la paz es la ausencia de factores de generador...\n",
       "8  Si aportamos nuestro grano de arena empezando ...\n",
       "9                la paz es pasar rato con mi familia"
      ]
     },
     "execution_count": 47,
     "metadata": {},
     "output_type": "execute_result"
    }
   ],
   "source": [
    "dfSheet2.head(10)"
   ]
  },
  {
   "cell_type": "code",
   "execution_count": 48,
   "metadata": {
    "collapsed": true
   },
   "outputs": [],
   "source": [
    "dfSheet2.drop([0,1,2,3,4], inplace= True)"
   ]
  },
  {
   "cell_type": "code",
   "execution_count": 49,
   "metadata": {},
   "outputs": [
    {
     "data": {
      "text/html": [
       "<div>\n",
       "<style scoped>\n",
       "    .dataframe tbody tr th:only-of-type {\n",
       "        vertical-align: middle;\n",
       "    }\n",
       "\n",
       "    .dataframe tbody tr th {\n",
       "        vertical-align: top;\n",
       "    }\n",
       "\n",
       "    .dataframe thead th {\n",
       "        text-align: right;\n",
       "    }\n",
       "</style>\n",
       "<table border=\"1\" class=\"dataframe\">\n",
       "  <thead>\n",
       "    <tr style=\"text-align: right;\">\n",
       "      <th></th>\n",
       "      <th>6</th>\n",
       "    </tr>\n",
       "  </thead>\n",
       "  <tbody>\n",
       "    <tr>\n",
       "      <th>5</th>\n",
       "      <td>Para mi paz es poder compartir con los demás y...</td>\n",
       "    </tr>\n",
       "    <tr>\n",
       "      <th>6</th>\n",
       "      <td>la paz es una construcción social que se gesta...</td>\n",
       "    </tr>\n",
       "    <tr>\n",
       "      <th>7</th>\n",
       "      <td>la paz es la ausencia de factores de generador...</td>\n",
       "    </tr>\n",
       "    <tr>\n",
       "      <th>8</th>\n",
       "      <td>Si aportamos nuestro grano de arena empezando ...</td>\n",
       "    </tr>\n",
       "    <tr>\n",
       "      <th>9</th>\n",
       "      <td>la paz es pasar rato con mi familia</td>\n",
       "    </tr>\n",
       "  </tbody>\n",
       "</table>\n",
       "</div>"
      ],
      "text/plain": [
       "                                                   6\n",
       "5  Para mi paz es poder compartir con los demás y...\n",
       "6  la paz es una construcción social que se gesta...\n",
       "7  la paz es la ausencia de factores de generador...\n",
       "8  Si aportamos nuestro grano de arena empezando ...\n",
       "9                la paz es pasar rato con mi familia"
      ]
     },
     "execution_count": 49,
     "metadata": {},
     "output_type": "execute_result"
    }
   ],
   "source": [
    "dfSheet2.head()"
   ]
  },
  {
   "cell_type": "code",
   "execution_count": 50,
   "metadata": {
    "collapsed": true
   },
   "outputs": [],
   "source": [
    "dfSheet3 = pd.read_excel(dfNarrativasMayo, sheet_name=\"registros_ma-n01AGO2018\")"
   ]
  },
  {
   "cell_type": "code",
   "execution_count": 51,
   "metadata": {},
   "outputs": [
    {
     "data": {
      "text/plain": [
       "36"
      ]
     },
     "execution_count": 51,
     "metadata": {},
     "output_type": "execute_result"
    }
   ],
   "source": [
    "dfSheet3.columns.get_loc(32)"
   ]
  },
  {
   "cell_type": "code",
   "execution_count": 52,
   "metadata": {
    "collapsed": true
   },
   "outputs": [],
   "source": [
    "dfSheet3.drop(dfSheet3.iloc[:, 0:36], inplace = True, axis = 1) "
   ]
  },
  {
   "cell_type": "code",
   "execution_count": 53,
   "metadata": {},
   "outputs": [
    {
     "data": {
      "text/plain": [
       "165"
      ]
     },
     "execution_count": 53,
     "metadata": {},
     "output_type": "execute_result"
    }
   ],
   "source": [
    "cols = dfSheet3.columns.tolist()\n",
    "len(cols)"
   ]
  },
  {
   "cell_type": "code",
   "execution_count": 54,
   "metadata": {
    "collapsed": true
   },
   "outputs": [],
   "source": [
    "dfSheet3.drop(dfSheet3.iloc[:, 1:166], inplace = True, axis = 1) "
   ]
  },
  {
   "cell_type": "code",
   "execution_count": 55,
   "metadata": {},
   "outputs": [
    {
     "data": {
      "text/html": [
       "<div>\n",
       "<style scoped>\n",
       "    .dataframe tbody tr th:only-of-type {\n",
       "        vertical-align: middle;\n",
       "    }\n",
       "\n",
       "    .dataframe tbody tr th {\n",
       "        vertical-align: top;\n",
       "    }\n",
       "\n",
       "    .dataframe thead th {\n",
       "        text-align: right;\n",
       "    }\n",
       "</style>\n",
       "<table border=\"1\" class=\"dataframe\">\n",
       "  <thead>\n",
       "    <tr style=\"text-align: right;\">\n",
       "      <th></th>\n",
       "      <th>32</th>\n",
       "    </tr>\n",
       "  </thead>\n",
       "  <tbody>\n",
       "    <tr>\n",
       "      <th>0</th>\n",
       "      <td>narrativa_text</td>\n",
       "    </tr>\n",
       "    <tr>\n",
       "      <th>1</th>\n",
       "      <td>n01AGO2018-118x</td>\n",
       "    </tr>\n",
       "    <tr>\n",
       "      <th>2</th>\n",
       "      <td>32</td>\n",
       "    </tr>\n",
       "    <tr>\n",
       "      <th>3</th>\n",
       "      <td>narrativa_text</td>\n",
       "    </tr>\n",
       "    <tr>\n",
       "      <th>4</th>\n",
       "      <td>NaN</td>\n",
       "    </tr>\n",
       "    <tr>\n",
       "      <th>5</th>\n",
       "      <td>Para mi paz es cuidar la naturaleza,  ser cons...</td>\n",
       "    </tr>\n",
       "    <tr>\n",
       "      <th>6</th>\n",
       "      <td>La paz es tener principios morales y espiritua...</td>\n",
       "    </tr>\n",
       "    <tr>\n",
       "      <th>7</th>\n",
       "      <td>Paz es saber convivir en comunidad respetando ...</td>\n",
       "    </tr>\n",
       "    <tr>\n",
       "      <th>8</th>\n",
       "      <td>La paz para mi es que mi hijo y los demás niño...</td>\n",
       "    </tr>\n",
       "    <tr>\n",
       "      <th>9</th>\n",
       "      <td>La paz es aprender a convivir y respetar a las...</td>\n",
       "    </tr>\n",
       "  </tbody>\n",
       "</table>\n",
       "</div>"
      ],
      "text/plain": [
       "                                                  32\n",
       "0                                     narrativa_text\n",
       "1                                    n01AGO2018-118x\n",
       "2                                                 32\n",
       "3                                     narrativa_text\n",
       "4                                                NaN\n",
       "5  Para mi paz es cuidar la naturaleza,  ser cons...\n",
       "6  La paz es tener principios morales y espiritua...\n",
       "7  Paz es saber convivir en comunidad respetando ...\n",
       "8  La paz para mi es que mi hijo y los demás niño...\n",
       "9  La paz es aprender a convivir y respetar a las..."
      ]
     },
     "execution_count": 55,
     "metadata": {},
     "output_type": "execute_result"
    }
   ],
   "source": [
    "dfSheet3.head(10)"
   ]
  },
  {
   "cell_type": "code",
   "execution_count": 56,
   "metadata": {
    "collapsed": true
   },
   "outputs": [],
   "source": [
    "dfSheet3.drop([0,1,2,3,4], inplace= True)"
   ]
  },
  {
   "cell_type": "code",
   "execution_count": 57,
   "metadata": {},
   "outputs": [
    {
     "data": {
      "text/html": [
       "<div>\n",
       "<style scoped>\n",
       "    .dataframe tbody tr th:only-of-type {\n",
       "        vertical-align: middle;\n",
       "    }\n",
       "\n",
       "    .dataframe tbody tr th {\n",
       "        vertical-align: top;\n",
       "    }\n",
       "\n",
       "    .dataframe thead th {\n",
       "        text-align: right;\n",
       "    }\n",
       "</style>\n",
       "<table border=\"1\" class=\"dataframe\">\n",
       "  <thead>\n",
       "    <tr style=\"text-align: right;\">\n",
       "      <th></th>\n",
       "      <th>32</th>\n",
       "    </tr>\n",
       "  </thead>\n",
       "  <tbody>\n",
       "    <tr>\n",
       "      <th>5</th>\n",
       "      <td>Para mi paz es cuidar la naturaleza,  ser cons...</td>\n",
       "    </tr>\n",
       "    <tr>\n",
       "      <th>6</th>\n",
       "      <td>La paz es tener principios morales y espiritua...</td>\n",
       "    </tr>\n",
       "    <tr>\n",
       "      <th>7</th>\n",
       "      <td>Paz es saber convivir en comunidad respetando ...</td>\n",
       "    </tr>\n",
       "    <tr>\n",
       "      <th>8</th>\n",
       "      <td>La paz para mi es que mi hijo y los demás niño...</td>\n",
       "    </tr>\n",
       "    <tr>\n",
       "      <th>9</th>\n",
       "      <td>La paz es aprender a convivir y respetar a las...</td>\n",
       "    </tr>\n",
       "  </tbody>\n",
       "</table>\n",
       "</div>"
      ],
      "text/plain": [
       "                                                  32\n",
       "5  Para mi paz es cuidar la naturaleza,  ser cons...\n",
       "6  La paz es tener principios morales y espiritua...\n",
       "7  Paz es saber convivir en comunidad respetando ...\n",
       "8  La paz para mi es que mi hijo y los demás niño...\n",
       "9  La paz es aprender a convivir y respetar a las..."
      ]
     },
     "execution_count": 57,
     "metadata": {},
     "output_type": "execute_result"
    }
   ],
   "source": [
    "dfSheet3.head()"
   ]
  },
  {
   "cell_type": "code",
   "execution_count": 58,
   "metadata": {
    "collapsed": true
   },
   "outputs": [],
   "source": [
    "dfSheet4 = pd.read_excel(dfNarrativasMayo, sheet_name=\"n15FEB2017-341x59x\")"
   ]
  },
  {
   "cell_type": "code",
   "execution_count": 59,
   "metadata": {},
   "outputs": [
    {
     "data": {
      "text/plain": [
       "55"
      ]
     },
     "execution_count": 59,
     "metadata": {},
     "output_type": "execute_result"
    }
   ],
   "source": [
    "dfSheet4.columns.get_loc(55)"
   ]
  },
  {
   "cell_type": "code",
   "execution_count": 60,
   "metadata": {
    "collapsed": true
   },
   "outputs": [],
   "source": [
    "dfSheet4.drop(dfSheet4.iloc[:, 0:55], inplace = True, axis = 1) "
   ]
  },
  {
   "cell_type": "code",
   "execution_count": 61,
   "metadata": {},
   "outputs": [
    {
     "data": {
      "text/plain": [
       "5"
      ]
     },
     "execution_count": 61,
     "metadata": {},
     "output_type": "execute_result"
    }
   ],
   "source": [
    "cols = dfSheet4.columns.tolist()\n",
    "len(cols)"
   ]
  },
  {
   "cell_type": "code",
   "execution_count": 62,
   "metadata": {
    "collapsed": true
   },
   "outputs": [],
   "source": [
    "dfSheet4.drop(dfSheet4.iloc[:, 1:6], inplace = True, axis = 1) "
   ]
  },
  {
   "cell_type": "code",
   "execution_count": 63,
   "metadata": {},
   "outputs": [
    {
     "data": {
      "text/html": [
       "<div>\n",
       "<style scoped>\n",
       "    .dataframe tbody tr th:only-of-type {\n",
       "        vertical-align: middle;\n",
       "    }\n",
       "\n",
       "    .dataframe tbody tr th {\n",
       "        vertical-align: top;\n",
       "    }\n",
       "\n",
       "    .dataframe thead th {\n",
       "        text-align: right;\n",
       "    }\n",
       "</style>\n",
       "<table border=\"1\" class=\"dataframe\">\n",
       "  <thead>\n",
       "    <tr style=\"text-align: right;\">\n",
       "      <th></th>\n",
       "      <th>55</th>\n",
       "    </tr>\n",
       "  </thead>\n",
       "  <tbody>\n",
       "    <tr>\n",
       "      <th>0</th>\n",
       "      <td>texto</td>\n",
       "    </tr>\n",
       "    <tr>\n",
       "      <th>1</th>\n",
       "      <td>Texto</td>\n",
       "    </tr>\n",
       "    <tr>\n",
       "      <th>2</th>\n",
       "      <td>convivencia pacifica con los demás y amor</td>\n",
       "    </tr>\n",
       "    <tr>\n",
       "      <th>3</th>\n",
       "      <td>No aparece</td>\n",
       "    </tr>\n",
       "    <tr>\n",
       "      <th>4</th>\n",
       "      <td>No aparece cuadro de datos</td>\n",
       "    </tr>\n",
       "    <tr>\n",
       "      <th>5</th>\n",
       "      <td>La Paz para mi es tener claridad sobre las cos...</td>\n",
       "    </tr>\n",
       "    <tr>\n",
       "      <th>6</th>\n",
       "      <td>Para mi la Paz representa tranquilidad</td>\n",
       "    </tr>\n",
       "    <tr>\n",
       "      <th>7</th>\n",
       "      <td>la paz para mi creo que es vivir sin violencia...</td>\n",
       "    </tr>\n",
       "    <tr>\n",
       "      <th>8</th>\n",
       "      <td>paz es libertad es de lo que nos rodea  los an...</td>\n",
       "    </tr>\n",
       "    <tr>\n",
       "      <th>9</th>\n",
       "      <td>Paz para mi es tener buena educación  para pod...</td>\n",
       "    </tr>\n",
       "  </tbody>\n",
       "</table>\n",
       "</div>"
      ],
      "text/plain": [
       "                                                  55\n",
       "0                                              texto\n",
       "1                                              Texto\n",
       "2          convivencia pacifica con los demás y amor\n",
       "3                                         No aparece\n",
       "4                         No aparece cuadro de datos\n",
       "5  La Paz para mi es tener claridad sobre las cos...\n",
       "6             Para mi la Paz representa tranquilidad\n",
       "7  la paz para mi creo que es vivir sin violencia...\n",
       "8  paz es libertad es de lo que nos rodea  los an...\n",
       "9  Paz para mi es tener buena educación  para pod..."
      ]
     },
     "execution_count": 63,
     "metadata": {},
     "output_type": "execute_result"
    }
   ],
   "source": [
    "dfSheet4.head(10)"
   ]
  },
  {
   "cell_type": "code",
   "execution_count": 64,
   "metadata": {
    "collapsed": true
   },
   "outputs": [],
   "source": [
    "dfSheet4.drop([0,1], inplace= True)"
   ]
  },
  {
   "cell_type": "code",
   "execution_count": 65,
   "metadata": {},
   "outputs": [
    {
     "data": {
      "text/html": [
       "<div>\n",
       "<style scoped>\n",
       "    .dataframe tbody tr th:only-of-type {\n",
       "        vertical-align: middle;\n",
       "    }\n",
       "\n",
       "    .dataframe tbody tr th {\n",
       "        vertical-align: top;\n",
       "    }\n",
       "\n",
       "    .dataframe thead th {\n",
       "        text-align: right;\n",
       "    }\n",
       "</style>\n",
       "<table border=\"1\" class=\"dataframe\">\n",
       "  <thead>\n",
       "    <tr style=\"text-align: right;\">\n",
       "      <th></th>\n",
       "      <th>55</th>\n",
       "    </tr>\n",
       "  </thead>\n",
       "  <tbody>\n",
       "    <tr>\n",
       "      <th>2</th>\n",
       "      <td>convivencia pacifica con los demás y amor</td>\n",
       "    </tr>\n",
       "    <tr>\n",
       "      <th>3</th>\n",
       "      <td>No aparece</td>\n",
       "    </tr>\n",
       "    <tr>\n",
       "      <th>4</th>\n",
       "      <td>No aparece cuadro de datos</td>\n",
       "    </tr>\n",
       "    <tr>\n",
       "      <th>5</th>\n",
       "      <td>La Paz para mi es tener claridad sobre las cos...</td>\n",
       "    </tr>\n",
       "    <tr>\n",
       "      <th>6</th>\n",
       "      <td>Para mi la Paz representa tranquilidad</td>\n",
       "    </tr>\n",
       "  </tbody>\n",
       "</table>\n",
       "</div>"
      ],
      "text/plain": [
       "                                                  55\n",
       "2          convivencia pacifica con los demás y amor\n",
       "3                                         No aparece\n",
       "4                         No aparece cuadro de datos\n",
       "5  La Paz para mi es tener claridad sobre las cos...\n",
       "6             Para mi la Paz representa tranquilidad"
      ]
     },
     "execution_count": 65,
     "metadata": {},
     "output_type": "execute_result"
    }
   ],
   "source": [
    "dfSheet4.head()"
   ]
  },
  {
   "cell_type": "code",
   "execution_count": 66,
   "metadata": {
    "collapsed": true
   },
   "outputs": [],
   "source": [
    "dfSheet5 = pd.read_excel(dfNarrativasMayo, sheet_name=\"n16FEB2017-345x57x\")"
   ]
  },
  {
   "cell_type": "code",
   "execution_count": 67,
   "metadata": {},
   "outputs": [
    {
     "data": {
      "text/plain": [
       "6"
      ]
     },
     "execution_count": 67,
     "metadata": {},
     "output_type": "execute_result"
    }
   ],
   "source": [
    "dfSheet5.columns.get_loc(6)"
   ]
  },
  {
   "cell_type": "code",
   "execution_count": 68,
   "metadata": {
    "collapsed": true
   },
   "outputs": [],
   "source": [
    "dfSheet5.drop(dfSheet5.iloc[:, 0:6], inplace = True, axis = 1) "
   ]
  },
  {
   "cell_type": "code",
   "execution_count": 69,
   "metadata": {},
   "outputs": [
    {
     "data": {
      "text/plain": [
       "52"
      ]
     },
     "execution_count": 69,
     "metadata": {},
     "output_type": "execute_result"
    }
   ],
   "source": [
    "cols = dfSheet5.columns.tolist()\n",
    "len(cols)"
   ]
  },
  {
   "cell_type": "code",
   "execution_count": 70,
   "metadata": {
    "collapsed": true
   },
   "outputs": [],
   "source": [
    "dfSheet5.drop(dfSheet5.iloc[:, 1:53], inplace = True, axis = 1) "
   ]
  },
  {
   "cell_type": "code",
   "execution_count": 71,
   "metadata": {},
   "outputs": [
    {
     "data": {
      "text/html": [
       "<div>\n",
       "<style scoped>\n",
       "    .dataframe tbody tr th:only-of-type {\n",
       "        vertical-align: middle;\n",
       "    }\n",
       "\n",
       "    .dataframe tbody tr th {\n",
       "        vertical-align: top;\n",
       "    }\n",
       "\n",
       "    .dataframe thead th {\n",
       "        text-align: right;\n",
       "    }\n",
       "</style>\n",
       "<table border=\"1\" class=\"dataframe\">\n",
       "  <thead>\n",
       "    <tr style=\"text-align: right;\">\n",
       "      <th></th>\n",
       "      <th>6</th>\n",
       "    </tr>\n",
       "  </thead>\n",
       "  <tbody>\n",
       "    <tr>\n",
       "      <th>0</th>\n",
       "      <td>texto</td>\n",
       "    </tr>\n",
       "    <tr>\n",
       "      <th>1</th>\n",
       "      <td>Texto</td>\n",
       "    </tr>\n",
       "    <tr>\n",
       "      <th>2</th>\n",
       "      <td>donde hay paz no hay violencia</td>\n",
       "    </tr>\n",
       "    <tr>\n",
       "      <th>3</th>\n",
       "      <td>para mi la paz comienza en uno mismo es cuando...</td>\n",
       "    </tr>\n",
       "    <tr>\n",
       "      <th>4</th>\n",
       "      <td>Para mi paz es poder compartir con los demás y...</td>\n",
       "    </tr>\n",
       "    <tr>\n",
       "      <th>5</th>\n",
       "      <td>la paz es una construcción social que se gesta...</td>\n",
       "    </tr>\n",
       "    <tr>\n",
       "      <th>6</th>\n",
       "      <td>la paz es la ausencia de factores de generador...</td>\n",
       "    </tr>\n",
       "    <tr>\n",
       "      <th>7</th>\n",
       "      <td>la naturaleza por que me despeja lamente me ol...</td>\n",
       "    </tr>\n",
       "    <tr>\n",
       "      <th>8</th>\n",
       "      <td>Si aportamos nuestro grano de arena empezando ...</td>\n",
       "    </tr>\n",
       "    <tr>\n",
       "      <th>9</th>\n",
       "      <td>Es ayudar a mis hermanos en lo que mas se pued...</td>\n",
       "    </tr>\n",
       "  </tbody>\n",
       "</table>\n",
       "</div>"
      ],
      "text/plain": [
       "                                                   6\n",
       "0                                              texto\n",
       "1                                              Texto\n",
       "2                     donde hay paz no hay violencia\n",
       "3  para mi la paz comienza en uno mismo es cuando...\n",
       "4  Para mi paz es poder compartir con los demás y...\n",
       "5  la paz es una construcción social que se gesta...\n",
       "6  la paz es la ausencia de factores de generador...\n",
       "7  la naturaleza por que me despeja lamente me ol...\n",
       "8  Si aportamos nuestro grano de arena empezando ...\n",
       "9  Es ayudar a mis hermanos en lo que mas se pued..."
      ]
     },
     "execution_count": 71,
     "metadata": {},
     "output_type": "execute_result"
    }
   ],
   "source": [
    "dfSheet5.head(10)"
   ]
  },
  {
   "cell_type": "code",
   "execution_count": 72,
   "metadata": {
    "collapsed": true
   },
   "outputs": [],
   "source": [
    "dfSheet5.drop([0,1], inplace= True)"
   ]
  },
  {
   "cell_type": "code",
   "execution_count": 73,
   "metadata": {},
   "outputs": [
    {
     "data": {
      "text/html": [
       "<div>\n",
       "<style scoped>\n",
       "    .dataframe tbody tr th:only-of-type {\n",
       "        vertical-align: middle;\n",
       "    }\n",
       "\n",
       "    .dataframe tbody tr th {\n",
       "        vertical-align: top;\n",
       "    }\n",
       "\n",
       "    .dataframe thead th {\n",
       "        text-align: right;\n",
       "    }\n",
       "</style>\n",
       "<table border=\"1\" class=\"dataframe\">\n",
       "  <thead>\n",
       "    <tr style=\"text-align: right;\">\n",
       "      <th></th>\n",
       "      <th>6</th>\n",
       "    </tr>\n",
       "  </thead>\n",
       "  <tbody>\n",
       "    <tr>\n",
       "      <th>2</th>\n",
       "      <td>donde hay paz no hay violencia</td>\n",
       "    </tr>\n",
       "    <tr>\n",
       "      <th>3</th>\n",
       "      <td>para mi la paz comienza en uno mismo es cuando...</td>\n",
       "    </tr>\n",
       "    <tr>\n",
       "      <th>4</th>\n",
       "      <td>Para mi paz es poder compartir con los demás y...</td>\n",
       "    </tr>\n",
       "    <tr>\n",
       "      <th>5</th>\n",
       "      <td>la paz es una construcción social que se gesta...</td>\n",
       "    </tr>\n",
       "    <tr>\n",
       "      <th>6</th>\n",
       "      <td>la paz es la ausencia de factores de generador...</td>\n",
       "    </tr>\n",
       "  </tbody>\n",
       "</table>\n",
       "</div>"
      ],
      "text/plain": [
       "                                                   6\n",
       "2                     donde hay paz no hay violencia\n",
       "3  para mi la paz comienza en uno mismo es cuando...\n",
       "4  Para mi paz es poder compartir con los demás y...\n",
       "5  la paz es una construcción social que se gesta...\n",
       "6  la paz es la ausencia de factores de generador..."
      ]
     },
     "execution_count": 73,
     "metadata": {},
     "output_type": "execute_result"
    }
   ],
   "source": [
    "dfSheet5.head()"
   ]
  },
  {
   "cell_type": "code",
   "execution_count": 74,
   "metadata": {
    "collapsed": true
   },
   "outputs": [],
   "source": [
    "dfSheet6 = pd.read_excel(dfNarrativasMayo, sheet_name=\"n01AGO2018-483x118x\")"
   ]
  },
  {
   "cell_type": "code",
   "execution_count": 75,
   "metadata": {},
   "outputs": [
    {
     "data": {
      "text/plain": [
       "32"
      ]
     },
     "execution_count": 75,
     "metadata": {},
     "output_type": "execute_result"
    }
   ],
   "source": [
    "dfSheet6.columns.get_loc(32)"
   ]
  },
  {
   "cell_type": "code",
   "execution_count": 76,
   "metadata": {
    "collapsed": true
   },
   "outputs": [],
   "source": [
    "dfSheet6.drop(dfSheet6.iloc[:, 0:32], inplace = True, axis = 1) "
   ]
  },
  {
   "cell_type": "code",
   "execution_count": 77,
   "metadata": {},
   "outputs": [
    {
     "data": {
      "text/plain": [
       "87"
      ]
     },
     "execution_count": 77,
     "metadata": {},
     "output_type": "execute_result"
    }
   ],
   "source": [
    "cols = dfSheet6.columns.tolist()\n",
    "len(cols)"
   ]
  },
  {
   "cell_type": "code",
   "execution_count": 78,
   "metadata": {
    "collapsed": true
   },
   "outputs": [],
   "source": [
    "dfSheet6.drop(dfSheet6.iloc[:, 1:87], inplace = True, axis = 1) "
   ]
  },
  {
   "cell_type": "code",
   "execution_count": 79,
   "metadata": {},
   "outputs": [
    {
     "data": {
      "text/html": [
       "<div>\n",
       "<style scoped>\n",
       "    .dataframe tbody tr th:only-of-type {\n",
       "        vertical-align: middle;\n",
       "    }\n",
       "\n",
       "    .dataframe tbody tr th {\n",
       "        vertical-align: top;\n",
       "    }\n",
       "\n",
       "    .dataframe thead th {\n",
       "        text-align: right;\n",
       "    }\n",
       "</style>\n",
       "<table border=\"1\" class=\"dataframe\">\n",
       "  <thead>\n",
       "    <tr style=\"text-align: right;\">\n",
       "      <th></th>\n",
       "      <th>32</th>\n",
       "    </tr>\n",
       "  </thead>\n",
       "  <tbody>\n",
       "    <tr>\n",
       "      <th>0</th>\n",
       "      <td>narrativa_text</td>\n",
       "    </tr>\n",
       "    <tr>\n",
       "      <th>1</th>\n",
       "      <td>narrativa_text</td>\n",
       "    </tr>\n",
       "    <tr>\n",
       "      <th>2</th>\n",
       "      <td>Para mi paz es cuidar la naturaleza,  ser cons...</td>\n",
       "    </tr>\n",
       "    <tr>\n",
       "      <th>3</th>\n",
       "      <td>La paz es tener principios morales y espiritua...</td>\n",
       "    </tr>\n",
       "    <tr>\n",
       "      <th>4</th>\n",
       "      <td>Paz es saber convivir en comunidad respetando ...</td>\n",
       "    </tr>\n",
       "    <tr>\n",
       "      <th>5</th>\n",
       "      <td>Para mi,  paz es cuidar a la naturaleza,  ser ...</td>\n",
       "    </tr>\n",
       "    <tr>\n",
       "      <th>6</th>\n",
       "      <td>La paz para mi es que mi hijo y los demás niño...</td>\n",
       "    </tr>\n",
       "    <tr>\n",
       "      <th>7</th>\n",
       "      <td>La paz es aprender a convivir y respetar a las...</td>\n",
       "    </tr>\n",
       "    <tr>\n",
       "      <th>8</th>\n",
       "      <td>Es un símbolo que nosotros hemos adquirido com...</td>\n",
       "    </tr>\n",
       "    <tr>\n",
       "      <th>9</th>\n",
       "      <td>Paz con los vecinos  del barrio y la casa para...</td>\n",
       "    </tr>\n",
       "  </tbody>\n",
       "</table>\n",
       "</div>"
      ],
      "text/plain": [
       "                                                  32\n",
       "0                                     narrativa_text\n",
       "1                                     narrativa_text\n",
       "2  Para mi paz es cuidar la naturaleza,  ser cons...\n",
       "3  La paz es tener principios morales y espiritua...\n",
       "4  Paz es saber convivir en comunidad respetando ...\n",
       "5  Para mi,  paz es cuidar a la naturaleza,  ser ...\n",
       "6  La paz para mi es que mi hijo y los demás niño...\n",
       "7  La paz es aprender a convivir y respetar a las...\n",
       "8  Es un símbolo que nosotros hemos adquirido com...\n",
       "9  Paz con los vecinos  del barrio y la casa para..."
      ]
     },
     "execution_count": 79,
     "metadata": {},
     "output_type": "execute_result"
    }
   ],
   "source": [
    "dfSheet6.head(10)"
   ]
  },
  {
   "cell_type": "code",
   "execution_count": 80,
   "metadata": {
    "collapsed": true
   },
   "outputs": [],
   "source": [
    "dfSheet6.drop([0,1], inplace= True)"
   ]
  },
  {
   "cell_type": "code",
   "execution_count": 81,
   "metadata": {},
   "outputs": [
    {
     "data": {
      "text/html": [
       "<div>\n",
       "<style scoped>\n",
       "    .dataframe tbody tr th:only-of-type {\n",
       "        vertical-align: middle;\n",
       "    }\n",
       "\n",
       "    .dataframe tbody tr th {\n",
       "        vertical-align: top;\n",
       "    }\n",
       "\n",
       "    .dataframe thead th {\n",
       "        text-align: right;\n",
       "    }\n",
       "</style>\n",
       "<table border=\"1\" class=\"dataframe\">\n",
       "  <thead>\n",
       "    <tr style=\"text-align: right;\">\n",
       "      <th></th>\n",
       "      <th>32</th>\n",
       "    </tr>\n",
       "  </thead>\n",
       "  <tbody>\n",
       "    <tr>\n",
       "      <th>2</th>\n",
       "      <td>Para mi paz es cuidar la naturaleza,  ser cons...</td>\n",
       "    </tr>\n",
       "    <tr>\n",
       "      <th>3</th>\n",
       "      <td>La paz es tener principios morales y espiritua...</td>\n",
       "    </tr>\n",
       "    <tr>\n",
       "      <th>4</th>\n",
       "      <td>Paz es saber convivir en comunidad respetando ...</td>\n",
       "    </tr>\n",
       "    <tr>\n",
       "      <th>5</th>\n",
       "      <td>Para mi,  paz es cuidar a la naturaleza,  ser ...</td>\n",
       "    </tr>\n",
       "    <tr>\n",
       "      <th>6</th>\n",
       "      <td>La paz para mi es que mi hijo y los demás niño...</td>\n",
       "    </tr>\n",
       "  </tbody>\n",
       "</table>\n",
       "</div>"
      ],
      "text/plain": [
       "                                                  32\n",
       "2  Para mi paz es cuidar la naturaleza,  ser cons...\n",
       "3  La paz es tener principios morales y espiritua...\n",
       "4  Paz es saber convivir en comunidad respetando ...\n",
       "5  Para mi,  paz es cuidar a la naturaleza,  ser ...\n",
       "6  La paz para mi es que mi hijo y los demás niño..."
      ]
     },
     "execution_count": 81,
     "metadata": {},
     "output_type": "execute_result"
    }
   ],
   "source": [
    "dfSheet6.head()"
   ]
  },
  {
   "cell_type": "markdown",
   "metadata": {},
   "source": [
    "## dfEncuestaSPCC"
   ]
  },
  {
   "cell_type": "code",
   "execution_count": 82,
   "metadata": {},
   "outputs": [
    {
     "data": {
      "text/plain": [
       "Index(['Mencione tres (3x) “Indicadores de CONSTRUCCIÓN DE PAZ”',\n",
       "       'Seleccione las tres palabras/conceptos/expresiones más PODEROSAS para definir Paz',\n",
       "       'Escriba una frase corta en la que exprese su significado de la Paz:'],\n",
       "      dtype='object')"
      ]
     },
     "execution_count": 82,
     "metadata": {},
     "output_type": "execute_result"
    }
   ],
   "source": [
    "dfEncuestaSPCC.columns"
   ]
  },
  {
   "cell_type": "code",
   "execution_count": 83,
   "metadata": {},
   "outputs": [
    {
     "data": {
      "text/plain": [
       "Index(['Mencione tres (3x) “Indicadores de CONSTRUCCIÓN DE PAZ”',\n",
       "       'Seleccione las tres palabras/conceptos/expresiones más PODEROSAS para definir Paz',\n",
       "       'Escriba una frase corta en la que exprese su significado de la Paz:',\n",
       "       'Narrativa'],\n",
       "      dtype='object')"
      ]
     },
     "execution_count": 83,
     "metadata": {},
     "output_type": "execute_result"
    }
   ],
   "source": [
    "dfEncuestaSPCC[\"Narrativa\"] = dfEncuestaSPCC['Mencione tres (3x) “Indicadores de CONSTRUCCIÓN DE PAZ”'] +\" \"+ dfEncuestaSPCC['Seleccione las tres palabras/conceptos/expresiones más PODEROSAS para definir Paz'] +\" \"+ dfEncuestaSPCC['Escriba una frase corta en la que exprese su significado de la Paz:']\n",
    "dfEncuestaSPCC.columns"
   ]
  },
  {
   "cell_type": "code",
   "execution_count": 84,
   "metadata": {},
   "outputs": [
    {
     "data": {
      "text/html": [
       "<div>\n",
       "<style scoped>\n",
       "    .dataframe tbody tr th:only-of-type {\n",
       "        vertical-align: middle;\n",
       "    }\n",
       "\n",
       "    .dataframe tbody tr th {\n",
       "        vertical-align: top;\n",
       "    }\n",
       "\n",
       "    .dataframe thead th {\n",
       "        text-align: right;\n",
       "    }\n",
       "</style>\n",
       "<table border=\"1\" class=\"dataframe\">\n",
       "  <thead>\n",
       "    <tr style=\"text-align: right;\">\n",
       "      <th></th>\n",
       "      <th>Narrativa</th>\n",
       "    </tr>\n",
       "  </thead>\n",
       "  <tbody>\n",
       "    <tr>\n",
       "      <th>0</th>\n",
       "      <td>Tranquilidad, Convivencia, Casa, Educación, Co...</td>\n",
       "    </tr>\n",
       "    <tr>\n",
       "      <th>1</th>\n",
       "      <td>Tiempo en horas de día de semana y de fin de s...</td>\n",
       "    </tr>\n",
       "    <tr>\n",
       "      <th>2</th>\n",
       "      <td>tranquilidad, familia, empleabilidad Toleranci...</td>\n",
       "    </tr>\n",
       "    <tr>\n",
       "      <th>3</th>\n",
       "      <td>Acción sin daño, integración comunitaria, resp...</td>\n",
       "    </tr>\n",
       "    <tr>\n",
       "      <th>4</th>\n",
       "      <td>Procesos formativos y de multiplicación. Numer...</td>\n",
       "    </tr>\n",
       "  </tbody>\n",
       "</table>\n",
       "</div>"
      ],
      "text/plain": [
       "                                           Narrativa\n",
       "0  Tranquilidad, Convivencia, Casa, Educación, Co...\n",
       "1  Tiempo en horas de día de semana y de fin de s...\n",
       "2  tranquilidad, familia, empleabilidad Toleranci...\n",
       "3  Acción sin daño, integración comunitaria, resp...\n",
       "4  Procesos formativos y de multiplicación. Numer..."
      ]
     },
     "execution_count": 84,
     "metadata": {},
     "output_type": "execute_result"
    }
   ],
   "source": [
    "dfEncuestaSPCC.drop(dfEncuestaSPCC.iloc[:, 0:3], inplace = True, axis = 1) \n",
    "dfEncuestaSPCC.head()"
   ]
  },
  {
   "cell_type": "code",
   "execution_count": 85,
   "metadata": {
    "collapsed": true
   },
   "outputs": [],
   "source": [
    "dfPazUSC.columns = ['Narrativa']\n",
    "dfSheet1.columns = ['Narrativa']\n",
    "dfSheet2.columns = ['Narrativa']\n",
    "dfSheet3.columns = ['Narrativa']\n",
    "dfSheet4.columns = ['Narrativa']\n",
    "dfSheet5.columns = ['Narrativa']\n",
    "dfSheet6.columns = ['Narrativa']"
   ]
  },
  {
   "cell_type": "code",
   "execution_count": 86,
   "metadata": {
    "collapsed": true
   },
   "outputs": [],
   "source": [
    "df= pd.DataFrame(columns = ['Narrativa'])"
   ]
  },
  {
   "cell_type": "code",
   "execution_count": 87,
   "metadata": {
    "collapsed": true
   },
   "outputs": [],
   "source": [
    "df = (pd.concat([df, dfEncuestaSPCC], ignore_index=True)\n",
    "        .reindex(columns=df.columns))\n",
    "df = (pd.concat([df, dfPazUSC], ignore_index=True)\n",
    "        .reindex(columns=df.columns))\n",
    "df = (pd.concat([df, dfSheet1], ignore_index=True)\n",
    "        .reindex(columns=df.columns))\n",
    "df = (pd.concat([df, dfSheet2], ignore_index=True)\n",
    "        .reindex(columns=df.columns))\n",
    "df = (pd.concat([df, dfSheet3], ignore_index=True)\n",
    "        .reindex(columns=df.columns))\n",
    "df = (pd.concat([df, dfSheet4], ignore_index=True)\n",
    "        .reindex(columns=df.columns))\n",
    "df = (pd.concat([df, dfSheet5], ignore_index=True)\n",
    "        .reindex(columns=df.columns))\n",
    "df = (pd.concat([df, dfSheet6], ignore_index=True)\n",
    "        .reindex(columns=df.columns))"
   ]
  },
  {
   "cell_type": "code",
   "execution_count": 88,
   "metadata": {},
   "outputs": [
    {
     "name": "stdout",
     "output_type": "stream",
     "text": [
      "<class 'pandas.core.frame.DataFrame'>\n",
      "RangeIndex: 3004 entries, 0 to 3003\n",
      "Data columns (total 1 columns):\n",
      "Narrativa    2969 non-null object\n",
      "dtypes: object(1)\n",
      "memory usage: 23.6+ KB\n"
     ]
    }
   ],
   "source": [
    "df.info()"
   ]
  },
  {
   "cell_type": "code",
   "execution_count": 89,
   "metadata": {},
   "outputs": [
    {
     "data": {
      "text/plain": [
       "<bound method NDFrame.describe of                                               Narrativa\n",
       "0     Tranquilidad, Convivencia, Casa, Educación, Co...\n",
       "1     Tiempo en horas de día de semana y de fin de s...\n",
       "2     tranquilidad, familia, empleabilidad Toleranci...\n",
       "3     Acción sin daño, integración comunitaria, resp...\n",
       "4     Procesos formativos y de multiplicación. Numer...\n",
       "...                                                 ...\n",
       "2999  siento paz cuando estoy en mi casa porque sien...\n",
       "3000  para mi la paz se basa en algo mas sencillo qu...\n",
       "3001  la paz esta en el placer y gusto para la socie...\n",
       "3002  la paz es un estado emocional,  del ser,  el c...\n",
       "3003  para mi la paz es cuando no hay conflicto: pel...\n",
       "\n",
       "[3004 rows x 1 columns]>"
      ]
     },
     "execution_count": 89,
     "metadata": {},
     "output_type": "execute_result"
    }
   ],
   "source": [
    "df.describe"
   ]
  },
  {
   "cell_type": "markdown",
   "metadata": {},
   "source": [
    "Luego de agrupar todas las narrativas de paz en una sola columna procedemos a la limpieza de los datos"
   ]
  },
  {
   "cell_type": "markdown",
   "metadata": {},
   "source": [
    "Removemos la puntuación y ponemos todas las palabras en minuscula"
   ]
  },
  {
   "cell_type": "code",
   "execution_count": 90,
   "metadata": {
    "collapsed": true
   },
   "outputs": [],
   "source": [
    "import re"
   ]
  },
  {
   "cell_type": "code",
   "execution_count": 91,
   "metadata": {},
   "outputs": [
    {
     "data": {
      "text/plain": [
       "35"
      ]
     },
     "execution_count": 91,
     "metadata": {},
     "output_type": "execute_result"
    }
   ],
   "source": [
    "len(df.loc[df.Narrativa.isnull()])"
   ]
  },
  {
   "cell_type": "markdown",
   "metadata": {},
   "source": [
    "Observamos que hay 69 filas con datos en null y procedemos a eliminarlos"
   ]
  },
  {
   "cell_type": "code",
   "execution_count": 92,
   "metadata": {
    "collapsed": true
   },
   "outputs": [],
   "source": [
    "df=df[~df.Narrativa.isnull()]"
   ]
  },
  {
   "cell_type": "code",
   "execution_count": 93,
   "metadata": {},
   "outputs": [
    {
     "name": "stderr",
     "output_type": "stream",
     "text": [
      "<input>:1: DeprecationWarning: invalid escape sequence \\.\n",
      "<input>:1: DeprecationWarning: invalid escape sequence \\.\n",
      "<input>:1: DeprecationWarning: invalid escape sequence \\.\n",
      "<ipython-input-93-670d1a7e51f8>:1: DeprecationWarning: invalid escape sequence \\.\n",
      "  df['Narrativa_processed']=df['Narrativa'].map(lambda x: re.sub('[,\\.\\'\\\"!\\)(?0-9]', '', str(x)))\n",
      "/usr/local/anaconda/lib/python3.6/site-packages/ipykernel_launcher.py:1: SettingWithCopyWarning: \n",
      "A value is trying to be set on a copy of a slice from a DataFrame.\n",
      "Try using .loc[row_indexer,col_indexer] = value instead\n",
      "\n",
      "See the caveats in the documentation: http://pandas.pydata.org/pandas-docs/stable/user_guide/indexing.html#returning-a-view-versus-a-copy\n",
      "  \"\"\"Entry point for launching an IPython kernel.\n"
     ]
    }
   ],
   "source": [
    "df['Narrativa_processed']=df['Narrativa'].map(lambda x: re.sub('[,\\.\\'\\\"!\\)(?0-9]', '', str(x)))"
   ]
  },
  {
   "cell_type": "code",
   "execution_count": 94,
   "metadata": {},
   "outputs": [
    {
     "data": {
      "text/html": [
       "<div>\n",
       "<style scoped>\n",
       "    .dataframe tbody tr th:only-of-type {\n",
       "        vertical-align: middle;\n",
       "    }\n",
       "\n",
       "    .dataframe tbody tr th {\n",
       "        vertical-align: top;\n",
       "    }\n",
       "\n",
       "    .dataframe thead th {\n",
       "        text-align: right;\n",
       "    }\n",
       "</style>\n",
       "<table border=\"1\" class=\"dataframe\">\n",
       "  <thead>\n",
       "    <tr style=\"text-align: right;\">\n",
       "      <th></th>\n",
       "      <th>Narrativa</th>\n",
       "      <th>Narrativa_processed</th>\n",
       "    </tr>\n",
       "  </thead>\n",
       "  <tbody>\n",
       "    <tr>\n",
       "      <th>0</th>\n",
       "      <td>Tranquilidad, Convivencia, Casa, Educación, Co...</td>\n",
       "      <td>Tranquilidad Convivencia Casa Educación Colect...</td>\n",
       "    </tr>\n",
       "    <tr>\n",
       "      <th>1</th>\n",
       "      <td>Tiempo en horas de día de semana y de fin de s...</td>\n",
       "      <td>Tiempo en horas de día de semana y de fin de s...</td>\n",
       "    </tr>\n",
       "    <tr>\n",
       "      <th>2</th>\n",
       "      <td>tranquilidad, familia, empleabilidad Toleranci...</td>\n",
       "      <td>tranquilidad familia empleabilidad Tolerancia ...</td>\n",
       "    </tr>\n",
       "    <tr>\n",
       "      <th>3</th>\n",
       "      <td>Acción sin daño, integración comunitaria, resp...</td>\n",
       "      <td>Acción sin daño integración comunitaria respet...</td>\n",
       "    </tr>\n",
       "    <tr>\n",
       "      <th>4</th>\n",
       "      <td>Procesos formativos y de multiplicación. Numer...</td>\n",
       "      <td>Procesos formativos y de multiplicación Numero...</td>\n",
       "    </tr>\n",
       "    <tr>\n",
       "      <th>5</th>\n",
       "      <td>INICIATIVAS DE CULTURA CIUDADANA, EVENTOS DE C...</td>\n",
       "      <td>INICIATIVAS DE CULTURA CIUDADANA EVENTOS DE CI...</td>\n",
       "    </tr>\n",
       "    <tr>\n",
       "      <th>6</th>\n",
       "      <td>Comunicación, tolerancia, concertación. Tolera...</td>\n",
       "      <td>Comunicación tolerancia concertación Toleranci...</td>\n",
       "    </tr>\n",
       "    <tr>\n",
       "      <th>7</th>\n",
       "      <td>Voluntad,comunicación, Reglas Respeto Toleranc...</td>\n",
       "      <td>Voluntadcomunicación Reglas Respeto Tolerancia...</td>\n",
       "    </tr>\n",
       "    <tr>\n",
       "      <th>8</th>\n",
       "      <td>1. Sensibilidad social respecto temáticas coti...</td>\n",
       "      <td>Sensibilidad social respecto temáticas cotidi...</td>\n",
       "    </tr>\n",
       "    <tr>\n",
       "      <th>9</th>\n",
       "      <td>Cambio de percepción comunitaria, fortalecimie...</td>\n",
       "      <td>Cambio de percepción comunitaria fortalecimien...</td>\n",
       "    </tr>\n",
       "  </tbody>\n",
       "</table>\n",
       "</div>"
      ],
      "text/plain": [
       "                                           Narrativa  \\\n",
       "0  Tranquilidad, Convivencia, Casa, Educación, Co...   \n",
       "1  Tiempo en horas de día de semana y de fin de s...   \n",
       "2  tranquilidad, familia, empleabilidad Toleranci...   \n",
       "3  Acción sin daño, integración comunitaria, resp...   \n",
       "4  Procesos formativos y de multiplicación. Numer...   \n",
       "5  INICIATIVAS DE CULTURA CIUDADANA, EVENTOS DE C...   \n",
       "6  Comunicación, tolerancia, concertación. Tolera...   \n",
       "7  Voluntad,comunicación, Reglas Respeto Toleranc...   \n",
       "8  1. Sensibilidad social respecto temáticas coti...   \n",
       "9  Cambio de percepción comunitaria, fortalecimie...   \n",
       "\n",
       "                                 Narrativa_processed  \n",
       "0  Tranquilidad Convivencia Casa Educación Colect...  \n",
       "1  Tiempo en horas de día de semana y de fin de s...  \n",
       "2  tranquilidad familia empleabilidad Tolerancia ...  \n",
       "3  Acción sin daño integración comunitaria respet...  \n",
       "4  Procesos formativos y de multiplicación Numero...  \n",
       "5  INICIATIVAS DE CULTURA CIUDADANA EVENTOS DE CI...  \n",
       "6  Comunicación tolerancia concertación Toleranci...  \n",
       "7  Voluntadcomunicación Reglas Respeto Tolerancia...  \n",
       "8   Sensibilidad social respecto temáticas cotidi...  \n",
       "9  Cambio de percepción comunitaria fortalecimien...  "
      ]
     },
     "execution_count": 94,
     "metadata": {},
     "output_type": "execute_result"
    }
   ],
   "source": [
    "df.head(10)"
   ]
  },
  {
   "cell_type": "code",
   "execution_count": 95,
   "metadata": {},
   "outputs": [
    {
     "name": "stderr",
     "output_type": "stream",
     "text": [
      "/usr/local/anaconda/lib/python3.6/site-packages/ipykernel_launcher.py:1: SettingWithCopyWarning: \n",
      "A value is trying to be set on a copy of a slice from a DataFrame.\n",
      "Try using .loc[row_indexer,col_indexer] = value instead\n",
      "\n",
      "See the caveats in the documentation: http://pandas.pydata.org/pandas-docs/stable/user_guide/indexing.html#returning-a-view-versus-a-copy\n",
      "  \"\"\"Entry point for launching an IPython kernel.\n"
     ]
    }
   ],
   "source": [
    "df['Narrativa_processed']=df['Narrativa_processed'].map(lambda x: x.lower().strip())"
   ]
  },
  {
   "cell_type": "code",
   "execution_count": 96,
   "metadata": {},
   "outputs": [
    {
     "data": {
      "text/html": [
       "<div>\n",
       "<style scoped>\n",
       "    .dataframe tbody tr th:only-of-type {\n",
       "        vertical-align: middle;\n",
       "    }\n",
       "\n",
       "    .dataframe tbody tr th {\n",
       "        vertical-align: top;\n",
       "    }\n",
       "\n",
       "    .dataframe thead th {\n",
       "        text-align: right;\n",
       "    }\n",
       "</style>\n",
       "<table border=\"1\" class=\"dataframe\">\n",
       "  <thead>\n",
       "    <tr style=\"text-align: right;\">\n",
       "      <th></th>\n",
       "      <th>Narrativa</th>\n",
       "      <th>Narrativa_processed</th>\n",
       "    </tr>\n",
       "  </thead>\n",
       "  <tbody>\n",
       "    <tr>\n",
       "      <th>0</th>\n",
       "      <td>Tranquilidad, Convivencia, Casa, Educación, Co...</td>\n",
       "      <td>tranquilidad convivencia casa educación colect...</td>\n",
       "    </tr>\n",
       "    <tr>\n",
       "      <th>1</th>\n",
       "      <td>Tiempo en horas de día de semana y de fin de s...</td>\n",
       "      <td>tiempo en horas de día de semana y de fin de s...</td>\n",
       "    </tr>\n",
       "    <tr>\n",
       "      <th>2</th>\n",
       "      <td>tranquilidad, familia, empleabilidad Toleranci...</td>\n",
       "      <td>tranquilidad familia empleabilidad tolerancia ...</td>\n",
       "    </tr>\n",
       "    <tr>\n",
       "      <th>3</th>\n",
       "      <td>Acción sin daño, integración comunitaria, resp...</td>\n",
       "      <td>acción sin daño integración comunitaria respet...</td>\n",
       "    </tr>\n",
       "    <tr>\n",
       "      <th>4</th>\n",
       "      <td>Procesos formativos y de multiplicación. Numer...</td>\n",
       "      <td>procesos formativos y de multiplicación numero...</td>\n",
       "    </tr>\n",
       "    <tr>\n",
       "      <th>...</th>\n",
       "      <td>...</td>\n",
       "      <td>...</td>\n",
       "    </tr>\n",
       "    <tr>\n",
       "      <th>96</th>\n",
       "      <td>coexistencia, rechazo a la violencia, confianz...</td>\n",
       "      <td>coexistencia rechazo a la violencia confianza ...</td>\n",
       "    </tr>\n",
       "    <tr>\n",
       "      <th>97</th>\n",
       "      <td>Inclusión de grupos en conflito, Realización d...</td>\n",
       "      <td>inclusión de grupos en conflito realización de...</td>\n",
       "    </tr>\n",
       "    <tr>\n",
       "      <th>98</th>\n",
       "      <td>1. Iniciativas comunitarias que promueven cult...</td>\n",
       "      <td>iniciativas comunitarias que promueven cultura...</td>\n",
       "    </tr>\n",
       "    <tr>\n",
       "      <th>99</th>\n",
       "      <td>goce pleno de derechos, justicia social, gober...</td>\n",
       "      <td>goce pleno de derechos justicia social goberna...</td>\n",
       "    </tr>\n",
       "    <tr>\n",
       "      <th>100</th>\n",
       "      <td>Número de entrevistas gestionadas y realizadas...</td>\n",
       "      <td>número de entrevistas gestionadas y realizadas...</td>\n",
       "    </tr>\n",
       "  </tbody>\n",
       "</table>\n",
       "<p>100 rows × 2 columns</p>\n",
       "</div>"
      ],
      "text/plain": [
       "                                             Narrativa  \\\n",
       "0    Tranquilidad, Convivencia, Casa, Educación, Co...   \n",
       "1    Tiempo en horas de día de semana y de fin de s...   \n",
       "2    tranquilidad, familia, empleabilidad Toleranci...   \n",
       "3    Acción sin daño, integración comunitaria, resp...   \n",
       "4    Procesos formativos y de multiplicación. Numer...   \n",
       "..                                                 ...   \n",
       "96   coexistencia, rechazo a la violencia, confianz...   \n",
       "97   Inclusión de grupos en conflito, Realización d...   \n",
       "98   1. Iniciativas comunitarias que promueven cult...   \n",
       "99   goce pleno de derechos, justicia social, gober...   \n",
       "100  Número de entrevistas gestionadas y realizadas...   \n",
       "\n",
       "                                   Narrativa_processed  \n",
       "0    tranquilidad convivencia casa educación colect...  \n",
       "1    tiempo en horas de día de semana y de fin de s...  \n",
       "2    tranquilidad familia empleabilidad tolerancia ...  \n",
       "3    acción sin daño integración comunitaria respet...  \n",
       "4    procesos formativos y de multiplicación numero...  \n",
       "..                                                 ...  \n",
       "96   coexistencia rechazo a la violencia confianza ...  \n",
       "97   inclusión de grupos en conflito realización de...  \n",
       "98   iniciativas comunitarias que promueven cultura...  \n",
       "99   goce pleno de derechos justicia social goberna...  \n",
       "100  número de entrevistas gestionadas y realizadas...  \n",
       "\n",
       "[100 rows x 2 columns]"
      ]
     },
     "execution_count": 96,
     "metadata": {},
     "output_type": "execute_result"
    }
   ],
   "source": [
    "df.head(100)"
   ]
  },
  {
   "cell_type": "code",
   "execution_count": 97,
   "metadata": {
    "collapsed": true
   },
   "outputs": [],
   "source": [
    "from wordcloud import WordCloud"
   ]
  },
  {
   "cell_type": "code",
   "execution_count": 98,
   "metadata": {
    "collapsed": true
   },
   "outputs": [],
   "source": [
    "long_string = ','.join(list(df['Narrativa_processed'].values))"
   ]
  },
  {
   "cell_type": "code",
   "execution_count": 99,
   "metadata": {
    "collapsed": true
   },
   "outputs": [],
   "source": [
    "wordcloud = WordCloud(background_color=\"white\", max_words=5000, contour_width=3, contour_color='steelblue')"
   ]
  },
  {
   "cell_type": "code",
   "execution_count": 100,
   "metadata": {},
   "outputs": [
    {
     "data": {
      "text/plain": [
       "<wordcloud.wordcloud.WordCloud at 0x7f1ef1d264a8>"
      ]
     },
     "execution_count": 100,
     "metadata": {},
     "output_type": "execute_result"
    }
   ],
   "source": [
    "wordcloud.generate(long_string)"
   ]
  },
  {
   "cell_type": "code",
   "execution_count": 101,
   "metadata": {},
   "outputs": [
    {
     "data": {
      "image/png": "[encoded data removed]",
      "text/plain": [
       "<PIL.Image.Image image mode=RGB size=400x200 at 0x7F1EF1D26FD0>"
      ]
     },
     "execution_count": 101,
     "metadata": {},
     "output_type": "execute_result"
    }
   ],
   "source": [
    "wordcloud.to_image()"
   ]
  },
  {
   "cell_type": "code",
   "execution_count": 102,
   "metadata": {
    "scrolled": true
   },
   "outputs": [
    {
     "name": "stderr",
     "output_type": "stream",
     "text": [
      "/usr/local/anaconda/lib/python3.6/site-packages/urllib3/contrib/pyopenssl.py:46: DeprecationWarning: OpenSSL.rand is deprecated - you should use os.urandom instead\n",
      "  import OpenSSL.SSL\n",
      "/usr/local/anaconda/lib/python3.6/site-packages/scipy/sparse/sparsetools.py:20: DeprecationWarning: `scipy.sparse.sparsetools` is deprecated!\n",
      "scipy.sparse.sparsetools is a private module for scipy.sparse, and should not be used.\n",
      "  _deprecated()\n"
     ]
    }
   ],
   "source": [
    "import gensim\n",
    "from gensim.utils import simple_preprocess\n",
    "from gensim.parsing.preprocessing import STOPWORDS\n"
   ]
  },
  {
   "cell_type": "code",
   "execution_count": 103,
   "metadata": {},
   "outputs": [
    {
     "data": {
      "text/html": [
       "<div>\n",
       "<style scoped>\n",
       "    .dataframe tbody tr th:only-of-type {\n",
       "        vertical-align: middle;\n",
       "    }\n",
       "\n",
       "    .dataframe tbody tr th {\n",
       "        vertical-align: top;\n",
       "    }\n",
       "\n",
       "    .dataframe thead th {\n",
       "        text-align: right;\n",
       "    }\n",
       "</style>\n",
       "<table border=\"1\" class=\"dataframe\">\n",
       "  <thead>\n",
       "    <tr style=\"text-align: right;\">\n",
       "      <th></th>\n",
       "      <th>Narrativa</th>\n",
       "      <th>Narrativa_processed</th>\n",
       "    </tr>\n",
       "  </thead>\n",
       "  <tbody>\n",
       "    <tr>\n",
       "      <th>0</th>\n",
       "      <td>Tranquilidad, Convivencia, Casa, Educación, Co...</td>\n",
       "      <td>tranquilidad convivencia casa educación colect...</td>\n",
       "    </tr>\n",
       "    <tr>\n",
       "      <th>1</th>\n",
       "      <td>Tiempo en horas de día de semana y de fin de s...</td>\n",
       "      <td>tiempo en horas de día de semana y de fin de s...</td>\n",
       "    </tr>\n",
       "    <tr>\n",
       "      <th>2</th>\n",
       "      <td>tranquilidad, familia, empleabilidad Toleranci...</td>\n",
       "      <td>tranquilidad familia empleabilidad tolerancia ...</td>\n",
       "    </tr>\n",
       "    <tr>\n",
       "      <th>3</th>\n",
       "      <td>Acción sin daño, integración comunitaria, resp...</td>\n",
       "      <td>acción sin daño integración comunitaria respet...</td>\n",
       "    </tr>\n",
       "    <tr>\n",
       "      <th>4</th>\n",
       "      <td>Procesos formativos y de multiplicación. Numer...</td>\n",
       "      <td>procesos formativos y de multiplicación numero...</td>\n",
       "    </tr>\n",
       "  </tbody>\n",
       "</table>\n",
       "</div>"
      ],
      "text/plain": [
       "                                           Narrativa  \\\n",
       "0  Tranquilidad, Convivencia, Casa, Educación, Co...   \n",
       "1  Tiempo en horas de día de semana y de fin de s...   \n",
       "2  tranquilidad, familia, empleabilidad Toleranci...   \n",
       "3  Acción sin daño, integración comunitaria, resp...   \n",
       "4  Procesos formativos y de multiplicación. Numer...   \n",
       "\n",
       "                                 Narrativa_processed  \n",
       "0  tranquilidad convivencia casa educación colect...  \n",
       "1  tiempo en horas de día de semana y de fin de s...  \n",
       "2  tranquilidad familia empleabilidad tolerancia ...  \n",
       "3  acción sin daño integración comunitaria respet...  \n",
       "4  procesos formativos y de multiplicación numero...  "
      ]
     },
     "execution_count": 103,
     "metadata": {},
     "output_type": "execute_result"
    }
   ],
   "source": [
    "df.head()"
   ]
  },
  {
   "cell_type": "markdown",
   "metadata": {},
   "source": [
    "Lemmatization\n",
    "Escribir lo que hace\n",
    "Se crea una lista "
   ]
  },
  {
   "cell_type": "code",
   "execution_count": 179,
   "metadata": {},
   "outputs": [],
   "source": [
    "\n",
    "data_list=[]\n",
    "for row in df.Narrativa_processed:\n",
    "    #d_actual=(' '.join(lemEsp.Sentence(lemEsp.parse(row, lemmata=True)).lemmata))\n",
    "    token_list=\"\"\n",
    "    text=nlp(row)\n",
    "    for token in text:\n",
    "        token_list+=token.lemma_+\" \"\n",
    "    data_list.append(token_list.rstrip())"
   ]
  },
  {
   "cell_type": "code",
   "execution_count": 180,
   "metadata": {},
   "outputs": [
    {
     "data": {
      "text/plain": [
       "['tranquilidad convivencia casar educación colectividad respetar tranquilidad acceso a lo educación lo humanización del espaciar ese siempre ser el caminar',\n",
       " 'tiempo en hora de día de semana y de fin de semana en el que lo padre / cuidador pasar tiempo con lo hijo en espacio del ie y de lo hijo tiempo en hora de lo hijo en el que pasar tiempo con lo padre y mayor evidenciar de mantener lo familia unir hogar equilibrio hogar mantener los familia unir',\n",
       " 'tranquilidad familia empleabilidad tolerancia tranquilidad hogar lo paz ser satisfacer lo derecho básico constitucional vivienda alimentación salud educación',\n",
       " 'acción sin dañar integración comunitario respetar derecho humano hogar compartir tranquilidad lo paz ser el bien común',\n",
       " 'proceso formativo y de multiplicación numerar de alianza publicar privar numerar de accionar parir lo protección de ddhh tolerancia no violencia derecho social concertación',\n",
       " 'iniciativo de cultura ciudadano evento de ciudad que promover construcción de paz respetar unión atención en salud tranquilidad',\n",
       " 'comunicación tolerancia concertación tolerancia trabajar / emplear no violencia ausencia de cualquiera clase de violencia',\n",
       " 'voluntadcomunicación reglar respetar tolerancia hogar estar de tranquilidad conmigo mismo y con lo demás',\n",
       " 'sensibilidad social respectar temático cotidiano apropiación de contenido   accionar comunitario emprender participación en lo red de paz   testimonio de lo vida cotidiano respetar amor compartir lo paz ser encontrar reconocimiento del otro respetar por el diferente y garantir de dignidad',\n",
       " 'cambiar de percepción comunitario fortalecimiento de liderazgo y rescatar de valorar respetar no discriminación no violencia respetar lo diferenciar comer elementar unificador desde diferente conocimiento y realidad',\n",
       " 'cambiar de hábito respetar por el mediar ambientar y convivencia respetar tolerancia no violencia realizar los coser que querer sin necesidad de pasar por encimar de lo demás parir llegar a uno estar en el que estar tranquilo y pleno',\n",
       " 'convivencia respetar tolerancia compartir respetar por el otro',\n",
       " 'formación prqs responder diseñar de estrategia tolerancia entornar protector no violencia paz ser respetar por lo alteridad',\n",
       " 'alianza multi - actor formalizar declaración público de respetar a lo derecho humano diagnóstico de impacto negativo a lo derecho humano realizar respetar tolerancia entornar protector lo paz ser lo posibilidad de desarrollar proyecto de vida de manera recíproco tanto individual comer colectivo',\n",
       " 'memoria reconciliación equidad respetar tolerancia hogar estar de tranquilidad ausencia de conflicto armonía',\n",
       " 'cumplimiento proyección ejecución amor tranquilidad equilibrio vivir con tranquilidad sin conflicto',\n",
       " 'participación ciudadano reconocimiento de lo diversidad trabajar colectivo respetar compartir acceso a lo educación respetar por lo diferenciar',\n",
       " 'asesorarguiargestionar respetar tolerancia armonía lo semilla de lo paz este en nuestro mano parir ser sembrar en el corazón del ser humanar parir q germinar y producir fruto de amor justicia y por ende de paz y felicidad en los presente y futuro generación',\n",
       " 'personar formar en cultura ciudadano % disminución de violencia armonía amor compartir compartir con otro con amor y armonía',\n",
       " 'formar de resolución de conflicto cumplimiento de deber identidad armonía no violencia derecho social lo paz ser uno tarea de todo',\n",
       " 'reconciliación vinculación de joven a programar de paz no discriminación no violencia derecho social respetar',\n",
       " 'alianza parir lo construcción de paz armonía equilibrio no violencia lo paz lo haz tú',\n",
       " 'cohesión social convivencia pacífico afianzar lazo comunitario tolerancia no discriminación no violencia tranquilidad',\n",
       " 'se pretender crear indicador de gestión del procesar gestión de paz y cultura ciudadano el cual estar en formulación armonía amor no violencia con - vivir en coherencia con principio ético con concienciar de humanidad',\n",
       " 'aprendi respetar no violencia hogar trabajar con amor',\n",
       " 'resolución de conflicto justicia comunitario alianza parir el desarrollar del proyectar de vida respetar tolerancia no discriminación comprensión respetar y tolerancia por el otro y su derecho',\n",
       " 'participación comunitario trabajar conjuntar entrar los partir construcción de iniciativo comunitario entornar protector no discriminación derecho social transformación de los relacionar que entrar ser humano construir con el propósito que convivir en lo diferenciar',\n",
       " 'número de juez de paz atentar número de ciudadano atender cantidad de espacio de intervención parir socialización de lo justicia de paz visitar respetar hogar hogar respetar por lo demás tranquilidad en el hogar educación universal',\n",
       " 'realización de proyecto e   iniciativo comunitario   disminución de número de joven que participar de pandilla   iniciativo de los institución educativo que se implementar en cultura de paz amor unión trabajar / emplear lo paz ser actuar saber que aunque existir el conflicto haber algo más allá por encimar y por debajo que ser   más fuerte y que no unir',\n",
       " 'reconcer actitud violento respetar trabajar / emplear soñar / sueño aceptar con amor los circunstancia',\n",
       " 'violencia sexual   reclutamiento de personar tratar de personar tolerancia trabajar / emplear no violencia respetar por los demás personar',\n",
       " 'evento de ciudad realizar a través de lo gráfico urbano con narrativo de paz # mural que transformar   y resignifican escenario de violencia en escenario de paz y convivencia # de joven impactar con lo pautar diseñar tolerancia armonía no violencia tener actitud comportamiento y valorar',\n",
       " 'trabajar con comunidad en condicionar de vulnerabilidad generar accionar que encaminar a lo población a uno vinculación laboral restablecimiento de lo confianza en el público respetar no violencia derecho social ser lo posibilidad de respetarnos en mediar de lo diversidad',\n",
       " 'problemático resolver por mediar de lo cultura ciudadano en el territorio a través de los mesar de cultura ciudadano   problemático resolver por mediar de lo cultura ciudadano en los ieo a través de lo semillero de cultura ciudadano   problemático resolver mediar por lo juez de paz respetar tolerancia amor parir mi lo paz partir del respetar lo tolerancia y el perdón',\n",
       " 'laboratorio de paz   reintegración justicia comunitario respetar tolerancia amor lo paz parir mi ser darnos uno oportunidad de calidad de vida con lo educación inteligencia',\n",
       " 'alianza seguimiento a proyecto cooperación respetar tolerancia hogar amar ser reconocer ser comprometerse ser estar en paz',\n",
       " 'reconciliación diálogo perdón armonía amor unión armonía',\n",
       " 'gestor de paz formar con herramienta de construcción de paz iniciativo comunitario que construir paz en lo territorio de cali a tarvés de procesar de capacitación en innovación social   evento de ciudad que contribuir a nuevo narrativo de paz desde lo gráfico urbano tranquilidad no violencia compartir lo sabiduría parir relacionarse con todo el que no rodear',\n",
       " 'reparacion de los victimar participacion de los victimar reconciliacion entrar actor del conflicto respetar tolerancia trabajar / emplear capacidad de respetar y tolerancia propio y por otro',\n",
       " 'identificar hecho de paz en lo contexto cotidiano de lo nna promover el fortalecimiento de lo vinculos familiar y comunitario entregar herramienta a lo nna que ayudar en lo prevencion lo ingresar de dinamicas de violencia respetar hogar entornar protector paz ser disfrutar el que hacer respetar lo derecho del otro',\n",
       " 'amor respetar por lo diferenciar y servir a lo demás respetar amor hogar vivir sin agredirse con lo otro',\n",
       " 'realizar accionar de paz cotidiano con seguir mismo su amigo familia y entornar reconocer que haber hacer uno acción con dañar y ejercer accionar de reparación hacer usar de mecanismo de comunicación asertivo respetar entornar protector soñar / sueño paz ser todo aquel emocionar expresión y accionar cotidiano que se realizar en uno espaciar determinar que promover el bienestar del otro y de unir mismo',\n",
       " 'confianza interpersonal   confianza institucional tolerancia compartir hogar ponerme en lo zapato del otro',\n",
       " 'prevención de lo violencia prevención de lo vinculación de joven en alto riesgo a escenario de violencia campaña pedagógico de cultura de paz no discriminación no violencia derecho social lo palabra paz significar acordar o pactar en este sentir lo paz   este directamente relacionar con lo   presenciar de acuerdo entrar los partir beligerante parir poner fin a lo violencia a nivel social lo paz ser el estar ideal que desear tener todo ser humanar ya que se alcanzar lo armonía y el equilibrio entrar lo razón y lo emoción de lo individuo',\n",
       " 'personar sensibilizar en lo importancia de lo derecho humano   víctima de tratar de personar atender   personar sensibilizar en temer de prevención a los vulneración a lo ddhh respetar tolerancia derecho social ser uno retar parir lo sociedad y lo oportunidad parir plantear uno presentar más equitativo',\n",
       " 'estrategia de prevención estrategia de promoción victimar atender trabajar / emplear atención en salud acceso a lo educación ser el estar de bienestar integral que compartir en los relacionar interpersonal',\n",
       " 'memoriareconciliaciónfelicidad respetar tranquilidad derecho a lo vivienda digno respetar',\n",
       " 'respetar reconciliación panificar valorar verdad respetar amor atención en salud lo paz ser respetar amor estabilidad tolerancia y armonía',\n",
       " 'participación ciudadano respetar trabajar / emplear derecho social respetar por el público',\n",
       " 'reconstruccion de memoria inclusión social participación ciudadano respetar derecho social cuidar de lo recurso natural paz : procesar de construcción a través de uno diálogo respetuoso que buscar lo acción parir proteger y restablecer lo derecho de uno comunidad y asir resolver conflicto sin lo utilización de lo violencia',\n",
       " 'resignificación de espacio asociar a lo violencia comer escenario de paz o de encontrar número de territorio de conflicto intervenir con nuestro pautar de trabajar apropiación de lo cultura de paz en joven de territorio vulnerable propenso a caer en reclutamiento por grupo armar respetar tolerancia no violencia vivir en mutuo convivencia tanto con tu entornar comer con tu ser interior',\n",
       " 'desvincular y desmovilizar con orientación y / o acompañamiento complementario parir lo reintegración social económico y comunitario   iniciativo institucional y / o comunitario exitoso de promoción de bueno práctico de cultura ciudadano y de construcción de paz replicar   gestor de paz formar en estrategia de convivencia y cultura de paz tolerancia no violencia derecho social lo paz ser poder convivir con tolerancia reconociéndonos comer sujeto de derecho y deber',\n",
       " 'realizar lo taller de formación con lo semillero conformar en el enfocar de cultura ciudadano en los ieo priorizar implementar los iniciativo   comunitario formular por lo semillero de cultura ciudadano en el enfocar de cultura ciudadano en los ieo priorizar   apoyar lo coordinación del procesar de semillero de cultura ciudadano parir lo paz respetar amor acceso a lo educación paz ser lograr perdonar',\n",
       " 'formación de gestor de paz red de paz constituir y apoyar a lo red de paz respetar tolerancia amor lo formular parir lo felicidad en todo lo aspecto de lo vida',\n",
       " 'mecanismo alternativo grupo formar en círculo de paz juez   capacitar respetar tolerancia soñar / sueño diferenciar',\n",
       " 'documentar de estrategia metodológico parir lo transversalización del enfocar de derecho en lo administracion municipal tolerancia no violencia no acosar sexual laboral lo paz significar   tranquilidad estabilidad y seguridad que estar oponer a lo guerra y tener uno connotación positivo',\n",
       " 'eficiencia presupuestal eficiencia de cumplimiento fisico eficiencia en el plan anual de adquisición respetar unión derecho social lo paz ser ver reflejar lo tolerancia y respetar de nuestro diferenciar con uno lazar de unión   entrar lo comunidad o   población hacia uno bien en común',\n",
       " 'perdón cultura y dialogar tolerancia no violencia acceso a lo educación parir lograr lo paz necesitar ser tolerante ayudarnos uno a otro   y actuar siempre con el corazón',\n",
       " 'ser partir del procesar de reconciliación dar a conocer lo memoria no discriminación derecho social hogar ser lograr lo reconciliación y el perdón',\n",
       " 'respetar tolerancia justicia respetar tolerancia acceso a lo educación respetar el que pensar lo demás',\n",
       " 'conocimiento de lo derecho humano reconocimiento de riesgo de victimización medir de autocuidado no discriminación no violencia derecho social vivir con tranquilidad',\n",
       " 'amortoleranciarespeto a los diferenciar respetar tolerancia hogar lo paz ser el fruto de lo sano convivencia entrar lo ser humano',\n",
       " 'medir generador de confianza - inclusión de personar de conflicto - apoyar a los iniciativo comunitario de paz respetar tolerancia no violencia excelente convivencia entrar habitante de uno territorio',\n",
       " 'respetar amor tolerancia respetar hogar amor paz ser el respetar y lo aceptación del otro a partir de lo diferenciar que ser el que no hacer igualar',\n",
       " 'personar que haber salir de pobreza hogar compartir hogar gozar de lo ámbito espiritual razonable físico y mental saludable con su familia y comunidad',\n",
       " 'mejoramiento en lo calidad de vida reducción de accionar violento incrementar en proyecto comunitario respetar derecho social acceso a lo educación tener lo mínimo básico satisfacer procurar que lo demás estar igual o mejor a partir del reconocimiento y aceptación de lo diferenciar',\n",
       " 'no violencia interpersonal e intrafamiliar coexistencia y diversidad confianza en el otro tolerancia entornar protector acceso a lo educación equidad y tolerancia',\n",
       " 'justicia social garantir de derecho participación efectivo de lo ciudadanía derecho social cuidar de lo recurso natural primero infancia gozar efectivo de derecho y reconocimiento de lo diversidad',\n",
       " 'no violencia físico integración comunitario acceso a derecho social trabajar / emplear derecho social atención en salud lo paz consistir en el ejercicio efectivo de lo derecho humano y social',\n",
       " 'divulgación de evento visibilización de accionar respetar armonía no violencia lo paz ser uno hacer que se lograr cuando no haber guerra ni acto de violencia entrar lo individuo de uno sociedad',\n",
       " 'respetar tolerancia gratitud respetar amor no violencia no haber caminar parir lo paz lo paz ser el caminar',\n",
       " 'paz - perdon olvidar respetar tolerancia no violencia lo paz no ser uno soñar ser hecho',\n",
       " 'trabajar en equipar solidaridad y el respetar respetar tolerancia armonía armonia respetar tolerancia familia y trabajar',\n",
       " 'lo indicador del meic   ser de cultura ciudadano entornar protector equilibrio derecho social paz ser estar en armonía conseguir mismo con el otro y con el entornar respetar derecho y cumplir deber comer sujetar',\n",
       " 'presenciar de situación violento iniciativo comunitario accionar de reconciliacion no discriminación acceso a lo educación cuidar de lo recurso natural parir sembrar lo paz haber que aflojar lo tierrita',\n",
       " 'recilencia armonia y habilidad tolerancia armonía amor lo paz ser cuando yo brindar mucho alegría',\n",
       " 'posicionamiento cultural y social erradicacion de lo miseria desarrollar integral del ser respetar no discriminación derecho social lo paz ser armonia que dignificar al ser y su territorio',\n",
       " 'diálogo solidaridad respetar respetar tolerancia tranquilidad tranquilidad en todo tiempo',\n",
       " 'razón de formación / retribución social cohesión social tranquilidad del hogar armonía no discriminación cuidar de lo recurso natural ser uno proyección a futuro algo que se deber buscar desde el individual hacia lo espacio cercano y más lejano lo paz ser lo oportunidad de resolver lo conflicto sin que mediar lo violencia o el silenciamiento',\n",
       " 'todo - medítele - tolerancia alimentación hogar tolerancia en sociedad',\n",
       " 'aumentar habilidad y capacidad conciliatorio identificación y mejor comprensión de su propio debilidad y problematicas no violencia derecho social cuidar de lo recurso natural procesar transformación   con justicia equidad e igualdad social',\n",
       " 'cartilla taller gestor respetar alimentación primero infancia derecho y deber de obligatorio cumplimiento',\n",
       " 'población en procesar de reintegración con orientación a lo ofertar de lo alcaldía alianza estrategia con actor clave parir lo generación de oportunidad parir lo población en procesar de reintegración población desmovilizar y desvincular en accionar de servicio social respetar no violencia derecho social ser lo formar comer lo ser humano no encontrar dejar de lado los diferenciar en buscar de uno sociedad con justicia social en donde se poder convivir de manera armónico con quien hacer partir de nuestro entornar',\n",
       " 'reconciliación confianza interpersonal coexistencia y diversidad entornar protector no discriminación derecho social lo paz ser uno estar que bien poder ser individual o colectivo por tal motivar ser el resultar de múltiple accionar individual y colectivo',\n",
       " 'espacio de integración ciudadano con lo participación de lo gpcc     espacio publicos recuperar en diferente territorio de lo ciudad    gpcc   promovienod lo cultura ciudadano a traves de activación artisticas en espacio y evento de ciudad no discriminación amor cuidar de lo recurso natural vivir en armonía con el todo',\n",
       " 'superacion de vulnerabilidad   retribución social   confianza institucional no discriminación no violencia acceso a lo educación lo paz ser posible cuando lo derecho social de lo ciudadano se respetar cuando todo lo niño joven ya adulto tener lo oportunidad de acceder a uno educación de calidad y en lo que se poder caminar tranquilo por cualquiera rincón del país',\n",
       " 'resectividad tolerancia compromiso respetar hogar amor paz unión y comprensión',\n",
       " 'lo comvivencia pacificar amar respetar respetar amor no violencia amar ser convivir en paz',\n",
       " 'trabajar con comunidad   reconocimiento   fortalecimiento tolerancia tranquilidad no violencia estar tranquilo',\n",
       " 'equidad resolución pacificar de conflicto y convivencia entornar protector atención en salud cuidar de lo recurso natural lo paz ser el respetar por el amor y respetar por el otro el territorio y nosotros mismo',\n",
       " 'disminución de lo violencia - desminución de feminicidios hacia los mujer y disminución de abuso sexual contra lo niño respetar tranquilidad no violencia lo paz ser que no haber conflicto e intolerancia entrar los personar',\n",
       " 'confianza interpersonal coexistencia y diversidad violencia intrafamilia e interpersonal tolerancia tranquilidad primero infancia pactar entrar ciudadano que generar tranquilidad y seguridad a pesar de los diferenciar',\n",
       " 'no se a qué se referir con este preguntar no ser qué ser uno indicador de paz respetar entornar protector no discriminación contratar social en el que se vivir en equidad',\n",
       " 'convivencia movilidad mediar ambientar reinsidencia tolerancia no discriminación acceso a lo educación construcción colectivo de respetar y garantir de lo derecho humano universal',\n",
       " 'no violencia interpersonal coexesistencia y diversidad confianza interpersonal armonía no violencia arte y cultura convivir en libertar : no separar lo paz de lo libertar porque nadie poder estar en paz si no tener su libertar',\n",
       " 'coexistencia rechazar a lo violencia confianza interpersonal tolerancia armonía equilibrio coexistir en armonía',\n",
       " 'inclusión de grupo en conflito realización de taller parir lo paz   cambiar de actitud respetar tolerancia no violencia tolerancia',\n",
       " 'iniciativo comunitario que promover cultura ciudadano parir lo paz y lo convivencia ;   encuentro ciudadano parir el fortalecimiento de lo convivencia y lo diversidad a partir de lo caracterización de los comunidad étnico cultura urbano y culto implementar ;   iniciativo institucional y / o comunitario exitoso de promoción de bueno práctico de cultura ciudadano y de construcción de paz replicar respetar tolerancia armonía lo paz lo construir todo a partir de aporte individual contundente lograr uno mundo mejor cada vez',\n",
       " 'gozar pleno de derecho justicia social gobernanza derecho social cuidar de lo recurso natural primero infancia gozar pleno de derecho y reconocimiento del otro - a',\n",
       " 'número de entrevistar gestionar y realizar cantidad de información publicar número de medio contactar parir divulgación armonía hogar no violencia lo paz ser uno formar de vida de autocontrol y relacionamiento armónico con nuestro entornar',\n",
       " 'calidad de vida aprehensión del concepto de cultura ciudadano respetar tolerancia armonía respetar por lo diferenciar y convivencia en armonía',\n",
       " 'transparencia efectividad y eficiencia tolerancia amor acceso a lo educación lo pasión el respetar y lo tolerancia creer paz',\n",
       " 'aumentar de accionar colectivo reducción de situación de acoso escolar incrementar de semillero estudiantil trabajar / emplear atención en salud acceso a lo educación justicia social',\n",
       " 'educación trabajar y salud respetar tolerancia amor fin que buscar lo humanidad',\n",
       " 'reconstrucción de memoria histórico parir esclarecimiento de lo verdad y lo no repetición   reparación simbólico parir el reconocimiento y dignificación de los víctima ;   reconciliación y / o restauración del tejer social tolerancia entornar protector no violencia parir mí ser lo paz ser lo convivencia y resolución pacífico de lo conflicto reconocer y valorar positivamente lo diferenciar establecer canal no violento incluyentes y democrático de reconocimiento y tramitación de lo conflicto',\n",
       " 'tolerancia respetar amor a lo vida tolerancia hogar amor reconocer en el otro su diferenciar y respetarla',\n",
       " 'cohesión social cultura de paz reconciliación respetar no discriminación no violencia respetar por lo diferenciar mediante el diálogo',\n",
       " 'sesión de lo mesar de derecho humano sesión del comité municipal de ddhh capacitación en derecho humano a funcionario público respetar trabajar / emplear derecho social lo paz consistir en disfrutar de mi derecho respetar lo de lo otro',\n",
       " 'no se tolerancia trabajar / emplear acceso a lo educación ser vivir en armonía conmigo y lo demás',\n",
       " 'prevención accionar liderazgo respetar amor unión lo paz ser lo tranquilidad con unir y con el otro',\n",
       " 'mayor acceso a educación en todo su nivelar fomentar de lo emprendimiento productivo y social bajo índice de violencia hogar no discriminación derecho a lo vivienda digno paz ser obrar saber lo distinción entrar el que tener derecho a hacer y el que ser correcto hacer',\n",
       " 'proceso de socialización y promoción estrategia parir el empoderamiento y juez de paz electo participar en los accionar de lo estrategia de fortalecimiento de lo justicia de paz respetar amor derecho social justicia social',\n",
       " 'bullying en lo colegio violencia intrafamiliar utilización del espaciar público equilibrio no violencia derecho social no haber violencia ni luchar entrar do o más   partir enfrentar',\n",
       " 'cultura ciudadano reincidencia y equidad equilibrio no violencia derecho social lo paz ser el momento de plenitud en el que ver cumplir mi sueño',\n",
       " 'violencia contra lo niño feminicidio calidad de vida respetar tolerancia hogar lo paz ser estar en armonía con el universo',\n",
       " 'realizar lo taller de formacion con lo semillero implementar los iniciativo comunitario formular por lo semillero en lo ie apoyar lo cordinacion del procesar de semillero enlas ie respetar tolerancia hogar ser lo unica batallar que valer lo penar librar',\n",
       " 'respetar tolerancia paciencia armonía entornar protector trabajar / emplear lo paz ser lograr uno resolucion de conflicto justo',\n",
       " 'ejemplo desarrollar y ejecución respetar tolerancia no discriminación respetar mutuo con el prójimo',\n",
       " 'negociación con actor armar legal e ilegal misionar de investigación de lo hecho y dialogod de paz respetar tranquilidad hogar reconocimiento del individuo y su particularidad',\n",
       " 'mecanismo de construcción de confianza garantir de ddhh cambio de postura actitudinales no discriminación derecho social cuidar de lo recurso natural yo ser porque tu ser',\n",
       " 'accionar colectivo de construcción de paz garantia de derecho y conocimiento de derecho no discriminación no violencia derecho social uno caminar que deber transitar',\n",
       " 'coexistencia y diversidad confianza interpersonal rechazar al usar de lo violencia hogar no discriminación derecho social vida digno parir todo',\n",
       " 'aceptacion diversidad convivencia asertividad tolerancia entornar protector no discriminación lo armonía y equilibrio de uno sociedad',\n",
       " 'confianza en los institución gozar efectivo de derecho participacion ciudadano respetar trabajar / emplear atención en salud respetar por mi por el otro y por el entornar construir en colectivo',\n",
       " 'amor respectar livertad respetar tolerancia amor amor libertar',\n",
       " 'iniciativo fortalecer iniciativo incentivar iniciativo que generar alianza respetar armonía amor lo paz ser el equilibrio de nuestro alma mente cuerpo',\n",
       " 'reconciliacion derecho paz respetar tolerancia no violencia ser uno derecho y uno deber de obligatorio cumplimiento',\n",
       " 'armonía en hogar',\n",
       " 'que no hallar violencia',\n",
       " 'tranquilidad',\n",
       " 'ser uno estar de armonía de uno individuo ante uno colectivo',\n",
       " 'lo paz ser lo tranquilidad que sentir en mi corazón',\n",
       " 'tranquilidad',\n",
       " 'estar en el mar',\n",
       " 'armonía e igualdad',\n",
       " 'estar solo y poder pensar',\n",
       " 'tranquilidad',\n",
       " 'cuando estar solo',\n",
       " 'tranquilidad',\n",
       " 'tranquilidad y concienciar limpio',\n",
       " 'tranquilidad',\n",
       " 'tranquilidad',\n",
       " 'tranquilidad',\n",
       " 'tranquilidad armonía j',\n",
       " 'tranquilidad',\n",
       " 'tener lo concienciar tranquilo',\n",
       " 'uno estar de tranquilidad',\n",
       " 'convivencia',\n",
       " 'ser justicia e igualdad',\n",
       " 'estar con lo familia',\n",
       " 'plenitud',\n",
       " 'tranquilidad',\n",
       " 'convivencia sano entrar personar',\n",
       " 'tranquilidad mental y social',\n",
       " 'amor libertar y tranquilidad',\n",
       " 'integridad con unir mismo',\n",
       " 'tranquilidad',\n",
       " 'tranquilidad',\n",
       " 'uno día a lo vez',\n",
       " 'tranquilidad',\n",
       " 'vivir en armonía',\n",
       " 'parir mi paz ser tener tranquilidad con unir mismo vivir con respetar y sin enemigo',\n",
       " 'tranquilidad y naturaleza',\n",
       " 'estar de animar que se asemejar a lo tranquilidad',\n",
       " 'cuando estar con su ser querido',\n",
       " 'tranquilidad',\n",
       " 'tranquilidad',\n",
       " 'lo paz ser no discriminar al prójimo',\n",
       " 'libertar y respetar',\n",
       " 'tranquilidad',\n",
       " 'amor',\n",
       " 'amor',\n",
       " 'vivir en comunidad librar en paz y amor',\n",
       " 'estar de tranquilidad \\n sin conflicto',\n",
       " 'reconciliación',\n",
       " 'paz ser uno estar social en el cual uno país o poblar no paso por el tormento de lo guerra',\n",
       " 'paciencia',\n",
       " 'hacer lo voluntad de dios',\n",
       " 'tranquilidad',\n",
       " 'amor',\n",
       " 'tranquilidad',\n",
       " 'convivencia',\n",
       " 'armonía con unir mismo y con lo demás',\n",
       " 'tranquilidad',\n",
       " 'tranquilidad',\n",
       " 'calmo',\n",
       " 'tranquilidad',\n",
       " 'tranquilidad',\n",
       " 'calmo serenidad',\n",
       " 'tranquilidad',\n",
       " 'tranquilidad',\n",
       " 'tranquilidad',\n",
       " 'estabilidad',\n",
       " 'tranquilidad',\n",
       " 'tranquilidad',\n",
       " 'tranquilidad',\n",
       " 'respectar',\n",
       " 'lo búsqueda espiritual',\n",
       " 'respetar',\n",
       " 'lo paz ser tranquilidad',\n",
       " 'lo paz ser amor parir lo demás',\n",
       " 'bosque',\n",
       " 'lo paz ser mi tranquilidad',\n",
       " 'lo paz ser que todo el mundo poder tener su opinión y lo demás el respetar',\n",
       " 'convivir todo en tranquilidad',\n",
       " 'tolerancia y respetar hacia lo demás',\n",
       " 'lo paz ser tranquilidad',\n",
       " 'amor',\n",
       " 'estar con mi familia',\n",
       " 'encontrarse a unir mismo',\n",
       " 'tranquilidad',\n",
       " 'tranquilidad',\n",
       " 'introspección',\n",
       " 'estar en armonía conseguir mismo',\n",
       " 'tranquilidad vivir en comunidad',\n",
       " 'lo salud de mi familia',\n",
       " 'tranquilidad',\n",
       " 'armonía social',\n",
       " 'tranquilidad',\n",
       " 'equidad y estabilidad entrar personar',\n",
       " 'valorar',\n",
       " 'vivir en armonía',\n",
       " 'sin violencia',\n",
       " 'estar bien',\n",
       " 'equidad',\n",
       " 'tranquilidad',\n",
       " 'tranquilidad',\n",
       " 'tener bueno convivencia',\n",
       " 'tranquilidad',\n",
       " 'sin violencia',\n",
       " 'amor comprensión asir el otro',\n",
       " 'sentirse librar',\n",
       " 'vivir en armonía',\n",
       " 'el interior de comer no sentir',\n",
       " 'tranquilidad que obtener al satisfacer todo los necesidad vital que lo ser humano ser vivo requerir parir estar en armonía el aire aguar alimento relación de uno con otro',\n",
       " 'lo igualdad de oportunidad de derecho y desarrollar de oportunidad social',\n",
       " 'sin robo',\n",
       " 'lo paz ser tranquilidad',\n",
       " 'tranquilidad poder convivir con los personar',\n",
       " 'convivencia',\n",
       " 'tranquilad',\n",
       " 'felicidad',\n",
       " 'amor',\n",
       " 'tranquilidad',\n",
       " 'estar tranquilo',\n",
       " 'sinónimo de seguridad de amor',\n",
       " 'libertar',\n",
       " 'cuando escuchar músico',\n",
       " 'tranquilidad a nivel emocional',\n",
       " 'tolerancia',\n",
       " 'armonía',\n",
       " 'tranquilidad',\n",
       " 'tranquilidad',\n",
       " 'tranquilidad de los personar',\n",
       " 'tranquilidad ante lo sociedad',\n",
       " 'escuchar músico colaboración y unión',\n",
       " 'tranquilidad',\n",
       " 'armonía',\n",
       " 'paz ser respetar lo diversidad cultural',\n",
       " 'convivencia',\n",
       " 'compartir con tu familia',\n",
       " 'armonía entrar do partir',\n",
       " 'igualdad',\n",
       " 'respetar',\n",
       " 'ser uno estar en el que se encontrar uno ser vivir sin ninguno tipo de amenazar y total tranquilidad',\n",
       " 'tranquilidad',\n",
       " 'respetar',\n",
       " 'libertar',\n",
       " 'familia',\n",
       " 'tranquilidad',\n",
       " 'tranquilidad',\n",
       " 'unión',\n",
       " 'vida',\n",
       " 'tranquilidad',\n",
       " 'armonía',\n",
       " 'libertar',\n",
       " 'lo tranquilidad',\n",
       " 'ausencia de guerra',\n",
       " 'perdón',\n",
       " 'tolerancia',\n",
       " 'igualdad',\n",
       " 'tranquilidad',\n",
       " 'amor',\n",
       " 'tranquilidad',\n",
       " 'armonía',\n",
       " 'tranquilidad',\n",
       " 'estar tranquilo',\n",
       " 'tranquilidad',\n",
       " 'estar en armonía',\n",
       " 'tranquilidad',\n",
       " 'armonía',\n",
       " 'lo paz no existir comer se entender ser uno especie de no conflicto   poder entenderse comer uno espaciar en el cual ser posible los diferenciar',\n",
       " 'estar en armonía',\n",
       " 'no tener preocupación',\n",
       " 'plenitud',\n",
       " 'silenciar',\n",
       " 'estar tranquilo',\n",
       " 'tranquilidad',\n",
       " 'tranquilidad',\n",
       " 'tranquilidad',\n",
       " 'tener armonía con el círculo de personar que me rodear',\n",
       " 'tener tranquilidad y tener lo seguridad que ir a estar tranquilo',\n",
       " 'ser uno mundo de armonía y respetar',\n",
       " 'equilibrio emocional físico y mental de cada quien',\n",
       " 'estar tranquilo con el entornar',\n",
       " 'convivencia',\n",
       " 'borrón y contar nuevo',\n",
       " 'estar contentar',\n",
       " 'movilizarse tranquilo y libertar de expresión',\n",
       " 'tener vivo a lo papá',\n",
       " 'estar con mi familia',\n",
       " 'que ser solidario y saber elegir uno presidente i',\n",
       " 'estar tranquilo',\n",
       " 'que lo sociedad ser comprensivo',\n",
       " 'escuchar músico',\n",
       " 'bienestar común',\n",
       " 'relacionar con lo demás',\n",
       " 'tranquilidad descansar',\n",
       " 'dios',\n",
       " 'tranquilidad',\n",
       " 'vivir tranquilo en familia',\n",
       " 'estar solo',\n",
       " 'convivencia',\n",
       " 'estar tranquilo',\n",
       " 'viajar',\n",
       " 'tranquilidad',\n",
       " 'estar con lo mamá',\n",
       " 'unión libertar',\n",
       " 'no tener coser pendiente',\n",
       " 'estar que nadar el molestar',\n",
       " 'tranquilidad',\n",
       " 'espaciar de confort',\n",
       " 'tranquilidad',\n",
       " 'armonía',\n",
       " 'comer dormir e ir al iglesia',\n",
       " 'vivir en armonía',\n",
       " 'tranquilidad',\n",
       " 'tranquilidad',\n",
       " 'uno tipo de convivencia qué haber en uno grupo de personar',\n",
       " 'dios',\n",
       " 'ser vivir tranquilo sin violencia',\n",
       " 'tranquilidad',\n",
       " 'silenciar',\n",
       " 'sentirse tranquilo',\n",
       " 'amor',\n",
       " 'tranquilidad',\n",
       " 'armonía',\n",
       " 'equidad',\n",
       " 'tranquilidad',\n",
       " 'pureza',\n",
       " 'tranquilidad',\n",
       " 'unión',\n",
       " 'honestidad',\n",
       " 'tranquilidad entrar todo',\n",
       " 'armonía',\n",
       " 'tranquilidad',\n",
       " 'libertar',\n",
       " 'armonía',\n",
       " 'solidaridad',\n",
       " 'familia',\n",
       " 'lo músico',\n",
       " 'músico',\n",
       " 'tranquilidad',\n",
       " 'tranquilo',\n",
       " 'entendimiento mutuo',\n",
       " 'armonía',\n",
       " 'resolver lo conflicto con dialogar',\n",
       " 'tranquilidad',\n",
       " 'tranquilidad',\n",
       " 'tranquilidad de todo',\n",
       " 'lo tranquilidad de lo naturaleza',\n",
       " 'vivir en comunidad',\n",
       " 'tranquilidad',\n",
       " 'tranquilidad',\n",
       " 'familia',\n",
       " 'bienestar común',\n",
       " 'tranquilidad',\n",
       " 'tranquilidad',\n",
       " 'equidad',\n",
       " 'amor',\n",
       " 'no hacer el mal a lo demás',\n",
       " 'equidad',\n",
       " 'tranquilidad',\n",
       " 'tener tranquilidad en mediar de lo turbulencia',\n",
       " 'tranquilidad',\n",
       " 'tolerancia',\n",
       " 'tranquilidad de unir mismo',\n",
       " 'tranquilidad',\n",
       " 'armonía',\n",
       " 'respetar',\n",
       " 'no conflicto',\n",
       " 'tolerancia',\n",
       " 'no conflicto',\n",
       " 'estar con lo familia',\n",
       " 'plenitud',\n",
       " 'plenitud',\n",
       " 'derecho de libertar',\n",
       " 'tranquilidad',\n",
       " 'tranquilidad',\n",
       " 'amor',\n",
       " 'amor',\n",
       " 'tranquilidad',\n",
       " 'tranquilidad',\n",
       " 'armonía',\n",
       " 'tolerancia',\n",
       " 'relajación',\n",
       " 'tener tranquilidad con unir mismo y los personar',\n",
       " 'familia',\n",
       " 'equidad',\n",
       " 'tranquilidad',\n",
       " 'dignidad',\n",
       " 'armonía',\n",
       " 'lo músico',\n",
       " 'vivir con mi familia',\n",
       " 'tranquilidad',\n",
       " 'respetar',\n",
       " 'respetar',\n",
       " 'tranquilidad',\n",
       " 'respetarme a mi mismo y a lo demás',\n",
       " 'músico',\n",
       " 'armonía',\n",
       " 'tranquilidad',\n",
       " 'tranquilidad',\n",
       " 'acordar',\n",
       " 'músico',\n",
       " 'tranquilidad',\n",
       " 'felicidad',\n",
       " 'músico',\n",
       " 'tranquilidad',\n",
       " 'armonía',\n",
       " 'libertar',\n",
       " 'respectar',\n",
       " 'amor propio',\n",
       " 'amor',\n",
       " 'tranquilidad',\n",
       " 'oración',\n",
       " 'tranquilidad',\n",
       " 'músico',\n",
       " 'senderismo',\n",
       " 'solidaridad',\n",
       " 'tolerancia',\n",
       " 'libertar',\n",
       " 'desayunar',\n",
       " 'estar en familia',\n",
       " 'comer',\n",
       " 'perdonar',\n",
       " 'tranquilidad',\n",
       " 'lo comodidad',\n",
       " 'tranquilidad',\n",
       " 'estar solo',\n",
       " 'cuando me encontrar en oración con dios',\n",
       " 'que mi familia este bien',\n",
       " 'tener tranquilidad',\n",
       " 'tranquilo',\n",
       " 'vivir en armonía y felicidad',\n",
       " 'lo voz de mi hermano menor',\n",
       " 'muy tranquilo y relajar',\n",
       " 'cuando estar solo',\n",
       " 'el respetar',\n",
       " 'lo tranquilidad y no tener problema',\n",
       " 'comer naturaleza respetar',\n",
       " 'dormir',\n",
       " 'tranquilidad',\n",
       " 'estar con mi familiañ',\n",
       " 'escuchar músico',\n",
       " 'escuchar músico',\n",
       " 'paz ser donde todo los personar estar en equilibrio',\n",
       " 'tranquilidad y unidad',\n",
       " 'tranquilidad',\n",
       " 'lo músico',\n",
       " 'escuchar músico',\n",
       " 'mi casar',\n",
       " 'estar con los personar que me caer bien',\n",
       " 'en armonía',\n",
       " 'tener tranquilidad',\n",
       " 'tranquilidad',\n",
       " 'armonía',\n",
       " 'seguridad y personar',\n",
       " 'tranquilidad',\n",
       " 'solución de conflicto',\n",
       " 'tranquilidad',\n",
       " 'amor',\n",
       " 'amor',\n",
       " 'tranquilidad',\n",
       " 'uno bueno convivencia',\n",
       " 'tranquilidad',\n",
       " 'amor',\n",
       " 'tolerancia',\n",
       " 'tranquilidad',\n",
       " 'tranquilidad',\n",
       " 'derecho',\n",
       " 'libertar',\n",
       " 'vida',\n",
       " 'libertar',\n",
       " 'armonía',\n",
       " 'tranquilidad',\n",
       " 'armonía',\n",
       " 'amor',\n",
       " 'tranquilidad',\n",
       " 'tranquilidad',\n",
       " 'unión',\n",
       " 'armonía',\n",
       " 'tranquilidad',\n",
       " 'tranquilidad',\n",
       " 'tranquilidad',\n",
       " 'tranquilidad',\n",
       " 'tranquilidad',\n",
       " 'libertar',\n",
       " 'ser tranquilidad',\n",
       " 'sinónimo de seguridad y amor',\n",
       " 'respetar por lo opinión ajeno',\n",
       " 'armonía',\n",
       " 'lo amistar',\n",
       " 'equidad',\n",
       " 'igualdad',\n",
       " 'tranquilidad',\n",
       " 'no violencia',\n",
       " 'estar en tranquilidad individual',\n",
       " 'felicidad',\n",
       " 'estar en familia',\n",
       " 'felicidad',\n",
       " 'tranquilidad',\n",
       " 'poder cumplir los obligación',\n",
       " 'mi parejo',\n",
       " 'tranquilidad',\n",
       " 'no existir',\n",
       " 'tranquilidad',\n",
       " 'paz',\n",
       " 'seguridad',\n",
       " 'brindar paz a lo demás   paz en sí mismo   buscarle solución a lo problema de lo demás y lo de unir',\n",
       " 'tranquilidad',\n",
       " 'estar tranquilo conseguir mismo   tranquilidad',\n",
       " 'equilibrio social',\n",
       " 'ver a lo familia tranquilo y junto',\n",
       " 'estar bien con unir mismo',\n",
       " 'paz ser dios',\n",
       " 'respetar',\n",
       " 'tranquilidad',\n",
       " 'dormir',\n",
       " 'familia',\n",
       " 'convivencia libertar',\n",
       " 'ser uno valor primordial parir saber convivir parir ser pacífico',\n",
       " 'sano convivencia entrar los personar',\n",
       " 'dormir',\n",
       " 'igualdad',\n",
       " 'equidad tranquilidad',\n",
       " 'igualdad de oportunidad',\n",
       " 'libertar',\n",
       " 'tranquilidad',\n",
       " 'tranquilidad',\n",
       " 'casar orden solucionar conflicto social',\n",
       " 'tranquilidad',\n",
       " 'que todo lo familia estar bien',\n",
       " 'tranquilidad no atentar lo paz de lo demás',\n",
       " 'respetar',\n",
       " 'estar tranquilo en cualquiera ámbito',\n",
       " 'tranquilidad',\n",
       " 'amistar',\n",
       " 'armonía con el mundo',\n",
       " 'vivir en convivencia',\n",
       " 'convivencia',\n",
       " 'tranquilidad',\n",
       " 'felicidad',\n",
       " 'lo comer',\n",
       " 'tranquilidad',\n",
       " 'hijo',\n",
       " 'tranquilidad',\n",
       " 'tranquilidad',\n",
       " 'tener mi padre vivo',\n",
       " 'amor',\n",
       " 'tranquilidad',\n",
       " 'tranquilidad y comunidad',\n",
       " 'dormir',\n",
       " 'paz ser estar en tranquilidad con lo demás y respetar los diferenciar',\n",
       " 'tranquilidad',\n",
       " 'cuando estar con los personar que querer',\n",
       " 'estar bien conmigo mismo',\n",
       " 'mi familia',\n",
       " 'tranquilidad',\n",
       " 'lo seguridad',\n",
       " 'amor',\n",
       " 'ser uno estar se tranquilidad y armonía conmigo mismo',\n",
       " 'espaciar seguro tranquilidad',\n",
       " 'manera de estar en tranquilidad y armonía',\n",
       " 'sentir en sintonía con el universo',\n",
       " 'ser uno estar de armonía tranquilidad de unir mismo',\n",
       " 'tranquilidad',\n",
       " 'armonía y calmo',\n",
       " 'acordar bilateral',\n",
       " 'armonía con lo demás',\n",
       " 'tranquilidad',\n",
       " 'tranquilidad',\n",
       " 'tranquilidad',\n",
       " 'armonía respetar los diferente ideología',\n",
       " 'solucionar todo tipo de conflicto que afectar ambos partir',\n",
       " 'estar en convivencia con los demás personar',\n",
       " 'serenar y tranquilidad',\n",
       " 'ser uno sinónimo de amor y seguridad',\n",
       " 'estar de tranquilidad',\n",
       " 'estar de tranquilidad',\n",
       " 'estar de armonía',\n",
       " 'respetarse mutuamente',\n",
       " 'uno ilusión',\n",
       " 'capacidad de entender',\n",
       " 'posibilidad de vivir en convivir en sociedad entrar todo',\n",
       " 'tranquilidad',\n",
       " 'armonía',\n",
       " 'tranquilidad',\n",
       " 'ser uno estar de tranquilidad',\n",
       " 'respetar',\n",
       " 'libertar',\n",
       " 'descansar',\n",
       " 'unión',\n",
       " 'tranquilidad',\n",
       " 'respetar',\n",
       " 'concienciar',\n",
       " 'felicidad',\n",
       " 'tranquilidad',\n",
       " 'libertar',\n",
       " 'tranquilidad',\n",
       " 'tranquilidad',\n",
       " 'armonía con todo',\n",
       " 'seguridad y amor propio',\n",
       " 'equidad',\n",
       " 'respetar por los demás personar',\n",
       " 'justicia',\n",
       " 'tranquilidad con sí mismo',\n",
       " 'tranquilidad con nosotros mismo',\n",
       " 'convivencia con lo demás',\n",
       " 'respectar asir lo demás',\n",
       " 'igualdad',\n",
       " 'estar bien',\n",
       " 'plenitud',\n",
       " 'calmo silenciar',\n",
       " 'vivir sin guerra',\n",
       " 'ser tranquilidad',\n",
       " 'tranquilidad en el mundo enterar',\n",
       " 'tranquilidad',\n",
       " 'tranquilidad',\n",
       " 'sentirme tranquilo con el que haber con mí entornar',\n",
       " 'lo paz ser que todo vivir en comunidad que haber oportunidad de trabajar y que no haber violencia',\n",
       " 'serenidad',\n",
       " 'estar con dios',\n",
       " 'no violencia',\n",
       " 'mucho coser comer lo convivencia sin guerra',\n",
       " 'ser que hallar trabajar y salud parir todo',\n",
       " 'no violencia',\n",
       " 'estar bien con seguir mismo',\n",
       " 'tranquilidad',\n",
       " 'el mediar por lo cual los personar vivir de acordar',\n",
       " 'tranquilidad',\n",
       " 'estar en unión y tener respetar',\n",
       " 'tranquilidad',\n",
       " 'vivir en armonía todo',\n",
       " 'armonía',\n",
       " 'tranquilidad',\n",
       " 'en todo partir me sentir en paz',\n",
       " 'tranquilidad',\n",
       " 'tranquilidad',\n",
       " 'tranquilidad',\n",
       " 'tranquilidad',\n",
       " 'parir mi lo paz ser estar bien con dios y lo vecino',\n",
       " 'armonía',\n",
       " 'lo no violencia',\n",
       " 'tranquilidad',\n",
       " 'ser uno equilibrio social',\n",
       " 'tranquilidad',\n",
       " 'reconciliación',\n",
       " 'ser estar en tranquilidad',\n",
       " 'ausencia de lo guerra',\n",
       " 'tranquilidad',\n",
       " 'ser estar en tranquilidad con lo demás y unir mismo',\n",
       " 'ser uno obligación y deber del estar',\n",
       " 'espiritualidad',\n",
       " 'tranquilidad',\n",
       " 'ser acceder a lo justicia',\n",
       " 'convivencia',\n",
       " 'libertar',\n",
       " 'tranquilidad',\n",
       " 'estar en paz y armonía',\n",
       " 'educación',\n",
       " 'donde no haber guerra',\n",
       " 'tranquilidad',\n",
       " 'perdón',\n",
       " 'uno obligación del estar',\n",
       " 'naturaleza',\n",
       " 'uno estar de armonía entrar varios partir',\n",
       " 'reconciliación',\n",
       " 'lo paz ser estar en armonía y convivir',\n",
       " 'respetar',\n",
       " 'sano convivencia',\n",
       " 'tranquilidad',\n",
       " 'ambientar regular',\n",
       " 'educación',\n",
       " 'armonía',\n",
       " 'armonía',\n",
       " 'estar en paz con todo mundo',\n",
       " 'comunidad',\n",
       " 'soledad',\n",
       " 'convivencia',\n",
       " 'tranquilidad',\n",
       " 'el que no tener acá en el país',\n",
       " 'tranquilidad',\n",
       " 'convivencia',\n",
       " 'amor',\n",
       " 'convivencia pacífico en uno sociedad',\n",
       " 'respetar',\n",
       " 'tranquilidad',\n",
       " 'tranquilidad',\n",
       " 'entendimiento entrar todo',\n",
       " 'tranquilidad',\n",
       " 'estabilidad',\n",
       " 'dormir',\n",
       " 'tolerancia',\n",
       " 'entendimiento mutuo de lo sociedad',\n",
       " 'tranquilidad',\n",
       " 'igualdad',\n",
       " 'vivir en convivencia',\n",
       " 'reconciliación',\n",
       " 'armonía',\n",
       " 'construcción social',\n",
       " 'tranquilidad en el ambientar',\n",
       " 'dios',\n",
       " 'el que unir sentir',\n",
       " 'justicia social',\n",
       " 'estar bien con unir mismo',\n",
       " 'encontrarse espiritualmente',\n",
       " 'tranquilidad',\n",
       " 'armonía',\n",
       " 'igualdad respetar no discriminación',\n",
       " 'tranquilidad',\n",
       " 'tranquilidad',\n",
       " 'tranquilidad',\n",
       " 'equidad',\n",
       " 'tranquilidad',\n",
       " 'felicidad de todo sin afectar a lo demás respetar los diferenciar',\n",
       " 'tranquilidad',\n",
       " 'quietud',\n",
       " 'confianza',\n",
       " 'tranquilidad',\n",
       " 'no discriminación',\n",
       " 'conciliación',\n",
       " 'tranquilidad',\n",
       " 'igualdad',\n",
       " 'tranquilidad',\n",
       " 'no vivir en guerra',\n",
       " 'serenidad',\n",
       " 'armonía',\n",
       " 'bueno relación con los personar',\n",
       " 'tranquilidad',\n",
       " 'tranquilidad familia',\n",
       " 'bienestar',\n",
       " 'familia',\n",
       " 'tranquilidad',\n",
       " 'tranquilidad de estar vivir',\n",
       " 'estar que todo desear',\n",
       " 'tranquilidad de su emocionar',\n",
       " 'armonía',\n",
       " 'tranquilidad',\n",
       " 'no estar en guerra',\n",
       " 'amor y tranquilidad',\n",
       " 'no tener preocupación',\n",
       " 'estar con mi familia',\n",
       " 'no violencia',\n",
       " 'tranquilidad',\n",
       " 'armonía',\n",
       " 'tranquilidad',\n",
       " 'tranquilidad',\n",
       " 'reconciliación',\n",
       " 'tranquilidad',\n",
       " 'espiritual',\n",
       " 'tranquilidad',\n",
       " 'tranquilidad',\n",
       " 'estar en contactar con lo naturaleza',\n",
       " 'tranquilidad',\n",
       " 'tranquilidad',\n",
       " 'todo tener igualdad',\n",
       " 'menos guerra',\n",
       " 'tranquilidad con lo demás',\n",
       " 'tranquilidad',\n",
       " 'estabilidad emocional',\n",
       " 'felicidad',\n",
       " 'amor propio',\n",
       " 'compañía de mascota',\n",
       " 'tranquilidad',\n",
       " 'tranquilidad parir los personar',\n",
       " 'tranquilidad',\n",
       " 'igualdad',\n",
       " 'igualdad y equidad',\n",
       " 'tranquilidad',\n",
       " 'libertar',\n",
       " 'estar en mi cama ver película',\n",
       " 'comprensión y respetar',\n",
       " 'tranquilidad emocional',\n",
       " 'armonía y equidad sin buscar el bien propio',\n",
       " 'amor',\n",
       " 'armonía',\n",
       " 'respetar y tranquilidad',\n",
       " 'tranquilidad',\n",
       " 'libertar',\n",
       " 'igualdad',\n",
       " 'respetar por lo demás',\n",
       " 'tranquilidad',\n",
       " 'estar de armonía',\n",
       " 'estar en lo casar',\n",
       " 'tranquilidad y tolerancia',\n",
       " 'convivir en armonía',\n",
       " 'armonía',\n",
       " 'tranquilidad',\n",
       " 'reconciliación',\n",
       " 'armonía',\n",
       " 'espiritualmente',\n",
       " 'que no haber hambre',\n",
       " 'fin a lo guerra',\n",
       " 'estar tranquilo',\n",
       " 'tranquilidad',\n",
       " 'no tener problema',\n",
       " 'tolerancia y solidaridad',\n",
       " 'tranquilidad',\n",
       " 'tranquilidad interior',\n",
       " 'tranquilidad',\n",
       " 'tener derecho',\n",
       " 'vivir en armonía en uno sociedad',\n",
       " 'libertar y amor',\n",
       " 'amor y felicidad',\n",
       " 'luz interior',\n",
       " 'estar en amor',\n",
       " 'estar en tranquilidad',\n",
       " 'ser estar en tranquilidad y armonía en si mismo',\n",
       " 'estar en tranquilidad',\n",
       " 'estar en tranquilidad ciudadano',\n",
       " 'lo sano convivencia en uno sociedad',\n",
       " 'estar en tranquilidad',\n",
       " 'estar en tranquilidad',\n",
       " 'estar en libertar con el poblar',\n",
       " 'vivir bien con todo lo comunidad',\n",
       " 'calmo',\n",
       " 'lo paz ser de menos guerra en lo sociedad',\n",
       " 'lo paz ser el mejor rincón parir vivir en sociedad',\n",
       " 'aprender a vivir en sociedad regular uno conducta de   los personar',\n",
       " 'este en paza con unir mismo',\n",
       " 'estar en reconciliación',\n",
       " 'estar en sano convivencia',\n",
       " 'estar en uno lugar silencioso',\n",
       " 'tranquilidad con unir mismo',\n",
       " 'equilibrio',\n",
       " 'reconciliación',\n",
       " 'tranquilidad',\n",
       " 'amor y respetar',\n",
       " 'no violencia',\n",
       " 'tranquilidad',\n",
       " 'tranquilidad',\n",
       " 'tranquilidad',\n",
       " 'familia y tiempo',\n",
       " 'libertar',\n",
       " 'tener derecho a uno librar opinión',\n",
       " 'mi mamá',\n",
       " 'equilibrio emocional',\n",
       " 'amor',\n",
       " 'sano convivencia',\n",
       " 'no conflicto',\n",
       " 'tranquilidad y respetar',\n",
       " 'bondad',\n",
       " 'sentirse bien tener oportunidad',\n",
       " 'uno comunidad con amor',\n",
       " 'tranquilo con familia y dios',\n",
       " 'estar a gustar con unir mismo',\n",
       " 'armonía',\n",
       " 'tranquilidad',\n",
       " 'amor',\n",
       " 'equidad',\n",
       " 'estar en armonía con el entornar',\n",
       " 'tranquilidad del poblar',\n",
       " 'solución a lo problema',\n",
       " 'equilibrio y tranquilidad con el entornar',\n",
       " 'respetar',\n",
       " 'sabiduría',\n",
       " 'libertar',\n",
       " 'educación',\n",
       " 'seguridad',\n",
       " 'menos guerra',\n",
       " 'tranquilidad',\n",
       " 'igualdad',\n",
       " 'estar solo',\n",
       " 'amor',\n",
       " 'convivir',\n",
       " 'tranquilidad en el entornar',\n",
       " 'libertar',\n",
       " 'igualdad',\n",
       " 'sociedad',\n",
       " 'justicia',\n",
       " 'tranquilidad',\n",
       " 'armonía',\n",
       " 'libertar',\n",
       " 'respetar a lo vida',\n",
       " 'seguridad',\n",
       " 'seguridad',\n",
       " 'bienestar',\n",
       " 'libertar',\n",
       " 'respetar',\n",
       " 'tranquilidad',\n",
       " 'vivir en armonía',\n",
       " 'tolerancia',\n",
       " 'tranquilidad en armonía',\n",
       " 'sabiduría',\n",
       " 'dios',\n",
       " 'libertar',\n",
       " 'respetar a los otro personar y a lo naturaleza',\n",
       " 'amor por lo familia',\n",
       " 'tranquilo',\n",
       " 'convivencia',\n",
       " 'igualdad',\n",
       " 'amor',\n",
       " 'serenidad',\n",
       " 'tranquilidad',\n",
       " 'tranquilidad',\n",
       " 'convivencia',\n",
       " 'tranquilidad con unir y lo demás',\n",
       " 'estar en lo presenciar de dios',\n",
       " 'respetar',\n",
       " 'tranquilidad',\n",
       " 'seguridad',\n",
       " 'libertar',\n",
       " 'tranquilo',\n",
       " 'tranquilidad',\n",
       " 'tranquilidad personal',\n",
       " 'tolerancia a otro',\n",
       " 'el que necesitar',\n",
       " 'no a lo violencia',\n",
       " 'tranquilidad',\n",
       " 'no violencia',\n",
       " 'amor',\n",
       " 'convivencia',\n",
       " 'amor',\n",
       " 'tranquilidad',\n",
       " 'amor',\n",
       " 'principiar universal',\n",
       " 'tranquilidad',\n",
       " 'igualdad',\n",
       " 'armonía',\n",
       " 'tranquilidad',\n",
       " 'no violencia',\n",
       " 'armonía',\n",
       " 'vivir tranquilo',\n",
       " 'tranquilidad',\n",
       " 'tranquilidad',\n",
       " 'amor',\n",
       " 'paz',\n",
       " 'humildad',\n",
       " 'tranquilidad',\n",
       " 'derecho',\n",
       " 'perdón',\n",
       " 'familia',\n",
       " 'calmo',\n",
       " 'respetar',\n",
       " 'tranquilidad',\n",
       " 'solidaridad',\n",
       " 'tolerancia',\n",
       " 'respetar',\n",
       " 'reconciliación',\n",
       " 'convivencia',\n",
       " 'libertar',\n",
       " 'convivencia sano',\n",
       " 'tolerancia',\n",
       " 'no violencia',\n",
       " 'respetar',\n",
       " 'respetar',\n",
       " 'tolerancia',\n",
       " 'amor',\n",
       " 'respetar',\n",
       " 'músico',\n",
       " 'amor',\n",
       " 'tranquilidad',\n",
       " 'familia',\n",
       " 'amor',\n",
       " 'solidaridad',\n",
       " 'dinero',\n",
       " 'conciliación',\n",
       " 'amor',\n",
       " 'vivir en uno bueno convivencia con lo demás',\n",
       " 'paz ser tolerancia',\n",
       " 'tranquilidad',\n",
       " 'estar en familia',\n",
       " 'amor',\n",
       " 'respetar',\n",
       " 'amor',\n",
       " 'amor',\n",
       " 'igualdad',\n",
       " 'convivencia pacificar con lo demás y amor',\n",
       " 'no aparecer',\n",
       " 'no aparecer cuadrar de dato',\n",
       " 'lo paz parir mi ser tener claridad sobrar los coser que suceder o estar suceder ser lo verdad de cada uno decir en voz alto',\n",
       " 'parir mi lo paz representar tranquilidad',\n",
       " 'lo paz parir mi creer que ser vivir sin violencia racismo discriminación e intolerancia',\n",
       " 'paz ser libertar ser de el que no rodear   lo animal el sol lo músico y todo nuestro entornar ser aceptar a   lo de mas tal comer ser',\n",
       " 'paz parir mi ser tener bueno educación   parir poder tener igualdad   tolerancia   respectar parir tener uno paz verdadero',\n",
       " 'paz parir mi ser q todo poder tener uno educación digno parir asir uno mejor convivencia   con respetar   y tolerancia y tener uno mejor nivel de vida',\n",
       " 'no tener',\n",
       " 'parir mi lo paz ser poder compartir con mi familia en el parque y sentirnos seguro porque ese me lleno de tranquilidad y alegría y este suceder cuando terminar mi jornada laboral y estar con ellos',\n",
       " 'mi paz ser ayudar a mi hermano en el que mas p´´pueda y estar en armonía con mi vecino del barrio y estar bien con mi familia',\n",
       " ...]"
      ]
     },
     "execution_count": 180,
     "metadata": {},
     "output_type": "execute_result"
    }
   ],
   "source": [
    "data_list"
   ]
  },
  {
   "cell_type": "code",
   "execution_count": 181,
   "metadata": {
    "collapsed": true
   },
   "outputs": [],
   "source": [
    "df_lemmatized=pd.DataFrame(data=data_list,columns=[\"Narrativa_lemmatized\"])"
   ]
  },
  {
   "cell_type": "code",
   "execution_count": 183,
   "metadata": {},
   "outputs": [
    {
     "data": {
      "text/html": [
       "<div>\n",
       "<style scoped>\n",
       "    .dataframe tbody tr th:only-of-type {\n",
       "        vertical-align: middle;\n",
       "    }\n",
       "\n",
       "    .dataframe tbody tr th {\n",
       "        vertical-align: top;\n",
       "    }\n",
       "\n",
       "    .dataframe thead th {\n",
       "        text-align: right;\n",
       "    }\n",
       "</style>\n",
       "<table border=\"1\" class=\"dataframe\">\n",
       "  <thead>\n",
       "    <tr style=\"text-align: right;\">\n",
       "      <th></th>\n",
       "      <th>Narrativa_lemmatized</th>\n",
       "    </tr>\n",
       "  </thead>\n",
       "  <tbody>\n",
       "    <tr>\n",
       "      <th>0</th>\n",
       "      <td>tranquilidad convivencia casar educación colec...</td>\n",
       "    </tr>\n",
       "    <tr>\n",
       "      <th>1</th>\n",
       "      <td>tiempo en hora de día de semana y de fin de se...</td>\n",
       "    </tr>\n",
       "    <tr>\n",
       "      <th>2</th>\n",
       "      <td>tranquilidad familia empleabilidad tolerancia ...</td>\n",
       "    </tr>\n",
       "    <tr>\n",
       "      <th>3</th>\n",
       "      <td>acción sin dañar integración comunitario respe...</td>\n",
       "    </tr>\n",
       "    <tr>\n",
       "      <th>4</th>\n",
       "      <td>proceso formativo y de multiplicación numerar ...</td>\n",
       "    </tr>\n",
       "  </tbody>\n",
       "</table>\n",
       "</div>"
      ],
      "text/plain": [
       "                                Narrativa_lemmatized\n",
       "0  tranquilidad convivencia casar educación colec...\n",
       "1  tiempo en hora de día de semana y de fin de se...\n",
       "2  tranquilidad familia empleabilidad tolerancia ...\n",
       "3  acción sin dañar integración comunitario respe...\n",
       "4  proceso formativo y de multiplicación numerar ..."
      ]
     },
     "execution_count": 183,
     "metadata": {},
     "output_type": "execute_result"
    }
   ],
   "source": [
    "df_lemmatized.head()"
   ]
  },
  {
   "cell_type": "code",
   "execution_count": 184,
   "metadata": {},
   "outputs": [
    {
     "data": {
      "text/plain": [
       "Index(['Narrativa', 'Narrativa_processed'], dtype='object')"
      ]
     },
     "execution_count": 184,
     "metadata": {},
     "output_type": "execute_result"
    }
   ],
   "source": [
    "df.columns"
   ]
  },
  {
   "cell_type": "code",
   "execution_count": 185,
   "metadata": {},
   "outputs": [
    {
     "name": "stderr",
     "output_type": "stream",
     "text": [
      "/usr/local/anaconda/lib/python3.6/site-packages/ipykernel_launcher.py:1: SettingWithCopyWarning: \n",
      "A value is trying to be set on a copy of a slice from a DataFrame.\n",
      "Try using .loc[row_indexer,col_indexer] = value instead\n",
      "\n",
      "See the caveats in the documentation: http://pandas.pydata.org/pandas-docs/stable/user_guide/indexing.html#returning-a-view-versus-a-copy\n",
      "  \"\"\"Entry point for launching an IPython kernel.\n"
     ]
    }
   ],
   "source": [
    "df[\"Narrativa_lemmatized\"]= df_lemmatized.values"
   ]
  },
  {
   "cell_type": "code",
   "execution_count": 186,
   "metadata": {},
   "outputs": [
    {
     "data": {
      "text/html": [
       "<div>\n",
       "<style scoped>\n",
       "    .dataframe tbody tr th:only-of-type {\n",
       "        vertical-align: middle;\n",
       "    }\n",
       "\n",
       "    .dataframe tbody tr th {\n",
       "        vertical-align: top;\n",
       "    }\n",
       "\n",
       "    .dataframe thead th {\n",
       "        text-align: right;\n",
       "    }\n",
       "</style>\n",
       "<table border=\"1\" class=\"dataframe\">\n",
       "  <thead>\n",
       "    <tr style=\"text-align: right;\">\n",
       "      <th></th>\n",
       "      <th>Narrativa</th>\n",
       "      <th>Narrativa_processed</th>\n",
       "      <th>Narrativa_lemmatized</th>\n",
       "    </tr>\n",
       "  </thead>\n",
       "  <tbody>\n",
       "    <tr>\n",
       "      <th>0</th>\n",
       "      <td>Tranquilidad, Convivencia, Casa, Educación, Co...</td>\n",
       "      <td>tranquilidad convivencia casa educación colect...</td>\n",
       "      <td>tranquilidad convivencia casar educación colec...</td>\n",
       "    </tr>\n",
       "    <tr>\n",
       "      <th>1</th>\n",
       "      <td>Tiempo en horas de día de semana y de fin de s...</td>\n",
       "      <td>tiempo en horas de día de semana y de fin de s...</td>\n",
       "      <td>tiempo en hora de día de semana y de fin de se...</td>\n",
       "    </tr>\n",
       "    <tr>\n",
       "      <th>2</th>\n",
       "      <td>tranquilidad, familia, empleabilidad Toleranci...</td>\n",
       "      <td>tranquilidad familia empleabilidad tolerancia ...</td>\n",
       "      <td>tranquilidad familia empleabilidad tolerancia ...</td>\n",
       "    </tr>\n",
       "    <tr>\n",
       "      <th>3</th>\n",
       "      <td>Acción sin daño, integración comunitaria, resp...</td>\n",
       "      <td>acción sin daño integración comunitaria respet...</td>\n",
       "      <td>acción sin dañar integración comunitario respe...</td>\n",
       "    </tr>\n",
       "    <tr>\n",
       "      <th>4</th>\n",
       "      <td>Procesos formativos y de multiplicación. Numer...</td>\n",
       "      <td>procesos formativos y de multiplicación numero...</td>\n",
       "      <td>proceso formativo y de multiplicación numerar ...</td>\n",
       "    </tr>\n",
       "    <tr>\n",
       "      <th>...</th>\n",
       "      <td>...</td>\n",
       "      <td>...</td>\n",
       "      <td>...</td>\n",
       "    </tr>\n",
       "    <tr>\n",
       "      <th>96</th>\n",
       "      <td>coexistencia, rechazo a la violencia, confianz...</td>\n",
       "      <td>coexistencia rechazo a la violencia confianza ...</td>\n",
       "      <td>coexistencia rechazar a lo violencia confianza...</td>\n",
       "    </tr>\n",
       "    <tr>\n",
       "      <th>97</th>\n",
       "      <td>Inclusión de grupos en conflito, Realización d...</td>\n",
       "      <td>inclusión de grupos en conflito realización de...</td>\n",
       "      <td>inclusión de grupo en conflito realización de ...</td>\n",
       "    </tr>\n",
       "    <tr>\n",
       "      <th>98</th>\n",
       "      <td>1. Iniciativas comunitarias que promueven cult...</td>\n",
       "      <td>iniciativas comunitarias que promueven cultura...</td>\n",
       "      <td>iniciativo comunitario que promover cultura ci...</td>\n",
       "    </tr>\n",
       "    <tr>\n",
       "      <th>99</th>\n",
       "      <td>goce pleno de derechos, justicia social, gober...</td>\n",
       "      <td>goce pleno de derechos justicia social goberna...</td>\n",
       "      <td>gozar pleno de derecho justicia social goberna...</td>\n",
       "    </tr>\n",
       "    <tr>\n",
       "      <th>100</th>\n",
       "      <td>Número de entrevistas gestionadas y realizadas...</td>\n",
       "      <td>número de entrevistas gestionadas y realizadas...</td>\n",
       "      <td>número de entrevistar gestionar y realizar can...</td>\n",
       "    </tr>\n",
       "  </tbody>\n",
       "</table>\n",
       "<p>100 rows × 3 columns</p>\n",
       "</div>"
      ],
      "text/plain": [
       "                                             Narrativa  \\\n",
       "0    Tranquilidad, Convivencia, Casa, Educación, Co...   \n",
       "1    Tiempo en horas de día de semana y de fin de s...   \n",
       "2    tranquilidad, familia, empleabilidad Toleranci...   \n",
       "3    Acción sin daño, integración comunitaria, resp...   \n",
       "4    Procesos formativos y de multiplicación. Numer...   \n",
       "..                                                 ...   \n",
       "96   coexistencia, rechazo a la violencia, confianz...   \n",
       "97   Inclusión de grupos en conflito, Realización d...   \n",
       "98   1. Iniciativas comunitarias que promueven cult...   \n",
       "99   goce pleno de derechos, justicia social, gober...   \n",
       "100  Número de entrevistas gestionadas y realizadas...   \n",
       "\n",
       "                                   Narrativa_processed  \\\n",
       "0    tranquilidad convivencia casa educación colect...   \n",
       "1    tiempo en horas de día de semana y de fin de s...   \n",
       "2    tranquilidad familia empleabilidad tolerancia ...   \n",
       "3    acción sin daño integración comunitaria respet...   \n",
       "4    procesos formativos y de multiplicación numero...   \n",
       "..                                                 ...   \n",
       "96   coexistencia rechazo a la violencia confianza ...   \n",
       "97   inclusión de grupos en conflito realización de...   \n",
       "98   iniciativas comunitarias que promueven cultura...   \n",
       "99   goce pleno de derechos justicia social goberna...   \n",
       "100  número de entrevistas gestionadas y realizadas...   \n",
       "\n",
       "                                  Narrativa_lemmatized  \n",
       "0    tranquilidad convivencia casar educación colec...  \n",
       "1    tiempo en hora de día de semana y de fin de se...  \n",
       "2    tranquilidad familia empleabilidad tolerancia ...  \n",
       "3    acción sin dañar integración comunitario respe...  \n",
       "4    proceso formativo y de multiplicación numerar ...  \n",
       "..                                                 ...  \n",
       "96   coexistencia rechazar a lo violencia confianza...  \n",
       "97   inclusión de grupo en conflito realización de ...  \n",
       "98   iniciativo comunitario que promover cultura ci...  \n",
       "99   gozar pleno de derecho justicia social goberna...  \n",
       "100  número de entrevistar gestionar y realizar can...  \n",
       "\n",
       "[100 rows x 3 columns]"
      ]
     },
     "execution_count": 186,
     "metadata": {},
     "output_type": "execute_result"
    }
   ],
   "source": [
    "df.head(100)"
   ]
  },
  {
   "cell_type": "markdown",
   "metadata": {},
   "source": [
    "Tokenization"
   ]
  },
  {
   "cell_type": "code",
   "execution_count": 187,
   "metadata": {},
   "outputs": [
    {
     "name": "stderr",
     "output_type": "stream",
     "text": [
      "/usr/local/anaconda/lib/python3.6/site-packages/ipykernel_launcher.py:5: SettingWithCopyWarning: \n",
      "A value is trying to be set on a copy of a slice from a DataFrame.\n",
      "Try using .loc[row_indexer,col_indexer] = value instead\n",
      "\n",
      "See the caveats in the documentation: http://pandas.pydata.org/pandas-docs/stable/user_guide/indexing.html#returning-a-view-versus-a-copy\n",
      "  \"\"\"\n"
     ]
    }
   ],
   "source": [
    "def sent_to_words(sentences):\n",
    "    for sentence in sentences:\n",
    "        yield(gensim.utils.simple_preprocess(str(sentence)))  # deacc=True removes punctuations\n",
    "\n",
    "df[\"Narrativa_lemmatized\"] = list(sent_to_words(df[\"Narrativa_lemmatized\"]))"
   ]
  },
  {
   "cell_type": "markdown",
   "metadata": {},
   "source": [
    "Bigrams and Trigrams"
   ]
  },
  {
   "cell_type": "code",
   "execution_count": 188,
   "metadata": {},
   "outputs": [
    {
     "name": "stderr",
     "output_type": "stream",
     "text": [
      "/usr/local/anaconda/lib/python3.6/site-packages/ipykernel_launcher.py:13: SettingWithCopyWarning: \n",
      "A value is trying to be set on a copy of a slice from a DataFrame.\n",
      "Try using .loc[row_indexer,col_indexer] = value instead\n",
      "\n",
      "See the caveats in the documentation: http://pandas.pydata.org/pandas-docs/stable/user_guide/indexing.html#returning-a-view-versus-a-copy\n",
      "  del sys.path[0]\n",
      "/usr/local/anaconda/lib/python3.6/site-packages/ipykernel_launcher.py:14: SettingWithCopyWarning: \n",
      "A value is trying to be set on a copy of a slice from a DataFrame.\n",
      "Try using .loc[row_indexer,col_indexer] = value instead\n",
      "\n",
      "See the caveats in the documentation: http://pandas.pydata.org/pandas-docs/stable/user_guide/indexing.html#returning-a-view-versus-a-copy\n",
      "  \n"
     ]
    }
   ],
   "source": [
    "# Build the bigram and trigram models\n",
    "bigram = gensim.models.Phrases(df['Narrativa_lemmatized'], min_count=5, threshold=100) # higher threshold fewer phrases.\n",
    "trigram = gensim.models.Phrases(bigram[df['Narrativa_lemmatized']], threshold=100)\n",
    "# Faster way to get a sentence clubbed as a trigram/bigram\n",
    "bigram_mod = gensim.models.phrases.Phraser(bigram)\n",
    "trigram_mod = gensim.models.phrases.Phraser(trigram)\n",
    "\n",
    "def make_bigrams(texts):\n",
    "    return [bigram_mod[doc] for doc in texts]\n",
    "def make_trigrams(texts):\n",
    "    return [trigram_mod[bigram_mod[doc]] for doc in texts]\n",
    "\n",
    "df['Narrativa_lemmatized'] = make_bigrams(df['Narrativa_lemmatized'])\n",
    "df['Narrativa_lemmatized'] = make_trigrams(df['Narrativa_lemmatized'])"
   ]
  },
  {
   "cell_type": "code",
   "execution_count": 189,
   "metadata": {},
   "outputs": [
    {
     "data": {
      "text/html": [
       "<div>\n",
       "<style scoped>\n",
       "    .dataframe tbody tr th:only-of-type {\n",
       "        vertical-align: middle;\n",
       "    }\n",
       "\n",
       "    .dataframe tbody tr th {\n",
       "        vertical-align: top;\n",
       "    }\n",
       "\n",
       "    .dataframe thead th {\n",
       "        text-align: right;\n",
       "    }\n",
       "</style>\n",
       "<table border=\"1\" class=\"dataframe\">\n",
       "  <thead>\n",
       "    <tr style=\"text-align: right;\">\n",
       "      <th></th>\n",
       "      <th>Narrativa</th>\n",
       "      <th>Narrativa_processed</th>\n",
       "      <th>Narrativa_lemmatized</th>\n",
       "    </tr>\n",
       "  </thead>\n",
       "  <tbody>\n",
       "    <tr>\n",
       "      <th>0</th>\n",
       "      <td>Tranquilidad, Convivencia, Casa, Educación, Co...</td>\n",
       "      <td>tranquilidad convivencia casa educación colect...</td>\n",
       "      <td>[tranquilidad, convivencia, casar, educación, ...</td>\n",
       "    </tr>\n",
       "    <tr>\n",
       "      <th>1</th>\n",
       "      <td>Tiempo en horas de día de semana y de fin de s...</td>\n",
       "      <td>tiempo en horas de día de semana y de fin de s...</td>\n",
       "      <td>[tiempo, en, hora, de, día, de, semana, de, fi...</td>\n",
       "    </tr>\n",
       "    <tr>\n",
       "      <th>2</th>\n",
       "      <td>tranquilidad, familia, empleabilidad Toleranci...</td>\n",
       "      <td>tranquilidad familia empleabilidad tolerancia ...</td>\n",
       "      <td>[tranquilidad, familia, empleabilidad, toleran...</td>\n",
       "    </tr>\n",
       "    <tr>\n",
       "      <th>3</th>\n",
       "      <td>Acción sin daño, integración comunitaria, resp...</td>\n",
       "      <td>acción sin daño integración comunitaria respet...</td>\n",
       "      <td>[acción, sin, dañar, integración, comunitario,...</td>\n",
       "    </tr>\n",
       "    <tr>\n",
       "      <th>4</th>\n",
       "      <td>Procesos formativos y de multiplicación. Numer...</td>\n",
       "      <td>procesos formativos y de multiplicación numero...</td>\n",
       "      <td>[proceso, formativo, de, multiplicación, numer...</td>\n",
       "    </tr>\n",
       "    <tr>\n",
       "      <th>...</th>\n",
       "      <td>...</td>\n",
       "      <td>...</td>\n",
       "      <td>...</td>\n",
       "    </tr>\n",
       "    <tr>\n",
       "      <th>96</th>\n",
       "      <td>coexistencia, rechazo a la violencia, confianz...</td>\n",
       "      <td>coexistencia rechazo a la violencia confianza ...</td>\n",
       "      <td>[coexistencia, rechazar, lo, violencia, confia...</td>\n",
       "    </tr>\n",
       "    <tr>\n",
       "      <th>97</th>\n",
       "      <td>Inclusión de grupos en conflito, Realización d...</td>\n",
       "      <td>inclusión de grupos en conflito realización de...</td>\n",
       "      <td>[inclusión, de, grupo, en, conflito, realizaci...</td>\n",
       "    </tr>\n",
       "    <tr>\n",
       "      <th>98</th>\n",
       "      <td>1. Iniciativas comunitarias que promueven cult...</td>\n",
       "      <td>iniciativas comunitarias que promueven cultura...</td>\n",
       "      <td>[iniciativo_comunitario, que, promover, cultur...</td>\n",
       "    </tr>\n",
       "    <tr>\n",
       "      <th>99</th>\n",
       "      <td>goce pleno de derechos, justicia social, gober...</td>\n",
       "      <td>goce pleno de derechos justicia social goberna...</td>\n",
       "      <td>[gozar, pleno, de, derecho, justicia, social, ...</td>\n",
       "    </tr>\n",
       "    <tr>\n",
       "      <th>100</th>\n",
       "      <td>Número de entrevistas gestionadas y realizadas...</td>\n",
       "      <td>número de entrevistas gestionadas y realizadas...</td>\n",
       "      <td>[número, de, entrevistar, gestionar, realizar,...</td>\n",
       "    </tr>\n",
       "  </tbody>\n",
       "</table>\n",
       "<p>100 rows × 3 columns</p>\n",
       "</div>"
      ],
      "text/plain": [
       "                                             Narrativa  \\\n",
       "0    Tranquilidad, Convivencia, Casa, Educación, Co...   \n",
       "1    Tiempo en horas de día de semana y de fin de s...   \n",
       "2    tranquilidad, familia, empleabilidad Toleranci...   \n",
       "3    Acción sin daño, integración comunitaria, resp...   \n",
       "4    Procesos formativos y de multiplicación. Numer...   \n",
       "..                                                 ...   \n",
       "96   coexistencia, rechazo a la violencia, confianz...   \n",
       "97   Inclusión de grupos en conflito, Realización d...   \n",
       "98   1. Iniciativas comunitarias que promueven cult...   \n",
       "99   goce pleno de derechos, justicia social, gober...   \n",
       "100  Número de entrevistas gestionadas y realizadas...   \n",
       "\n",
       "                                   Narrativa_processed  \\\n",
       "0    tranquilidad convivencia casa educación colect...   \n",
       "1    tiempo en horas de día de semana y de fin de s...   \n",
       "2    tranquilidad familia empleabilidad tolerancia ...   \n",
       "3    acción sin daño integración comunitaria respet...   \n",
       "4    procesos formativos y de multiplicación numero...   \n",
       "..                                                 ...   \n",
       "96   coexistencia rechazo a la violencia confianza ...   \n",
       "97   inclusión de grupos en conflito realización de...   \n",
       "98   iniciativas comunitarias que promueven cultura...   \n",
       "99   goce pleno de derechos justicia social goberna...   \n",
       "100  número de entrevistas gestionadas y realizadas...   \n",
       "\n",
       "                                  Narrativa_lemmatized  \n",
       "0    [tranquilidad, convivencia, casar, educación, ...  \n",
       "1    [tiempo, en, hora, de, día, de, semana, de, fi...  \n",
       "2    [tranquilidad, familia, empleabilidad, toleran...  \n",
       "3    [acción, sin, dañar, integración, comunitario,...  \n",
       "4    [proceso, formativo, de, multiplicación, numer...  \n",
       "..                                                 ...  \n",
       "96   [coexistencia, rechazar, lo, violencia, confia...  \n",
       "97   [inclusión, de, grupo, en, conflito, realizaci...  \n",
       "98   [iniciativo_comunitario, que, promover, cultur...  \n",
       "99   [gozar, pleno, de, derecho, justicia, social, ...  \n",
       "100  [número, de, entrevistar, gestionar, realizar,...  \n",
       "\n",
       "[100 rows x 3 columns]"
      ]
     },
     "execution_count": 189,
     "metadata": {},
     "output_type": "execute_result"
    }
   ],
   "source": [
    "df.head(100)"
   ]
  },
  {
   "cell_type": "markdown",
   "metadata": {},
   "source": [
    "Remove Stop words"
   ]
  },
  {
   "cell_type": "code",
   "execution_count": 190,
   "metadata": {},
   "outputs": [
    {
     "name": "stdout",
     "output_type": "stream",
     "text": [
      "[nltk_data] Downloading package stopwords to\n",
      "[nltk_data]     /home/garzuzo/nltk_data...\n",
      "[nltk_data]   Package stopwords is already up-to-date!\n",
      "[nltk_data] Downloading package wordnet to /home/garzuzo/nltk_data...\n",
      "[nltk_data]   Package wordnet is already up-to-date!\n"
     ]
    },
    {
     "data": {
      "text/plain": [
       "True"
      ]
     },
     "execution_count": 190,
     "metadata": {},
     "output_type": "execute_result"
    }
   ],
   "source": [
    "import nltk\n",
    "nltk.download('stopwords')\n",
    "nltk.download('wordnet')"
   ]
  },
  {
   "cell_type": "code",
   "execution_count": 191,
   "metadata": {
    "collapsed": true
   },
   "outputs": [],
   "source": [
    "# NLTK Stop words\n",
    "from nltk.corpus import stopwords\n",
    "stop_words = stopwords.words('spanish')\n"
   ]
  },
  {
   "cell_type": "code",
   "execution_count": 192,
   "metadata": {
    "collapsed": true
   },
   "outputs": [],
   "source": [
    "def remove_stopwords(texts):\n",
    "    return [[word for word in simple_preprocess(str(doc)) if word not in stop_words] for doc in texts]"
   ]
  },
  {
   "cell_type": "code",
   "execution_count": 193,
   "metadata": {},
   "outputs": [
    {
     "name": "stderr",
     "output_type": "stream",
     "text": [
      "/usr/local/anaconda/lib/python3.6/site-packages/ipykernel_launcher.py:1: SettingWithCopyWarning: \n",
      "A value is trying to be set on a copy of a slice from a DataFrame.\n",
      "Try using .loc[row_indexer,col_indexer] = value instead\n",
      "\n",
      "See the caveats in the documentation: http://pandas.pydata.org/pandas-docs/stable/user_guide/indexing.html#returning-a-view-versus-a-copy\n",
      "  \"\"\"Entry point for launching an IPython kernel.\n"
     ]
    }
   ],
   "source": [
    "df['Narrativa_lemmatized'] = remove_stopwords(df['Narrativa_lemmatized'])"
   ]
  },
  {
   "cell_type": "code",
   "execution_count": 194,
   "metadata": {},
   "outputs": [
    {
     "data": {
      "text/html": [
       "<div>\n",
       "<style scoped>\n",
       "    .dataframe tbody tr th:only-of-type {\n",
       "        vertical-align: middle;\n",
       "    }\n",
       "\n",
       "    .dataframe tbody tr th {\n",
       "        vertical-align: top;\n",
       "    }\n",
       "\n",
       "    .dataframe thead th {\n",
       "        text-align: right;\n",
       "    }\n",
       "</style>\n",
       "<table border=\"1\" class=\"dataframe\">\n",
       "  <thead>\n",
       "    <tr style=\"text-align: right;\">\n",
       "      <th></th>\n",
       "      <th>Narrativa</th>\n",
       "      <th>Narrativa_processed</th>\n",
       "      <th>Narrativa_lemmatized</th>\n",
       "    </tr>\n",
       "  </thead>\n",
       "  <tbody>\n",
       "    <tr>\n",
       "      <th>0</th>\n",
       "      <td>Tranquilidad, Convivencia, Casa, Educación, Co...</td>\n",
       "      <td>tranquilidad convivencia casa educación colect...</td>\n",
       "      <td>[tranquilidad, convivencia, casar, educación, ...</td>\n",
       "    </tr>\n",
       "    <tr>\n",
       "      <th>1</th>\n",
       "      <td>Tiempo en horas de día de semana y de fin de s...</td>\n",
       "      <td>tiempo en horas de día de semana y de fin de s...</td>\n",
       "      <td>[tiempo, hora, día, semana, fin, semana, padre...</td>\n",
       "    </tr>\n",
       "    <tr>\n",
       "      <th>2</th>\n",
       "      <td>tranquilidad, familia, empleabilidad Toleranci...</td>\n",
       "      <td>tranquilidad familia empleabilidad tolerancia ...</td>\n",
       "      <td>[tranquilidad, familia, empleabilidad, toleran...</td>\n",
       "    </tr>\n",
       "    <tr>\n",
       "      <th>3</th>\n",
       "      <td>Acción sin daño, integración comunitaria, resp...</td>\n",
       "      <td>acción sin daño integración comunitaria respet...</td>\n",
       "      <td>[acción, dañar, integración, comunitario, resp...</td>\n",
       "    </tr>\n",
       "    <tr>\n",
       "      <th>4</th>\n",
       "      <td>Procesos formativos y de multiplicación. Numer...</td>\n",
       "      <td>procesos formativos y de multiplicación numero...</td>\n",
       "      <td>[proceso, formativo, multiplicación, numerar, ...</td>\n",
       "    </tr>\n",
       "    <tr>\n",
       "      <th>...</th>\n",
       "      <td>...</td>\n",
       "      <td>...</td>\n",
       "      <td>...</td>\n",
       "    </tr>\n",
       "    <tr>\n",
       "      <th>96</th>\n",
       "      <td>coexistencia, rechazo a la violencia, confianz...</td>\n",
       "      <td>coexistencia rechazo a la violencia confianza ...</td>\n",
       "      <td>[coexistencia, rechazar, violencia, confianza,...</td>\n",
       "    </tr>\n",
       "    <tr>\n",
       "      <th>97</th>\n",
       "      <td>Inclusión de grupos en conflito, Realización d...</td>\n",
       "      <td>inclusión de grupos en conflito realización de...</td>\n",
       "      <td>[inclusión, grupo, conflito, realización, tall...</td>\n",
       "    </tr>\n",
       "    <tr>\n",
       "      <th>98</th>\n",
       "      <td>1. Iniciativas comunitarias que promueven cult...</td>\n",
       "      <td>iniciativas comunitarias que promueven cultura...</td>\n",
       "      <td>[promover, cultura, ciudadano, parir, paz, con...</td>\n",
       "    </tr>\n",
       "    <tr>\n",
       "      <th>99</th>\n",
       "      <td>goce pleno de derechos, justicia social, gober...</td>\n",
       "      <td>goce pleno de derechos justicia social goberna...</td>\n",
       "      <td>[gozar, pleno, derecho, justicia, social, gobe...</td>\n",
       "    </tr>\n",
       "    <tr>\n",
       "      <th>100</th>\n",
       "      <td>Número de entrevistas gestionadas y realizadas...</td>\n",
       "      <td>número de entrevistas gestionadas y realizadas...</td>\n",
       "      <td>[número, entrevistar, gestionar, realizar, can...</td>\n",
       "    </tr>\n",
       "  </tbody>\n",
       "</table>\n",
       "<p>100 rows × 3 columns</p>\n",
       "</div>"
      ],
      "text/plain": [
       "                                             Narrativa  \\\n",
       "0    Tranquilidad, Convivencia, Casa, Educación, Co...   \n",
       "1    Tiempo en horas de día de semana y de fin de s...   \n",
       "2    tranquilidad, familia, empleabilidad Toleranci...   \n",
       "3    Acción sin daño, integración comunitaria, resp...   \n",
       "4    Procesos formativos y de multiplicación. Numer...   \n",
       "..                                                 ...   \n",
       "96   coexistencia, rechazo a la violencia, confianz...   \n",
       "97   Inclusión de grupos en conflito, Realización d...   \n",
       "98   1. Iniciativas comunitarias que promueven cult...   \n",
       "99   goce pleno de derechos, justicia social, gober...   \n",
       "100  Número de entrevistas gestionadas y realizadas...   \n",
       "\n",
       "                                   Narrativa_processed  \\\n",
       "0    tranquilidad convivencia casa educación colect...   \n",
       "1    tiempo en horas de día de semana y de fin de s...   \n",
       "2    tranquilidad familia empleabilidad tolerancia ...   \n",
       "3    acción sin daño integración comunitaria respet...   \n",
       "4    procesos formativos y de multiplicación numero...   \n",
       "..                                                 ...   \n",
       "96   coexistencia rechazo a la violencia confianza ...   \n",
       "97   inclusión de grupos en conflito realización de...   \n",
       "98   iniciativas comunitarias que promueven cultura...   \n",
       "99   goce pleno de derechos justicia social goberna...   \n",
       "100  número de entrevistas gestionadas y realizadas...   \n",
       "\n",
       "                                  Narrativa_lemmatized  \n",
       "0    [tranquilidad, convivencia, casar, educación, ...  \n",
       "1    [tiempo, hora, día, semana, fin, semana, padre...  \n",
       "2    [tranquilidad, familia, empleabilidad, toleran...  \n",
       "3    [acción, dañar, integración, comunitario, resp...  \n",
       "4    [proceso, formativo, multiplicación, numerar, ...  \n",
       "..                                                 ...  \n",
       "96   [coexistencia, rechazar, violencia, confianza,...  \n",
       "97   [inclusión, grupo, conflito, realización, tall...  \n",
       "98   [promover, cultura, ciudadano, parir, paz, con...  \n",
       "99   [gozar, pleno, derecho, justicia, social, gobe...  \n",
       "100  [número, entrevistar, gestionar, realizar, can...  \n",
       "\n",
       "[100 rows x 3 columns]"
      ]
     },
     "execution_count": 194,
     "metadata": {},
     "output_type": "execute_result"
    }
   ],
   "source": [
    "df.head(100)"
   ]
  },
  {
   "cell_type": "markdown",
   "metadata": {},
   "source": [
    "Lemmatization and Stemming \n",
    "Lemmatization: Convierte palabras en tercera persona son pasados a primera y verbos en futuro y pasado son pasados a presente\n",
    "\n",
    "For example: ‘Studying’ becomes ‘Study’, ‘Meeting becomes ‘Meet’, ‘Better’ and ‘Best’ becomes ‘Good’.\n",
    "\n",
    "Stemming: Convierte la palabra a su root word"
   ]
  },
  {
   "cell_type": "markdown",
   "metadata": {},
   "source": [
    "Bag of Words"
   ]
  },
  {
   "cell_type": "code",
   "execution_count": 195,
   "metadata": {},
   "outputs": [
    {
     "data": {
      "text/plain": [
       "[['tranquilidad',\n",
       "  'convivencia',\n",
       "  'casar',\n",
       "  'educación',\n",
       "  'colectividad',\n",
       "  'respetar',\n",
       "  'tranquilidad',\n",
       "  'acceso',\n",
       "  'educación',\n",
       "  'humanización',\n",
       "  'espaciar',\n",
       "  'siempre',\n",
       "  'ser',\n",
       "  'caminar'],\n",
       " ['tiempo',\n",
       "  'hora',\n",
       "  'día',\n",
       "  'semana',\n",
       "  'fin',\n",
       "  'semana',\n",
       "  'padre',\n",
       "  'cuidador',\n",
       "  'pasar',\n",
       "  'tiempo',\n",
       "  'hijo',\n",
       "  'espacio',\n",
       "  'ie',\n",
       "  'hijo',\n",
       "  'tiempo',\n",
       "  'hora',\n",
       "  'hijo',\n",
       "  'pasar',\n",
       "  'tiempo',\n",
       "  'padre',\n",
       "  'mayor',\n",
       "  'evidenciar',\n",
       "  'mantener',\n",
       "  'familia',\n",
       "  'unir',\n",
       "  'hogar',\n",
       "  'equilibrio',\n",
       "  'hogar',\n",
       "  'mantener',\n",
       "  'familia',\n",
       "  'unir'],\n",
       " ['tranquilidad',\n",
       "  'familia',\n",
       "  'empleabilidad',\n",
       "  'tolerancia',\n",
       "  'tranquilidad',\n",
       "  'hogar',\n",
       "  'paz',\n",
       "  'ser',\n",
       "  'satisfacer',\n",
       "  'derecho',\n",
       "  'básico',\n",
       "  'constitucional',\n",
       "  'vivienda',\n",
       "  'alimentación',\n",
       "  'salud',\n",
       "  'educación'],\n",
       " ['acción',\n",
       "  'dañar',\n",
       "  'integración',\n",
       "  'comunitario',\n",
       "  'respetar',\n",
       "  'derecho',\n",
       "  'humano',\n",
       "  'hogar',\n",
       "  'compartir',\n",
       "  'tranquilidad',\n",
       "  'paz',\n",
       "  'ser',\n",
       "  'bien',\n",
       "  'común'],\n",
       " ['proceso',\n",
       "  'formativo',\n",
       "  'multiplicación',\n",
       "  'numerar',\n",
       "  'alianza',\n",
       "  'publicar',\n",
       "  'privar',\n",
       "  'numerar',\n",
       "  'accionar',\n",
       "  'parir',\n",
       "  'protección',\n",
       "  'ddhh',\n",
       "  'tolerancia',\n",
       "  'violencia',\n",
       "  'derecho',\n",
       "  'social',\n",
       "  'concertación']]"
      ]
     },
     "execution_count": 195,
     "metadata": {},
     "output_type": "execute_result"
    }
   ],
   "source": [
    "data = df[\"Narrativa_lemmatized\"].values.tolist()\n",
    "data[0:5]"
   ]
  },
  {
   "cell_type": "code",
   "execution_count": 196,
   "metadata": {},
   "outputs": [
    {
     "name": "stdout",
     "output_type": "stream",
     "text": [
      "0 acceso\n",
      "1 caminar\n",
      "2 casar\n",
      "3 colectividad\n",
      "4 convivencia\n",
      "5 educación\n",
      "6 espaciar\n",
      "7 humanización\n",
      "8 respetar\n",
      "9 ser\n",
      "10 siempre\n"
     ]
    }
   ],
   "source": [
    "dictionary = gensim.corpora.Dictionary(data)\n",
    "count = 0\n",
    "for k, v in dictionary.iteritems():\n",
    "    print(k, v)\n",
    "    count += 1\n",
    "    if count > 10:\n",
    "        break"
   ]
  },
  {
   "cell_type": "code",
   "execution_count": 197,
   "metadata": {},
   "outputs": [
    {
     "data": {
      "text/plain": [
       "2209"
      ]
     },
     "execution_count": 197,
     "metadata": {},
     "output_type": "execute_result"
    }
   ],
   "source": [
    "len(dictionary)"
   ]
  },
  {
   "cell_type": "markdown",
   "metadata": {},
   "source": [
    "Filter out tokens that appear in\n",
    "less than 15 documents (absolute number) or\n",
    "more than 0.5 documents (fraction of total corpus size, not absolute number).\n",
    "after the above two steps, keep only the first 100000 most frequent tokens."
   ]
  },
  {
   "cell_type": "code",
   "execution_count": 198,
   "metadata": {
    "collapsed": true
   },
   "outputs": [],
   "source": [
    "dictionary.filter_extremes(no_below=5, no_above=0.5, keep_n=2000)"
   ]
  },
  {
   "cell_type": "code",
   "execution_count": 199,
   "metadata": {},
   "outputs": [
    {
     "data": {
      "text/plain": [
       "[(6, 3),\n",
       " (38, 1),\n",
       " (43, 1),\n",
       " (58, 1),\n",
       " (269, 1),\n",
       " (273, 1),\n",
       " (330, 1),\n",
       " (351, 1),\n",
       " (353, 1),\n",
       " (373, 1),\n",
       " (437, 1),\n",
       " (446, 1),\n",
       " (447, 1),\n",
       " (448, 1),\n",
       " (449, 1),\n",
       " (450, 1),\n",
       " (451, 1)]"
      ]
     },
     "execution_count": 199,
     "metadata": {},
     "output_type": "execute_result"
    }
   ],
   "source": [
    "bow_corpus = [dictionary.doc2bow(doc) for doc in data]\n",
    "bow_corpus[1000]"
   ]
  },
  {
   "cell_type": "code",
   "execution_count": 200,
   "metadata": {},
   "outputs": [
    {
     "name": "stdout",
     "output_type": "stream",
     "text": [
      "Word 6 (\"respetar\") appears 3 time.\n",
      "Word 38 (\"parir\") appears 1 time.\n",
      "Word 43 (\"ciudad\") appears 1 time.\n",
      "Word 58 (\"demás\") appears 1 time.\n",
      "Word 269 (\"habitante\") appears 1 time.\n",
      "Word 273 (\"físico\") appears 1 time.\n",
      "Word 330 (\"fomentar\") appears 1 time.\n",
      "Word 351 (\"integridad\") appears 1 time.\n",
      "Word 353 (\"naturaleza\") appears 1 time.\n",
      "Word 373 (\"colaboración\") appears 1 time.\n",
      "Word 437 (\"animal\") appears 1 time.\n",
      "Word 446 (\"cero\") appears 1 time.\n",
      "Word 447 (\"corrupción\") appears 1 time.\n",
      "Word 448 (\"deportar\") appears 1 time.\n",
      "Word 449 (\"material\") appears 1 time.\n",
      "Word 450 (\"modo\") appears 1 time.\n",
      "Word 451 (\"máximo\") appears 1 time.\n"
     ]
    }
   ],
   "source": [
    "bow_doc_1000 = bow_corpus[1000]\n",
    "for i in range(len(bow_doc_1000)):\n",
    "    print(\"Word {} (\\\"{}\\\") appears {} time.\".format(bow_doc_1000[i][0], \n",
    "                                               dictionary[bow_doc_1000[i][0]], \n",
    "bow_doc_1000[i][1]))"
   ]
  },
  {
   "cell_type": "markdown",
   "metadata": {},
   "source": [
    "TF-IDF"
   ]
  },
  {
   "cell_type": "code",
   "execution_count": 201,
   "metadata": {},
   "outputs": [
    {
     "name": "stdout",
     "output_type": "stream",
     "text": [
      "[(0, 0.3879495950102895),\n",
      " (1, 0.3755370577876941),\n",
      " (2, 0.24594172925634347),\n",
      " (3, 0.23671362364125753),\n",
      " (4, 0.5207858193422347),\n",
      " (5, 0.3727114308502359),\n",
      " (6, 0.1420033457222307),\n",
      " (7, 0.32884885204807995),\n",
      " (8, 0.23131830482799817)]\n"
     ]
    }
   ],
   "source": [
    "from gensim import corpora, models\n",
    "tfidf = models.TfidfModel(bow_corpus)\n",
    "corpus_tfidf = tfidf[bow_corpus]\n",
    "from pprint import pprint\n",
    "for doc in corpus_tfidf:\n",
    "    pprint(doc)\n",
    "    break"
   ]
  },
  {
   "cell_type": "code",
   "execution_count": 202,
   "metadata": {},
   "outputs": [
    {
     "data": {
      "text/plain": [
       "808"
      ]
     },
     "execution_count": 202,
     "metadata": {},
     "output_type": "execute_result"
    }
   ],
   "source": [
    "len(dictionary)"
   ]
  },
  {
   "cell_type": "code",
   "execution_count": 203,
   "metadata": {
    "collapsed": true
   },
   "outputs": [],
   "source": [
    "lda_model = gensim.models.LdaMulticore(bow_corpus, num_topics=10, id2word=dictionary, passes=2, workers=2)"
   ]
  },
  {
   "cell_type": "code",
   "execution_count": 204,
   "metadata": {},
   "outputs": [
    {
     "name": "stdout",
     "output_type": "stream",
     "text": [
      "Topic: 0 \n",
      "Words: 0.061*\"parir\" + 0.037*\"tranquilidad\" + 0.036*\"tener\" + 0.030*\"poder\" + 0.027*\"vivir\" + 0.026*\"respetar\" + 0.018*\"mismo\" + 0.017*\"haber\" + 0.017*\"demás\" + 0.015*\"familia\"\n",
      "Topic: 1 \n",
      "Words: 0.063*\"familia\" + 0.041*\"libertar\" + 0.038*\"parir\" + 0.031*\"tranquilidad\" + 0.024*\"casar\" + 0.023*\"poder\" + 0.018*\"bien\" + 0.017*\"músico\" + 0.015*\"sentir\" + 0.012*\"ambientar\"\n",
      "Topic: 2 \n",
      "Words: 0.039*\"demás\" + 0.033*\"respetar\" + 0.030*\"convivencia\" + 0.023*\"tolerancia\" + 0.022*\"social\" + 0.022*\"unir\" + 0.018*\"tener\" + 0.016*\"parir\" + 0.015*\"equidad\" + 0.014*\"oportunidad\"\n",
      "Topic: 3 \n",
      "Words: 0.037*\"parir\" + 0.032*\"tranquilidad\" + 0.027*\"haber\" + 0.021*\"si\" + 0.021*\"perdonar\" + 0.019*\"tener\" + 0.017*\"comer\" + 0.014*\"amor\" + 0.014*\"asir\" + 0.013*\"ir\"\n",
      "Topic: 4 \n",
      "Words: 0.047*\"parir\" + 0.033*\"respetar\" + 0.021*\"tener\" + 0.019*\"poder\" + 0.018*\"mismo\" + 0.018*\"vivir\" + 0.017*\"demás\" + 0.016*\"personar\" + 0.014*\"violencia\" + 0.013*\"armonía\"\n",
      "Topic: 5 \n",
      "Words: 0.095*\"parir\" + 0.025*\"poder\" + 0.022*\"hacer\" + 0.021*\"tener\" + 0.018*\"respetar\" + 0.017*\"personar\" + 0.015*\"tranquilo\" + 0.015*\"mismo\" + 0.013*\"tranquilidad\" + 0.013*\"haber\"\n",
      "Topic: 6 \n",
      "Words: 0.063*\"parir\" + 0.029*\"poder\" + 0.028*\"armonía\" + 0.025*\"si\" + 0.024*\"tranquilidad\" + 0.022*\"respetar\" + 0.013*\"bueno\" + 0.013*\"dar\" + 0.013*\"amor\" + 0.013*\"construir\"\n",
      "Topic: 7 \n",
      "Words: 0.045*\"parir\" + 0.031*\"armonía\" + 0.029*\"derecho\" + 0.022*\"demás\" + 0.022*\"tener\" + 0.021*\"respetar\" + 0.020*\"tranquilo\" + 0.018*\"familia\" + 0.017*\"tranquilidad\" + 0.017*\"amor\"\n",
      "Topic: 8 \n",
      "Words: 0.058*\"parir\" + 0.033*\"respetar\" + 0.032*\"amor\" + 0.023*\"tener\" + 0.017*\"personar\" + 0.016*\"dios\" + 0.016*\"librar\" + 0.014*\"familia\" + 0.014*\"cada\" + 0.013*\"vivir\"\n",
      "Topic: 9 \n",
      "Words: 0.072*\"tranquilidad\" + 0.037*\"parir\" + 0.032*\"familia\" + 0.024*\"poder\" + 0.022*\"vivir\" + 0.022*\"compartir\" + 0.021*\"amor\" + 0.020*\"personar\" + 0.019*\"tener\" + 0.018*\"ver\"\n"
     ]
    }
   ],
   "source": [
    "for idx, topic in lda_model.print_topics(-1):\n",
    "    print('Topic: {} \\nWords: {}'.format(idx, topic))"
   ]
  },
  {
   "cell_type": "code",
   "execution_count": null,
   "metadata": {
    "collapsed": true
   },
   "outputs": [],
   "source": []
  }
 ],
 "metadata": {
  "kernelspec": {
   "display_name": "Python 3",
   "language": "python",
   "name": "python3"
  },
  "language_info": {
   "codemirror_mode": {
    "name": "ipython",
    "version": 3
   },
   "file_extension": ".py",
   "mimetype": "text/x-python",
   "name": "python",
   "nbconvert_exporter": "python",
   "pygments_lexer": "ipython3",
   "version": "3.6.2"
  }
 },
 "nbformat": 4,
 "nbformat_minor": 2
}
