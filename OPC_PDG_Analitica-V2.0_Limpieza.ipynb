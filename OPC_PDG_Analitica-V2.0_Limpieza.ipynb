{
 "cells": [
  {
   "cell_type": "markdown",
   "metadata": {},
   "source": [
    "## OPC PDG\n",
    "\n",
    "# Integrantes: Sandra Niño y Johnatan Garzón\n",
    "\n",
    "En el presente jupyter notebook se hará uso de LDA (Latent Dirichlet Allocation) para que las respuestas a la pregunta \"Para ti,¿Que sí es paz?\", en este caso entendidos como documentos, formen topics o categorías de palabras relacionadas  a la pregunta."
   ]
  },
  {
   "cell_type": "code",
   "execution_count": 1,
   "metadata": {
    "scrolled": true
   },
   "outputs": [
    {
     "name": "stdout",
     "output_type": "stream",
     "text": [
      "[nltk_data] Downloading package stopwords to\n",
      "[nltk_data]     /home/garzuzo/nltk_data...\n",
      "[nltk_data]   Package stopwords is already up-to-date!\n",
      "[nltk_data] Downloading package wordnet to /home/garzuzo/nltk_data...\n",
      "[nltk_data]   Package wordnet is already up-to-date!\n"
     ]
    }
   ],
   "source": [
    "%matplotlib inline\n",
    "import numpy as np #operaciones matriciales y con vectores\n",
    "import pandas as pd #tratamiento de datos\n",
    "import matplotlib.pyplot as plt #gráficos\n",
    "from sklearn.neighbors import KNeighborsClassifier\n",
    "from sklearn.naive_bayes import GaussianNB\n",
    "from sklearn.linear_model import LinearRegression # modelos lineales\n",
    "from sklearn.metrics import r2_score\n",
    "from sklearn.model_selection import train_test_split #metodo de particionamiento de datasets para evaluación\n",
    "from sklearn.model_selection import cross_val_score #protocolo de evaluación\n",
    "from sklearn import datasets, metrics\n",
    "from sklearn import preprocessing\n",
    "# Sklearn\n",
    "from sklearn.decomposition import LatentDirichletAllocation, TruncatedSVD\n",
    "from sklearn.feature_extraction.text import CountVectorizer, TfidfVectorizer\n",
    "from sklearn.model_selection import GridSearchCV\n",
    "from pprint import pprint\n",
    "\n",
    "# Plotting tools\n",
    "import pyLDAvis\n",
    "import pyLDAvis.sklearn\n",
    "import matplotlib.pyplot as plt\n",
    "import seaborn as sns\n",
    "\n",
    "#remove stopwords\n",
    "import nltk\n",
    "nltk.download('stopwords')\n",
    "nltk.download('wordnet')\n",
    "\n",
    "# NLTK Stop words\n",
    "from nltk.corpus import stopwords\n",
    "stop_words = stopwords.words('spanish')"
   ]
  },
  {
   "cell_type": "code",
   "execution_count": 2,
   "metadata": {
    "collapsed": true
   },
   "outputs": [],
   "source": [
    "dfEncuestaSPCC=pd.read_excel('./data/encuesta_SPCC-25ABR2018-MODIFICADA-ORTOGRAFIA.xlsx')"
   ]
  },
  {
   "cell_type": "code",
   "execution_count": 3,
   "metadata": {
    "collapsed": true
   },
   "outputs": [],
   "source": [
    "dfPazUSC=pd.read_excel('./data/marco_PAZ_USC_09ABR2019_latest_version_False_2019-MAY-09_0936-MODIFICADA-ORTOGRAFIA.xlsx')"
   ]
  },
  {
   "cell_type": "code",
   "execution_count": 4,
   "metadata": {
    "collapsed": true
   },
   "outputs": [],
   "source": [
    "dfNarrativasMayo=pd.read_excel('./data/respaldo_actualizacion_NARRATIVAS-10MAY2019-0600-MODIFICADA-ORTOGRAFIA.xlsx')"
   ]
  },
  {
   "cell_type": "markdown",
   "metadata": {},
   "source": [
    "# Exploración y preparación de datos"
   ]
  },
  {
   "cell_type": "markdown",
   "metadata": {},
   "source": [
    "## DfEncuestaSPCC"
   ]
  },
  {
   "cell_type": "code",
   "execution_count": 5,
   "metadata": {},
   "outputs": [
    {
     "data": {
      "text/html": [
       "<div>\n",
       "<style scoped>\n",
       "    .dataframe tbody tr th:only-of-type {\n",
       "        vertical-align: middle;\n",
       "    }\n",
       "\n",
       "    .dataframe tbody tr th {\n",
       "        vertical-align: top;\n",
       "    }\n",
       "\n",
       "    .dataframe thead th {\n",
       "        text-align: right;\n",
       "    }\n",
       "</style>\n",
       "<table border=\"1\" class=\"dataframe\">\n",
       "  <thead>\n",
       "    <tr style=\"text-align: right;\">\n",
       "      <th></th>\n",
       "      <th>¿Cuál es el sistema operativo de su dispositivo móvil?</th>\n",
       "      <th>Nombre/s:</th>\n",
       "      <th>Apellido/s:</th>\n",
       "      <th>Sexo</th>\n",
       "      <th>Edad</th>\n",
       "      <th>¿Nació en Cali?</th>\n",
       "      <th>¿En qué departamento nació?</th>\n",
       "      <th>¿En qué municipio nació?</th>\n",
       "      <th>De acuerdo con su cultura, pueblo o rasgos físicos usted es o se reconoce como:</th>\n",
       "      <th>¿Cuántas personas componen su hogar?</th>\n",
       "      <th>...</th>\n",
       "      <th>Seleccione las tres palabras/conceptos/expresiones más PODEROSAS para definir Paz/Alimentación</th>\n",
       "      <th>Seleccione las tres palabras/conceptos/expresiones más PODEROSAS para definir Paz/Derecho a la vivienda digna</th>\n",
       "      <th>Seleccione las tres palabras/conceptos/expresiones más PODEROSAS para definir Paz/No acoso (sexual, laboral)</th>\n",
       "      <th>Seleccione las tres palabras/conceptos/expresiones más PODEROSAS para definir Paz/Primera infancia</th>\n",
       "      <th>Escriba una frase corta en la que exprese su significado de la Paz:</th>\n",
       "      <th>Escriba un deseo de Paz para los demás:</th>\n",
       "      <th>Sugerencias específicas para medir ¿qué si es Paz?:</th>\n",
       "      <th>Sugerencias específicas para mejorar las capacidades de la SPCC:</th>\n",
       "      <th>Sugerencias específicas al OPC para una futura encuesta:</th>\n",
       "      <th>_index</th>\n",
       "    </tr>\n",
       "  </thead>\n",
       "  <tbody>\n",
       "    <tr>\n",
       "      <th>0</th>\n",
       "      <td>Android</td>\n",
       "      <td>Gregorry</td>\n",
       "      <td>Rivera Garibello</td>\n",
       "      <td>Hombre</td>\n",
       "      <td>25</td>\n",
       "      <td>Si</td>\n",
       "      <td>NaN</td>\n",
       "      <td>NaN</td>\n",
       "      <td>Ninguno de los anteriores</td>\n",
       "      <td>4</td>\n",
       "      <td>...</td>\n",
       "      <td>0</td>\n",
       "      <td>0</td>\n",
       "      <td>0</td>\n",
       "      <td>0</td>\n",
       "      <td>La humanización del espacio, ese siempre será ...</td>\n",
       "      <td>La búsqueda sigue su curso, un gran camino ocu...</td>\n",
       "      <td>Vamos bien!!!</td>\n",
       "      <td>Más apoyo entre equipos, para mejorar la comun...</td>\n",
       "      <td>Que sea más corta</td>\n",
       "      <td>1</td>\n",
       "    </tr>\n",
       "    <tr>\n",
       "      <th>1</th>\n",
       "      <td>Android</td>\n",
       "      <td>Mauricio</td>\n",
       "      <td>Sedano</td>\n",
       "      <td>Hombre</td>\n",
       "      <td>43</td>\n",
       "      <td>No</td>\n",
       "      <td>Santander</td>\n",
       "      <td>Barrancabermeja</td>\n",
       "      <td>Negro(a), mulato(a) y afrocolombiano(a)</td>\n",
       "      <td>2</td>\n",
       "      <td>...</td>\n",
       "      <td>0</td>\n",
       "      <td>0</td>\n",
       "      <td>0</td>\n",
       "      <td>0</td>\n",
       "      <td>Mantener las familias unidas</td>\n",
       "      <td>Identificar lo que sí es paz, y emitir recomen...</td>\n",
       "      <td>diseñar inclusión y representatividad, procesa...</td>\n",
       "      <td>Dar cursos cortos online y certificados como E...</td>\n",
       "      <td>No combinar sectores con tipos de experiencias...</td>\n",
       "      <td>2</td>\n",
       "    </tr>\n",
       "    <tr>\n",
       "      <th>2</th>\n",
       "      <td>Android</td>\n",
       "      <td>Andrés Felipe</td>\n",
       "      <td>Suárez Sánchez</td>\n",
       "      <td>Hombre</td>\n",
       "      <td>31</td>\n",
       "      <td>Si</td>\n",
       "      <td>NaN</td>\n",
       "      <td>NaN</td>\n",
       "      <td>Ninguno de los anteriores</td>\n",
       "      <td>2</td>\n",
       "      <td>...</td>\n",
       "      <td>0</td>\n",
       "      <td>0</td>\n",
       "      <td>0</td>\n",
       "      <td>0</td>\n",
       "      <td>La paz es satisfacer los derechos básicos cons...</td>\n",
       "      <td>Trabajemos junto en asegurar los derechos bási...</td>\n",
       "      <td>Incluir una muestra de todos los grupos social...</td>\n",
       "      <td>Promover la auto formación virtual para ser es...</td>\n",
       "      <td>Planear un poco mejor el proceso de realizació...</td>\n",
       "      <td>3</td>\n",
       "    </tr>\n",
       "    <tr>\n",
       "      <th>3</th>\n",
       "      <td>Android</td>\n",
       "      <td>Ana María</td>\n",
       "      <td>Gálvez Yepes</td>\n",
       "      <td>Mujer</td>\n",
       "      <td>27</td>\n",
       "      <td>Si</td>\n",
       "      <td>NaN</td>\n",
       "      <td>NaN</td>\n",
       "      <td>Ninguno de los anteriores</td>\n",
       "      <td>4</td>\n",
       "      <td>...</td>\n",
       "      <td>0</td>\n",
       "      <td>0</td>\n",
       "      <td>0</td>\n",
       "      <td>0</td>\n",
       "      <td>La paz es el bien común</td>\n",
       "      <td>Deseo que tus días estén llenos de fuerza, fel...</td>\n",
       "      <td>Tener en cuenta la voz de las comunidades</td>\n",
       "      <td>Crear una herramieta de impacto que permita po...</td>\n",
       "      <td>Sintetizar la introducción</td>\n",
       "      <td>4</td>\n",
       "    </tr>\n",
       "    <tr>\n",
       "      <th>4</th>\n",
       "      <td>iOS (Iphone)</td>\n",
       "      <td>Ana Cristina</td>\n",
       "      <td>Alzate Restrepo</td>\n",
       "      <td>Mujer</td>\n",
       "      <td>39</td>\n",
       "      <td>No</td>\n",
       "      <td>Antioquia</td>\n",
       "      <td>Medellín</td>\n",
       "      <td>Ninguno de los anteriores</td>\n",
       "      <td>1</td>\n",
       "      <td>...</td>\n",
       "      <td>0</td>\n",
       "      <td>0</td>\n",
       "      <td>0</td>\n",
       "      <td>0</td>\n",
       "      <td>Concertación</td>\n",
       "      <td>Tolerancia con el otro en todo momento y lugar</td>\n",
       "      <td>Conocer por medio de casos puntuales el nivel ...</td>\n",
       "      <td>Formación en proyectos sociales: formulacion y...</td>\n",
       "      <td>Medir temas de clima organizacional como una a...</td>\n",
       "      <td>5</td>\n",
       "    </tr>\n",
       "  </tbody>\n",
       "</table>\n",
       "<p>5 rows × 221 columns</p>\n",
       "</div>"
      ],
      "text/plain": [
       "  ¿Cuál es el sistema operativo de su dispositivo móvil?      Nombre/s:  \\\n",
       "0                                            Android           Gregorry   \n",
       "1                                            Android           Mauricio   \n",
       "2                                            Android      Andrés Felipe   \n",
       "3                                            Android          Ana María   \n",
       "4                                       iOS (Iphone)       Ana Cristina   \n",
       "\n",
       "        Apellido/s:    Sexo  Edad ¿Nació en Cali? ¿En qué departamento nació?  \\\n",
       "0  Rivera Garibello  Hombre    25              Si                         NaN   \n",
       "1            Sedano  Hombre    43              No                   Santander   \n",
       "2    Suárez Sánchez  Hombre    31              Si                         NaN   \n",
       "3      Gálvez Yepes   Mujer    27              Si                         NaN   \n",
       "4   Alzate Restrepo   Mujer    39              No                   Antioquia   \n",
       "\n",
       "  ¿En qué municipio nació?  \\\n",
       "0                      NaN   \n",
       "1          Barrancabermeja   \n",
       "2                      NaN   \n",
       "3                      NaN   \n",
       "4                 Medellín   \n",
       "\n",
       "  De acuerdo con su cultura, pueblo o rasgos físicos usted es o se reconoce como:  \\\n",
       "0                          Ninguno de los anteriores                                \n",
       "1            Negro(a), mulato(a) y afrocolombiano(a)                                \n",
       "2                          Ninguno de los anteriores                                \n",
       "3                          Ninguno de los anteriores                                \n",
       "4                          Ninguno de los anteriores                                \n",
       "\n",
       "   ¿Cuántas personas componen su hogar?  ...  \\\n",
       "0                                     4  ...   \n",
       "1                                     2  ...   \n",
       "2                                     2  ...   \n",
       "3                                     4  ...   \n",
       "4                                     1  ...   \n",
       "\n",
       "  Seleccione las tres palabras/conceptos/expresiones más PODEROSAS para definir Paz/Alimentación  \\\n",
       "0                                                  0                                               \n",
       "1                                                  0                                               \n",
       "2                                                  0                                               \n",
       "3                                                  0                                               \n",
       "4                                                  0                                               \n",
       "\n",
       "  Seleccione las tres palabras/conceptos/expresiones más PODEROSAS para definir Paz/Derecho a la vivienda digna  \\\n",
       "0                                                  0                                                              \n",
       "1                                                  0                                                              \n",
       "2                                                  0                                                              \n",
       "3                                                  0                                                              \n",
       "4                                                  0                                                              \n",
       "\n",
       "  Seleccione las tres palabras/conceptos/expresiones más PODEROSAS para definir Paz/No acoso (sexual, laboral)  \\\n",
       "0                                                  0                                                             \n",
       "1                                                  0                                                             \n",
       "2                                                  0                                                             \n",
       "3                                                  0                                                             \n",
       "4                                                  0                                                             \n",
       "\n",
       "  Seleccione las tres palabras/conceptos/expresiones más PODEROSAS para definir Paz/Primera infancia  \\\n",
       "0                                                  0                                                   \n",
       "1                                                  0                                                   \n",
       "2                                                  0                                                   \n",
       "3                                                  0                                                   \n",
       "4                                                  0                                                   \n",
       "\n",
       "  Escriba una frase corta en la que exprese su significado de la Paz:  \\\n",
       "0  La humanización del espacio, ese siempre será ...                    \n",
       "1                       Mantener las familias unidas                    \n",
       "2  La paz es satisfacer los derechos básicos cons...                    \n",
       "3                            La paz es el bien común                    \n",
       "4                                       Concertación                    \n",
       "\n",
       "             Escriba un deseo de Paz para los demás:  \\\n",
       "0  La búsqueda sigue su curso, un gran camino ocu...   \n",
       "1  Identificar lo que sí es paz, y emitir recomen...   \n",
       "2  Trabajemos junto en asegurar los derechos bási...   \n",
       "3  Deseo que tus días estén llenos de fuerza, fel...   \n",
       "4     Tolerancia con el otro en todo momento y lugar   \n",
       "\n",
       "  Sugerencias específicas para medir ¿qué si es Paz?:  \\\n",
       "0                                      Vamos bien!!!    \n",
       "1  diseñar inclusión y representatividad, procesa...    \n",
       "2  Incluir una muestra de todos los grupos social...    \n",
       "3          Tener en cuenta la voz de las comunidades    \n",
       "4  Conocer por medio de casos puntuales el nivel ...    \n",
       "\n",
       "  Sugerencias específicas para mejorar las capacidades de la SPCC:  \\\n",
       "0  Más apoyo entre equipos, para mejorar la comun...                 \n",
       "1  Dar cursos cortos online y certificados como E...                 \n",
       "2  Promover la auto formación virtual para ser es...                 \n",
       "3  Crear una herramieta de impacto que permita po...                 \n",
       "4  Formación en proyectos sociales: formulacion y...                 \n",
       "\n",
       "  Sugerencias específicas al OPC para una futura encuesta: _index  \n",
       "0                                  Que sea más corta            1  \n",
       "1  No combinar sectores con tipos de experiencias...            2  \n",
       "2  Planear un poco mejor el proceso de realizació...            3  \n",
       "3                         Sintetizar la introducción            4  \n",
       "4  Medir temas de clima organizacional como una a...            5  \n",
       "\n",
       "[5 rows x 221 columns]"
      ]
     },
     "execution_count": 5,
     "metadata": {},
     "output_type": "execute_result"
    }
   ],
   "source": [
    "dfEncuestaSPCC.head()"
   ]
  },
  {
   "cell_type": "code",
   "execution_count": 6,
   "metadata": {},
   "outputs": [
    {
     "name": "stdout",
     "output_type": "stream",
     "text": [
      "<class 'pandas.core.frame.DataFrame'>\n",
      "RangeIndex: 128 entries, 0 to 127\n",
      "Columns: 221 entries, ¿Cuál es el sistema operativo de su dispositivo móvil? to _index\n",
      "dtypes: float64(64), int64(58), object(99)\n",
      "memory usage: 221.1+ KB\n"
     ]
    }
   ],
   "source": [
    "dfEncuestaSPCC.info()"
   ]
  },
  {
   "cell_type": "code",
   "execution_count": 7,
   "metadata": {},
   "outputs": [
    {
     "data": {
      "text/plain": [
       "['¿Cuál es el sistema operativo de su dispositivo móvil?',\n",
       " 'Nombre/s:',\n",
       " 'Apellido/s:',\n",
       " 'Sexo',\n",
       " 'Edad',\n",
       " '¿Nació en Cali?',\n",
       " '¿En qué departamento nació?',\n",
       " '¿En qué municipio nació?',\n",
       " 'De acuerdo con su cultura, pueblo o rasgos físicos usted es o se reconoce como:',\n",
       " '¿Cuántas personas componen su hogar?',\n",
       " 'Actualmente las condiciones de vida en su hogar son:',\n",
       " 'En relación al hogar donde se crió en su primera infancia, su hogar actual vive económicamente:',\n",
       " 'Usted piensa que el nivel de vida actual de su hogar, respecto al que tenía 5 años atrás, es:',\n",
       " 'Selecciona, según la estructura del organismo de la que haces parte:',\n",
       " 'Seleccione el proyecto para el cual trabaja',\n",
       " 'Especifique',\n",
       " '¿Cuál es su principal función en el proyecto?',\n",
       " '¿Cuál es el problema central que trata de resolver su proyecto?',\n",
       " '¿Qué metodología/s de trabajo destacaría/s del proyecto?, ¿por qué?',\n",
       " 'Indique cinco (5x) palabras claves para su proyecto',\n",
       " 'Advierta cinco (5x) palabras claves que NO son del proyecto',\n",
       " '¿En cuál de las siguientes sedes (espacios físicos) desarrolla sus trabajos de oficina para la SPCC?',\n",
       " 'Precise otros espacios de trabajo donde se encuentra con sus grupos de destinatarios ó aliados (incluso para realizar trabajos de campo)',\n",
       " 'Mencione tres (3x) “Indicadores de CONSTRUCCIÓN DE PAZ”',\n",
       " 'Mencione tres (3x) palabras claves para la RECONCILIACIÓN',\n",
       " '¿Cuál es tu lugar de residencia?:',\n",
       " 'Comuna:',\n",
       " 'Barrio:',\n",
       " 'Corregimiento:',\n",
       " 'Vereda:',\n",
       " 'Otros nombres utilizados para referirse a tu Barrio / Vereda / Zona / Sector:',\n",
       " 'Departamento:',\n",
       " 'Municipio:',\n",
       " 'Tiempo de residencia:',\n",
       " '¿Qué tan satisfecho se siente de vivir en ese barrio o corregimiento?',\n",
       " 'Durante los ÚLTIMOS DOCE MESES, ¿de cuáles de los siguientes hechos ha sido víctima usted o algún miembro del hogar dentro de su barrio o vereda?',\n",
       " 'Durante los ÚLTIMOS DOCE MESES, ¿de cuáles de los siguientes hechos ha sido víctima usted o algún miembro del hogar dentro de su barrio o vereda?/Atracos o robos',\n",
       " 'Durante los ÚLTIMOS DOCE MESES, ¿de cuáles de los siguientes hechos ha sido víctima usted o algún miembro del hogar dentro de su barrio o vereda?/Homicidios o asesinatos',\n",
       " 'Durante los ÚLTIMOS DOCE MESES, ¿de cuáles de los siguientes hechos ha sido víctima usted o algún miembro del hogar dentro de su barrio o vereda?/Secuestros o desapariciones',\n",
       " 'Durante los ÚLTIMOS DOCE MESES, ¿de cuáles de los siguientes hechos ha sido víctima usted o algún miembro del hogar dentro de su barrio o vereda?/Violencia física o psicológica',\n",
       " 'Durante los ÚLTIMOS DOCE MESES, ¿de cuáles de los siguientes hechos ha sido víctima usted o algún miembro del hogar dentro de su barrio o vereda?/Violencia sexual',\n",
       " 'Durante los ÚLTIMOS DOCE MESES, ¿de cuáles de los siguientes hechos ha sido víctima usted o algún miembro del hogar dentro de su barrio o vereda?/Extorsión o chantaje',\n",
       " 'Durante los ÚLTIMOS DOCE MESES, ¿de cuáles de los siguientes hechos ha sido víctima usted o algún miembro del hogar dentro de su barrio o vereda?/Amenazas',\n",
       " 'Durante los ÚLTIMOS DOCE MESES, ¿de cuáles de los siguientes hechos ha sido víctima usted o algún miembro del hogar dentro de su barrio o vereda?/Estafa',\n",
       " 'Durante los ÚLTIMOS DOCE MESES, ¿de cuáles de los siguientes hechos ha sido víctima usted o algún miembro del hogar dentro de su barrio o vereda?/Desplazamiento forzado',\n",
       " 'Durante los ÚLTIMOS DOCE MESES, ¿de cuáles de los siguientes hechos ha sido víctima usted o algún miembro del hogar dentro de su barrio o vereda?/Ninguna de las anteriores',\n",
       " '¿De qué otro Barrio de Cali usted tiene mayor conocimiento?',\n",
       " '¿De qué otro Barrio de Cali usted tiene mayor conocimiento?.1',\n",
       " '¿Qué barrio de Cali usted visita regularmente?',\n",
       " 'Ruido',\n",
       " 'Exceso de anuncios publicitarios',\n",
       " 'Inseguridad',\n",
       " 'Contaminación del aire',\n",
       " 'Malos olores',\n",
       " 'Generación y manejo inadecuado de las basuras',\n",
       " 'Invasión de andenes y calles',\n",
       " 'Transporte público (buses, busetas o colectivos)',\n",
       " 'Estación o paradero alimentadores',\n",
       " 'Parque o zonas verdes',\n",
       " 'Tienda o supermercado',\n",
       " 'Droguería o farmacia',\n",
       " 'Bancos o cajeros',\n",
       " 'CAI o Estación de policía',\n",
       " 'Biblioteca',\n",
       " 'En los viajes que realiza de lunes a viernes ¿por cuáles motivo los realiza?',\n",
       " 'En los viajes que realiza de lunes a viernes ¿por cuáles motivo los realiza?/Para ir a trabajar',\n",
       " 'En los viajes que realiza de lunes a viernes ¿por cuáles motivo los realiza?/Para ir a estudiar',\n",
       " 'En los viajes que realiza de lunes a viernes ¿por cuáles motivo los realiza?/Para realizar actividades deportivas o culturales',\n",
       " 'En los viajes que realiza de lunes a viernes ¿por cuáles motivo los realiza?/Para ir a atención médica',\n",
       " 'En los viajes que realiza de lunes a viernes ¿por cuáles motivo los realiza?/Para ir de compras',\n",
       " 'En los viajes que realiza de lunes a viernes ¿por cuáles motivo los realiza?/Para realizar actividades sociales',\n",
       " 'En los viajes que realiza de lunes a viernes ¿por cuáles motivo los realiza?/Para asuntos personales',\n",
       " 'A continuación se llevará a cabo la descripción del desplazamiento del último viaje que realizó, de lunes a viernes, desde su casa hasta el lugar de trabajo.',\n",
       " '¿Cuál es el lugar de origen?',\n",
       " '¿Cuál es la hora del inicio del viaje?',\n",
       " '¿En cuántas etapas realizaste el último viaje desde el lugar de residencia al trabajo?',\n",
       " 'Medio de transporte',\n",
       " 'Tiempo de espera en minutos:',\n",
       " 'Tiempo de trayecto en minutos:',\n",
       " 'Medio de transporte.1',\n",
       " 'Tiempo de espera en minutos:.1',\n",
       " 'Tiempo de trayecto en minutos:.1',\n",
       " 'Medio de transporte.2',\n",
       " 'Tiempo de espera en minutos:.2',\n",
       " 'Tiempo de trayecto en minutos:.2',\n",
       " 'Medio de transporte.3',\n",
       " 'Tiempo de espera en minutos:.3',\n",
       " 'Tiempo de trayecto en minutos:.3',\n",
       " 'Medio de transporte.4',\n",
       " 'Tiempo de espera en minutos:.4',\n",
       " 'Tiempo de trayecto en minutos:.4',\n",
       " '¿De qué nivel es el título o diploma más alto que ha obtenido?',\n",
       " 'Nivel educativo más alto alcanzado sin graduación:',\n",
       " 'Último año aprobado',\n",
       " 'Último año aprobado.1',\n",
       " 'Último año aprobado.2',\n",
       " 'Último año aprobado.3',\n",
       " 'Último año aprobado.4',\n",
       " 'Último año aprobado.5',\n",
       " 'Último año aprobado.6',\n",
       " 'Último año aprobado.7',\n",
       " '¿Actualmente asiste a alguna institución educativa?',\n",
       " '¿A cuál Institución Educativa?',\n",
       " '¿Qué tipo de estudios cursa actualmente?',\n",
       " '¿Cuántos semestres lleva estudiando?',\n",
       " 'Años',\n",
       " 'Meses',\n",
       " 'experiencia_calculada',\n",
       " 'Su experiencia laboral total es de ${experiencia_calculada} meses',\n",
       " 'Años.1',\n",
       " 'Meses.1',\n",
       " 'experiencia_p_calculada',\n",
       " 'Su experiencia profesional total es de ${experiencia_p_calculada} meses',\n",
       " '¿Qué tipos de experiencias laborales ha tenido?',\n",
       " '¿Qué tipos de experiencias laborales ha tenido?/Educación/Monitorías universitarias',\n",
       " '¿Qué tipos de experiencias laborales ha tenido?/Administrativas',\n",
       " '¿Qué tipos de experiencias laborales ha tenido?/Coordinación de equipos de trabajo',\n",
       " '¿Qué tipos de experiencias laborales ha tenido?/Formulación y desarrollo de proyectos',\n",
       " '¿Qué tipos de experiencias laborales ha tenido?/Evaluación de proyectos',\n",
       " '¿Qué tipos de experiencias laborales ha tenido?/Trabajo con comunidades',\n",
       " '¿Qué tipos de experiencias laborales ha tenido?/Investigación académica',\n",
       " '¿Qué tipos de experiencias laborales ha tenido?/Comercio / Ventas',\n",
       " '¿Qué tipos de experiencias laborales ha tenido?/Sector público',\n",
       " '¿Qué tipos de experiencias laborales ha tenido?/Multinacionales / Multilatinas',\n",
       " '¿Qué tipos de experiencias laborales ha tenido?/Sector financiero',\n",
       " '¿Qué tipos de experiencias laborales ha tenido?/Organizaciones No Gubernamentales, Fundaciones',\n",
       " '¿Qué tipos de experiencias laborales ha tenido?/Cooperación internacional',\n",
       " '¿Qué tipos de experiencias laborales ha tenido?/Docencia',\n",
       " '¿Qué tipos de experiencias laborales ha tenido?/Diseño de actividades formativas',\n",
       " '¿Qué tipos de experiencias laborales ha tenido?/Coordinación de eventos',\n",
       " '¿Qué tipos de experiencias laborales ha tenido?/Logística',\n",
       " '¿Qué tipos de experiencias laborales ha tenido?/Metodologías (definición)',\n",
       " '¿Qué tipos de experiencias laborales ha tenido?/Metodologías (adaptación-ajuste)',\n",
       " '¿Qué tipos de experiencias laborales ha tenido?/Sistematización de experiencias',\n",
       " '¿Qué tipos de experiencias laborales ha tenido?/Sector agropecuario - rural',\n",
       " 'Años.2',\n",
       " 'Meses.2',\n",
       " 'experiencia_q_calculada',\n",
       " 'Su último contrato, antes de la SPCC, duró ${experiencia_q_calculada} meses',\n",
       " '¿De qué tipo fue su última experiencia laboral antes de ser contratado en la SPCC?',\n",
       " 'Años.3',\n",
       " 'Meses.3',\n",
       " 'experiencia_r_calculada',\n",
       " 'En la SPCC lleva trabajando ${experiencia_r_calculada} meses',\n",
       " 'Recuerdos',\n",
       " 'Sueños',\n",
       " 'Paisajes',\n",
       " 'No violencia',\n",
       " 'Familia',\n",
       " 'Hogar',\n",
       " 'Tranquilidad',\n",
       " 'Trabajo / Empleo',\n",
       " 'Salud',\n",
       " 'Educación',\n",
       " 'Dios',\n",
       " 'Espiritualidad',\n",
       " '¿Qué lugares recomiendas como territorios con mayor potencial para construir Paz?',\n",
       " '¿Qué lugares recomiendas como territorios con mayor potencial para construir Paz?/Barrio',\n",
       " '¿Qué lugares recomiendas como territorios con mayor potencial para construir Paz?/Centros Educativos',\n",
       " '¿Qué lugares recomiendas como territorios con mayor potencial para construir Paz?/Espacios Derportivos',\n",
       " '¿Qué lugares recomiendas como territorios con mayor potencial para construir Paz?/Vivienda',\n",
       " '¿Qué lugares recomiendas como territorios con mayor potencial para construir Paz?/Parques / Zonas Verdes',\n",
       " '¿Qué lugares recomiendas como territorios con mayor potencial para construir Paz?/Vía pública',\n",
       " '¿Qué lugares recomiendas como territorios con mayor potencial para construir Paz?/Campo / Zona Rural',\n",
       " '¿Qué lugares recomiendas como territorios con mayor potencial para construir Paz?/Espacios Culturales',\n",
       " '¿Qué lugares recomiendas como territorios con mayor potencial para construir Paz?/Territorios de origen',\n",
       " '¿Qué lugares crees que se deben priorizar para lograr pronta Paz?',\n",
       " '¿Qué lugares crees que se deben priorizar para lograr pronta Paz?/Barrio',\n",
       " '¿Qué lugares crees que se deben priorizar para lograr pronta Paz?/Centros Educativos',\n",
       " '¿Qué lugares crees que se deben priorizar para lograr pronta Paz?/Espacios Derportivos',\n",
       " '¿Qué lugares crees que se deben priorizar para lograr pronta Paz?/Vivienda',\n",
       " '¿Qué lugares crees que se deben priorizar para lograr pronta Paz?/Parques / Zonas Verdes',\n",
       " '¿Qué lugares crees que se deben priorizar para lograr pronta Paz?/Vía pública',\n",
       " '¿Qué lugares crees que se deben priorizar para lograr pronta Paz?/Campo / Zona Rural',\n",
       " '¿Qué lugares crees que se deben priorizar para lograr pronta Paz?/Espacios Culturales',\n",
       " '¿Qué lugares crees que se deben priorizar para lograr pronta Paz?/Territorios de origen',\n",
       " 'Vecinos',\n",
       " 'Amigos',\n",
       " 'Deporte y recreación',\n",
       " 'Cultura',\n",
       " 'Tradiciones culturales/religiosas',\n",
       " 'Tradiciones familiares',\n",
       " 'Cuidado de los recursos naturales',\n",
       " 'Animales y/o mascotas',\n",
       " 'Comunidad',\n",
       " 'Sistema de salud',\n",
       " 'Derechos sociales',\n",
       " 'Equidad',\n",
       " 'Diversidad cultural',\n",
       " 'Seleccione las tres palabras/conceptos/expresiones más PODEROSAS para definir Paz',\n",
       " 'Seleccione las tres palabras/conceptos/expresiones más PODEROSAS para definir Paz/Respeto',\n",
       " 'Seleccione las tres palabras/conceptos/expresiones más PODEROSAS para definir Paz/Tolerancia',\n",
       " 'Seleccione las tres palabras/conceptos/expresiones más PODEROSAS para definir Paz/Armonía',\n",
       " 'Seleccione las tres palabras/conceptos/expresiones más PODEROSAS para definir Paz/Hogar',\n",
       " 'Seleccione las tres palabras/conceptos/expresiones más PODEROSAS para definir Paz/Entorno protector',\n",
       " 'Seleccione las tres palabras/conceptos/expresiones más PODEROSAS para definir Paz/No discriminación',\n",
       " 'Seleccione las tres palabras/conceptos/expresiones más PODEROSAS para definir Paz/Amor',\n",
       " 'Seleccione las tres palabras/conceptos/expresiones más PODEROSAS para definir Paz/Compartir',\n",
       " 'Seleccione las tres palabras/conceptos/expresiones más PODEROSAS para definir Paz/Unión',\n",
       " 'Seleccione las tres palabras/conceptos/expresiones más PODEROSAS para definir Paz/Tranquilidad',\n",
       " 'Seleccione las tres palabras/conceptos/expresiones más PODEROSAS para definir Paz/Equilibrio',\n",
       " 'Seleccione las tres palabras/conceptos/expresiones más PODEROSAS para definir Paz/Trabajo / Empleo',\n",
       " 'Seleccione las tres palabras/conceptos/expresiones más PODEROSAS para definir Paz/Soñar / sueños',\n",
       " 'Seleccione las tres palabras/conceptos/expresiones más PODEROSAS para definir Paz/No violencia',\n",
       " 'Seleccione las tres palabras/conceptos/expresiones más PODEROSAS para definir Paz/Derechos sociales',\n",
       " 'Seleccione las tres palabras/conceptos/expresiones más PODEROSAS para definir Paz/Atención en salud',\n",
       " 'Seleccione las tres palabras/conceptos/expresiones más PODEROSAS para definir Paz/Acceso al transporte público',\n",
       " 'Seleccione las tres palabras/conceptos/expresiones más PODEROSAS para definir Paz/Acceso a la educación',\n",
       " 'Seleccione las tres palabras/conceptos/expresiones más PODEROSAS para definir Paz/Deporte y recreación',\n",
       " 'Seleccione las tres palabras/conceptos/expresiones más PODEROSAS para definir Paz/Arte y cultura',\n",
       " 'Seleccione las tres palabras/conceptos/expresiones más PODEROSAS para definir Paz/Cuidado de los recursos naturales',\n",
       " 'Seleccione las tres palabras/conceptos/expresiones más PODEROSAS para definir Paz/Alimentación',\n",
       " 'Seleccione las tres palabras/conceptos/expresiones más PODEROSAS para definir Paz/Derecho a la vivienda digna',\n",
       " 'Seleccione las tres palabras/conceptos/expresiones más PODEROSAS para definir Paz/No acoso (sexual, laboral)',\n",
       " 'Seleccione las tres palabras/conceptos/expresiones más PODEROSAS para definir Paz/Primera infancia',\n",
       " 'Escriba una frase corta en la que exprese su significado de la Paz:',\n",
       " 'Escriba un deseo de Paz para los demás:',\n",
       " 'Sugerencias específicas para medir ¿qué si es Paz?:',\n",
       " 'Sugerencias específicas para mejorar las capacidades de la SPCC:',\n",
       " 'Sugerencias específicas al OPC para una futura encuesta:',\n",
       " '_index']"
      ]
     },
     "execution_count": 7,
     "metadata": {},
     "output_type": "execute_result"
    }
   ],
   "source": [
    "cols = dfEncuestaSPCC.columns.tolist()\n",
    "cols"
   ]
  },
  {
   "cell_type": "markdown",
   "metadata": {},
   "source": [
    "Como podemos apreciar esta encuesta fue demasiado extensa. Las columnas que nos interesan son:  'Mencione tres (3x) “Indicadores de CONSTRUCCIÓN DE PAZ”', 'Seleccione las tres palabras/conceptos/expresiones más PODEROSAS para definir Paz' y  'Escriba una frase corta en la que exprese su significado de la Paz:'"
   ]
  },
  {
   "cell_type": "code",
   "execution_count": 8,
   "metadata": {},
   "outputs": [
    {
     "data": {
      "text/plain": [
       "23"
      ]
     },
     "execution_count": 8,
     "metadata": {},
     "output_type": "execute_result"
    }
   ],
   "source": [
    "dfEncuestaSPCC.columns.get_loc('Mencione tres (3x) “Indicadores de CONSTRUCCIÓN DE PAZ”')"
   ]
  },
  {
   "cell_type": "code",
   "execution_count": 9,
   "metadata": {
    "collapsed": true
   },
   "outputs": [],
   "source": [
    "dfEncuestaSPCC.drop(dfEncuestaSPCC.iloc[:, 0:23], inplace = True, axis = 1) "
   ]
  },
  {
   "cell_type": "code",
   "execution_count": 10,
   "metadata": {},
   "outputs": [
    {
     "data": {
      "text/plain": [
       "['Mencione tres (3x) “Indicadores de CONSTRUCCIÓN DE PAZ”',\n",
       " 'Mencione tres (3x) palabras claves para la RECONCILIACIÓN',\n",
       " '¿Cuál es tu lugar de residencia?:',\n",
       " 'Comuna:',\n",
       " 'Barrio:',\n",
       " 'Corregimiento:',\n",
       " 'Vereda:',\n",
       " 'Otros nombres utilizados para referirse a tu Barrio / Vereda / Zona / Sector:',\n",
       " 'Departamento:',\n",
       " 'Municipio:',\n",
       " 'Tiempo de residencia:',\n",
       " '¿Qué tan satisfecho se siente de vivir en ese barrio o corregimiento?',\n",
       " 'Durante los ÚLTIMOS DOCE MESES, ¿de cuáles de los siguientes hechos ha sido víctima usted o algún miembro del hogar dentro de su barrio o vereda?',\n",
       " 'Durante los ÚLTIMOS DOCE MESES, ¿de cuáles de los siguientes hechos ha sido víctima usted o algún miembro del hogar dentro de su barrio o vereda?/Atracos o robos',\n",
       " 'Durante los ÚLTIMOS DOCE MESES, ¿de cuáles de los siguientes hechos ha sido víctima usted o algún miembro del hogar dentro de su barrio o vereda?/Homicidios o asesinatos',\n",
       " 'Durante los ÚLTIMOS DOCE MESES, ¿de cuáles de los siguientes hechos ha sido víctima usted o algún miembro del hogar dentro de su barrio o vereda?/Secuestros o desapariciones',\n",
       " 'Durante los ÚLTIMOS DOCE MESES, ¿de cuáles de los siguientes hechos ha sido víctima usted o algún miembro del hogar dentro de su barrio o vereda?/Violencia física o psicológica',\n",
       " 'Durante los ÚLTIMOS DOCE MESES, ¿de cuáles de los siguientes hechos ha sido víctima usted o algún miembro del hogar dentro de su barrio o vereda?/Violencia sexual',\n",
       " 'Durante los ÚLTIMOS DOCE MESES, ¿de cuáles de los siguientes hechos ha sido víctima usted o algún miembro del hogar dentro de su barrio o vereda?/Extorsión o chantaje',\n",
       " 'Durante los ÚLTIMOS DOCE MESES, ¿de cuáles de los siguientes hechos ha sido víctima usted o algún miembro del hogar dentro de su barrio o vereda?/Amenazas',\n",
       " 'Durante los ÚLTIMOS DOCE MESES, ¿de cuáles de los siguientes hechos ha sido víctima usted o algún miembro del hogar dentro de su barrio o vereda?/Estafa',\n",
       " 'Durante los ÚLTIMOS DOCE MESES, ¿de cuáles de los siguientes hechos ha sido víctima usted o algún miembro del hogar dentro de su barrio o vereda?/Desplazamiento forzado',\n",
       " 'Durante los ÚLTIMOS DOCE MESES, ¿de cuáles de los siguientes hechos ha sido víctima usted o algún miembro del hogar dentro de su barrio o vereda?/Ninguna de las anteriores',\n",
       " '¿De qué otro Barrio de Cali usted tiene mayor conocimiento?',\n",
       " '¿De qué otro Barrio de Cali usted tiene mayor conocimiento?.1',\n",
       " '¿Qué barrio de Cali usted visita regularmente?',\n",
       " 'Ruido',\n",
       " 'Exceso de anuncios publicitarios',\n",
       " 'Inseguridad',\n",
       " 'Contaminación del aire',\n",
       " 'Malos olores',\n",
       " 'Generación y manejo inadecuado de las basuras',\n",
       " 'Invasión de andenes y calles',\n",
       " 'Transporte público (buses, busetas o colectivos)',\n",
       " 'Estación o paradero alimentadores',\n",
       " 'Parque o zonas verdes',\n",
       " 'Tienda o supermercado',\n",
       " 'Droguería o farmacia',\n",
       " 'Bancos o cajeros',\n",
       " 'CAI o Estación de policía',\n",
       " 'Biblioteca',\n",
       " 'En los viajes que realiza de lunes a viernes ¿por cuáles motivo los realiza?',\n",
       " 'En los viajes que realiza de lunes a viernes ¿por cuáles motivo los realiza?/Para ir a trabajar',\n",
       " 'En los viajes que realiza de lunes a viernes ¿por cuáles motivo los realiza?/Para ir a estudiar',\n",
       " 'En los viajes que realiza de lunes a viernes ¿por cuáles motivo los realiza?/Para realizar actividades deportivas o culturales',\n",
       " 'En los viajes que realiza de lunes a viernes ¿por cuáles motivo los realiza?/Para ir a atención médica',\n",
       " 'En los viajes que realiza de lunes a viernes ¿por cuáles motivo los realiza?/Para ir de compras',\n",
       " 'En los viajes que realiza de lunes a viernes ¿por cuáles motivo los realiza?/Para realizar actividades sociales',\n",
       " 'En los viajes que realiza de lunes a viernes ¿por cuáles motivo los realiza?/Para asuntos personales',\n",
       " 'A continuación se llevará a cabo la descripción del desplazamiento del último viaje que realizó, de lunes a viernes, desde su casa hasta el lugar de trabajo.',\n",
       " '¿Cuál es el lugar de origen?',\n",
       " '¿Cuál es la hora del inicio del viaje?',\n",
       " '¿En cuántas etapas realizaste el último viaje desde el lugar de residencia al trabajo?',\n",
       " 'Medio de transporte',\n",
       " 'Tiempo de espera en minutos:',\n",
       " 'Tiempo de trayecto en minutos:',\n",
       " 'Medio de transporte.1',\n",
       " 'Tiempo de espera en minutos:.1',\n",
       " 'Tiempo de trayecto en minutos:.1',\n",
       " 'Medio de transporte.2',\n",
       " 'Tiempo de espera en minutos:.2',\n",
       " 'Tiempo de trayecto en minutos:.2',\n",
       " 'Medio de transporte.3',\n",
       " 'Tiempo de espera en minutos:.3',\n",
       " 'Tiempo de trayecto en minutos:.3',\n",
       " 'Medio de transporte.4',\n",
       " 'Tiempo de espera en minutos:.4',\n",
       " 'Tiempo de trayecto en minutos:.4',\n",
       " '¿De qué nivel es el título o diploma más alto que ha obtenido?',\n",
       " 'Nivel educativo más alto alcanzado sin graduación:',\n",
       " 'Último año aprobado',\n",
       " 'Último año aprobado.1',\n",
       " 'Último año aprobado.2',\n",
       " 'Último año aprobado.3',\n",
       " 'Último año aprobado.4',\n",
       " 'Último año aprobado.5',\n",
       " 'Último año aprobado.6',\n",
       " 'Último año aprobado.7',\n",
       " '¿Actualmente asiste a alguna institución educativa?',\n",
       " '¿A cuál Institución Educativa?',\n",
       " '¿Qué tipo de estudios cursa actualmente?',\n",
       " '¿Cuántos semestres lleva estudiando?',\n",
       " 'Años',\n",
       " 'Meses',\n",
       " 'experiencia_calculada',\n",
       " 'Su experiencia laboral total es de ${experiencia_calculada} meses',\n",
       " 'Años.1',\n",
       " 'Meses.1',\n",
       " 'experiencia_p_calculada',\n",
       " 'Su experiencia profesional total es de ${experiencia_p_calculada} meses',\n",
       " '¿Qué tipos de experiencias laborales ha tenido?',\n",
       " '¿Qué tipos de experiencias laborales ha tenido?/Educación/Monitorías universitarias',\n",
       " '¿Qué tipos de experiencias laborales ha tenido?/Administrativas',\n",
       " '¿Qué tipos de experiencias laborales ha tenido?/Coordinación de equipos de trabajo',\n",
       " '¿Qué tipos de experiencias laborales ha tenido?/Formulación y desarrollo de proyectos',\n",
       " '¿Qué tipos de experiencias laborales ha tenido?/Evaluación de proyectos',\n",
       " '¿Qué tipos de experiencias laborales ha tenido?/Trabajo con comunidades',\n",
       " '¿Qué tipos de experiencias laborales ha tenido?/Investigación académica',\n",
       " '¿Qué tipos de experiencias laborales ha tenido?/Comercio / Ventas',\n",
       " '¿Qué tipos de experiencias laborales ha tenido?/Sector público',\n",
       " '¿Qué tipos de experiencias laborales ha tenido?/Multinacionales / Multilatinas',\n",
       " '¿Qué tipos de experiencias laborales ha tenido?/Sector financiero',\n",
       " '¿Qué tipos de experiencias laborales ha tenido?/Organizaciones No Gubernamentales, Fundaciones',\n",
       " '¿Qué tipos de experiencias laborales ha tenido?/Cooperación internacional',\n",
       " '¿Qué tipos de experiencias laborales ha tenido?/Docencia',\n",
       " '¿Qué tipos de experiencias laborales ha tenido?/Diseño de actividades formativas',\n",
       " '¿Qué tipos de experiencias laborales ha tenido?/Coordinación de eventos',\n",
       " '¿Qué tipos de experiencias laborales ha tenido?/Logística',\n",
       " '¿Qué tipos de experiencias laborales ha tenido?/Metodologías (definición)',\n",
       " '¿Qué tipos de experiencias laborales ha tenido?/Metodologías (adaptación-ajuste)',\n",
       " '¿Qué tipos de experiencias laborales ha tenido?/Sistematización de experiencias',\n",
       " '¿Qué tipos de experiencias laborales ha tenido?/Sector agropecuario - rural',\n",
       " 'Años.2',\n",
       " 'Meses.2',\n",
       " 'experiencia_q_calculada',\n",
       " 'Su último contrato, antes de la SPCC, duró ${experiencia_q_calculada} meses',\n",
       " '¿De qué tipo fue su última experiencia laboral antes de ser contratado en la SPCC?',\n",
       " 'Años.3',\n",
       " 'Meses.3',\n",
       " 'experiencia_r_calculada',\n",
       " 'En la SPCC lleva trabajando ${experiencia_r_calculada} meses',\n",
       " 'Recuerdos',\n",
       " 'Sueños',\n",
       " 'Paisajes',\n",
       " 'No violencia',\n",
       " 'Familia',\n",
       " 'Hogar',\n",
       " 'Tranquilidad',\n",
       " 'Trabajo / Empleo',\n",
       " 'Salud',\n",
       " 'Educación',\n",
       " 'Dios',\n",
       " 'Espiritualidad',\n",
       " '¿Qué lugares recomiendas como territorios con mayor potencial para construir Paz?',\n",
       " '¿Qué lugares recomiendas como territorios con mayor potencial para construir Paz?/Barrio',\n",
       " '¿Qué lugares recomiendas como territorios con mayor potencial para construir Paz?/Centros Educativos',\n",
       " '¿Qué lugares recomiendas como territorios con mayor potencial para construir Paz?/Espacios Derportivos',\n",
       " '¿Qué lugares recomiendas como territorios con mayor potencial para construir Paz?/Vivienda',\n",
       " '¿Qué lugares recomiendas como territorios con mayor potencial para construir Paz?/Parques / Zonas Verdes',\n",
       " '¿Qué lugares recomiendas como territorios con mayor potencial para construir Paz?/Vía pública',\n",
       " '¿Qué lugares recomiendas como territorios con mayor potencial para construir Paz?/Campo / Zona Rural',\n",
       " '¿Qué lugares recomiendas como territorios con mayor potencial para construir Paz?/Espacios Culturales',\n",
       " '¿Qué lugares recomiendas como territorios con mayor potencial para construir Paz?/Territorios de origen',\n",
       " '¿Qué lugares crees que se deben priorizar para lograr pronta Paz?',\n",
       " '¿Qué lugares crees que se deben priorizar para lograr pronta Paz?/Barrio',\n",
       " '¿Qué lugares crees que se deben priorizar para lograr pronta Paz?/Centros Educativos',\n",
       " '¿Qué lugares crees que se deben priorizar para lograr pronta Paz?/Espacios Derportivos',\n",
       " '¿Qué lugares crees que se deben priorizar para lograr pronta Paz?/Vivienda',\n",
       " '¿Qué lugares crees que se deben priorizar para lograr pronta Paz?/Parques / Zonas Verdes',\n",
       " '¿Qué lugares crees que se deben priorizar para lograr pronta Paz?/Vía pública',\n",
       " '¿Qué lugares crees que se deben priorizar para lograr pronta Paz?/Campo / Zona Rural',\n",
       " '¿Qué lugares crees que se deben priorizar para lograr pronta Paz?/Espacios Culturales',\n",
       " '¿Qué lugares crees que se deben priorizar para lograr pronta Paz?/Territorios de origen',\n",
       " 'Vecinos',\n",
       " 'Amigos',\n",
       " 'Deporte y recreación',\n",
       " 'Cultura',\n",
       " 'Tradiciones culturales/religiosas',\n",
       " 'Tradiciones familiares',\n",
       " 'Cuidado de los recursos naturales',\n",
       " 'Animales y/o mascotas',\n",
       " 'Comunidad',\n",
       " 'Sistema de salud',\n",
       " 'Derechos sociales',\n",
       " 'Equidad',\n",
       " 'Diversidad cultural',\n",
       " 'Seleccione las tres palabras/conceptos/expresiones más PODEROSAS para definir Paz',\n",
       " 'Seleccione las tres palabras/conceptos/expresiones más PODEROSAS para definir Paz/Respeto',\n",
       " 'Seleccione las tres palabras/conceptos/expresiones más PODEROSAS para definir Paz/Tolerancia',\n",
       " 'Seleccione las tres palabras/conceptos/expresiones más PODEROSAS para definir Paz/Armonía',\n",
       " 'Seleccione las tres palabras/conceptos/expresiones más PODEROSAS para definir Paz/Hogar',\n",
       " 'Seleccione las tres palabras/conceptos/expresiones más PODEROSAS para definir Paz/Entorno protector',\n",
       " 'Seleccione las tres palabras/conceptos/expresiones más PODEROSAS para definir Paz/No discriminación',\n",
       " 'Seleccione las tres palabras/conceptos/expresiones más PODEROSAS para definir Paz/Amor',\n",
       " 'Seleccione las tres palabras/conceptos/expresiones más PODEROSAS para definir Paz/Compartir',\n",
       " 'Seleccione las tres palabras/conceptos/expresiones más PODEROSAS para definir Paz/Unión',\n",
       " 'Seleccione las tres palabras/conceptos/expresiones más PODEROSAS para definir Paz/Tranquilidad',\n",
       " 'Seleccione las tres palabras/conceptos/expresiones más PODEROSAS para definir Paz/Equilibrio',\n",
       " 'Seleccione las tres palabras/conceptos/expresiones más PODEROSAS para definir Paz/Trabajo / Empleo',\n",
       " 'Seleccione las tres palabras/conceptos/expresiones más PODEROSAS para definir Paz/Soñar / sueños',\n",
       " 'Seleccione las tres palabras/conceptos/expresiones más PODEROSAS para definir Paz/No violencia',\n",
       " 'Seleccione las tres palabras/conceptos/expresiones más PODEROSAS para definir Paz/Derechos sociales',\n",
       " 'Seleccione las tres palabras/conceptos/expresiones más PODEROSAS para definir Paz/Atención en salud',\n",
       " 'Seleccione las tres palabras/conceptos/expresiones más PODEROSAS para definir Paz/Acceso al transporte público',\n",
       " 'Seleccione las tres palabras/conceptos/expresiones más PODEROSAS para definir Paz/Acceso a la educación',\n",
       " 'Seleccione las tres palabras/conceptos/expresiones más PODEROSAS para definir Paz/Deporte y recreación',\n",
       " 'Seleccione las tres palabras/conceptos/expresiones más PODEROSAS para definir Paz/Arte y cultura',\n",
       " 'Seleccione las tres palabras/conceptos/expresiones más PODEROSAS para definir Paz/Cuidado de los recursos naturales',\n",
       " 'Seleccione las tres palabras/conceptos/expresiones más PODEROSAS para definir Paz/Alimentación',\n",
       " 'Seleccione las tres palabras/conceptos/expresiones más PODEROSAS para definir Paz/Derecho a la vivienda digna',\n",
       " 'Seleccione las tres palabras/conceptos/expresiones más PODEROSAS para definir Paz/No acoso (sexual, laboral)',\n",
       " 'Seleccione las tres palabras/conceptos/expresiones más PODEROSAS para definir Paz/Primera infancia',\n",
       " 'Escriba una frase corta en la que exprese su significado de la Paz:',\n",
       " 'Escriba un deseo de Paz para los demás:',\n",
       " 'Sugerencias específicas para medir ¿qué si es Paz?:',\n",
       " 'Sugerencias específicas para mejorar las capacidades de la SPCC:',\n",
       " 'Sugerencias específicas al OPC para una futura encuesta:',\n",
       " '_index']"
      ]
     },
     "execution_count": 10,
     "metadata": {},
     "output_type": "execute_result"
    }
   ],
   "source": [
    "cols = dfEncuestaSPCC.columns.tolist()\n",
    "cols"
   ]
  },
  {
   "cell_type": "code",
   "execution_count": 11,
   "metadata": {},
   "outputs": [
    {
     "data": {
      "text/plain": [
       "166"
      ]
     },
     "execution_count": 11,
     "metadata": {},
     "output_type": "execute_result"
    }
   ],
   "source": [
    "dfEncuestaSPCC.columns.get_loc(\"Seleccione las tres palabras/conceptos/expresiones más PODEROSAS para definir Paz\")"
   ]
  },
  {
   "cell_type": "code",
   "execution_count": 12,
   "metadata": {
    "collapsed": true
   },
   "outputs": [],
   "source": [
    "dfEncuestaSPCC.drop(dfEncuestaSPCC.iloc[:, 1:166], inplace = True, axis = 1) "
   ]
  },
  {
   "cell_type": "code",
   "execution_count": 13,
   "metadata": {
    "scrolled": true
   },
   "outputs": [
    {
     "data": {
      "text/plain": [
       "['Mencione tres (3x) “Indicadores de CONSTRUCCIÓN DE PAZ”',\n",
       " 'Seleccione las tres palabras/conceptos/expresiones más PODEROSAS para definir Paz',\n",
       " 'Seleccione las tres palabras/conceptos/expresiones más PODEROSAS para definir Paz/Respeto',\n",
       " 'Seleccione las tres palabras/conceptos/expresiones más PODEROSAS para definir Paz/Tolerancia',\n",
       " 'Seleccione las tres palabras/conceptos/expresiones más PODEROSAS para definir Paz/Armonía',\n",
       " 'Seleccione las tres palabras/conceptos/expresiones más PODEROSAS para definir Paz/Hogar',\n",
       " 'Seleccione las tres palabras/conceptos/expresiones más PODEROSAS para definir Paz/Entorno protector',\n",
       " 'Seleccione las tres palabras/conceptos/expresiones más PODEROSAS para definir Paz/No discriminación',\n",
       " 'Seleccione las tres palabras/conceptos/expresiones más PODEROSAS para definir Paz/Amor',\n",
       " 'Seleccione las tres palabras/conceptos/expresiones más PODEROSAS para definir Paz/Compartir',\n",
       " 'Seleccione las tres palabras/conceptos/expresiones más PODEROSAS para definir Paz/Unión',\n",
       " 'Seleccione las tres palabras/conceptos/expresiones más PODEROSAS para definir Paz/Tranquilidad',\n",
       " 'Seleccione las tres palabras/conceptos/expresiones más PODEROSAS para definir Paz/Equilibrio',\n",
       " 'Seleccione las tres palabras/conceptos/expresiones más PODEROSAS para definir Paz/Trabajo / Empleo',\n",
       " 'Seleccione las tres palabras/conceptos/expresiones más PODEROSAS para definir Paz/Soñar / sueños',\n",
       " 'Seleccione las tres palabras/conceptos/expresiones más PODEROSAS para definir Paz/No violencia',\n",
       " 'Seleccione las tres palabras/conceptos/expresiones más PODEROSAS para definir Paz/Derechos sociales',\n",
       " 'Seleccione las tres palabras/conceptos/expresiones más PODEROSAS para definir Paz/Atención en salud',\n",
       " 'Seleccione las tres palabras/conceptos/expresiones más PODEROSAS para definir Paz/Acceso al transporte público',\n",
       " 'Seleccione las tres palabras/conceptos/expresiones más PODEROSAS para definir Paz/Acceso a la educación',\n",
       " 'Seleccione las tres palabras/conceptos/expresiones más PODEROSAS para definir Paz/Deporte y recreación',\n",
       " 'Seleccione las tres palabras/conceptos/expresiones más PODEROSAS para definir Paz/Arte y cultura',\n",
       " 'Seleccione las tres palabras/conceptos/expresiones más PODEROSAS para definir Paz/Cuidado de los recursos naturales',\n",
       " 'Seleccione las tres palabras/conceptos/expresiones más PODEROSAS para definir Paz/Alimentación',\n",
       " 'Seleccione las tres palabras/conceptos/expresiones más PODEROSAS para definir Paz/Derecho a la vivienda digna',\n",
       " 'Seleccione las tres palabras/conceptos/expresiones más PODEROSAS para definir Paz/No acoso (sexual, laboral)',\n",
       " 'Seleccione las tres palabras/conceptos/expresiones más PODEROSAS para definir Paz/Primera infancia',\n",
       " 'Escriba una frase corta en la que exprese su significado de la Paz:',\n",
       " 'Escriba un deseo de Paz para los demás:',\n",
       " 'Sugerencias específicas para medir ¿qué si es Paz?:',\n",
       " 'Sugerencias específicas para mejorar las capacidades de la SPCC:',\n",
       " 'Sugerencias específicas al OPC para una futura encuesta:',\n",
       " '_index']"
      ]
     },
     "execution_count": 13,
     "metadata": {},
     "output_type": "execute_result"
    }
   ],
   "source": [
    "cols = dfEncuestaSPCC.columns.tolist()\n",
    "cols"
   ]
  },
  {
   "cell_type": "code",
   "execution_count": 14,
   "metadata": {},
   "outputs": [
    {
     "data": {
      "text/plain": [
       "27"
      ]
     },
     "execution_count": 14,
     "metadata": {},
     "output_type": "execute_result"
    }
   ],
   "source": [
    "dfEncuestaSPCC.columns.get_loc(\"Escriba una frase corta en la que exprese su significado de la Paz:\")"
   ]
  },
  {
   "cell_type": "code",
   "execution_count": 15,
   "metadata": {
    "collapsed": true
   },
   "outputs": [],
   "source": [
    "dfEncuestaSPCC.drop(dfEncuestaSPCC.iloc[:, 2:27], inplace = True, axis = 1) "
   ]
  },
  {
   "cell_type": "code",
   "execution_count": 16,
   "metadata": {},
   "outputs": [
    {
     "data": {
      "text/plain": [
       "['Mencione tres (3x) “Indicadores de CONSTRUCCIÓN DE PAZ”',\n",
       " 'Seleccione las tres palabras/conceptos/expresiones más PODEROSAS para definir Paz',\n",
       " 'Escriba una frase corta en la que exprese su significado de la Paz:',\n",
       " 'Escriba un deseo de Paz para los demás:',\n",
       " 'Sugerencias específicas para medir ¿qué si es Paz?:',\n",
       " 'Sugerencias específicas para mejorar las capacidades de la SPCC:',\n",
       " 'Sugerencias específicas al OPC para una futura encuesta:',\n",
       " '_index']"
      ]
     },
     "execution_count": 16,
     "metadata": {},
     "output_type": "execute_result"
    }
   ],
   "source": [
    "cols = dfEncuestaSPCC.columns.tolist()\n",
    "cols"
   ]
  },
  {
   "cell_type": "code",
   "execution_count": 17,
   "metadata": {
    "collapsed": true
   },
   "outputs": [],
   "source": [
    "dfEncuestaSPCC.drop(dfEncuestaSPCC.iloc[:, 3:8], inplace = True, axis = 1) "
   ]
  },
  {
   "cell_type": "code",
   "execution_count": 18,
   "metadata": {},
   "outputs": [
    {
     "data": {
      "text/plain": [
       "['Mencione tres (3x) “Indicadores de CONSTRUCCIÓN DE PAZ”',\n",
       " 'Seleccione las tres palabras/conceptos/expresiones más PODEROSAS para definir Paz',\n",
       " 'Escriba una frase corta en la que exprese su significado de la Paz:']"
      ]
     },
     "execution_count": 18,
     "metadata": {},
     "output_type": "execute_result"
    }
   ],
   "source": [
    "cols = dfEncuestaSPCC.columns.tolist()\n",
    "cols"
   ]
  },
  {
   "cell_type": "markdown",
   "metadata": {},
   "source": [
    "Finalmente logramos obtener las 3 columnas que nos interesaban"
   ]
  },
  {
   "cell_type": "markdown",
   "metadata": {},
   "source": [
    "## dfPazUSC"
   ]
  },
  {
   "cell_type": "code",
   "execution_count": 19,
   "metadata": {
    "scrolled": false
   },
   "outputs": [
    {
     "data": {
      "text/html": [
       "<div>\n",
       "<style scoped>\n",
       "    .dataframe tbody tr th:only-of-type {\n",
       "        vertical-align: middle;\n",
       "    }\n",
       "\n",
       "    .dataframe tbody tr th {\n",
       "        vertical-align: top;\n",
       "    }\n",
       "\n",
       "    .dataframe thead th {\n",
       "        text-align: right;\n",
       "    }\n",
       "</style>\n",
       "<table border=\"1\" class=\"dataframe\">\n",
       "  <thead>\n",
       "    <tr style=\"text-align: right;\">\n",
       "      <th></th>\n",
       "      <th>start</th>\n",
       "      <th>end</th>\n",
       "      <th>today</th>\n",
       "      <th>username</th>\n",
       "      <th>simserial</th>\n",
       "      <th>subscriberid</th>\n",
       "      <th>deviceid</th>\n",
       "      <th>phonenumber</th>\n",
       "      <th>equipo</th>\n",
       "      <th>punto_captura</th>\n",
       "      <th>...</th>\n",
       "      <th>municipio</th>\n",
       "      <th>cargo</th>\n",
       "      <th>facultad</th>\n",
       "      <th>programa_academico</th>\n",
       "      <th>__version__</th>\n",
       "      <th>_id</th>\n",
       "      <th>_uuid</th>\n",
       "      <th>_submission_time</th>\n",
       "      <th>_validation_status</th>\n",
       "      <th>_index</th>\n",
       "    </tr>\n",
       "  </thead>\n",
       "  <tbody>\n",
       "    <tr>\n",
       "      <th>0</th>\n",
       "      <td>2019-04-09T10:45:13.267-05</td>\n",
       "      <td>2019-04-09T11:10:35.529-05</td>\n",
       "      <td>2019-04-09</td>\n",
       "      <td>datospazcali</td>\n",
       "      <td>89571015019090214468</td>\n",
       "      <td>732101527021446</td>\n",
       "      <td>351712103831066</td>\n",
       "      <td>NaN</td>\n",
       "      <td>equipo_6</td>\n",
       "      <td>bloque_5</td>\n",
       "      <td>...</td>\n",
       "      <td>NaN</td>\n",
       "      <td>funcionario_operativo</td>\n",
       "      <td>NaN</td>\n",
       "      <td>NaN</td>\n",
       "      <td>vTnXvdYjdSdY5wARMg2L5Q</td>\n",
       "      <td>25553871</td>\n",
       "      <td>11f1cd0d-ba51-4a6f-afcd-95b2e120158c</td>\n",
       "      <td>2019-04-09T17:37:52</td>\n",
       "      <td>NaN</td>\n",
       "      <td>1</td>\n",
       "    </tr>\n",
       "    <tr>\n",
       "      <th>1</th>\n",
       "      <td>2019-04-09T11:14:49.149-05</td>\n",
       "      <td>2019-04-09T11:29:32.972-05</td>\n",
       "      <td>2019-04-09</td>\n",
       "      <td>datospazcali</td>\n",
       "      <td>8957123401818574217</td>\n",
       "      <td>732123630899421</td>\n",
       "      <td>358126076228817</td>\n",
       "      <td>NaN</td>\n",
       "      <td>equipo_6</td>\n",
       "      <td>bloque_5</td>\n",
       "      <td>...</td>\n",
       "      <td>NaN</td>\n",
       "      <td>estudiante</td>\n",
       "      <td>NaN</td>\n",
       "      <td>NaN</td>\n",
       "      <td>vTnXvdYjdSdY5wARMg2L5Q</td>\n",
       "      <td>25553956</td>\n",
       "      <td>c8477283-ae3e-45e8-9e9f-9d65b0222aac</td>\n",
       "      <td>2019-04-09T17:38:35</td>\n",
       "      <td>NaN</td>\n",
       "      <td>2</td>\n",
       "    </tr>\n",
       "    <tr>\n",
       "      <th>2</th>\n",
       "      <td>2019-04-09T11:30:09.295-05</td>\n",
       "      <td>2019-04-09T11:32:31.353-05</td>\n",
       "      <td>2019-04-09</td>\n",
       "      <td>datospazcali</td>\n",
       "      <td>8957123401818574217</td>\n",
       "      <td>732123630899421</td>\n",
       "      <td>358126076228817</td>\n",
       "      <td>NaN</td>\n",
       "      <td>equipo_6</td>\n",
       "      <td>bloque_5</td>\n",
       "      <td>...</td>\n",
       "      <td>NaN</td>\n",
       "      <td>estudiante</td>\n",
       "      <td>salud</td>\n",
       "      <td>medicina</td>\n",
       "      <td>vTnXvdYjdSdY5wARMg2L5Q</td>\n",
       "      <td>25553957</td>\n",
       "      <td>d3608c8b-5dd3-46fe-851c-af07d3eb53e2</td>\n",
       "      <td>2019-04-09T17:38:36</td>\n",
       "      <td>NaN</td>\n",
       "      <td>3</td>\n",
       "    </tr>\n",
       "    <tr>\n",
       "      <th>3</th>\n",
       "      <td>2019-04-09T10:23:40.386-05</td>\n",
       "      <td>2019-04-09T10:34:34.074-05</td>\n",
       "      <td>2019-04-09</td>\n",
       "      <td>datospazcali</td>\n",
       "      <td>89571015021013409001</td>\n",
       "      <td>732101543311682</td>\n",
       "      <td>353779105621165</td>\n",
       "      <td>NaN</td>\n",
       "      <td>tecnico_OPC</td>\n",
       "      <td>entrada_KL_5ta</td>\n",
       "      <td>...</td>\n",
       "      <td>76306.0</td>\n",
       "      <td>estudiante</td>\n",
       "      <td>derecho</td>\n",
       "      <td>derecho</td>\n",
       "      <td>vTnXvdYjdSdY5wARMg2L5Q</td>\n",
       "      <td>25546856</td>\n",
       "      <td>29d3b696-4f20-4df5-b5ea-5c922a589d43</td>\n",
       "      <td>2019-04-09T15:35:10</td>\n",
       "      <td>NaN</td>\n",
       "      <td>4</td>\n",
       "    </tr>\n",
       "    <tr>\n",
       "      <th>4</th>\n",
       "      <td>2019-04-09T10:21:54.412-05</td>\n",
       "      <td>2019-04-09T10:34:35.893-05</td>\n",
       "      <td>2019-04-09</td>\n",
       "      <td>datospazcali</td>\n",
       "      <td>89571015017080727838</td>\n",
       "      <td>732101502072783</td>\n",
       "      <td>355656080709710</td>\n",
       "      <td>NaN</td>\n",
       "      <td>tecnico_OPC</td>\n",
       "      <td>entrada_KL_5ta</td>\n",
       "      <td>...</td>\n",
       "      <td>NaN</td>\n",
       "      <td>estudiante</td>\n",
       "      <td>derecho</td>\n",
       "      <td>derecho</td>\n",
       "      <td>vTnXvdYjdSdY5wARMg2L5Q</td>\n",
       "      <td>25546861</td>\n",
       "      <td>9519762f-e31c-4842-a2cb-abee7d6ecfaf</td>\n",
       "      <td>2019-04-09T15:35:13</td>\n",
       "      <td>NaN</td>\n",
       "      <td>5</td>\n",
       "    </tr>\n",
       "  </tbody>\n",
       "</table>\n",
       "<p>5 rows × 56 columns</p>\n",
       "</div>"
      ],
      "text/plain": [
       "                        start                         end       today  \\\n",
       "0  2019-04-09T10:45:13.267-05  2019-04-09T11:10:35.529-05  2019-04-09   \n",
       "1  2019-04-09T11:14:49.149-05  2019-04-09T11:29:32.972-05  2019-04-09   \n",
       "2  2019-04-09T11:30:09.295-05  2019-04-09T11:32:31.353-05  2019-04-09   \n",
       "3  2019-04-09T10:23:40.386-05  2019-04-09T10:34:34.074-05  2019-04-09   \n",
       "4  2019-04-09T10:21:54.412-05  2019-04-09T10:34:35.893-05  2019-04-09   \n",
       "\n",
       "       username             simserial     subscriberid         deviceid  \\\n",
       "0  datospazcali  89571015019090214468  732101527021446  351712103831066   \n",
       "1  datospazcali   8957123401818574217  732123630899421  358126076228817   \n",
       "2  datospazcali   8957123401818574217  732123630899421  358126076228817   \n",
       "3  datospazcali  89571015021013409001  732101543311682  353779105621165   \n",
       "4  datospazcali  89571015017080727838  732101502072783  355656080709710   \n",
       "\n",
       "  phonenumber       equipo   punto_captura  ... municipio  \\\n",
       "0         NaN     equipo_6        bloque_5  ...       NaN   \n",
       "1         NaN     equipo_6        bloque_5  ...       NaN   \n",
       "2         NaN     equipo_6        bloque_5  ...       NaN   \n",
       "3         NaN  tecnico_OPC  entrada_KL_5ta  ...   76306.0   \n",
       "4         NaN  tecnico_OPC  entrada_KL_5ta  ...       NaN   \n",
       "\n",
       "                   cargo  facultad  programa_academico  \\\n",
       "0  funcionario_operativo       NaN                 NaN   \n",
       "1             estudiante       NaN                 NaN   \n",
       "2             estudiante     salud            medicina   \n",
       "3             estudiante   derecho             derecho   \n",
       "4             estudiante   derecho             derecho   \n",
       "\n",
       "              __version__       _id                                 _uuid  \\\n",
       "0  vTnXvdYjdSdY5wARMg2L5Q  25553871  11f1cd0d-ba51-4a6f-afcd-95b2e120158c   \n",
       "1  vTnXvdYjdSdY5wARMg2L5Q  25553956  c8477283-ae3e-45e8-9e9f-9d65b0222aac   \n",
       "2  vTnXvdYjdSdY5wARMg2L5Q  25553957  d3608c8b-5dd3-46fe-851c-af07d3eb53e2   \n",
       "3  vTnXvdYjdSdY5wARMg2L5Q  25546856  29d3b696-4f20-4df5-b5ea-5c922a589d43   \n",
       "4  vTnXvdYjdSdY5wARMg2L5Q  25546861  9519762f-e31c-4842-a2cb-abee7d6ecfaf   \n",
       "\n",
       "      _submission_time  _validation_status  _index  \n",
       "0  2019-04-09T17:37:52                 NaN       1  \n",
       "1  2019-04-09T17:38:35                 NaN       2  \n",
       "2  2019-04-09T17:38:36                 NaN       3  \n",
       "3  2019-04-09T15:35:10                 NaN       4  \n",
       "4  2019-04-09T15:35:13                 NaN       5  \n",
       "\n",
       "[5 rows x 56 columns]"
      ]
     },
     "execution_count": 19,
     "metadata": {},
     "output_type": "execute_result"
    }
   ],
   "source": [
    "dfPazUSC.head()"
   ]
  },
  {
   "cell_type": "code",
   "execution_count": 20,
   "metadata": {
    "scrolled": true
   },
   "outputs": [
    {
     "data": {
      "text/plain": [
       "['start',\n",
       " 'end',\n",
       " 'today',\n",
       " 'username',\n",
       " 'simserial',\n",
       " 'subscriberid',\n",
       " 'deviceid',\n",
       " 'phonenumber',\n",
       " 'equipo',\n",
       " 'punto_captura',\n",
       " 'narrativa_paz',\n",
       " 'componentes',\n",
       " 'componentes/tranquilidad',\n",
       " 'componentes/familia_hogar',\n",
       " 'componentes/vecinos_amigos',\n",
       " 'componentes/convivencia',\n",
       " 'componentes/narutaleza',\n",
       " 'componentes/no_violencia',\n",
       " 'componentes/zonas_verdes',\n",
       " 'componentes/démas_personas',\n",
       " 'componentes/respeto',\n",
       " 'componentes/comunidad',\n",
       " 'componentes/espiritualidad',\n",
       " 'componentes/no_discriminación',\n",
       " 'componentes/amor',\n",
       " 'componentes/tradiciones_familiares',\n",
       " 'componentes/libertad',\n",
       " 'componentes/derechos_sociales',\n",
       " 'componentes/salud',\n",
       " 'componentes/educación',\n",
       " 'componentes/derechos_espacio_publico',\n",
       " 'componentes/perdón',\n",
       " 'componentes/empleo',\n",
       " 'componentes/reconocimiento',\n",
       " 'componentes/reconciliación',\n",
       " 'sexo',\n",
       " 'edad',\n",
       " 'departamento_nacimiento',\n",
       " 'municipio_nacimiento',\n",
       " 'zona_residencia',\n",
       " 'comuna',\n",
       " 'barrio',\n",
       " 'corregimiento',\n",
       " 'vereda',\n",
       " 'otro_sector',\n",
       " 'departamento',\n",
       " 'municipio',\n",
       " 'cargo',\n",
       " 'facultad',\n",
       " 'programa_academico',\n",
       " '__version__',\n",
       " '_id',\n",
       " '_uuid',\n",
       " '_submission_time',\n",
       " '_validation_status',\n",
       " '_index']"
      ]
     },
     "execution_count": 20,
     "metadata": {},
     "output_type": "execute_result"
    }
   ],
   "source": [
    "cols = dfPazUSC.columns.tolist()\n",
    "cols"
   ]
  },
  {
   "cell_type": "markdown",
   "metadata": {},
   "source": [
    "La unica columna que nos interesa es: 'narrativa_paz'"
   ]
  },
  {
   "cell_type": "code",
   "execution_count": 21,
   "metadata": {},
   "outputs": [
    {
     "data": {
      "text/plain": [
       "10"
      ]
     },
     "execution_count": 21,
     "metadata": {},
     "output_type": "execute_result"
    }
   ],
   "source": [
    "dfPazUSC.columns.get_loc(\"narrativa_paz\")"
   ]
  },
  {
   "cell_type": "code",
   "execution_count": 22,
   "metadata": {
    "collapsed": true
   },
   "outputs": [],
   "source": [
    "dfPazUSC.drop(dfPazUSC.iloc[:, 0:10], inplace = True, axis = 1) "
   ]
  },
  {
   "cell_type": "code",
   "execution_count": 23,
   "metadata": {
    "scrolled": true
   },
   "outputs": [
    {
     "data": {
      "text/plain": [
       "['narrativa_paz',\n",
       " 'componentes',\n",
       " 'componentes/tranquilidad',\n",
       " 'componentes/familia_hogar',\n",
       " 'componentes/vecinos_amigos',\n",
       " 'componentes/convivencia',\n",
       " 'componentes/narutaleza',\n",
       " 'componentes/no_violencia',\n",
       " 'componentes/zonas_verdes',\n",
       " 'componentes/démas_personas',\n",
       " 'componentes/respeto',\n",
       " 'componentes/comunidad',\n",
       " 'componentes/espiritualidad',\n",
       " 'componentes/no_discriminación',\n",
       " 'componentes/amor',\n",
       " 'componentes/tradiciones_familiares',\n",
       " 'componentes/libertad',\n",
       " 'componentes/derechos_sociales',\n",
       " 'componentes/salud',\n",
       " 'componentes/educación',\n",
       " 'componentes/derechos_espacio_publico',\n",
       " 'componentes/perdón',\n",
       " 'componentes/empleo',\n",
       " 'componentes/reconocimiento',\n",
       " 'componentes/reconciliación',\n",
       " 'sexo',\n",
       " 'edad',\n",
       " 'departamento_nacimiento',\n",
       " 'municipio_nacimiento',\n",
       " 'zona_residencia',\n",
       " 'comuna',\n",
       " 'barrio',\n",
       " 'corregimiento',\n",
       " 'vereda',\n",
       " 'otro_sector',\n",
       " 'departamento',\n",
       " 'municipio',\n",
       " 'cargo',\n",
       " 'facultad',\n",
       " 'programa_academico',\n",
       " '__version__',\n",
       " '_id',\n",
       " '_uuid',\n",
       " '_submission_time',\n",
       " '_validation_status',\n",
       " '_index']"
      ]
     },
     "execution_count": 23,
     "metadata": {},
     "output_type": "execute_result"
    }
   ],
   "source": [
    "cols = dfPazUSC.columns.tolist()\n",
    "cols"
   ]
  },
  {
   "cell_type": "code",
   "execution_count": 24,
   "metadata": {},
   "outputs": [
    {
     "data": {
      "text/plain": [
       "46"
      ]
     },
     "execution_count": 24,
     "metadata": {},
     "output_type": "execute_result"
    }
   ],
   "source": [
    "len(cols)"
   ]
  },
  {
   "cell_type": "code",
   "execution_count": 25,
   "metadata": {
    "collapsed": true
   },
   "outputs": [],
   "source": [
    "dfPazUSC.drop(dfPazUSC.iloc[:, 1:47], inplace = True, axis = 1) "
   ]
  },
  {
   "cell_type": "code",
   "execution_count": 26,
   "metadata": {},
   "outputs": [
    {
     "data": {
      "text/plain": [
       "['narrativa_paz']"
      ]
     },
     "execution_count": 26,
     "metadata": {},
     "output_type": "execute_result"
    }
   ],
   "source": [
    "cols = dfPazUSC.columns.tolist()\n",
    "cols"
   ]
  },
  {
   "cell_type": "markdown",
   "metadata": {},
   "source": [
    "Finalmente obtuvimos la columna que nos interesaba"
   ]
  },
  {
   "cell_type": "markdown",
   "metadata": {},
   "source": [
    "## dfNarrativasMayo"
   ]
  },
  {
   "cell_type": "code",
   "execution_count": 27,
   "metadata": {},
   "outputs": [
    {
     "data": {
      "text/html": [
       "<div>\n",
       "<style scoped>\n",
       "    .dataframe tbody tr th:only-of-type {\n",
       "        vertical-align: middle;\n",
       "    }\n",
       "\n",
       "    .dataframe tbody tr th {\n",
       "        vertical-align: top;\n",
       "    }\n",
       "\n",
       "    .dataframe thead th {\n",
       "        text-align: right;\n",
       "    }\n",
       "</style>\n",
       "<table border=\"1\" class=\"dataframe\">\n",
       "  <thead>\n",
       "    <tr style=\"text-align: right;\">\n",
       "      <th></th>\n",
       "      <th>_orden</th>\n",
       "      <th>pre_INDEX\\nentrada_KOBO</th>\n",
       "      <th>_grupo</th>\n",
       "      <th>index_MA\\nsalida_KOBO</th>\n",
       "      <th>caso</th>\n",
       "    </tr>\n",
       "  </thead>\n",
       "  <tbody>\n",
       "    <tr>\n",
       "      <th>0</th>\n",
       "      <td>1</td>\n",
       "      <td>1</td>\n",
       "      <td>n15FEB2017</td>\n",
       "      <td>299.0</td>\n",
       "      <td>sin_INDEX</td>\n",
       "    </tr>\n",
       "    <tr>\n",
       "      <th>1</th>\n",
       "      <td>2</td>\n",
       "      <td>2</td>\n",
       "      <td>n15FEB2017</td>\n",
       "      <td>33.0</td>\n",
       "      <td>sin_INDEX</td>\n",
       "    </tr>\n",
       "    <tr>\n",
       "      <th>2</th>\n",
       "      <td>3</td>\n",
       "      <td>3</td>\n",
       "      <td>n15FEB2017</td>\n",
       "      <td>375.0</td>\n",
       "      <td>con_INDEX</td>\n",
       "    </tr>\n",
       "    <tr>\n",
       "      <th>3</th>\n",
       "      <td>4</td>\n",
       "      <td>4</td>\n",
       "      <td>n15FEB2017</td>\n",
       "      <td>396.0</td>\n",
       "      <td>sin_INDEX</td>\n",
       "    </tr>\n",
       "    <tr>\n",
       "      <th>4</th>\n",
       "      <td>5</td>\n",
       "      <td>5</td>\n",
       "      <td>n15FEB2017</td>\n",
       "      <td>649.0</td>\n",
       "      <td>sin_INDEX</td>\n",
       "    </tr>\n",
       "  </tbody>\n",
       "</table>\n",
       "</div>"
      ],
      "text/plain": [
       "   _orden  pre_INDEX\\nentrada_KOBO       _grupo  index_MA\\nsalida_KOBO  \\\n",
       "0       1                         1  n15FEB2017                  299.0   \n",
       "1       2                         2  n15FEB2017                   33.0   \n",
       "2       3                         3  n15FEB2017                  375.0   \n",
       "3       4                         4  n15FEB2017                  396.0   \n",
       "4       5                         5  n15FEB2017                  649.0   \n",
       "\n",
       "        caso  \n",
       "0  sin_INDEX  \n",
       "1  sin_INDEX  \n",
       "2  con_INDEX  \n",
       "3  sin_INDEX  \n",
       "4  sin_INDEX  "
      ]
     },
     "execution_count": 27,
     "metadata": {},
     "output_type": "execute_result"
    }
   ],
   "source": [
    "dfNarrativasMayo.head()"
   ]
  },
  {
   "cell_type": "code",
   "execution_count": 28,
   "metadata": {
    "collapsed": true
   },
   "outputs": [],
   "source": [
    "dfNarrativasMayo = pd.ExcelFile('./data/respaldo_actualizacion_NARRATIVAS-10MAY2019-0600-MODIFICADA-ORTOGRAFIA.xlsx')"
   ]
  },
  {
   "cell_type": "markdown",
   "metadata": {},
   "source": [
    "Esta fuente de datos tiene varias hojas (Sheets), exactamente 6, por tanto debemos examinarlas una por una para extraer la información"
   ]
  },
  {
   "cell_type": "code",
   "execution_count": 29,
   "metadata": {
    "collapsed": true
   },
   "outputs": [],
   "source": [
    "dfSheet1 = pd.read_excel(dfNarrativasMayo, sheet_name=\"registros_ma-n15FEB2017\")"
   ]
  },
  {
   "cell_type": "code",
   "execution_count": 30,
   "metadata": {},
   "outputs": [
    {
     "data": {
      "text/html": [
       "<div>\n",
       "<style scoped>\n",
       "    .dataframe tbody tr th:only-of-type {\n",
       "        vertical-align: middle;\n",
       "    }\n",
       "\n",
       "    .dataframe tbody tr th {\n",
       "        vertical-align: top;\n",
       "    }\n",
       "\n",
       "    .dataframe thead th {\n",
       "        text-align: right;\n",
       "    }\n",
       "</style>\n",
       "<table border=\"1\" class=\"dataframe\">\n",
       "  <thead>\n",
       "    <tr style=\"text-align: right;\">\n",
       "      <th></th>\n",
       "      <th>Unnamed: 0</th>\n",
       "      <th>Unnamed: 1</th>\n",
       "      <th>Unnamed: 2</th>\n",
       "      <th>Unnamed: 3</th>\n",
       "      <th>Unnamed: 4</th>\n",
       "      <th>1</th>\n",
       "      <th>2</th>\n",
       "      <th>3</th>\n",
       "      <th>4</th>\n",
       "      <th>5</th>\n",
       "      <th>...</th>\n",
       "      <th>128</th>\n",
       "      <th>129</th>\n",
       "      <th>130</th>\n",
       "      <th>131</th>\n",
       "      <th>132</th>\n",
       "      <th>133</th>\n",
       "      <th>134</th>\n",
       "      <th>135</th>\n",
       "      <th>136</th>\n",
       "      <th>137</th>\n",
       "    </tr>\n",
       "  </thead>\n",
       "  <tbody>\n",
       "    <tr>\n",
       "      <th>0</th>\n",
       "      <td>NaN</td>\n",
       "      <td>NaN</td>\n",
       "      <td>NaN</td>\n",
       "      <td>header_listo</td>\n",
       "      <td>NaN</td>\n",
       "      <td>responsable</td>\n",
       "      <td>NaN</td>\n",
       "      <td>nombre</td>\n",
       "      <td>apellido</td>\n",
       "      <td>barrio</td>\n",
       "      <td>...</td>\n",
       "      <td>policia</td>\n",
       "      <td>soldado</td>\n",
       "      <td>fauna</td>\n",
       "      <td>flora</td>\n",
       "      <td>niños</td>\n",
       "      <td>adolecentes</td>\n",
       "      <td>jovenes</td>\n",
       "      <td>adultos</td>\n",
       "      <td>adulto_mayor</td>\n",
       "      <td>NaN</td>\n",
       "    </tr>\n",
       "    <tr>\n",
       "      <th>1</th>\n",
       "      <td>NaN</td>\n",
       "      <td>NaN</td>\n",
       "      <td>NaN</td>\n",
       "      <td>NaN</td>\n",
       "      <td>NaN</td>\n",
       "      <td>n15FEB2017-59x</td>\n",
       "      <td>n15FEB2017-59x</td>\n",
       "      <td>n15FEB2017-59x</td>\n",
       "      <td>n15FEB2017-59x</td>\n",
       "      <td>n15FEB2017-59x</td>\n",
       "      <td>...</td>\n",
       "      <td>quienes</td>\n",
       "      <td>quienes</td>\n",
       "      <td>quienes</td>\n",
       "      <td>quienes</td>\n",
       "      <td>quienes</td>\n",
       "      <td>quienes</td>\n",
       "      <td>quienes</td>\n",
       "      <td>quienes</td>\n",
       "      <td>quienes</td>\n",
       "      <td>escenario</td>\n",
       "    </tr>\n",
       "    <tr>\n",
       "      <th>2</th>\n",
       "      <td>_indice_HORIZONTAL</td>\n",
       "      <td>NaN</td>\n",
       "      <td>NaN</td>\n",
       "      <td>NaN</td>\n",
       "      <td>NaN</td>\n",
       "      <td>1</td>\n",
       "      <td>2</td>\n",
       "      <td>3</td>\n",
       "      <td>4</td>\n",
       "      <td>5</td>\n",
       "      <td>...</td>\n",
       "      <td>69</td>\n",
       "      <td>70</td>\n",
       "      <td>71</td>\n",
       "      <td>72</td>\n",
       "      <td>73</td>\n",
       "      <td>74</td>\n",
       "      <td>75</td>\n",
       "      <td>76</td>\n",
       "      <td>77</td>\n",
       "      <td>78</td>\n",
       "    </tr>\n",
       "    <tr>\n",
       "      <th>3</th>\n",
       "      <td>NaN</td>\n",
       "      <td>NaN</td>\n",
       "      <td>NaN</td>\n",
       "      <td>NaN</td>\n",
       "      <td>NaN</td>\n",
       "      <td>Responsable:</td>\n",
       "      <td>NaN</td>\n",
       "      <td>Nombre:</td>\n",
       "      <td>Apellido:</td>\n",
       "      <td>Barrio:</td>\n",
       "      <td>...</td>\n",
       "      <td>policia</td>\n",
       "      <td>soldado</td>\n",
       "      <td>fauna</td>\n",
       "      <td>flora</td>\n",
       "      <td>niños</td>\n",
       "      <td>adolecentes</td>\n",
       "      <td>jovenes</td>\n",
       "      <td>adultos</td>\n",
       "      <td>adulto_mayor</td>\n",
       "      <td>NaN</td>\n",
       "    </tr>\n",
       "    <tr>\n",
       "      <th>4</th>\n",
       "      <td>_orden</td>\n",
       "      <td>_index</td>\n",
       "      <td>_grupo</td>\n",
       "      <td>_index_MA</td>\n",
       "      <td>caso</td>\n",
       "      <td>NaN</td>\n",
       "      <td>NaN</td>\n",
       "      <td>NaN</td>\n",
       "      <td>NaN</td>\n",
       "      <td>NaN</td>\n",
       "      <td>...</td>\n",
       "      <td>NaN</td>\n",
       "      <td>NaN</td>\n",
       "      <td>NaN</td>\n",
       "      <td>NaN</td>\n",
       "      <td>NaN</td>\n",
       "      <td>NaN</td>\n",
       "      <td>NaN</td>\n",
       "      <td>NaN</td>\n",
       "      <td>NaN</td>\n",
       "      <td>NaN</td>\n",
       "    </tr>\n",
       "  </tbody>\n",
       "</table>\n",
       "<p>5 rows × 142 columns</p>\n",
       "</div>"
      ],
      "text/plain": [
       "           Unnamed: 0 Unnamed: 1 Unnamed: 2    Unnamed: 3 Unnamed: 4  \\\n",
       "0                 NaN        NaN        NaN  header_listo        NaN   \n",
       "1                 NaN        NaN        NaN           NaN        NaN   \n",
       "2  _indice_HORIZONTAL        NaN        NaN           NaN        NaN   \n",
       "3                 NaN        NaN        NaN           NaN        NaN   \n",
       "4              _orden     _index     _grupo     _index_MA       caso   \n",
       "\n",
       "                1               2               3               4  \\\n",
       "0     responsable             NaN          nombre        apellido   \n",
       "1  n15FEB2017-59x  n15FEB2017-59x  n15FEB2017-59x  n15FEB2017-59x   \n",
       "2               1               2               3               4   \n",
       "3    Responsable:             NaN         Nombre:       Apellido:   \n",
       "4             NaN             NaN             NaN             NaN   \n",
       "\n",
       "                5  ...      128      129      130      131      132  \\\n",
       "0          barrio  ...  policia  soldado    fauna    flora    niños   \n",
       "1  n15FEB2017-59x  ...  quienes  quienes  quienes  quienes  quienes   \n",
       "2               5  ...       69       70       71       72       73   \n",
       "3         Barrio:  ...  policia  soldado    fauna    flora    niños   \n",
       "4             NaN  ...      NaN      NaN      NaN      NaN      NaN   \n",
       "\n",
       "           133      134      135           136        137  \n",
       "0  adolecentes  jovenes  adultos  adulto_mayor        NaN  \n",
       "1      quienes  quienes  quienes       quienes  escenario  \n",
       "2           74       75       76            77         78  \n",
       "3  adolecentes  jovenes  adultos  adulto_mayor        NaN  \n",
       "4          NaN      NaN      NaN           NaN        NaN  \n",
       "\n",
       "[5 rows x 142 columns]"
      ]
     },
     "execution_count": 30,
     "metadata": {},
     "output_type": "execute_result"
    }
   ],
   "source": [
    "dfSheet1.head()"
   ]
  },
  {
   "cell_type": "code",
   "execution_count": 31,
   "metadata": {},
   "outputs": [
    {
     "data": {
      "text/plain": [
       "59"
      ]
     },
     "execution_count": 31,
     "metadata": {},
     "output_type": "execute_result"
    }
   ],
   "source": [
    "dfSheet1.columns.get_loc(55)"
   ]
  },
  {
   "cell_type": "code",
   "execution_count": 32,
   "metadata": {
    "collapsed": true
   },
   "outputs": [],
   "source": [
    "dfSheet1.drop(dfSheet1.iloc[:, 0:59], inplace = True, axis = 1) "
   ]
  },
  {
   "cell_type": "code",
   "execution_count": 33,
   "metadata": {
    "collapsed": true
   },
   "outputs": [],
   "source": [
    "cols = dfSheet1.columns.tolist()\n"
   ]
  },
  {
   "cell_type": "code",
   "execution_count": 34,
   "metadata": {},
   "outputs": [
    {
     "data": {
      "text/plain": [
       "83"
      ]
     },
     "execution_count": 34,
     "metadata": {},
     "output_type": "execute_result"
    }
   ],
   "source": [
    "len(cols)"
   ]
  },
  {
   "cell_type": "code",
   "execution_count": 35,
   "metadata": {
    "collapsed": true
   },
   "outputs": [],
   "source": [
    "dfSheet1.drop(dfSheet1.iloc[:, 1:84], inplace = True, axis = 1) "
   ]
  },
  {
   "cell_type": "code",
   "execution_count": 36,
   "metadata": {},
   "outputs": [
    {
     "data": {
      "text/plain": [
       "[55]"
      ]
     },
     "execution_count": 36,
     "metadata": {},
     "output_type": "execute_result"
    }
   ],
   "source": [
    "cols = dfSheet1.columns.tolist()\n",
    "cols"
   ]
  },
  {
   "cell_type": "code",
   "execution_count": 37,
   "metadata": {
    "scrolled": false
   },
   "outputs": [
    {
     "data": {
      "text/html": [
       "<div>\n",
       "<style scoped>\n",
       "    .dataframe tbody tr th:only-of-type {\n",
       "        vertical-align: middle;\n",
       "    }\n",
       "\n",
       "    .dataframe tbody tr th {\n",
       "        vertical-align: top;\n",
       "    }\n",
       "\n",
       "    .dataframe thead th {\n",
       "        text-align: right;\n",
       "    }\n",
       "</style>\n",
       "<table border=\"1\" class=\"dataframe\">\n",
       "  <thead>\n",
       "    <tr style=\"text-align: right;\">\n",
       "      <th></th>\n",
       "      <th>55</th>\n",
       "    </tr>\n",
       "  </thead>\n",
       "  <tbody>\n",
       "    <tr>\n",
       "      <th>0</th>\n",
       "      <td>texto</td>\n",
       "    </tr>\n",
       "    <tr>\n",
       "      <th>1</th>\n",
       "      <td>n15FEB2017-59x</td>\n",
       "    </tr>\n",
       "    <tr>\n",
       "      <th>2</th>\n",
       "      <td>55</td>\n",
       "    </tr>\n",
       "    <tr>\n",
       "      <th>3</th>\n",
       "      <td>Texto</td>\n",
       "    </tr>\n",
       "    <tr>\n",
       "      <th>4</th>\n",
       "      <td>NaN</td>\n",
       "    </tr>\n",
       "    <tr>\n",
       "      <th>5</th>\n",
       "      <td>NaN</td>\n",
       "    </tr>\n",
       "    <tr>\n",
       "      <th>6</th>\n",
       "      <td>convivencia pacifica con los demás y amor</td>\n",
       "    </tr>\n",
       "    <tr>\n",
       "      <th>7</th>\n",
       "      <td>No aparece</td>\n",
       "    </tr>\n",
       "    <tr>\n",
       "      <th>8</th>\n",
       "      <td>No aparece cuadro de datos</td>\n",
       "    </tr>\n",
       "    <tr>\n",
       "      <th>9</th>\n",
       "      <td>La Paz para mi es tener claridad sobre las cos...</td>\n",
       "    </tr>\n",
       "  </tbody>\n",
       "</table>\n",
       "</div>"
      ],
      "text/plain": [
       "                                                  55\n",
       "0                                              texto\n",
       "1                                     n15FEB2017-59x\n",
       "2                                                 55\n",
       "3                                              Texto\n",
       "4                                                NaN\n",
       "5                                                NaN\n",
       "6          convivencia pacifica con los demás y amor\n",
       "7                                         No aparece\n",
       "8                         No aparece cuadro de datos\n",
       "9  La Paz para mi es tener claridad sobre las cos..."
      ]
     },
     "execution_count": 37,
     "metadata": {},
     "output_type": "execute_result"
    }
   ],
   "source": [
    "dfSheet1.head(10)"
   ]
  },
  {
   "cell_type": "code",
   "execution_count": 38,
   "metadata": {
    "collapsed": true
   },
   "outputs": [],
   "source": [
    "dfSheet1.drop([0,1,2,3,4,5], inplace= True)"
   ]
  },
  {
   "cell_type": "code",
   "execution_count": 39,
   "metadata": {},
   "outputs": [
    {
     "data": {
      "text/html": [
       "<div>\n",
       "<style scoped>\n",
       "    .dataframe tbody tr th:only-of-type {\n",
       "        vertical-align: middle;\n",
       "    }\n",
       "\n",
       "    .dataframe tbody tr th {\n",
       "        vertical-align: top;\n",
       "    }\n",
       "\n",
       "    .dataframe thead th {\n",
       "        text-align: right;\n",
       "    }\n",
       "</style>\n",
       "<table border=\"1\" class=\"dataframe\">\n",
       "  <thead>\n",
       "    <tr style=\"text-align: right;\">\n",
       "      <th></th>\n",
       "      <th>55</th>\n",
       "    </tr>\n",
       "  </thead>\n",
       "  <tbody>\n",
       "    <tr>\n",
       "      <th>6</th>\n",
       "      <td>convivencia pacifica con los demás y amor</td>\n",
       "    </tr>\n",
       "    <tr>\n",
       "      <th>7</th>\n",
       "      <td>No aparece</td>\n",
       "    </tr>\n",
       "    <tr>\n",
       "      <th>8</th>\n",
       "      <td>No aparece cuadro de datos</td>\n",
       "    </tr>\n",
       "    <tr>\n",
       "      <th>9</th>\n",
       "      <td>La Paz para mi es tener claridad sobre las cos...</td>\n",
       "    </tr>\n",
       "    <tr>\n",
       "      <th>10</th>\n",
       "      <td>Para mi la Paz representa tranquilidad</td>\n",
       "    </tr>\n",
       "  </tbody>\n",
       "</table>\n",
       "</div>"
      ],
      "text/plain": [
       "                                                   55\n",
       "6           convivencia pacifica con los demás y amor\n",
       "7                                          No aparece\n",
       "8                          No aparece cuadro de datos\n",
       "9   La Paz para mi es tener claridad sobre las cos...\n",
       "10             Para mi la Paz representa tranquilidad"
      ]
     },
     "execution_count": 39,
     "metadata": {},
     "output_type": "execute_result"
    }
   ],
   "source": [
    "dfSheet1.head()"
   ]
  },
  {
   "cell_type": "code",
   "execution_count": 40,
   "metadata": {},
   "outputs": [
    {
     "data": {
      "text/html": [
       "<div>\n",
       "<style scoped>\n",
       "    .dataframe tbody tr th:only-of-type {\n",
       "        vertical-align: middle;\n",
       "    }\n",
       "\n",
       "    .dataframe tbody tr th {\n",
       "        vertical-align: top;\n",
       "    }\n",
       "\n",
       "    .dataframe thead th {\n",
       "        text-align: right;\n",
       "    }\n",
       "</style>\n",
       "<table border=\"1\" class=\"dataframe\">\n",
       "  <thead>\n",
       "    <tr style=\"text-align: right;\">\n",
       "      <th></th>\n",
       "      <th>55</th>\n",
       "    </tr>\n",
       "  </thead>\n",
       "  <tbody>\n",
       "    <tr>\n",
       "      <th>6</th>\n",
       "      <td>convivencia pacifica con los demás y amor</td>\n",
       "    </tr>\n",
       "    <tr>\n",
       "      <th>7</th>\n",
       "      <td>No aparece</td>\n",
       "    </tr>\n",
       "    <tr>\n",
       "      <th>8</th>\n",
       "      <td>No aparece cuadro de datos</td>\n",
       "    </tr>\n",
       "    <tr>\n",
       "      <th>9</th>\n",
       "      <td>La Paz para mi es tener claridad sobre las cos...</td>\n",
       "    </tr>\n",
       "    <tr>\n",
       "      <th>10</th>\n",
       "      <td>Para mi la Paz representa tranquilidad</td>\n",
       "    </tr>\n",
       "    <tr>\n",
       "      <th>11</th>\n",
       "      <td>la paz para mi creo que es vivir sin violencia...</td>\n",
       "    </tr>\n",
       "  </tbody>\n",
       "</table>\n",
       "</div>"
      ],
      "text/plain": [
       "                                                   55\n",
       "6           convivencia pacifica con los demás y amor\n",
       "7                                          No aparece\n",
       "8                          No aparece cuadro de datos\n",
       "9   La Paz para mi es tener claridad sobre las cos...\n",
       "10             Para mi la Paz representa tranquilidad\n",
       "11  la paz para mi creo que es vivir sin violencia..."
      ]
     },
     "execution_count": 40,
     "metadata": {},
     "output_type": "execute_result"
    }
   ],
   "source": [
    "dfSheet1.iloc[0:6]"
   ]
  },
  {
   "cell_type": "code",
   "execution_count": 41,
   "metadata": {
    "collapsed": true
   },
   "outputs": [],
   "source": [
    "dfSheet2 = pd.read_excel(dfNarrativasMayo, sheet_name=\"registros_ma-n16FEB2017\")"
   ]
  },
  {
   "cell_type": "code",
   "execution_count": 42,
   "metadata": {},
   "outputs": [
    {
     "data": {
      "text/html": [
       "<div>\n",
       "<style scoped>\n",
       "    .dataframe tbody tr th:only-of-type {\n",
       "        vertical-align: middle;\n",
       "    }\n",
       "\n",
       "    .dataframe tbody tr th {\n",
       "        vertical-align: top;\n",
       "    }\n",
       "\n",
       "    .dataframe thead th {\n",
       "        text-align: right;\n",
       "    }\n",
       "</style>\n",
       "<table border=\"1\" class=\"dataframe\">\n",
       "  <thead>\n",
       "    <tr style=\"text-align: right;\">\n",
       "      <th></th>\n",
       "      <th>Unnamed: 0</th>\n",
       "      <th>Unnamed: 1</th>\n",
       "      <th>Unnamed: 2</th>\n",
       "      <th>Unnamed: 3</th>\n",
       "      <th>Unnamed: 4</th>\n",
       "      <th>1</th>\n",
       "      <th>2</th>\n",
       "      <th>3</th>\n",
       "      <th>4</th>\n",
       "      <th>5</th>\n",
       "      <th>...</th>\n",
       "      <th>126</th>\n",
       "      <th>127</th>\n",
       "      <th>128</th>\n",
       "      <th>129</th>\n",
       "      <th>130</th>\n",
       "      <th>131</th>\n",
       "      <th>132</th>\n",
       "      <th>133</th>\n",
       "      <th>134</th>\n",
       "      <th>135</th>\n",
       "    </tr>\n",
       "  </thead>\n",
       "  <tbody>\n",
       "    <tr>\n",
       "      <th>0</th>\n",
       "      <td>NaN</td>\n",
       "      <td>NaN</td>\n",
       "      <td>NaN</td>\n",
       "      <td>NaN</td>\n",
       "      <td>NaN</td>\n",
       "      <td>responsable</td>\n",
       "      <td>nombre</td>\n",
       "      <td>apellido</td>\n",
       "      <td>edad</td>\n",
       "      <td>sexo</td>\n",
       "      <td>...</td>\n",
       "      <td>policia</td>\n",
       "      <td>soldado</td>\n",
       "      <td>fauna</td>\n",
       "      <td>flora</td>\n",
       "      <td>niños</td>\n",
       "      <td>adolecentes</td>\n",
       "      <td>jovenes</td>\n",
       "      <td>adultos</td>\n",
       "      <td>adulto_mayor</td>\n",
       "      <td>NaN</td>\n",
       "    </tr>\n",
       "    <tr>\n",
       "      <th>1</th>\n",
       "      <td>NaN</td>\n",
       "      <td>NaN</td>\n",
       "      <td>NaN</td>\n",
       "      <td>NaN</td>\n",
       "      <td>NaN</td>\n",
       "      <td>n16FEB2017-57x</td>\n",
       "      <td>n16FEB2017-57x</td>\n",
       "      <td>n16FEB2017-57x</td>\n",
       "      <td>n16FEB2017-57x</td>\n",
       "      <td>n16FEB2017-57x</td>\n",
       "      <td>...</td>\n",
       "      <td>quienes</td>\n",
       "      <td>quienes</td>\n",
       "      <td>quienes</td>\n",
       "      <td>quienes</td>\n",
       "      <td>quienes</td>\n",
       "      <td>quienes</td>\n",
       "      <td>quienes</td>\n",
       "      <td>quienes</td>\n",
       "      <td>quienes</td>\n",
       "      <td>escenario</td>\n",
       "    </tr>\n",
       "    <tr>\n",
       "      <th>2</th>\n",
       "      <td>_indice_HORIZONTAL</td>\n",
       "      <td>NaN</td>\n",
       "      <td>NaN</td>\n",
       "      <td>NaN</td>\n",
       "      <td>NaN</td>\n",
       "      <td>1</td>\n",
       "      <td>2</td>\n",
       "      <td>3</td>\n",
       "      <td>4</td>\n",
       "      <td>5</td>\n",
       "      <td>...</td>\n",
       "      <td>69</td>\n",
       "      <td>70</td>\n",
       "      <td>71</td>\n",
       "      <td>72</td>\n",
       "      <td>73</td>\n",
       "      <td>74</td>\n",
       "      <td>75</td>\n",
       "      <td>76</td>\n",
       "      <td>77</td>\n",
       "      <td>78</td>\n",
       "    </tr>\n",
       "    <tr>\n",
       "      <th>3</th>\n",
       "      <td>NaN</td>\n",
       "      <td>NaN</td>\n",
       "      <td>NaN</td>\n",
       "      <td>NaN</td>\n",
       "      <td>NaN</td>\n",
       "      <td>Responsable:</td>\n",
       "      <td>Nombre:</td>\n",
       "      <td>Apellido:</td>\n",
       "      <td>Edad</td>\n",
       "      <td>Sexo</td>\n",
       "      <td>...</td>\n",
       "      <td>policia</td>\n",
       "      <td>soldado</td>\n",
       "      <td>fauna</td>\n",
       "      <td>flora</td>\n",
       "      <td>niños</td>\n",
       "      <td>adolecentes</td>\n",
       "      <td>jovenes</td>\n",
       "      <td>adultos</td>\n",
       "      <td>adulto_mayor</td>\n",
       "      <td>NaN</td>\n",
       "    </tr>\n",
       "    <tr>\n",
       "      <th>4</th>\n",
       "      <td>_orden</td>\n",
       "      <td>_index</td>\n",
       "      <td>_grupo</td>\n",
       "      <td>_index_MA</td>\n",
       "      <td>caso</td>\n",
       "      <td>NaN</td>\n",
       "      <td>NaN</td>\n",
       "      <td>NaN</td>\n",
       "      <td>NaN</td>\n",
       "      <td>NaN</td>\n",
       "      <td>...</td>\n",
       "      <td>NaN</td>\n",
       "      <td>NaN</td>\n",
       "      <td>NaN</td>\n",
       "      <td>NaN</td>\n",
       "      <td>NaN</td>\n",
       "      <td>NaN</td>\n",
       "      <td>NaN</td>\n",
       "      <td>NaN</td>\n",
       "      <td>NaN</td>\n",
       "      <td>NaN</td>\n",
       "    </tr>\n",
       "  </tbody>\n",
       "</table>\n",
       "<p>5 rows × 140 columns</p>\n",
       "</div>"
      ],
      "text/plain": [
       "           Unnamed: 0 Unnamed: 1 Unnamed: 2 Unnamed: 3 Unnamed: 4  \\\n",
       "0                 NaN        NaN        NaN        NaN        NaN   \n",
       "1                 NaN        NaN        NaN        NaN        NaN   \n",
       "2  _indice_HORIZONTAL        NaN        NaN        NaN        NaN   \n",
       "3                 NaN        NaN        NaN        NaN        NaN   \n",
       "4              _orden     _index     _grupo  _index_MA       caso   \n",
       "\n",
       "                1               2               3               4  \\\n",
       "0     responsable          nombre        apellido            edad   \n",
       "1  n16FEB2017-57x  n16FEB2017-57x  n16FEB2017-57x  n16FEB2017-57x   \n",
       "2               1               2               3               4   \n",
       "3    Responsable:         Nombre:       Apellido:            Edad   \n",
       "4             NaN             NaN             NaN             NaN   \n",
       "\n",
       "                5  ...      126      127      128      129      130  \\\n",
       "0            sexo  ...  policia  soldado    fauna    flora    niños   \n",
       "1  n16FEB2017-57x  ...  quienes  quienes  quienes  quienes  quienes   \n",
       "2               5  ...       69       70       71       72       73   \n",
       "3            Sexo  ...  policia  soldado    fauna    flora    niños   \n",
       "4             NaN  ...      NaN      NaN      NaN      NaN      NaN   \n",
       "\n",
       "           131      132      133           134        135  \n",
       "0  adolecentes  jovenes  adultos  adulto_mayor        NaN  \n",
       "1      quienes  quienes  quienes       quienes  escenario  \n",
       "2           74       75       76            77         78  \n",
       "3  adolecentes  jovenes  adultos  adulto_mayor        NaN  \n",
       "4          NaN      NaN      NaN           NaN        NaN  \n",
       "\n",
       "[5 rows x 140 columns]"
      ]
     },
     "execution_count": 42,
     "metadata": {},
     "output_type": "execute_result"
    }
   ],
   "source": [
    "dfSheet2.head()"
   ]
  },
  {
   "cell_type": "code",
   "execution_count": 43,
   "metadata": {},
   "outputs": [
    {
     "data": {
      "text/plain": [
       "10"
      ]
     },
     "execution_count": 43,
     "metadata": {},
     "output_type": "execute_result"
    }
   ],
   "source": [
    "dfSheet2.columns.get_loc(6)"
   ]
  },
  {
   "cell_type": "code",
   "execution_count": 44,
   "metadata": {
    "collapsed": true
   },
   "outputs": [],
   "source": [
    "dfSheet2.drop(dfSheet2.iloc[:, 0:10], inplace = True, axis = 1) "
   ]
  },
  {
   "cell_type": "code",
   "execution_count": 45,
   "metadata": {},
   "outputs": [
    {
     "data": {
      "text/plain": [
       "130"
      ]
     },
     "execution_count": 45,
     "metadata": {},
     "output_type": "execute_result"
    }
   ],
   "source": [
    "cols = dfSheet2.columns.tolist()\n",
    "len(cols)"
   ]
  },
  {
   "cell_type": "code",
   "execution_count": 46,
   "metadata": {
    "collapsed": true
   },
   "outputs": [],
   "source": [
    "dfSheet2.drop(dfSheet2.iloc[:, 1:131], inplace = True, axis = 1) "
   ]
  },
  {
   "cell_type": "code",
   "execution_count": 47,
   "metadata": {
    "scrolled": true
   },
   "outputs": [
    {
     "data": {
      "text/html": [
       "<div>\n",
       "<style scoped>\n",
       "    .dataframe tbody tr th:only-of-type {\n",
       "        vertical-align: middle;\n",
       "    }\n",
       "\n",
       "    .dataframe tbody tr th {\n",
       "        vertical-align: top;\n",
       "    }\n",
       "\n",
       "    .dataframe thead th {\n",
       "        text-align: right;\n",
       "    }\n",
       "</style>\n",
       "<table border=\"1\" class=\"dataframe\">\n",
       "  <thead>\n",
       "    <tr style=\"text-align: right;\">\n",
       "      <th></th>\n",
       "      <th>6</th>\n",
       "    </tr>\n",
       "  </thead>\n",
       "  <tbody>\n",
       "    <tr>\n",
       "      <th>0</th>\n",
       "      <td>texto</td>\n",
       "    </tr>\n",
       "    <tr>\n",
       "      <th>1</th>\n",
       "      <td>n16FEB2017-57x</td>\n",
       "    </tr>\n",
       "    <tr>\n",
       "      <th>2</th>\n",
       "      <td>6</td>\n",
       "    </tr>\n",
       "    <tr>\n",
       "      <th>3</th>\n",
       "      <td>Texto</td>\n",
       "    </tr>\n",
       "    <tr>\n",
       "      <th>4</th>\n",
       "      <td>NaN</td>\n",
       "    </tr>\n",
       "    <tr>\n",
       "      <th>5</th>\n",
       "      <td>Para mi paz es poder compartir con los demás y...</td>\n",
       "    </tr>\n",
       "    <tr>\n",
       "      <th>6</th>\n",
       "      <td>la paz es una construcción social que se gesta...</td>\n",
       "    </tr>\n",
       "    <tr>\n",
       "      <th>7</th>\n",
       "      <td>la paz es la ausencia de factores de generador...</td>\n",
       "    </tr>\n",
       "    <tr>\n",
       "      <th>8</th>\n",
       "      <td>Si aportamos nuestro grano de arena empezando ...</td>\n",
       "    </tr>\n",
       "    <tr>\n",
       "      <th>9</th>\n",
       "      <td>la paz es pasar rato con mi familia</td>\n",
       "    </tr>\n",
       "  </tbody>\n",
       "</table>\n",
       "</div>"
      ],
      "text/plain": [
       "                                                   6\n",
       "0                                              texto\n",
       "1                                     n16FEB2017-57x\n",
       "2                                                  6\n",
       "3                                              Texto\n",
       "4                                                NaN\n",
       "5  Para mi paz es poder compartir con los demás y...\n",
       "6  la paz es una construcción social que se gesta...\n",
       "7  la paz es la ausencia de factores de generador...\n",
       "8  Si aportamos nuestro grano de arena empezando ...\n",
       "9                la paz es pasar rato con mi familia"
      ]
     },
     "execution_count": 47,
     "metadata": {},
     "output_type": "execute_result"
    }
   ],
   "source": [
    "dfSheet2.head(10)"
   ]
  },
  {
   "cell_type": "code",
   "execution_count": 48,
   "metadata": {
    "collapsed": true
   },
   "outputs": [],
   "source": [
    "dfSheet2.drop([0,1,2,3,4], inplace= True)"
   ]
  },
  {
   "cell_type": "code",
   "execution_count": 49,
   "metadata": {},
   "outputs": [
    {
     "data": {
      "text/html": [
       "<div>\n",
       "<style scoped>\n",
       "    .dataframe tbody tr th:only-of-type {\n",
       "        vertical-align: middle;\n",
       "    }\n",
       "\n",
       "    .dataframe tbody tr th {\n",
       "        vertical-align: top;\n",
       "    }\n",
       "\n",
       "    .dataframe thead th {\n",
       "        text-align: right;\n",
       "    }\n",
       "</style>\n",
       "<table border=\"1\" class=\"dataframe\">\n",
       "  <thead>\n",
       "    <tr style=\"text-align: right;\">\n",
       "      <th></th>\n",
       "      <th>6</th>\n",
       "    </tr>\n",
       "  </thead>\n",
       "  <tbody>\n",
       "    <tr>\n",
       "      <th>5</th>\n",
       "      <td>Para mi paz es poder compartir con los demás y...</td>\n",
       "    </tr>\n",
       "    <tr>\n",
       "      <th>6</th>\n",
       "      <td>la paz es una construcción social que se gesta...</td>\n",
       "    </tr>\n",
       "    <tr>\n",
       "      <th>7</th>\n",
       "      <td>la paz es la ausencia de factores de generador...</td>\n",
       "    </tr>\n",
       "    <tr>\n",
       "      <th>8</th>\n",
       "      <td>Si aportamos nuestro grano de arena empezando ...</td>\n",
       "    </tr>\n",
       "    <tr>\n",
       "      <th>9</th>\n",
       "      <td>la paz es pasar rato con mi familia</td>\n",
       "    </tr>\n",
       "  </tbody>\n",
       "</table>\n",
       "</div>"
      ],
      "text/plain": [
       "                                                   6\n",
       "5  Para mi paz es poder compartir con los demás y...\n",
       "6  la paz es una construcción social que se gesta...\n",
       "7  la paz es la ausencia de factores de generador...\n",
       "8  Si aportamos nuestro grano de arena empezando ...\n",
       "9                la paz es pasar rato con mi familia"
      ]
     },
     "execution_count": 49,
     "metadata": {},
     "output_type": "execute_result"
    }
   ],
   "source": [
    "dfSheet2.head()"
   ]
  },
  {
   "cell_type": "code",
   "execution_count": 50,
   "metadata": {
    "collapsed": true
   },
   "outputs": [],
   "source": [
    "dfSheet3 = pd.read_excel(dfNarrativasMayo, sheet_name=\"registros_ma-n01AGO2018\")"
   ]
  },
  {
   "cell_type": "code",
   "execution_count": 51,
   "metadata": {},
   "outputs": [
    {
     "data": {
      "text/plain": [
       "36"
      ]
     },
     "execution_count": 51,
     "metadata": {},
     "output_type": "execute_result"
    }
   ],
   "source": [
    "dfSheet3.columns.get_loc(32)"
   ]
  },
  {
   "cell_type": "code",
   "execution_count": 52,
   "metadata": {
    "collapsed": true
   },
   "outputs": [],
   "source": [
    "dfSheet3.drop(dfSheet3.iloc[:, 0:36], inplace = True, axis = 1) "
   ]
  },
  {
   "cell_type": "code",
   "execution_count": 53,
   "metadata": {},
   "outputs": [
    {
     "data": {
      "text/plain": [
       "165"
      ]
     },
     "execution_count": 53,
     "metadata": {},
     "output_type": "execute_result"
    }
   ],
   "source": [
    "cols = dfSheet3.columns.tolist()\n",
    "len(cols)"
   ]
  },
  {
   "cell_type": "code",
   "execution_count": 54,
   "metadata": {
    "collapsed": true
   },
   "outputs": [],
   "source": [
    "dfSheet3.drop(dfSheet3.iloc[:, 1:166], inplace = True, axis = 1) "
   ]
  },
  {
   "cell_type": "code",
   "execution_count": 55,
   "metadata": {},
   "outputs": [
    {
     "data": {
      "text/html": [
       "<div>\n",
       "<style scoped>\n",
       "    .dataframe tbody tr th:only-of-type {\n",
       "        vertical-align: middle;\n",
       "    }\n",
       "\n",
       "    .dataframe tbody tr th {\n",
       "        vertical-align: top;\n",
       "    }\n",
       "\n",
       "    .dataframe thead th {\n",
       "        text-align: right;\n",
       "    }\n",
       "</style>\n",
       "<table border=\"1\" class=\"dataframe\">\n",
       "  <thead>\n",
       "    <tr style=\"text-align: right;\">\n",
       "      <th></th>\n",
       "      <th>32</th>\n",
       "    </tr>\n",
       "  </thead>\n",
       "  <tbody>\n",
       "    <tr>\n",
       "      <th>0</th>\n",
       "      <td>narrativa_text</td>\n",
       "    </tr>\n",
       "    <tr>\n",
       "      <th>1</th>\n",
       "      <td>n01AGO2018-118x</td>\n",
       "    </tr>\n",
       "    <tr>\n",
       "      <th>2</th>\n",
       "      <td>32</td>\n",
       "    </tr>\n",
       "    <tr>\n",
       "      <th>3</th>\n",
       "      <td>narrativa_text</td>\n",
       "    </tr>\n",
       "    <tr>\n",
       "      <th>4</th>\n",
       "      <td>NaN</td>\n",
       "    </tr>\n",
       "    <tr>\n",
       "      <th>5</th>\n",
       "      <td>Para mi paz es cuidar la naturaleza,  ser cons...</td>\n",
       "    </tr>\n",
       "    <tr>\n",
       "      <th>6</th>\n",
       "      <td>La paz es tener principios morales y espiritua...</td>\n",
       "    </tr>\n",
       "    <tr>\n",
       "      <th>7</th>\n",
       "      <td>Paz es saber convivir en comunidad respetando ...</td>\n",
       "    </tr>\n",
       "    <tr>\n",
       "      <th>8</th>\n",
       "      <td>La paz para mi es que mi hijo y los demás niño...</td>\n",
       "    </tr>\n",
       "    <tr>\n",
       "      <th>9</th>\n",
       "      <td>La paz es aprender a convivir y respetar a las...</td>\n",
       "    </tr>\n",
       "  </tbody>\n",
       "</table>\n",
       "</div>"
      ],
      "text/plain": [
       "                                                  32\n",
       "0                                     narrativa_text\n",
       "1                                    n01AGO2018-118x\n",
       "2                                                 32\n",
       "3                                     narrativa_text\n",
       "4                                                NaN\n",
       "5  Para mi paz es cuidar la naturaleza,  ser cons...\n",
       "6  La paz es tener principios morales y espiritua...\n",
       "7  Paz es saber convivir en comunidad respetando ...\n",
       "8  La paz para mi es que mi hijo y los demás niño...\n",
       "9  La paz es aprender a convivir y respetar a las..."
      ]
     },
     "execution_count": 55,
     "metadata": {},
     "output_type": "execute_result"
    }
   ],
   "source": [
    "dfSheet3.head(10)"
   ]
  },
  {
   "cell_type": "code",
   "execution_count": 56,
   "metadata": {
    "collapsed": true
   },
   "outputs": [],
   "source": [
    "dfSheet3.drop([0,1,2,3,4], inplace= True)"
   ]
  },
  {
   "cell_type": "code",
   "execution_count": 57,
   "metadata": {},
   "outputs": [
    {
     "data": {
      "text/html": [
       "<div>\n",
       "<style scoped>\n",
       "    .dataframe tbody tr th:only-of-type {\n",
       "        vertical-align: middle;\n",
       "    }\n",
       "\n",
       "    .dataframe tbody tr th {\n",
       "        vertical-align: top;\n",
       "    }\n",
       "\n",
       "    .dataframe thead th {\n",
       "        text-align: right;\n",
       "    }\n",
       "</style>\n",
       "<table border=\"1\" class=\"dataframe\">\n",
       "  <thead>\n",
       "    <tr style=\"text-align: right;\">\n",
       "      <th></th>\n",
       "      <th>32</th>\n",
       "    </tr>\n",
       "  </thead>\n",
       "  <tbody>\n",
       "    <tr>\n",
       "      <th>5</th>\n",
       "      <td>Para mi paz es cuidar la naturaleza,  ser cons...</td>\n",
       "    </tr>\n",
       "    <tr>\n",
       "      <th>6</th>\n",
       "      <td>La paz es tener principios morales y espiritua...</td>\n",
       "    </tr>\n",
       "    <tr>\n",
       "      <th>7</th>\n",
       "      <td>Paz es saber convivir en comunidad respetando ...</td>\n",
       "    </tr>\n",
       "    <tr>\n",
       "      <th>8</th>\n",
       "      <td>La paz para mi es que mi hijo y los demás niño...</td>\n",
       "    </tr>\n",
       "    <tr>\n",
       "      <th>9</th>\n",
       "      <td>La paz es aprender a convivir y respetar a las...</td>\n",
       "    </tr>\n",
       "  </tbody>\n",
       "</table>\n",
       "</div>"
      ],
      "text/plain": [
       "                                                  32\n",
       "5  Para mi paz es cuidar la naturaleza,  ser cons...\n",
       "6  La paz es tener principios morales y espiritua...\n",
       "7  Paz es saber convivir en comunidad respetando ...\n",
       "8  La paz para mi es que mi hijo y los demás niño...\n",
       "9  La paz es aprender a convivir y respetar a las..."
      ]
     },
     "execution_count": 57,
     "metadata": {},
     "output_type": "execute_result"
    }
   ],
   "source": [
    "dfSheet3.head()"
   ]
  },
  {
   "cell_type": "code",
   "execution_count": 58,
   "metadata": {
    "collapsed": true
   },
   "outputs": [],
   "source": [
    "dfSheet4 = pd.read_excel(dfNarrativasMayo, sheet_name=\"n15FEB2017-341x59x\")"
   ]
  },
  {
   "cell_type": "code",
   "execution_count": 59,
   "metadata": {},
   "outputs": [
    {
     "data": {
      "text/plain": [
       "55"
      ]
     },
     "execution_count": 59,
     "metadata": {},
     "output_type": "execute_result"
    }
   ],
   "source": [
    "dfSheet4.columns.get_loc(55)"
   ]
  },
  {
   "cell_type": "code",
   "execution_count": 60,
   "metadata": {
    "collapsed": true
   },
   "outputs": [],
   "source": [
    "dfSheet4.drop(dfSheet4.iloc[:, 0:55], inplace = True, axis = 1) "
   ]
  },
  {
   "cell_type": "code",
   "execution_count": 61,
   "metadata": {},
   "outputs": [
    {
     "data": {
      "text/plain": [
       "5"
      ]
     },
     "execution_count": 61,
     "metadata": {},
     "output_type": "execute_result"
    }
   ],
   "source": [
    "cols = dfSheet4.columns.tolist()\n",
    "len(cols)"
   ]
  },
  {
   "cell_type": "code",
   "execution_count": 62,
   "metadata": {
    "collapsed": true
   },
   "outputs": [],
   "source": [
    "dfSheet4.drop(dfSheet4.iloc[:, 1:6], inplace = True, axis = 1) "
   ]
  },
  {
   "cell_type": "code",
   "execution_count": 63,
   "metadata": {},
   "outputs": [
    {
     "data": {
      "text/html": [
       "<div>\n",
       "<style scoped>\n",
       "    .dataframe tbody tr th:only-of-type {\n",
       "        vertical-align: middle;\n",
       "    }\n",
       "\n",
       "    .dataframe tbody tr th {\n",
       "        vertical-align: top;\n",
       "    }\n",
       "\n",
       "    .dataframe thead th {\n",
       "        text-align: right;\n",
       "    }\n",
       "</style>\n",
       "<table border=\"1\" class=\"dataframe\">\n",
       "  <thead>\n",
       "    <tr style=\"text-align: right;\">\n",
       "      <th></th>\n",
       "      <th>55</th>\n",
       "    </tr>\n",
       "  </thead>\n",
       "  <tbody>\n",
       "    <tr>\n",
       "      <th>0</th>\n",
       "      <td>texto</td>\n",
       "    </tr>\n",
       "    <tr>\n",
       "      <th>1</th>\n",
       "      <td>Texto</td>\n",
       "    </tr>\n",
       "    <tr>\n",
       "      <th>2</th>\n",
       "      <td>convivencia pacifica con los demás y amor</td>\n",
       "    </tr>\n",
       "    <tr>\n",
       "      <th>3</th>\n",
       "      <td>No aparece</td>\n",
       "    </tr>\n",
       "    <tr>\n",
       "      <th>4</th>\n",
       "      <td>No aparece cuadro de datos</td>\n",
       "    </tr>\n",
       "    <tr>\n",
       "      <th>5</th>\n",
       "      <td>La Paz para mi es tener claridad sobre las cos...</td>\n",
       "    </tr>\n",
       "    <tr>\n",
       "      <th>6</th>\n",
       "      <td>Para mi la Paz representa tranquilidad</td>\n",
       "    </tr>\n",
       "    <tr>\n",
       "      <th>7</th>\n",
       "      <td>la paz para mi creo que es vivir sin violencia...</td>\n",
       "    </tr>\n",
       "    <tr>\n",
       "      <th>8</th>\n",
       "      <td>paz es libertad es de lo que nos rodea  los an...</td>\n",
       "    </tr>\n",
       "    <tr>\n",
       "      <th>9</th>\n",
       "      <td>Paz para mi es tener buena educación  para pod...</td>\n",
       "    </tr>\n",
       "  </tbody>\n",
       "</table>\n",
       "</div>"
      ],
      "text/plain": [
       "                                                  55\n",
       "0                                              texto\n",
       "1                                              Texto\n",
       "2          convivencia pacifica con los demás y amor\n",
       "3                                         No aparece\n",
       "4                         No aparece cuadro de datos\n",
       "5  La Paz para mi es tener claridad sobre las cos...\n",
       "6             Para mi la Paz representa tranquilidad\n",
       "7  la paz para mi creo que es vivir sin violencia...\n",
       "8  paz es libertad es de lo que nos rodea  los an...\n",
       "9  Paz para mi es tener buena educación  para pod..."
      ]
     },
     "execution_count": 63,
     "metadata": {},
     "output_type": "execute_result"
    }
   ],
   "source": [
    "dfSheet4.head(10)"
   ]
  },
  {
   "cell_type": "code",
   "execution_count": 64,
   "metadata": {
    "collapsed": true
   },
   "outputs": [],
   "source": [
    "dfSheet4.drop([0,1], inplace= True)"
   ]
  },
  {
   "cell_type": "code",
   "execution_count": 65,
   "metadata": {},
   "outputs": [
    {
     "data": {
      "text/html": [
       "<div>\n",
       "<style scoped>\n",
       "    .dataframe tbody tr th:only-of-type {\n",
       "        vertical-align: middle;\n",
       "    }\n",
       "\n",
       "    .dataframe tbody tr th {\n",
       "        vertical-align: top;\n",
       "    }\n",
       "\n",
       "    .dataframe thead th {\n",
       "        text-align: right;\n",
       "    }\n",
       "</style>\n",
       "<table border=\"1\" class=\"dataframe\">\n",
       "  <thead>\n",
       "    <tr style=\"text-align: right;\">\n",
       "      <th></th>\n",
       "      <th>55</th>\n",
       "    </tr>\n",
       "  </thead>\n",
       "  <tbody>\n",
       "    <tr>\n",
       "      <th>2</th>\n",
       "      <td>convivencia pacifica con los demás y amor</td>\n",
       "    </tr>\n",
       "    <tr>\n",
       "      <th>3</th>\n",
       "      <td>No aparece</td>\n",
       "    </tr>\n",
       "    <tr>\n",
       "      <th>4</th>\n",
       "      <td>No aparece cuadro de datos</td>\n",
       "    </tr>\n",
       "    <tr>\n",
       "      <th>5</th>\n",
       "      <td>La Paz para mi es tener claridad sobre las cos...</td>\n",
       "    </tr>\n",
       "    <tr>\n",
       "      <th>6</th>\n",
       "      <td>Para mi la Paz representa tranquilidad</td>\n",
       "    </tr>\n",
       "  </tbody>\n",
       "</table>\n",
       "</div>"
      ],
      "text/plain": [
       "                                                  55\n",
       "2          convivencia pacifica con los demás y amor\n",
       "3                                         No aparece\n",
       "4                         No aparece cuadro de datos\n",
       "5  La Paz para mi es tener claridad sobre las cos...\n",
       "6             Para mi la Paz representa tranquilidad"
      ]
     },
     "execution_count": 65,
     "metadata": {},
     "output_type": "execute_result"
    }
   ],
   "source": [
    "dfSheet4.head()"
   ]
  },
  {
   "cell_type": "code",
   "execution_count": 66,
   "metadata": {
    "collapsed": true
   },
   "outputs": [],
   "source": [
    "dfSheet5 = pd.read_excel(dfNarrativasMayo, sheet_name=\"n16FEB2017-345x57x\")"
   ]
  },
  {
   "cell_type": "code",
   "execution_count": 67,
   "metadata": {},
   "outputs": [
    {
     "data": {
      "text/plain": [
       "6"
      ]
     },
     "execution_count": 67,
     "metadata": {},
     "output_type": "execute_result"
    }
   ],
   "source": [
    "dfSheet5.columns.get_loc(6)"
   ]
  },
  {
   "cell_type": "code",
   "execution_count": 68,
   "metadata": {
    "collapsed": true
   },
   "outputs": [],
   "source": [
    "dfSheet5.drop(dfSheet5.iloc[:, 0:6], inplace = True, axis = 1) "
   ]
  },
  {
   "cell_type": "code",
   "execution_count": 69,
   "metadata": {},
   "outputs": [
    {
     "data": {
      "text/plain": [
       "52"
      ]
     },
     "execution_count": 69,
     "metadata": {},
     "output_type": "execute_result"
    }
   ],
   "source": [
    "cols = dfSheet5.columns.tolist()\n",
    "len(cols)"
   ]
  },
  {
   "cell_type": "code",
   "execution_count": 70,
   "metadata": {
    "collapsed": true
   },
   "outputs": [],
   "source": [
    "dfSheet5.drop(dfSheet5.iloc[:, 1:53], inplace = True, axis = 1) "
   ]
  },
  {
   "cell_type": "code",
   "execution_count": 71,
   "metadata": {},
   "outputs": [
    {
     "data": {
      "text/html": [
       "<div>\n",
       "<style scoped>\n",
       "    .dataframe tbody tr th:only-of-type {\n",
       "        vertical-align: middle;\n",
       "    }\n",
       "\n",
       "    .dataframe tbody tr th {\n",
       "        vertical-align: top;\n",
       "    }\n",
       "\n",
       "    .dataframe thead th {\n",
       "        text-align: right;\n",
       "    }\n",
       "</style>\n",
       "<table border=\"1\" class=\"dataframe\">\n",
       "  <thead>\n",
       "    <tr style=\"text-align: right;\">\n",
       "      <th></th>\n",
       "      <th>6</th>\n",
       "    </tr>\n",
       "  </thead>\n",
       "  <tbody>\n",
       "    <tr>\n",
       "      <th>0</th>\n",
       "      <td>texto</td>\n",
       "    </tr>\n",
       "    <tr>\n",
       "      <th>1</th>\n",
       "      <td>Texto</td>\n",
       "    </tr>\n",
       "    <tr>\n",
       "      <th>2</th>\n",
       "      <td>donde hay paz no hay violencia</td>\n",
       "    </tr>\n",
       "    <tr>\n",
       "      <th>3</th>\n",
       "      <td>para mi la paz comienza en uno mismo es cuando...</td>\n",
       "    </tr>\n",
       "    <tr>\n",
       "      <th>4</th>\n",
       "      <td>Para mi paz es poder compartir con los demás y...</td>\n",
       "    </tr>\n",
       "    <tr>\n",
       "      <th>5</th>\n",
       "      <td>la paz es una construcción social que se gesta...</td>\n",
       "    </tr>\n",
       "    <tr>\n",
       "      <th>6</th>\n",
       "      <td>la paz es la ausencia de factores de generador...</td>\n",
       "    </tr>\n",
       "    <tr>\n",
       "      <th>7</th>\n",
       "      <td>la naturaleza por que me despeja lamente me ol...</td>\n",
       "    </tr>\n",
       "    <tr>\n",
       "      <th>8</th>\n",
       "      <td>Si aportamos nuestro grano de arena empezando ...</td>\n",
       "    </tr>\n",
       "    <tr>\n",
       "      <th>9</th>\n",
       "      <td>Es ayudar a mis hermanos en lo que mas se pued...</td>\n",
       "    </tr>\n",
       "  </tbody>\n",
       "</table>\n",
       "</div>"
      ],
      "text/plain": [
       "                                                   6\n",
       "0                                              texto\n",
       "1                                              Texto\n",
       "2                     donde hay paz no hay violencia\n",
       "3  para mi la paz comienza en uno mismo es cuando...\n",
       "4  Para mi paz es poder compartir con los demás y...\n",
       "5  la paz es una construcción social que se gesta...\n",
       "6  la paz es la ausencia de factores de generador...\n",
       "7  la naturaleza por que me despeja lamente me ol...\n",
       "8  Si aportamos nuestro grano de arena empezando ...\n",
       "9  Es ayudar a mis hermanos en lo que mas se pued..."
      ]
     },
     "execution_count": 71,
     "metadata": {},
     "output_type": "execute_result"
    }
   ],
   "source": [
    "dfSheet5.head(10)"
   ]
  },
  {
   "cell_type": "code",
   "execution_count": 72,
   "metadata": {
    "collapsed": true
   },
   "outputs": [],
   "source": [
    "dfSheet5.drop([0,1], inplace= True)"
   ]
  },
  {
   "cell_type": "code",
   "execution_count": 73,
   "metadata": {},
   "outputs": [
    {
     "data": {
      "text/html": [
       "<div>\n",
       "<style scoped>\n",
       "    .dataframe tbody tr th:only-of-type {\n",
       "        vertical-align: middle;\n",
       "    }\n",
       "\n",
       "    .dataframe tbody tr th {\n",
       "        vertical-align: top;\n",
       "    }\n",
       "\n",
       "    .dataframe thead th {\n",
       "        text-align: right;\n",
       "    }\n",
       "</style>\n",
       "<table border=\"1\" class=\"dataframe\">\n",
       "  <thead>\n",
       "    <tr style=\"text-align: right;\">\n",
       "      <th></th>\n",
       "      <th>6</th>\n",
       "    </tr>\n",
       "  </thead>\n",
       "  <tbody>\n",
       "    <tr>\n",
       "      <th>2</th>\n",
       "      <td>donde hay paz no hay violencia</td>\n",
       "    </tr>\n",
       "    <tr>\n",
       "      <th>3</th>\n",
       "      <td>para mi la paz comienza en uno mismo es cuando...</td>\n",
       "    </tr>\n",
       "    <tr>\n",
       "      <th>4</th>\n",
       "      <td>Para mi paz es poder compartir con los demás y...</td>\n",
       "    </tr>\n",
       "    <tr>\n",
       "      <th>5</th>\n",
       "      <td>la paz es una construcción social que se gesta...</td>\n",
       "    </tr>\n",
       "    <tr>\n",
       "      <th>6</th>\n",
       "      <td>la paz es la ausencia de factores de generador...</td>\n",
       "    </tr>\n",
       "  </tbody>\n",
       "</table>\n",
       "</div>"
      ],
      "text/plain": [
       "                                                   6\n",
       "2                     donde hay paz no hay violencia\n",
       "3  para mi la paz comienza en uno mismo es cuando...\n",
       "4  Para mi paz es poder compartir con los demás y...\n",
       "5  la paz es una construcción social que se gesta...\n",
       "6  la paz es la ausencia de factores de generador..."
      ]
     },
     "execution_count": 73,
     "metadata": {},
     "output_type": "execute_result"
    }
   ],
   "source": [
    "dfSheet5.head()"
   ]
  },
  {
   "cell_type": "code",
   "execution_count": 74,
   "metadata": {
    "collapsed": true
   },
   "outputs": [],
   "source": [
    "dfSheet6 = pd.read_excel(dfNarrativasMayo, sheet_name=\"n01AGO2018-483x118x\")"
   ]
  },
  {
   "cell_type": "code",
   "execution_count": 75,
   "metadata": {},
   "outputs": [
    {
     "data": {
      "text/plain": [
       "32"
      ]
     },
     "execution_count": 75,
     "metadata": {},
     "output_type": "execute_result"
    }
   ],
   "source": [
    "dfSheet6.columns.get_loc(32)"
   ]
  },
  {
   "cell_type": "code",
   "execution_count": 76,
   "metadata": {
    "collapsed": true
   },
   "outputs": [],
   "source": [
    "dfSheet6.drop(dfSheet6.iloc[:, 0:32], inplace = True, axis = 1) "
   ]
  },
  {
   "cell_type": "code",
   "execution_count": 77,
   "metadata": {},
   "outputs": [
    {
     "data": {
      "text/plain": [
       "87"
      ]
     },
     "execution_count": 77,
     "metadata": {},
     "output_type": "execute_result"
    }
   ],
   "source": [
    "cols = dfSheet6.columns.tolist()\n",
    "len(cols)"
   ]
  },
  {
   "cell_type": "code",
   "execution_count": 78,
   "metadata": {
    "collapsed": true
   },
   "outputs": [],
   "source": [
    "dfSheet6.drop(dfSheet6.iloc[:, 1:87], inplace = True, axis = 1) "
   ]
  },
  {
   "cell_type": "code",
   "execution_count": 79,
   "metadata": {},
   "outputs": [
    {
     "data": {
      "text/html": [
       "<div>\n",
       "<style scoped>\n",
       "    .dataframe tbody tr th:only-of-type {\n",
       "        vertical-align: middle;\n",
       "    }\n",
       "\n",
       "    .dataframe tbody tr th {\n",
       "        vertical-align: top;\n",
       "    }\n",
       "\n",
       "    .dataframe thead th {\n",
       "        text-align: right;\n",
       "    }\n",
       "</style>\n",
       "<table border=\"1\" class=\"dataframe\">\n",
       "  <thead>\n",
       "    <tr style=\"text-align: right;\">\n",
       "      <th></th>\n",
       "      <th>32</th>\n",
       "    </tr>\n",
       "  </thead>\n",
       "  <tbody>\n",
       "    <tr>\n",
       "      <th>0</th>\n",
       "      <td>narrativa_text</td>\n",
       "    </tr>\n",
       "    <tr>\n",
       "      <th>1</th>\n",
       "      <td>narrativa_text</td>\n",
       "    </tr>\n",
       "    <tr>\n",
       "      <th>2</th>\n",
       "      <td>Para mi paz es cuidar la naturaleza,  ser cons...</td>\n",
       "    </tr>\n",
       "    <tr>\n",
       "      <th>3</th>\n",
       "      <td>La paz es tener principios morales y espiritua...</td>\n",
       "    </tr>\n",
       "    <tr>\n",
       "      <th>4</th>\n",
       "      <td>Paz es saber convivir en comunidad respetando ...</td>\n",
       "    </tr>\n",
       "    <tr>\n",
       "      <th>5</th>\n",
       "      <td>Para mi,  paz es cuidar a la naturaleza,  ser ...</td>\n",
       "    </tr>\n",
       "    <tr>\n",
       "      <th>6</th>\n",
       "      <td>La paz para mi es que mi hijo y los demás niño...</td>\n",
       "    </tr>\n",
       "    <tr>\n",
       "      <th>7</th>\n",
       "      <td>La paz es aprender a convivir y respetar a las...</td>\n",
       "    </tr>\n",
       "    <tr>\n",
       "      <th>8</th>\n",
       "      <td>Es un símbolo que nosotros hemos adquirido com...</td>\n",
       "    </tr>\n",
       "    <tr>\n",
       "      <th>9</th>\n",
       "      <td>Paz con los vecinos  del barrio y la casa para...</td>\n",
       "    </tr>\n",
       "  </tbody>\n",
       "</table>\n",
       "</div>"
      ],
      "text/plain": [
       "                                                  32\n",
       "0                                     narrativa_text\n",
       "1                                     narrativa_text\n",
       "2  Para mi paz es cuidar la naturaleza,  ser cons...\n",
       "3  La paz es tener principios morales y espiritua...\n",
       "4  Paz es saber convivir en comunidad respetando ...\n",
       "5  Para mi,  paz es cuidar a la naturaleza,  ser ...\n",
       "6  La paz para mi es que mi hijo y los demás niño...\n",
       "7  La paz es aprender a convivir y respetar a las...\n",
       "8  Es un símbolo que nosotros hemos adquirido com...\n",
       "9  Paz con los vecinos  del barrio y la casa para..."
      ]
     },
     "execution_count": 79,
     "metadata": {},
     "output_type": "execute_result"
    }
   ],
   "source": [
    "dfSheet6.head(10)"
   ]
  },
  {
   "cell_type": "code",
   "execution_count": 80,
   "metadata": {
    "collapsed": true
   },
   "outputs": [],
   "source": [
    "dfSheet6.drop([0,1], inplace= True)"
   ]
  },
  {
   "cell_type": "code",
   "execution_count": 81,
   "metadata": {},
   "outputs": [
    {
     "data": {
      "text/html": [
       "<div>\n",
       "<style scoped>\n",
       "    .dataframe tbody tr th:only-of-type {\n",
       "        vertical-align: middle;\n",
       "    }\n",
       "\n",
       "    .dataframe tbody tr th {\n",
       "        vertical-align: top;\n",
       "    }\n",
       "\n",
       "    .dataframe thead th {\n",
       "        text-align: right;\n",
       "    }\n",
       "</style>\n",
       "<table border=\"1\" class=\"dataframe\">\n",
       "  <thead>\n",
       "    <tr style=\"text-align: right;\">\n",
       "      <th></th>\n",
       "      <th>32</th>\n",
       "    </tr>\n",
       "  </thead>\n",
       "  <tbody>\n",
       "    <tr>\n",
       "      <th>2</th>\n",
       "      <td>Para mi paz es cuidar la naturaleza,  ser cons...</td>\n",
       "    </tr>\n",
       "    <tr>\n",
       "      <th>3</th>\n",
       "      <td>La paz es tener principios morales y espiritua...</td>\n",
       "    </tr>\n",
       "    <tr>\n",
       "      <th>4</th>\n",
       "      <td>Paz es saber convivir en comunidad respetando ...</td>\n",
       "    </tr>\n",
       "    <tr>\n",
       "      <th>5</th>\n",
       "      <td>Para mi,  paz es cuidar a la naturaleza,  ser ...</td>\n",
       "    </tr>\n",
       "    <tr>\n",
       "      <th>6</th>\n",
       "      <td>La paz para mi es que mi hijo y los demás niño...</td>\n",
       "    </tr>\n",
       "  </tbody>\n",
       "</table>\n",
       "</div>"
      ],
      "text/plain": [
       "                                                  32\n",
       "2  Para mi paz es cuidar la naturaleza,  ser cons...\n",
       "3  La paz es tener principios morales y espiritua...\n",
       "4  Paz es saber convivir en comunidad respetando ...\n",
       "5  Para mi,  paz es cuidar a la naturaleza,  ser ...\n",
       "6  La paz para mi es que mi hijo y los demás niño..."
      ]
     },
     "execution_count": 81,
     "metadata": {},
     "output_type": "execute_result"
    }
   ],
   "source": [
    "dfSheet6.head()"
   ]
  },
  {
   "cell_type": "markdown",
   "metadata": {},
   "source": [
    "## dfEncuestaSPCC"
   ]
  },
  {
   "cell_type": "code",
   "execution_count": 82,
   "metadata": {},
   "outputs": [
    {
     "data": {
      "text/plain": [
       "Index(['Mencione tres (3x) “Indicadores de CONSTRUCCIÓN DE PAZ”',\n",
       "       'Seleccione las tres palabras/conceptos/expresiones más PODEROSAS para definir Paz',\n",
       "       'Escriba una frase corta en la que exprese su significado de la Paz:'],\n",
       "      dtype='object')"
      ]
     },
     "execution_count": 82,
     "metadata": {},
     "output_type": "execute_result"
    }
   ],
   "source": [
    "dfEncuestaSPCC.columns"
   ]
  },
  {
   "cell_type": "markdown",
   "metadata": {},
   "source": [
    "Vamos a proceder a unir las 3 columnas en 1 sola, concatenando lo que hay en cada una de las columnas y finalmente nos quedaremos con solo la que tiene la unión de las 3 columnas (Narrativa)"
   ]
  },
  {
   "cell_type": "code",
   "execution_count": 83,
   "metadata": {},
   "outputs": [
    {
     "data": {
      "text/plain": [
       "Index(['Mencione tres (3x) “Indicadores de CONSTRUCCIÓN DE PAZ”',\n",
       "       'Seleccione las tres palabras/conceptos/expresiones más PODEROSAS para definir Paz',\n",
       "       'Escriba una frase corta en la que exprese su significado de la Paz:',\n",
       "       'Narrativa'],\n",
       "      dtype='object')"
      ]
     },
     "execution_count": 83,
     "metadata": {},
     "output_type": "execute_result"
    }
   ],
   "source": [
    "dfEncuestaSPCC[\"Narrativa\"] = dfEncuestaSPCC['Mencione tres (3x) “Indicadores de CONSTRUCCIÓN DE PAZ”'] +\" \"+ dfEncuestaSPCC['Seleccione las tres palabras/conceptos/expresiones más PODEROSAS para definir Paz'] +\" \"+ dfEncuestaSPCC['Escriba una frase corta en la que exprese su significado de la Paz:']\n",
    "dfEncuestaSPCC.columns"
   ]
  },
  {
   "cell_type": "code",
   "execution_count": 84,
   "metadata": {},
   "outputs": [
    {
     "data": {
      "text/html": [
       "<div>\n",
       "<style scoped>\n",
       "    .dataframe tbody tr th:only-of-type {\n",
       "        vertical-align: middle;\n",
       "    }\n",
       "\n",
       "    .dataframe tbody tr th {\n",
       "        vertical-align: top;\n",
       "    }\n",
       "\n",
       "    .dataframe thead th {\n",
       "        text-align: right;\n",
       "    }\n",
       "</style>\n",
       "<table border=\"1\" class=\"dataframe\">\n",
       "  <thead>\n",
       "    <tr style=\"text-align: right;\">\n",
       "      <th></th>\n",
       "      <th>Narrativa</th>\n",
       "    </tr>\n",
       "  </thead>\n",
       "  <tbody>\n",
       "    <tr>\n",
       "      <th>0</th>\n",
       "      <td>Tranquilidad, Convivencia, Casa, Educación, Co...</td>\n",
       "    </tr>\n",
       "    <tr>\n",
       "      <th>1</th>\n",
       "      <td>Tiempo en horas de día de semana y de fin de s...</td>\n",
       "    </tr>\n",
       "    <tr>\n",
       "      <th>2</th>\n",
       "      <td>tranquilidad, familia, empleabilidad Toleranci...</td>\n",
       "    </tr>\n",
       "    <tr>\n",
       "      <th>3</th>\n",
       "      <td>Acción sin daño, integración comunitaria, resp...</td>\n",
       "    </tr>\n",
       "    <tr>\n",
       "      <th>4</th>\n",
       "      <td>Procesos formativos y de multiplicación. Numer...</td>\n",
       "    </tr>\n",
       "  </tbody>\n",
       "</table>\n",
       "</div>"
      ],
      "text/plain": [
       "                                           Narrativa\n",
       "0  Tranquilidad, Convivencia, Casa, Educación, Co...\n",
       "1  Tiempo en horas de día de semana y de fin de s...\n",
       "2  tranquilidad, familia, empleabilidad Toleranci...\n",
       "3  Acción sin daño, integración comunitaria, resp...\n",
       "4  Procesos formativos y de multiplicación. Numer..."
      ]
     },
     "execution_count": 84,
     "metadata": {},
     "output_type": "execute_result"
    }
   ],
   "source": [
    "dfEncuestaSPCC.drop(dfEncuestaSPCC.iloc[:, 0:3], inplace = True, axis = 1) \n",
    "dfEncuestaSPCC.head()"
   ]
  },
  {
   "cell_type": "code",
   "execution_count": 85,
   "metadata": {
    "collapsed": true
   },
   "outputs": [],
   "source": [
    "dfPazUSC.columns = ['Narrativa']\n",
    "dfSheet1.columns = ['Narrativa']\n",
    "dfSheet2.columns = ['Narrativa']\n",
    "dfSheet3.columns = ['Narrativa']\n",
    "dfSheet4.columns = ['Narrativa']\n",
    "dfSheet5.columns = ['Narrativa']\n",
    "dfSheet6.columns = ['Narrativa']"
   ]
  },
  {
   "cell_type": "code",
   "execution_count": 86,
   "metadata": {
    "collapsed": true
   },
   "outputs": [],
   "source": [
    "df= pd.DataFrame(columns = ['Narrativa'])"
   ]
  },
  {
   "cell_type": "markdown",
   "metadata": {},
   "source": [
    "Ahora vamos a unir todos los dataframes en 1 solo bajo la columna \"Narrativa\""
   ]
  },
  {
   "cell_type": "code",
   "execution_count": 87,
   "metadata": {
    "collapsed": true
   },
   "outputs": [],
   "source": [
    "df = (pd.concat([df, dfEncuestaSPCC], ignore_index=True)\n",
    "        .reindex(columns=df.columns))\n",
    "df = (pd.concat([df, dfPazUSC], ignore_index=True)\n",
    "        .reindex(columns=df.columns))\n",
    "df = (pd.concat([df, dfSheet1], ignore_index=True)\n",
    "        .reindex(columns=df.columns))\n",
    "df = (pd.concat([df, dfSheet2], ignore_index=True)\n",
    "        .reindex(columns=df.columns))\n",
    "df = (pd.concat([df, dfSheet3], ignore_index=True)\n",
    "        .reindex(columns=df.columns))\n",
    "df = (pd.concat([df, dfSheet4], ignore_index=True)\n",
    "        .reindex(columns=df.columns))\n",
    "df = (pd.concat([df, dfSheet5], ignore_index=True)\n",
    "        .reindex(columns=df.columns))\n",
    "df = (pd.concat([df, dfSheet6], ignore_index=True)\n",
    "        .reindex(columns=df.columns))"
   ]
  },
  {
   "cell_type": "code",
   "execution_count": 88,
   "metadata": {},
   "outputs": [
    {
     "name": "stdout",
     "output_type": "stream",
     "text": [
      "<class 'pandas.core.frame.DataFrame'>\n",
      "RangeIndex: 3004 entries, 0 to 3003\n",
      "Data columns (total 1 columns):\n",
      "Narrativa    2969 non-null object\n",
      "dtypes: object(1)\n",
      "memory usage: 23.6+ KB\n"
     ]
    }
   ],
   "source": [
    "df.info()"
   ]
  },
  {
   "cell_type": "code",
   "execution_count": 89,
   "metadata": {
    "scrolled": true
   },
   "outputs": [
    {
     "data": {
      "text/plain": [
       "<bound method NDFrame.describe of                                               Narrativa\n",
       "0     Tranquilidad, Convivencia, Casa, Educación, Co...\n",
       "1     Tiempo en horas de día de semana y de fin de s...\n",
       "2     tranquilidad, familia, empleabilidad Toleranci...\n",
       "3     Acción sin daño, integración comunitaria, resp...\n",
       "4     Procesos formativos y de multiplicación. Numer...\n",
       "...                                                 ...\n",
       "2999  siento paz cuando estoy en mi casa porque sien...\n",
       "3000  para mi la paz se basa en algo mas sencillo qu...\n",
       "3001  la paz esta en el placer y gusto para la socie...\n",
       "3002  la paz es un estado emocional,  del ser,  el c...\n",
       "3003  para mi la paz es cuando no hay conflicto: pel...\n",
       "\n",
       "[3004 rows x 1 columns]>"
      ]
     },
     "execution_count": 89,
     "metadata": {},
     "output_type": "execute_result"
    }
   ],
   "source": [
    "df.describe"
   ]
  },
  {
   "cell_type": "markdown",
   "metadata": {},
   "source": [
    "Luego de agrupar todas las narrativas de paz en una sola columna procedemos a la limpieza de los datos"
   ]
  },
  {
   "cell_type": "markdown",
   "metadata": {},
   "source": [
    "## Datos en Null  "
   ]
  },
  {
   "cell_type": "code",
   "execution_count": 90,
   "metadata": {
    "collapsed": true
   },
   "outputs": [],
   "source": [
    "import re"
   ]
  },
  {
   "cell_type": "code",
   "execution_count": 91,
   "metadata": {},
   "outputs": [
    {
     "data": {
      "text/plain": [
       "35"
      ]
     },
     "execution_count": 91,
     "metadata": {},
     "output_type": "execute_result"
    }
   ],
   "source": [
    "len(df.loc[df.Narrativa.isnull()])"
   ]
  },
  {
   "cell_type": "markdown",
   "metadata": {},
   "source": [
    "Observamos que hay filas con datos en null y procedemos a eliminarlos"
   ]
  },
  {
   "cell_type": "code",
   "execution_count": 92,
   "metadata": {
    "collapsed": true
   },
   "outputs": [],
   "source": [
    "df=df[~df.Narrativa.isnull()]"
   ]
  },
  {
   "cell_type": "markdown",
   "metadata": {},
   "source": [
    "Vamos a eliminar la puntuación que puedan tener los textos"
   ]
  },
  {
   "cell_type": "code",
   "execution_count": 93,
   "metadata": {},
   "outputs": [
    {
     "name": "stderr",
     "output_type": "stream",
     "text": [
      "<input>:1: DeprecationWarning: invalid escape sequence \\.\n",
      "<input>:1: DeprecationWarning: invalid escape sequence \\.\n",
      "<input>:1: DeprecationWarning: invalid escape sequence \\.\n",
      "<ipython-input-93-e9b83de3eb00>:1: DeprecationWarning: invalid escape sequence \\.\n",
      "  df['Narrativa_processed']=df['Narrativa'].map(lambda x: re.sub('[,\\.\\'\\\"!\\)(?0-9]', '', str(x))) #[!@#$%^&*(),.?\":{}|<>]\n",
      "/usr/local/anaconda/lib/python3.6/site-packages/ipykernel_launcher.py:1: SettingWithCopyWarning: \n",
      "A value is trying to be set on a copy of a slice from a DataFrame.\n",
      "Try using .loc[row_indexer,col_indexer] = value instead\n",
      "\n",
      "See the caveats in the documentation: http://pandas.pydata.org/pandas-docs/stable/user_guide/indexing.html#returning-a-view-versus-a-copy\n",
      "  \"\"\"Entry point for launching an IPython kernel.\n"
     ]
    }
   ],
   "source": [
    "df['Narrativa_processed']=df['Narrativa'].map(lambda x: re.sub('[,\\.\\'\\\"!\\)(?0-9]', '', str(x))) #[!@#$%^&*(),.?\":{}|<>]"
   ]
  },
  {
   "cell_type": "code",
   "execution_count": 94,
   "metadata": {
    "scrolled": true
   },
   "outputs": [
    {
     "data": {
      "text/html": [
       "<div>\n",
       "<style scoped>\n",
       "    .dataframe tbody tr th:only-of-type {\n",
       "        vertical-align: middle;\n",
       "    }\n",
       "\n",
       "    .dataframe tbody tr th {\n",
       "        vertical-align: top;\n",
       "    }\n",
       "\n",
       "    .dataframe thead th {\n",
       "        text-align: right;\n",
       "    }\n",
       "</style>\n",
       "<table border=\"1\" class=\"dataframe\">\n",
       "  <thead>\n",
       "    <tr style=\"text-align: right;\">\n",
       "      <th></th>\n",
       "      <th>Narrativa</th>\n",
       "      <th>Narrativa_processed</th>\n",
       "    </tr>\n",
       "  </thead>\n",
       "  <tbody>\n",
       "    <tr>\n",
       "      <th>0</th>\n",
       "      <td>Tranquilidad, Convivencia, Casa, Educación, Co...</td>\n",
       "      <td>Tranquilidad Convivencia Casa Educación Colect...</td>\n",
       "    </tr>\n",
       "    <tr>\n",
       "      <th>1</th>\n",
       "      <td>Tiempo en horas de día de semana y de fin de s...</td>\n",
       "      <td>Tiempo en horas de día de semana y de fin de s...</td>\n",
       "    </tr>\n",
       "    <tr>\n",
       "      <th>2</th>\n",
       "      <td>tranquilidad, familia, empleabilidad Toleranci...</td>\n",
       "      <td>tranquilidad familia empleabilidad Tolerancia ...</td>\n",
       "    </tr>\n",
       "    <tr>\n",
       "      <th>3</th>\n",
       "      <td>Acción sin daño, integración comunitaria, resp...</td>\n",
       "      <td>Acción sin daño integración comunitaria respet...</td>\n",
       "    </tr>\n",
       "    <tr>\n",
       "      <th>4</th>\n",
       "      <td>Procesos formativos y de multiplicación. Numer...</td>\n",
       "      <td>Procesos formativos y de multiplicación Numero...</td>\n",
       "    </tr>\n",
       "    <tr>\n",
       "      <th>5</th>\n",
       "      <td>INICIATIVAS DE CULTURA CIUDADANA, EVENTOS DE C...</td>\n",
       "      <td>INICIATIVAS DE CULTURA CIUDADANA EVENTOS DE CI...</td>\n",
       "    </tr>\n",
       "    <tr>\n",
       "      <th>6</th>\n",
       "      <td>Comunicación, tolerancia, concertación. Tolera...</td>\n",
       "      <td>Comunicación tolerancia concertación Toleranci...</td>\n",
       "    </tr>\n",
       "    <tr>\n",
       "      <th>7</th>\n",
       "      <td>Voluntad,comunicación, Reglas Respeto Toleranc...</td>\n",
       "      <td>Voluntadcomunicación Reglas Respeto Tolerancia...</td>\n",
       "    </tr>\n",
       "    <tr>\n",
       "      <th>8</th>\n",
       "      <td>1. Sensibilidad social respecto temáticas coti...</td>\n",
       "      <td>Sensibilidad social respecto temáticas cotidi...</td>\n",
       "    </tr>\n",
       "    <tr>\n",
       "      <th>9</th>\n",
       "      <td>Cambio de percepción comunitaria, fortalecimie...</td>\n",
       "      <td>Cambio de percepción comunitaria fortalecimien...</td>\n",
       "    </tr>\n",
       "  </tbody>\n",
       "</table>\n",
       "</div>"
      ],
      "text/plain": [
       "                                           Narrativa  \\\n",
       "0  Tranquilidad, Convivencia, Casa, Educación, Co...   \n",
       "1  Tiempo en horas de día de semana y de fin de s...   \n",
       "2  tranquilidad, familia, empleabilidad Toleranci...   \n",
       "3  Acción sin daño, integración comunitaria, resp...   \n",
       "4  Procesos formativos y de multiplicación. Numer...   \n",
       "5  INICIATIVAS DE CULTURA CIUDADANA, EVENTOS DE C...   \n",
       "6  Comunicación, tolerancia, concertación. Tolera...   \n",
       "7  Voluntad,comunicación, Reglas Respeto Toleranc...   \n",
       "8  1. Sensibilidad social respecto temáticas coti...   \n",
       "9  Cambio de percepción comunitaria, fortalecimie...   \n",
       "\n",
       "                                 Narrativa_processed  \n",
       "0  Tranquilidad Convivencia Casa Educación Colect...  \n",
       "1  Tiempo en horas de día de semana y de fin de s...  \n",
       "2  tranquilidad familia empleabilidad Tolerancia ...  \n",
       "3  Acción sin daño integración comunitaria respet...  \n",
       "4  Procesos formativos y de multiplicación Numero...  \n",
       "5  INICIATIVAS DE CULTURA CIUDADANA EVENTOS DE CI...  \n",
       "6  Comunicación tolerancia concertación Toleranci...  \n",
       "7  Voluntadcomunicación Reglas Respeto Tolerancia...  \n",
       "8   Sensibilidad social respecto temáticas cotidi...  \n",
       "9  Cambio de percepción comunitaria fortalecimien...  "
      ]
     },
     "execution_count": 94,
     "metadata": {},
     "output_type": "execute_result"
    }
   ],
   "source": [
    "df.head(10)"
   ]
  },
  {
   "cell_type": "markdown",
   "metadata": {},
   "source": [
    "Procederemos a poner en minuscula los textos"
   ]
  },
  {
   "cell_type": "code",
   "execution_count": 95,
   "metadata": {},
   "outputs": [
    {
     "name": "stderr",
     "output_type": "stream",
     "text": [
      "/usr/local/anaconda/lib/python3.6/site-packages/ipykernel_launcher.py:1: SettingWithCopyWarning: \n",
      "A value is trying to be set on a copy of a slice from a DataFrame.\n",
      "Try using .loc[row_indexer,col_indexer] = value instead\n",
      "\n",
      "See the caveats in the documentation: http://pandas.pydata.org/pandas-docs/stable/user_guide/indexing.html#returning-a-view-versus-a-copy\n",
      "  \"\"\"Entry point for launching an IPython kernel.\n"
     ]
    }
   ],
   "source": [
    "df['Narrativa_processed']=df['Narrativa_processed'].map(lambda x: x.lower().strip())"
   ]
  },
  {
   "cell_type": "code",
   "execution_count": 96,
   "metadata": {},
   "outputs": [
    {
     "data": {
      "text/html": [
       "<div>\n",
       "<style scoped>\n",
       "    .dataframe tbody tr th:only-of-type {\n",
       "        vertical-align: middle;\n",
       "    }\n",
       "\n",
       "    .dataframe tbody tr th {\n",
       "        vertical-align: top;\n",
       "    }\n",
       "\n",
       "    .dataframe thead th {\n",
       "        text-align: right;\n",
       "    }\n",
       "</style>\n",
       "<table border=\"1\" class=\"dataframe\">\n",
       "  <thead>\n",
       "    <tr style=\"text-align: right;\">\n",
       "      <th></th>\n",
       "      <th>Narrativa</th>\n",
       "      <th>Narrativa_processed</th>\n",
       "    </tr>\n",
       "  </thead>\n",
       "  <tbody>\n",
       "    <tr>\n",
       "      <th>0</th>\n",
       "      <td>Tranquilidad, Convivencia, Casa, Educación, Co...</td>\n",
       "      <td>tranquilidad convivencia casa educación colect...</td>\n",
       "    </tr>\n",
       "    <tr>\n",
       "      <th>1</th>\n",
       "      <td>Tiempo en horas de día de semana y de fin de s...</td>\n",
       "      <td>tiempo en horas de día de semana y de fin de s...</td>\n",
       "    </tr>\n",
       "    <tr>\n",
       "      <th>2</th>\n",
       "      <td>tranquilidad, familia, empleabilidad Toleranci...</td>\n",
       "      <td>tranquilidad familia empleabilidad tolerancia ...</td>\n",
       "    </tr>\n",
       "    <tr>\n",
       "      <th>3</th>\n",
       "      <td>Acción sin daño, integración comunitaria, resp...</td>\n",
       "      <td>acción sin daño integración comunitaria respet...</td>\n",
       "    </tr>\n",
       "    <tr>\n",
       "      <th>4</th>\n",
       "      <td>Procesos formativos y de multiplicación. Numer...</td>\n",
       "      <td>procesos formativos y de multiplicación numero...</td>\n",
       "    </tr>\n",
       "    <tr>\n",
       "      <th>...</th>\n",
       "      <td>...</td>\n",
       "      <td>...</td>\n",
       "    </tr>\n",
       "    <tr>\n",
       "      <th>96</th>\n",
       "      <td>coexistencia, rechazo a la violencia, confianz...</td>\n",
       "      <td>coexistencia rechazo a la violencia confianza ...</td>\n",
       "    </tr>\n",
       "    <tr>\n",
       "      <th>97</th>\n",
       "      <td>Inclusión de grupos en conflito, Realización d...</td>\n",
       "      <td>inclusión de grupos en conflito realización de...</td>\n",
       "    </tr>\n",
       "    <tr>\n",
       "      <th>98</th>\n",
       "      <td>1. Iniciativas comunitarias que promueven cult...</td>\n",
       "      <td>iniciativas comunitarias que promueven cultura...</td>\n",
       "    </tr>\n",
       "    <tr>\n",
       "      <th>99</th>\n",
       "      <td>goce pleno de derechos, justicia social, gober...</td>\n",
       "      <td>goce pleno de derechos justicia social goberna...</td>\n",
       "    </tr>\n",
       "    <tr>\n",
       "      <th>100</th>\n",
       "      <td>Número de entrevistas gestionadas y realizadas...</td>\n",
       "      <td>número de entrevistas gestionadas y realizadas...</td>\n",
       "    </tr>\n",
       "  </tbody>\n",
       "</table>\n",
       "<p>100 rows × 2 columns</p>\n",
       "</div>"
      ],
      "text/plain": [
       "                                             Narrativa  \\\n",
       "0    Tranquilidad, Convivencia, Casa, Educación, Co...   \n",
       "1    Tiempo en horas de día de semana y de fin de s...   \n",
       "2    tranquilidad, familia, empleabilidad Toleranci...   \n",
       "3    Acción sin daño, integración comunitaria, resp...   \n",
       "4    Procesos formativos y de multiplicación. Numer...   \n",
       "..                                                 ...   \n",
       "96   coexistencia, rechazo a la violencia, confianz...   \n",
       "97   Inclusión de grupos en conflito, Realización d...   \n",
       "98   1. Iniciativas comunitarias que promueven cult...   \n",
       "99   goce pleno de derechos, justicia social, gober...   \n",
       "100  Número de entrevistas gestionadas y realizadas...   \n",
       "\n",
       "                                   Narrativa_processed  \n",
       "0    tranquilidad convivencia casa educación colect...  \n",
       "1    tiempo en horas de día de semana y de fin de s...  \n",
       "2    tranquilidad familia empleabilidad tolerancia ...  \n",
       "3    acción sin daño integración comunitaria respet...  \n",
       "4    procesos formativos y de multiplicación numero...  \n",
       "..                                                 ...  \n",
       "96   coexistencia rechazo a la violencia confianza ...  \n",
       "97   inclusión de grupos en conflito realización de...  \n",
       "98   iniciativas comunitarias que promueven cultura...  \n",
       "99   goce pleno de derechos justicia social goberna...  \n",
       "100  número de entrevistas gestionadas y realizadas...  \n",
       "\n",
       "[100 rows x 2 columns]"
      ]
     },
     "execution_count": 96,
     "metadata": {},
     "output_type": "execute_result"
    }
   ],
   "source": [
    "df.head(100)"
   ]
  },
  {
   "cell_type": "code",
   "execution_count": 97,
   "metadata": {
    "collapsed": true
   },
   "outputs": [],
   "source": [
    "from wordcloud import WordCloud"
   ]
  },
  {
   "cell_type": "code",
   "execution_count": 98,
   "metadata": {
    "collapsed": true
   },
   "outputs": [],
   "source": [
    "long_string = ','.join(list(df['Narrativa_processed'].values))"
   ]
  },
  {
   "cell_type": "code",
   "execution_count": 99,
   "metadata": {
    "collapsed": true
   },
   "outputs": [],
   "source": [
    "wordcloud = WordCloud(background_color=\"white\", max_words=5000, contour_width=3, contour_color='steelblue')"
   ]
  },
  {
   "cell_type": "code",
   "execution_count": 100,
   "metadata": {},
   "outputs": [
    {
     "data": {
      "text/plain": [
       "<wordcloud.wordcloud.WordCloud at 0x7f30ad1e7710>"
      ]
     },
     "execution_count": 100,
     "metadata": {},
     "output_type": "execute_result"
    }
   ],
   "source": [
    "wordcloud.generate(long_string)"
   ]
  },
  {
   "cell_type": "code",
   "execution_count": 101,
   "metadata": {},
   "outputs": [
    {
     "data": {
      "image/png": "[encoded data removed]",
      "text/plain": [
       "<PIL.Image.Image image mode=RGB size=400x200 at 0x7F30AD1ECFD0>"
      ]
     },
     "execution_count": 101,
     "metadata": {},
     "output_type": "execute_result"
    }
   ],
   "source": [
    "wordcloud.to_image()"
   ]
  },
  {
   "cell_type": "markdown",
   "metadata": {},
   "source": [
    "En esta imagen podemos observar las diferentes palabras que se encuentran en los textos. Aquí podemos observar que hay stopwords como mi, la, en, con, es, los cuales no nos proporcionan información relevante y por tanto se debe eliminar."
   ]
  },
  {
   "cell_type": "code",
   "execution_count": 102,
   "metadata": {
    "scrolled": true
   },
   "outputs": [
    {
     "name": "stderr",
     "output_type": "stream",
     "text": [
      "/usr/local/anaconda/lib/python3.6/site-packages/urllib3/contrib/pyopenssl.py:46: DeprecationWarning: OpenSSL.rand is deprecated - you should use os.urandom instead\n",
      "  import OpenSSL.SSL\n",
      "/usr/local/anaconda/lib/python3.6/site-packages/scipy/sparse/sparsetools.py:20: DeprecationWarning: `scipy.sparse.sparsetools` is deprecated!\n",
      "scipy.sparse.sparsetools is a private module for scipy.sparse, and should not be used.\n",
      "  _deprecated()\n"
     ]
    }
   ],
   "source": [
    "import gensim\n",
    "from gensim.utils import simple_preprocess\n",
    "from gensim.parsing.preprocessing import STOPWORDS\n"
   ]
  },
  {
   "cell_type": "code",
   "execution_count": 103,
   "metadata": {},
   "outputs": [
    {
     "data": {
      "text/html": [
       "<div>\n",
       "<style scoped>\n",
       "    .dataframe tbody tr th:only-of-type {\n",
       "        vertical-align: middle;\n",
       "    }\n",
       "\n",
       "    .dataframe tbody tr th {\n",
       "        vertical-align: top;\n",
       "    }\n",
       "\n",
       "    .dataframe thead th {\n",
       "        text-align: right;\n",
       "    }\n",
       "</style>\n",
       "<table border=\"1\" class=\"dataframe\">\n",
       "  <thead>\n",
       "    <tr style=\"text-align: right;\">\n",
       "      <th></th>\n",
       "      <th>Narrativa</th>\n",
       "      <th>Narrativa_processed</th>\n",
       "    </tr>\n",
       "  </thead>\n",
       "  <tbody>\n",
       "    <tr>\n",
       "      <th>0</th>\n",
       "      <td>Tranquilidad, Convivencia, Casa, Educación, Co...</td>\n",
       "      <td>tranquilidad convivencia casa educación colect...</td>\n",
       "    </tr>\n",
       "    <tr>\n",
       "      <th>1</th>\n",
       "      <td>Tiempo en horas de día de semana y de fin de s...</td>\n",
       "      <td>tiempo en horas de día de semana y de fin de s...</td>\n",
       "    </tr>\n",
       "    <tr>\n",
       "      <th>2</th>\n",
       "      <td>tranquilidad, familia, empleabilidad Toleranci...</td>\n",
       "      <td>tranquilidad familia empleabilidad tolerancia ...</td>\n",
       "    </tr>\n",
       "    <tr>\n",
       "      <th>3</th>\n",
       "      <td>Acción sin daño, integración comunitaria, resp...</td>\n",
       "      <td>acción sin daño integración comunitaria respet...</td>\n",
       "    </tr>\n",
       "    <tr>\n",
       "      <th>4</th>\n",
       "      <td>Procesos formativos y de multiplicación. Numer...</td>\n",
       "      <td>procesos formativos y de multiplicación numero...</td>\n",
       "    </tr>\n",
       "  </tbody>\n",
       "</table>\n",
       "</div>"
      ],
      "text/plain": [
       "                                           Narrativa  \\\n",
       "0  Tranquilidad, Convivencia, Casa, Educación, Co...   \n",
       "1  Tiempo en horas de día de semana y de fin de s...   \n",
       "2  tranquilidad, familia, empleabilidad Toleranci...   \n",
       "3  Acción sin daño, integración comunitaria, resp...   \n",
       "4  Procesos formativos y de multiplicación. Numer...   \n",
       "\n",
       "                                 Narrativa_processed  \n",
       "0  tranquilidad convivencia casa educación colect...  \n",
       "1  tiempo en horas de día de semana y de fin de s...  \n",
       "2  tranquilidad familia empleabilidad tolerancia ...  \n",
       "3  acción sin daño integración comunitaria respet...  \n",
       "4  procesos formativos y de multiplicación numero...  "
      ]
     },
     "execution_count": 103,
     "metadata": {},
     "output_type": "execute_result"
    }
   ],
   "source": [
    "df.head()"
   ]
  },
  {
   "cell_type": "markdown",
   "metadata": {},
   "source": [
    "## Tokenización\n",
    "\n",
    "Ahora convertiremos las oraciones en tokens (palabras). A esto se le llama Tokenización."
   ]
  },
  {
   "cell_type": "code",
   "execution_count": 104,
   "metadata": {},
   "outputs": [
    {
     "name": "stderr",
     "output_type": "stream",
     "text": [
      "/usr/local/anaconda/lib/python3.6/site-packages/ipykernel_launcher.py:7: SettingWithCopyWarning: \n",
      "A value is trying to be set on a copy of a slice from a DataFrame.\n",
      "Try using .loc[row_indexer,col_indexer] = value instead\n",
      "\n",
      "See the caveats in the documentation: http://pandas.pydata.org/pandas-docs/stable/user_guide/indexing.html#returning-a-view-versus-a-copy\n",
      "  import sys\n"
     ]
    }
   ],
   "source": [
    "def sent_to_words(sentences):\n",
    "    for sentence in sentences:\n",
    "        yield(gensim.utils.simple_preprocess(str(sentence), deacc= True))  # deacc=True removes punctuations\n",
    "\n",
    "data = df.Narrativa_processed.values.tolist()\n",
    "data_tokenized = list(sent_to_words(data)) \n",
    "df[\"Narrativa_processed\"] = list(sent_to_words(df[\"Narrativa_processed\"]))"
   ]
  },
  {
   "cell_type": "code",
   "execution_count": 105,
   "metadata": {},
   "outputs": [
    {
     "data": {
      "text/plain": [
       "[['tranquilidad',\n",
       "  'convivencia',\n",
       "  'casa',\n",
       "  'educacion',\n",
       "  'colectividad',\n",
       "  'respeto',\n",
       "  'tranquilidad',\n",
       "  'acceso',\n",
       "  'la',\n",
       "  'educacion',\n",
       "  'la',\n",
       "  'humanizacion',\n",
       "  'del',\n",
       "  'espacio',\n",
       "  'ese',\n",
       "  'siempre',\n",
       "  'sera',\n",
       "  'el',\n",
       "  'camino'],\n",
       " ['tiempo',\n",
       "  'en',\n",
       "  'horas',\n",
       "  'de',\n",
       "  'dia',\n",
       "  'de',\n",
       "  'semana',\n",
       "  'de',\n",
       "  'fin',\n",
       "  'de',\n",
       "  'semana',\n",
       "  'en',\n",
       "  'el',\n",
       "  'que',\n",
       "  'los',\n",
       "  'padres',\n",
       "  'cuidadores',\n",
       "  'pasan',\n",
       "  'tiempo',\n",
       "  'con',\n",
       "  'los',\n",
       "  'hijos',\n",
       "  'en',\n",
       "  'espacios',\n",
       "  'del',\n",
       "  'ie',\n",
       "  'de',\n",
       "  'los',\n",
       "  'hijos',\n",
       "  'tiempo',\n",
       "  'en',\n",
       "  'horas',\n",
       "  'de',\n",
       "  'los',\n",
       "  'hijos',\n",
       "  'en',\n",
       "  'el',\n",
       "  'que',\n",
       "  'pasan',\n",
       "  'tiempo',\n",
       "  'con',\n",
       "  'los',\n",
       "  'padres',\n",
       "  'mayores',\n",
       "  'evidencias',\n",
       "  'de',\n",
       "  'mantener',\n",
       "  'la',\n",
       "  'familia',\n",
       "  'unida',\n",
       "  'hogar',\n",
       "  'equilibrio',\n",
       "  'hogar',\n",
       "  'mantener',\n",
       "  'las',\n",
       "  'familias',\n",
       "  'unidas'],\n",
       " ['tranquilidad',\n",
       "  'familia',\n",
       "  'empleabilidad',\n",
       "  'tolerancia',\n",
       "  'tranquilidad',\n",
       "  'hogar',\n",
       "  'la',\n",
       "  'paz',\n",
       "  'es',\n",
       "  'satisfacer',\n",
       "  'los',\n",
       "  'derechos',\n",
       "  'basicos',\n",
       "  'vivienda',\n",
       "  'alimentacion',\n",
       "  'salud',\n",
       "  'educacion'],\n",
       " ['accion',\n",
       "  'sin',\n",
       "  'dano',\n",
       "  'integracion',\n",
       "  'comunitaria',\n",
       "  'respeto',\n",
       "  'derechos',\n",
       "  'humanos',\n",
       "  'hogar',\n",
       "  'compartir',\n",
       "  'tranquilidad',\n",
       "  'la',\n",
       "  'paz',\n",
       "  'es',\n",
       "  'el',\n",
       "  'bien',\n",
       "  'comun'],\n",
       " ['procesos',\n",
       "  'formativos',\n",
       "  'de',\n",
       "  'multiplicacion',\n",
       "  'numero',\n",
       "  'de',\n",
       "  'alianzas',\n",
       "  'publico',\n",
       "  'privadas',\n",
       "  'numero',\n",
       "  'de',\n",
       "  'acciones',\n",
       "  'para',\n",
       "  'la',\n",
       "  'proteccion',\n",
       "  'de',\n",
       "  'ddhh',\n",
       "  'tolerancia',\n",
       "  'no',\n",
       "  'violencia',\n",
       "  'derechos',\n",
       "  'sociales',\n",
       "  'concertacion']]"
      ]
     },
     "execution_count": 105,
     "metadata": {},
     "output_type": "execute_result"
    }
   ],
   "source": [
    "data_tokenized[0:5]"
   ]
  },
  {
   "cell_type": "code",
   "execution_count": 106,
   "metadata": {
    "scrolled": true
   },
   "outputs": [
    {
     "data": {
      "text/plain": [
       "0    [tranquilidad, convivencia, casa, educacion, c...\n",
       "1    [tiempo, en, horas, de, dia, de, semana, de, f...\n",
       "2    [tranquilidad, familia, empleabilidad, toleran...\n",
       "3    [accion, sin, dano, integracion, comunitaria, ...\n",
       "4    [procesos, formativos, de, multiplicacion, num...\n",
       "Name: Narrativa_processed, dtype: object"
      ]
     },
     "execution_count": 106,
     "metadata": {},
     "output_type": "execute_result"
    }
   ],
   "source": [
    "df.Narrativa_processed.head(5)"
   ]
  },
  {
   "cell_type": "markdown",
   "metadata": {},
   "source": [
    "## Remover Stop words\n",
    "\n",
    "Removemos las palabras que son conocidas como \"Stop words\": lo, la, con, antes, sin, de, entre otras, de los datos tokenizados. "
   ]
  },
  {
   "cell_type": "code",
   "execution_count": 107,
   "metadata": {},
   "outputs": [],
   "source": [
    "stop_words_exceptions=[\"no\"]\n",
    "def remove_stopwords(texts):\n",
    "    return [[word for word in simple_preprocess(str(doc)) if (word not in stop_words) or (word in stop_words_exceptions)] for doc in texts]\n",
    "    \n",
    "    \n",
    "data_tokenized_nostops= remove_stopwords(data_tokenized)\n"
   ]
  },
  {
   "cell_type": "markdown",
   "metadata": {},
   "source": [
    "## Descubrimiento de Bigramas y Trigramas\n",
    "\n",
    "Consiste en encontrar conjuntos de 2 (bi) o 3 (tri) palabras que formen significado."
   ]
  },
  {
   "cell_type": "code",
   "execution_count": 108,
   "metadata": {
    "collapsed": true
   },
   "outputs": [],
   "source": [
    "# Build the bigram and trigram models\n",
    "bigram = gensim.models.Phrases(data_tokenized, min_count=7, threshold=5) # higher threshold fewer phrases.\n",
    "trigram = gensim.models.Phrases(bigram[data_tokenized], threshold=5)\n",
    "# Faster way to get a sentence clubbed as a trigram/bigram\n",
    "bigram_mod = gensim.models.phrases.Phraser(bigram)\n",
    "trigram_mod = gensim.models.phrases.Phraser(trigram)\n",
    "\n",
    "def make_bigrams(texts):\n",
    "    return [bigram_mod[doc] for doc in texts]\n",
    "def make_trigrams(texts):\n",
    "    return [trigram_mod[bigram_mod[doc]] for doc in texts]\n",
    "\n",
    "data_bigrams = make_bigrams(data_tokenized)\n",
    "data_bigrams_nonstops=make_bigrams(data_tokenized_nostops)"
   ]
  },
  {
   "cell_type": "markdown",
   "metadata": {},
   "source": [
    "Observaremos la diferencia entre crear bigramas con y sin stopwords."
   ]
  },
  {
   "cell_type": "code",
   "execution_count": 109,
   "metadata": {
    "scrolled": true
   },
   "outputs": [
    {
     "name": "stdout",
     "output_type": "stream",
     "text": [
      "{'seres_humanos', 'libre_feliz', 'tener_buena', 'puedan_salir', 'ser_humano', 'jugar_futbol', 'ninos_jugando', 'cualquier_lugar', 'derechos_sociales', 'mas_alla', 'no_violencia', 'demas_personas', 'si_generamos', 'poder_compartir', 'aprender_convivir', 'conmigo_misma', 'buenas_personas', 'trabajo_empleo', 'buenos_valores', 'iniciativas_comunitarias', 'libre_expresion', 'paz_', 'poder_convivir', 'ser_libre', 'seres_vivos', 'migo_mismo', 'bien_conmigo', 'medio_ambiente', 'buena_relacion', 'sigo_mismo', 'respeto_hacia', 'mas_importante', 'poder_salir', 'sana_convivencia', 'seres_queridos', 'poder_respirar', 'ser_solidario', 'ninos_puedan', 'buena_convivencia', 'entorno_protector', 'conmigo_mismo', 'buenas_acciones', 'asi_mismo', 'justicia_social', 'escuchar_musica', 'ninos_ninas', 'cultura_ciudadana', 'sentirse_tranquilo', 'hacer_actividades', 'vivir_tranquilo', 'gracias_dios', 'convivencia_pacifica', 'buena_comunicacion', 'mismos_derechos', 'ser_tolerante', 'recursos_naturales', 'fronteras_pasar', 'derechos_humanos', 'respeto_tolerancia', 'ambiente_sano', 'consigo_mismo', 'equidad_social', 'personas_puedan', 'cada_persona', 'no_discriminacion'}\n",
      "tamano lista de bigramas sin stopwords: 1124\n",
      "tamano lista de bigramas sin stopwords unicos: 65\n",
      "_____________________________________________________________________________________________\n",
      "{'libre_feliz', 'ser_humano', 'nos_dio', 'sin_armas', 'derechos_sociales', 'mas_alla', 'otros_barrios', 'no_hay', 'todo_lo', 'poder_compartir', 'las_opiniones', 'buenas_personas', 'las_personas', 'ser_libre', 'cada_quien', 'respeto_hacia', 'sana_convivencia', 'los_jovenes', 'viene_desde', 'entorno_protector', 'compartir_con', 'su_raza', 'asi_mismo', 'creo_que', 'las_diferencias', 'el_sol', 'me_van', 'cultura_ciudadana', 'gracias_dios', 'otra_persona', 'ver_mis', 'todas_las', 'respetar_al', 'recursos_naturales', 'me_trae', 'muy_importante', 'respeto_tolerancia', 'sin_peleas', 'cada_persona', 'un_mundo', 'las_cosas', 'me_siento', 'nuestras_diferencias', 'sin_importar', 'una_construccion', 'nuestra_sociedad', 'demas_personas', 'una_buena', 'considero_que', 'conmigo_misma', 'se_presenta', 'paz_', 'del_otro', 'para_mi', 'sin_miedo', 'me_llena', 'se_debe', 'un_momento', 'sigo_mismo', 'con_migo', 'mas_importante', 'nuestros_hijos', 'un_abrazo', 'al_lado', 'mi_familia', 'el_campo', 'los_animales', 'empieza_desde', 'se_construye', 'lugar_donde', 'nos_rodean', 'barrios_sin', 'al_projimo', 'una_ciudad', 'nos_rodea', 'fronteras_pasar', 'derechos_humanos', 'los_demas', 'el_canto', 'me_rodean', 'sin_problemas', 'no_discriminacion', 'nos_reunimos', 'lo_que', 'los_dias', 'puedan_salir', 'un_buen', 'uno_mismo', 'el_cual', 'un_nuevo', 'ninos_jugando', 'un_ambiente', 'no_violencia', 'ausencia_de', 'nuestro_entorno', 'los_otros', 'los_seres', 'cada_uno', 'el_medio', 'otras_personas', 'estar_bien', 'un_lugar', 'unos_los', 'seres_vivos', 'bien_conmigo', 'buena_relacion', 'nuestros_semejantes', 'se_logra', 'seres_queridos', 'poder_respirar', 'un_grupo', 'cuando_estoy', 'ser_solidario', 'me_encuentro', 'sobre_todo', 'se_puede', 'los_unos', 'conmigo_mismo', 'buena_convivencia', 'ninos_puedan', 'sin_temor', 'buenas_acciones', 'escuchar_musica', 'me_da', 'ya_sea', 'calle_sin', 'sentirse_tranquilo', 'vivir_tranquilo', 'mismos_derechos', 'una_sana', 'nuestro_pais', 'una_sonrisa', 'al_otro', 'donde_quiera', 'del_gobierno', 'consigo_mismo', 'mis_vecinos', 'se_refleja', 'seres_humanos', 'ya_que', 'tener_buena', 'jugar_futbol', 'tal_como', 'cualquier_lugar', 'contar_con', 'estar_tranquilo', 'si_generamos', 'aprender_convivir', 'trabajo_empleo', 'buenos_valores', 'iniciativas_comunitarias', 'libre_expresion', 'poder_convivir', 'un_estado', 'todo_esto', 'unos_otros', 'medio_ambiente', 'me_genera', 'poder_salir', 'uno_tiene', 'una_sociedad', 'justicia_social', 'nos_sentimos', 'los_ninos', 'hacer_actividades', 'se_ve', 'del_barrio', 'el_aire', 'convivencia_pacifica', 'cuando_llego', 'nosotros_mismos', 'parte_del', 'mis_amigos', 'ser_tolerante', 'mis_hijos', 'los_recursos', 'yo_siento', 'equidad_social', 'mis_padres', 'un_sistema'}\n",
      "tamano lista de bigramas con stopwords: 5116\n",
      "tamano lista de bigramas con stopwords unicos: 180\n"
     ]
    }
   ],
   "source": [
    "listBi=[]\n",
    "for text in data_bigrams_nonstops:\n",
    "    \n",
    "    for token in text:\n",
    "        if \"_\" in token:\n",
    "           \n",
    "            listBi.append(token)\n",
    "\n",
    "mySet=set(listBi)\n",
    "print(mySet)\n",
    "print(\"tamano lista de bigramas sin stopwords:\",len(listBi))\n",
    "print(\"tamano lista de bigramas sin stopwords unicos:\",len(mySet))\n",
    "print(\"_____________________________________________________________________________________________\")\n",
    "listBi=[]\n",
    "for text in data_bigrams:\n",
    "    \n",
    "    for token in text:\n",
    "        if \"_\" in token:\n",
    "           \n",
    "            listBi.append(token)\n",
    "\n",
    "mySet=set(listBi)\n",
    "print(mySet)\n",
    "print(\"tamano lista de bigramas con stopwords:\",len(listBi))\n",
    "print(\"tamano lista de bigramas con stopwords unicos:\",len(mySet))"
   ]
  },
  {
   "cell_type": "markdown",
   "metadata": {},
   "source": [
    " Vemos que a pesar de que con stopwords se tiene una mayor cantidad de bigramas, no nos brinda una buena generalización."
   ]
  },
  {
   "cell_type": "markdown",
   "metadata": {},
   "source": [
    "Ahora, observaremos la diferencia entre crear trigramas con y sin stopwords. "
   ]
  },
  {
   "cell_type": "code",
   "execution_count": 110,
   "metadata": {
    "scrolled": true
   },
   "outputs": [
    {
     "name": "stdout",
     "output_type": "stream",
     "text": [
      "{'libre_feliz', 'misma_comunidad', 'ser_humano', 'economica_social', 'derechos_sociales', 'mas_alla', 'ser_tolerantes', 'poder_compartir', 'buenas_personas', 'union_familiar', 'ser_libre', 'migo_mismo', 'respeto_hacia', 'sana_convivencia', 'entorno_protector', 'podamos_convivir', 'asi_mismo', 'tolerancia_respeto', 'vida_espiritual', 'poder_hacer', 'cultura_ciudadana', 'gracias_dios', 'no_pelear', 'poder_disfrutar', 'estan_peleando', 'recursos_naturales', 'respeto_tolerancia', 'hacen_parte', 'personas_puedan', 'cada_persona', 'siempre_pensando', 'demas_personas', 'conmigo_misma', 'paz_', 'familia_compartir', 'sigo_mismo', 'mas_importante', 'no_discriminacion_derechos_sociales', 'ninos_ninas', 'derechos_fundamentales', 'ala_vida', 'servir_ala', 'cada_vez', 'fronteras_pasar', 'derechos_humanos', 'dia_dia', 'no_discriminacion', 'no_haber', 'puedan_salir', 'ninos_jugando', 'no_violencia_derechos_sociales', 'no_violencia', 'seres_vivos', 'bien_conmigo', 'conceptos_opiniones', 'buena_relacion', 'hace_feliz', 'seres_queridos', 'poder_respirar', 'ser_solidario', 'ninos_puedan', 'buena_convivencia', 'conmigo_mismo', 'aprender_vivir', 'confianza_interpersonal', 'buenas_acciones', 'no_discriminacion_no_violencia', 'escuchar_musica', 'ser_amable', 'sentirse_tranquilo', 'vivir_tranquilo', 'buena_comunicacion', 'mismos_derechos', 'ser_feliz', 'consigo_mismo', 'poder_dialogar', 'ambiente_sano', 'brindar_amor', 'seres_humanos', 'tener_buena', 'jugar_futbol', 'cualquier_lugar', 'si_generamos', 'aprender_convivir', 'trabajo_empleo', 'buenos_valores', 'iniciativas_comunitarias', 'libre_expresion', 'poder_convivir', 'poder_jugar', 'participacion_ciudadana', 'medio_ambiente', 'poder_salir', 'tener_buena_convivencia', 'tanta_violencia', 'no_aparece', 'salud_trabajo', 'justicia_social', 'deporte_arte', 'escucho_musica', 'buen_trato', 'hacer_actividades', 'convivencia_pacifica', 'alegria_felicidad', 'ser_tolerante', 'equidad_social'}\n",
      "tamano lista de trigramas sin stopwords: 1385\n",
      "tamano lista de trigramas sin stopwords unicos: 106\n",
      "_____________________________________________________________________________________________\n",
      "{'los_espacios', 'economica_social', 'un_proceso', 'no_haya', 'otros_barrios', 'ver_mis_hijas', 'union_familiar', 'las_drogas', 'estoy_haciendo', 'los_jovenes', 'evitar_los', 'podamos_convivir', 'muy_dificil', 'nos_gusta', 'en_general', 'este_bien', 'sin_guerras', 'vida_espiritual', 'el_sol', 'quien_lo', 'me_van', 'poder_hacer', 'poder_disfrutar', 'tu_familia', 'las_personas_puedan', 'un_ambiente_agradable', 'mi_mama', 'empieza_desde_el', 'me_gusta', 'un_rato', 'mis_necesidades', 'considero_que', 'se_presenta', 'paz_', 'para_mi', 'sigo_mismo', 'estar_bien_con', 'mi_familia', 'hacer_lo_que', 'el_campo', 'los_animales', 'empieza_desde', 'ya_que_ellos', 'barrios_sin', 'familia_compartir_con', 'cualquier_lugar_sin', 'para_lograr', 'una_ciudad', 'estar_tranquilos', 'una_forma', 'dia_dia', 'sin_problemas', 'no_discriminacion', 'todos_los_seres', 'lo_mejor', 'los_dias', 'uno_mismo', 'una_accion', 'ninos_jugando', 'un_ambiente', 'no_violencia', 'derecho_al', 'lo_que_nos_rodea', 'cuando_llego_mi', 'un_lugar', 'hace_feliz', 'nuestros_semejantes', 'del_estado', 'un_grupo', 'caminar_por', 'sobre_todo', 'buena_convivencia', 'confianza_interpersonal', 'escuchar_musica', 'sentirse_tranquilo', 'respetar_al_otro', 'donde_quiera', 'una_sonrisa', 'mis_vecinos', 'poder_dialogar', 'se_ha', 'brindar_amor', 'las_fronteras', 'un_parque', 'entre_otros', 'poco_poco', 'mi_madre', 'las_normas', 'si_generamos', 'lo_que_uno', 'aprender_convivir', 'tener_una_buena', 'que_me_rodean', 'no_me_van', 'poder_convivir', 'poder_jugar', 'poder_salir', 'tanta_violencia', 'deporte_arte', 'los_seres_vivos', 'escucho_musica', 'los_ninos', 'al_campo', 'sin_violencia', 'nosotros_mismos', 'un_pais', 'cuando_llego', 'mis_amigos', 'mis_hijos', 'esta_bien', 'lo_mas_importante', 'entre_todos', 'equidad_social', 'un_lugar_tranquilo', 'mis_padres', 'un_sistema', 'nuestro_corazon', 'como_ser_humano', 'ser_humano', 'empezando_por', 'leer_un', 'derechos_sociales', 'ser_tolerantes', 'todo_lo', 'las_opiniones', 'buenas_personas', 'nos_da', 'se_pueda', 'todos_los', 'tal_como_son', 'cuando_comparto', 'entorno_protector', 'compartir_con', 'su_raza', 'las_calles', 'una_sana_convivencia', 'sin_peligro', 'creo_que', 'cultura_ciudadana', 'no_pelear', 'toda_mi_familia', 'otra_persona', 'ver_mis', 'lo_malo', 'sin_miedo_que', 'respetar_al', 'recursos_naturales', 'esas_personas', 'sin_peleas', 'cada_persona', 'el_medio_ambiente', 'nuestras_diferencias', 'sin_importar', 'del_hogar', 'afectados_por', 'entre_dos', 'nuestra_sociedad', 'con_mis_amigos', 'demas_personas', 'lo_necesita', 'las_otras_personas', 'del_otro', 'me_llena', 'los_derechos', 'para_asi', 'un_momento', 'mas_importante', 'del_dia', 'nuestros_hijos', 'un_abrazo', 'un_valor', 'no_discriminacion_derechos_sociales', 'las_mismas', 'con_migo_mismo', 'los_valores', 'se_construye', 'todas_las_personas', 'una_persona', 'servir_ala', 'al_igual', 'mi_abuela', 'el_canto', 'lo_que', 'no_haber', 'nuestras_vidas', 'nuestro_propio', 'no_tienen', 'no_violencia_derechos_sociales', 'ausencia_de', 'no_tiene', 'seres_vivos', 'buena_relacion', 'seres_queridos', 'cuando_estoy', 'estar_en', 'me_encuentro', 'ser_solidario', 'pero_si', 'ya_sea', 'los_vecinos', 'entre_los_seres', 'los_ninos_jugando', 'al_otro', 'todos_los_dias', 'ya_que', 'muy_bien', 'tener_buena', 'reconciliacion_entre', 'cuando_hay', 'union_entre', 'estar_tranquilo', 'trabajo_empleo', 'un_futuro', 'unos_otros', 'pesar_de', 'mi_hija', 'uno_tiene', 'no_aparece', 'el_mundo', 'nos_sentimos', 'los_padres', 'buen_trato', 'hacer_actividades', 'el_aire', 'mi_hogar', 'alegria_felicidad', 'sana_convivencia_entre', 'donde_no_hay', 'lleno_de', 'que_nos_rodean', 'mi_alrededor', 'empieza_desde_uno_mismo', 'con_mi_familia', 'libre_feliz', 'por_ejemplo', 'los_recursos_naturales', 'respeto_por', 'sin_armas', 'estar_sola', 'tal_como_soy', 'cada_quien', 'respeto_hacia', 'sana_convivencia', 'los_ninos_puedan', 'sin_armas_sin', 'empieza_por', 'las_diferencias', 'sin_ningun', 'cuando_los_ninos', 'nos_concientizamos', 'los_ninos_ninas', 'sin_miedos', 'muy_importante', 'respeto_tolerancia', 'hacen_parte', 'las_necesidades', 'un_mundo', 'no_sean', 'un_mundo_donde', 'mi_familia_mis_vecinos', 'un_objeto', 'todos_tengamos', 'sin_miedo', 'posibilidad_de', 'con_migo', 'mi_barrio', 'lugar_donde', 'nos_rodean', 'al_projimo', 'ala_vida', 'cada_vez', 'dios_nos_dio', 'fronteras_pasar', 'derechos_humanos', 'los_demas', 'esta_manera', 'puedan_salir', 'un_buen', 'el_respeto_hacia', 'los_otros', 'los_seres', 'cada_uno', 'unos_los', 'se_logra', 'poder_respirar', 'los_territorios', 'se_puede', 'los_mismos_derechos', 'los_unos', 'aprender_vivir', 'no_discriminacion_no_violencia', 'me_da', 'calle_sin', 'ser_amable', 'todo_lo_que', 'estar_bien_conmigo_mismo', 'ser_feliz', 'se_refleja', 'opinion_del_otro', 'ante_todo', 'tal_como', 'cualquier_lugar', 'me_transmite', 'si_yo', 'un_simbolo', 'iniciativas_comunitarias', 'libre_expresion', 'todo_ser_humano', 'el_deporte', 'su_entorno', 'un_estado', 'por_medio', 'participacion_ciudadana', 'cuando_voy', 'un_espacio', 'tener_buena_convivencia', 'para_construir', 'una_sociedad', 'los_conflictos', 'nuestra_vida', 'mi_compromiso', 'ayudandonos_los_unos', 'una_nueva', 'se_ve', 'el_inicio', 'del_barrio', 'los_problemas', 'los_recursos', 'los_unos_los_otros', 'yo_digo', 'no_hay', 'gracias_dios_por', 'misma_comunidad', 'por_eso', 'mas_alla', 'poder_compartir', 'partir_de', 'las_personas', 'ser_libre', 'compartir_con_ellos', 'viene_desde', 'asi_mismo', 'respeto_hacia_los_demas', 'tolerancia_respeto', 'respetando_las', 'gracias_dios', 'por_ende', 'todas_las', 'estan_peleando', 'mi_corazon', 'me_siento_en', 'se_vive', 'el_projimo', 'las_cosas', 'me_siento', 'el_agua', 'un_mundo_mejor', 'sin_discriminacion', 'siempre_pensando', 'una_buena', 'pueblo_esta', 'conmigo_misma', 'es_una_construccion', 'se_debe', 'familia_compartir', 'mi_casa', 'los_barrios', 'al_lado', 'mi_entorno', 'parte_de', 'tu_comunidad', 'los_derechos_humanos', 'nos_rodea', 'un_territorio', 'nos_reunimos', 'el_cual', 'todos_podamos', 'un_nuevo', 'nuestro_entorno', 'el_medio', 'otras_personas', 'estar_bien', 'bien_conmigo', 'conceptos_opiniones', 'un_lugar_donde', 'ninos_puedan', 'traves_de', 'todos_somos', 'conmigo_mismo', 'este_dibujo', 'sin_temor', 'buenas_acciones', 'el_nombre', 'una_buena_relacion', 'nuestro_alrededor', 'una_buena_comunicacion', 'vivir_tranquilo', 'las_demas_personas', 'con_uno_mismo', 'amar_mi_familia', 'un_ambiente_sano', 'nuestro_pais', 'del_gobierno', 'poder_compartir_con', 'consigo_mismo', 'las_demas', 'seres_humanos', 'me_hace', 'con_sigo_mismo', 'jugar_futbol', 'contar_con', 'me_trae_paz', 'nos_permite', 'respetar_los_demas', 'buenos_valores', 'se_respeta', 'todo_esto', 'medio_ambiente', 'me_genera', 'salud_trabajo', 'el_otro', 'justicia_social', 'los_seres_humanos', 'sin_preocupaciones', 'convivencia_pacifica', 'sus_padres', 'parte_del', 'ser_tolerante', 'una_buena_convivencia', 'yo_siento', 'vivir_en'}\n",
      "tamano lista de trigramas con stopwords: 7206\n",
      "tamano lista de trigramas con stopwords unicos: 431\n"
     ]
    }
   ],
   "source": [
    "data_trigrams = make_trigrams(data_tokenized)\n",
    "data_trigrams_nonstops=make_trigrams(data_tokenized_nostops)\n",
    "\n",
    "listBi=[]\n",
    "for text in data_trigrams_nonstops:\n",
    "    \n",
    "    for token in text:\n",
    "        if \"_\" in token:\n",
    "           \n",
    "            listBi.append(token)\n",
    "\n",
    "mySet=set(listBi)\n",
    "print(mySet)\n",
    "print(\"tamano lista de trigramas sin stopwords:\",len(listBi))\n",
    "print(\"tamano lista de trigramas sin stopwords unicos:\",len(mySet))\n",
    "print(\"_____________________________________________________________________________________________\")\n",
    "listBi=[]\n",
    "for text in data_trigrams:\n",
    "    \n",
    "    for token in text:\n",
    "        if \"_\" in token:\n",
    "           \n",
    "            listBi.append(token)\n",
    "\n",
    "mySet=set(listBi)\n",
    "print(mySet)\n",
    "print(\"tamano lista de trigramas con stopwords:\",len(listBi))\n",
    "print(\"tamano lista de trigramas con stopwords unicos:\",len(mySet))"
   ]
  },
  {
   "cell_type": "markdown",
   "metadata": {},
   "source": [
    "Vemos que a pesar de que con stopwords se tiene una mayor cantidad de trigramas, no nos brinda una buena generalización. - Este resultado muestra que se hace una mejor relación de palabras con los bigramas que con los trigramas generando mejores significados de palabras, además de las 1385 palabras que se encontraron en los trigramas, realmente 4 son trigramas, y estos no poseen mucho significado:\n",
    "1. no_discriminacion_derechos_sociales\n",
    "2. no_violencia_derechos_sociales\n",
    "3. no_discriminacion_no_violencia\n",
    "4. tener_buena_convivencia"
   ]
  },
  {
   "cell_type": "code",
   "execution_count": 111,
   "metadata": {},
   "outputs": [
    {
     "name": "stderr",
     "output_type": "stream",
     "text": [
      "/usr/local/anaconda/lib/python3.6/site-packages/ipykernel_launcher.py:1: SettingWithCopyWarning: \n",
      "A value is trying to be set on a copy of a slice from a DataFrame.\n",
      "Try using .loc[row_indexer,col_indexer] = value instead\n",
      "\n",
      "See the caveats in the documentation: http://pandas.pydata.org/pandas-docs/stable/user_guide/indexing.html#returning-a-view-versus-a-copy\n",
      "  \"\"\"Entry point for launching an IPython kernel.\n"
     ]
    }
   ],
   "source": [
    "df['Narrativa_bigrams'] = data_bigrams_nonstops"
   ]
  },
  {
   "cell_type": "code",
   "execution_count": 112,
   "metadata": {
    "scrolled": false
   },
   "outputs": [
    {
     "data": {
      "text/plain": [
       "0       [tranquilidad, convivencia, casa, educacion, c...\n",
       "1       [tiempo, horas, dia, semana, fin, semana, padr...\n",
       "2       [tranquilidad, familia, empleabilidad, toleran...\n",
       "3       [accion, dano, integracion, comunitaria, respe...\n",
       "4       [procesos, formativos, multiplicacion, numero,...\n",
       "                              ...                        \n",
       "2999    [siento, paz, casa, siento, no, corro, ningun,...\n",
       "3000    [paz, basa, mas, sencillo, prohibir, guerras, ...\n",
       "3001    [paz, placer, gusto, sociedad, contando, derec...\n",
       "3002    [paz, emocional, ser, genera, tranquilidad, pe...\n",
       "3003             [paz, no, conflicto, pelea, discusiones]\n",
       "Name: Narrativa_bigrams, Length: 2969, dtype: object"
      ]
     },
     "execution_count": 112,
     "metadata": {},
     "output_type": "execute_result"
    }
   ],
   "source": [
    "df.Narrativa_bigrams"
   ]
  },
  {
   "cell_type": "markdown",
   "metadata": {},
   "source": [
    "## Lematización"
   ]
  },
  {
   "cell_type": "markdown",
   "metadata": {},
   "source": [
    "Procederemos a realizar la lematización. Esto consiste en convertir las palabras de la siguiente manera: si hay verbos en pasado o futuro los convierte a presente, si hay palabras en tercera persona las convierte a primera persona. \n",
    "\n",
    "Podriamos en este paso realizar el proceso de Stemming (convertir la palabra a su root word). Sin embargo, decidimos no implementarlo puesto que convierte las palabras hasta un punto que no nos genera valor, por ejemplo, \"Computador\" lo convertiría a \"Comput\" lo cual no es significativo para nuestro objetivo del proyecto. Por tanto, solo nos quedamos con el proceso de lematización. \n",
    "\n",
    "La lematización es similar al stemming, pero el primero brinda contexto a las palabras. \n"
   ]
  },
  {
   "cell_type": "markdown",
   "metadata": {},
   "source": [
    "- Primero pasamos los tokens a una línea de texto"
   ]
  },
  {
   "cell_type": "code",
   "execution_count": 113,
   "metadata": {
    "scrolled": true
   },
   "outputs": [
    {
     "name": "stdout",
     "output_type": "stream",
     "text": [
      "[['tranquilidad', 'convivencia', 'casa', 'educacion', 'colectividad', 'respeto', 'tranquilidad', 'acceso', 'educacion', 'humanizacion', 'espacio', 'siempre', 'sera', 'camino'], ['tiempo', 'horas', 'dia', 'semana', 'fin', 'semana', 'padres', 'cuidadores', 'pasan', 'tiempo', 'hijos', 'espacios', 'ie', 'hijos', 'tiempo', 'horas', 'hijos', 'pasan', 'tiempo', 'padres', 'mayores', 'evidencias', 'mantener', 'familia', 'unida', 'hogar', 'equilibrio', 'hogar', 'mantener', 'familias', 'unidas'], ['tranquilidad', 'familia', 'empleabilidad', 'tolerancia', 'tranquilidad', 'hogar', 'paz', 'satisfacer', 'derechos', 'basicos', 'vivienda', 'alimentacion', 'salud', 'educacion'], ['accion', 'dano', 'integracion', 'comunitaria', 'respeto', 'derechos_humanos', 'hogar', 'compartir', 'tranquilidad', 'paz', 'bien', 'comun'], ['procesos', 'formativos', 'multiplicacion', 'numero', 'alianzas', 'publico', 'privadas', 'numero', 'acciones', 'proteccion', 'ddhh', 'tolerancia', 'no_violencia', 'derechos_sociales', 'concertacion']]\n",
      "Arreglado\n",
      "['tranquilidad convivencia casa educacion colectividad respeto tranquilidad acceso educacion humanizacion espacio siempre sera camino', 'tiempo horas semana semana padres cuidadores pasan tiempo hijos espacios hijos tiempo horas hijos pasan tiempo padres mayores evidencias mantener familia unida hogar equilibrio hogar mantener familias unidas', 'tranquilidad familia empleabilidad tolerancia tranquilidad hogar satisfacer derechos basicos vivienda alimentacion salud educacion', 'accion dano integracion comunitaria respeto derechos_humanos hogar compartir tranquilidad bien comun', 'procesos formativos multiplicacion numero alianzas publico privadas numero acciones proteccion ddhh tolerancia no_violencia derechos_sociales concertacion', 'iniciativas cultura_ciudadana eventos ciudad promueven construccion respeto union atencion salud tranquilidad', 'comunicacion tolerancia concertacion tolerancia trabajo_empleo no_violencia ausencia cualquier clase violencia', 'reglas respeto_tolerancia hogar tranquilidad conmigo_misma demas', 'sensibilidad social respecto tematicas cotidianas apropiacion contenidos acciones comunitarias emprendidas participacion testimonios vida cotidiana respeto amor compartir encuentro reconocimiento respeto diferente garantias dignidad', 'cambio percepcion comunitaria fortalecimiento liderazgos rescate valores respeto no_discriminacion no_violencia respetar diferencia elemento unificador diferentes conocimientos realidades']\n"
     ]
    }
   ],
   "source": [
    "data = df[\"Narrativa_bigrams\"].values.tolist()\n",
    "\n",
    "print(data[0:5])\n",
    "data_prepared=[]\n",
    "for row in data:\n",
    "    text=\"\"\n",
    "    for word in row:\n",
    "        if(len(word) > 3):\n",
    "            text+=word + \" \"\n",
    "    data_prepared.append(text.rstrip())\n",
    "\n",
    "print(\"Arreglado\")\n",
    "print(data_prepared[0:10])"
   ]
  },
  {
   "cell_type": "markdown",
   "metadata": {},
   "source": [
    "Ingresamos cada linea de texto en la fila correspondiente"
   ]
  },
  {
   "cell_type": "code",
   "execution_count": 114,
   "metadata": {
    "scrolled": false
   },
   "outputs": [
    {
     "name": "stderr",
     "output_type": "stream",
     "text": [
      "/usr/local/anaconda/lib/python3.6/site-packages/ipykernel_launcher.py:1: SettingWithCopyWarning: \n",
      "A value is trying to be set on a copy of a slice from a DataFrame.\n",
      "Try using .loc[row_indexer,col_indexer] = value instead\n",
      "\n",
      "See the caveats in the documentation: http://pandas.pydata.org/pandas-docs/stable/user_guide/indexing.html#returning-a-view-versus-a-copy\n",
      "  \"\"\"Entry point for launching an IPython kernel.\n"
     ]
    }
   ],
   "source": [
    "df[\"Narrativa_bigrams\"]=pd.DataFrame(data=data_prepared,columns=[\"Narrativa_bigrams\"]).values"
   ]
  },
  {
   "cell_type": "code",
   "execution_count": 115,
   "metadata": {
    "scrolled": true
   },
   "outputs": [
    {
     "data": {
      "text/html": [
       "<div>\n",
       "<style scoped>\n",
       "    .dataframe tbody tr th:only-of-type {\n",
       "        vertical-align: middle;\n",
       "    }\n",
       "\n",
       "    .dataframe tbody tr th {\n",
       "        vertical-align: top;\n",
       "    }\n",
       "\n",
       "    .dataframe thead th {\n",
       "        text-align: right;\n",
       "    }\n",
       "</style>\n",
       "<table border=\"1\" class=\"dataframe\">\n",
       "  <thead>\n",
       "    <tr style=\"text-align: right;\">\n",
       "      <th></th>\n",
       "      <th>Narrativa</th>\n",
       "      <th>Narrativa_processed</th>\n",
       "      <th>Narrativa_bigrams</th>\n",
       "    </tr>\n",
       "  </thead>\n",
       "  <tbody>\n",
       "    <tr>\n",
       "      <th>0</th>\n",
       "      <td>Tranquilidad, Convivencia, Casa, Educación, Co...</td>\n",
       "      <td>[tranquilidad, convivencia, casa, educacion, c...</td>\n",
       "      <td>tranquilidad convivencia casa educacion colect...</td>\n",
       "    </tr>\n",
       "    <tr>\n",
       "      <th>1</th>\n",
       "      <td>Tiempo en horas de día de semana y de fin de s...</td>\n",
       "      <td>[tiempo, en, horas, de, dia, de, semana, de, f...</td>\n",
       "      <td>tiempo horas semana semana padres cuidadores p...</td>\n",
       "    </tr>\n",
       "    <tr>\n",
       "      <th>2</th>\n",
       "      <td>tranquilidad, familia, empleabilidad Toleranci...</td>\n",
       "      <td>[tranquilidad, familia, empleabilidad, toleran...</td>\n",
       "      <td>tranquilidad familia empleabilidad tolerancia ...</td>\n",
       "    </tr>\n",
       "    <tr>\n",
       "      <th>3</th>\n",
       "      <td>Acción sin daño, integración comunitaria, resp...</td>\n",
       "      <td>[accion, sin, dano, integracion, comunitaria, ...</td>\n",
       "      <td>accion dano integracion comunitaria respeto de...</td>\n",
       "    </tr>\n",
       "    <tr>\n",
       "      <th>4</th>\n",
       "      <td>Procesos formativos y de multiplicación. Numer...</td>\n",
       "      <td>[procesos, formativos, de, multiplicacion, num...</td>\n",
       "      <td>procesos formativos multiplicacion numero alia...</td>\n",
       "    </tr>\n",
       "  </tbody>\n",
       "</table>\n",
       "</div>"
      ],
      "text/plain": [
       "                                           Narrativa  \\\n",
       "0  Tranquilidad, Convivencia, Casa, Educación, Co...   \n",
       "1  Tiempo en horas de día de semana y de fin de s...   \n",
       "2  tranquilidad, familia, empleabilidad Toleranci...   \n",
       "3  Acción sin daño, integración comunitaria, resp...   \n",
       "4  Procesos formativos y de multiplicación. Numer...   \n",
       "\n",
       "                                 Narrativa_processed  \\\n",
       "0  [tranquilidad, convivencia, casa, educacion, c...   \n",
       "1  [tiempo, en, horas, de, dia, de, semana, de, f...   \n",
       "2  [tranquilidad, familia, empleabilidad, toleran...   \n",
       "3  [accion, sin, dano, integracion, comunitaria, ...   \n",
       "4  [procesos, formativos, de, multiplicacion, num...   \n",
       "\n",
       "                                   Narrativa_bigrams  \n",
       "0  tranquilidad convivencia casa educacion colect...  \n",
       "1  tiempo horas semana semana padres cuidadores p...  \n",
       "2  tranquilidad familia empleabilidad tolerancia ...  \n",
       "3  accion dano integracion comunitaria respeto de...  \n",
       "4  procesos formativos multiplicacion numero alia...  "
      ]
     },
     "execution_count": 115,
     "metadata": {},
     "output_type": "execute_result"
    }
   ],
   "source": [
    "df.head()"
   ]
  },
  {
   "cell_type": "markdown",
   "metadata": {},
   "source": [
    "Procedemos a realizar la lematización.\n",
    "Primero cargamos la librería de spacy en español"
   ]
  },
  {
   "cell_type": "code",
   "execution_count": 116,
   "metadata": {
    "collapsed": true
   },
   "outputs": [],
   "source": [
    "import spacy\n",
    "nlp = spacy.load('es_core_news_sm')"
   ]
  },
  {
   "cell_type": "markdown",
   "metadata": {},
   "source": [
    "Solo realizaremos la lematización sobre:\n",
    "- Adjetivos\n",
    "- Verbos\n",
    "- Adverbios\n",
    "\n",
    "No lo realizaremos sobre sustantivos puesto que, después de pruebas, las palabras pierden su significado original, por ejemplo: hermano lo convierte a hermanar, casa lo convierte a casar. Esto es un defecto de la librería. "
   ]
  },
  {
   "cell_type": "code",
   "execution_count": 117,
   "metadata": {},
   "outputs": [],
   "source": [
    "allowed_postags=['ADJ', 'VERB', 'ADV']\n",
    "stopwordsToken=[\"demas\",\"tener\",\"mismo\", \"poder\",\"cada\",\"tambien\", \"hacer\"]\n",
    "unifiedWord={\"respetar\":\"respeto\", \"violencia\":\"no_violencia\",\"musicar\":\"musica\",\"guerra\":\"no_guerra\"}\n",
    "data_list=[]\n",
    "\n",
    "for row in df.Narrativa_bigrams:\n",
    "    token_list=\"\"\n",
    "    text=nlp(row)\n",
    "    for token in text:\n",
    "        if (token.pos_ in allowed_postags) and (token.lemma_ not in stopwordsToken) and (token.text not in stopwordsToken):\n",
    "            if token.lemma_ in unifiedWord:\n",
    "                token_list+=unifiedWord[token.lemma_]+\" \"\n",
    "            else :\n",
    "                token_list+=token.lemma_+\" \"\n",
    "            \n",
    "        elif (token.is_stop is not True) and (token.lemma_ not in stopwordsToken) and (token.text not in stopwordsToken):\n",
    "            if token.text in unifiedWord:\n",
    "                token_list+=unifiedWord[token.text]+\" \"\n",
    "            else :\n",
    "                token_list+=token.text+\" \"\n",
    "    data_list.append(token_list.rstrip())"
   ]
  },
  {
   "cell_type": "markdown",
   "metadata": {},
   "source": [
    "Ahora el resultado de la lematización lo pasamos a un nuevo dataframe"
   ]
  },
  {
   "cell_type": "code",
   "execution_count": 119,
   "metadata": {
    "collapsed": true
   },
   "outputs": [],
   "source": [
    "df_lemmatized=pd.DataFrame(data=data_list,columns=[\"Narrativa_bigrams\"])"
   ]
  },
  {
   "cell_type": "code",
   "execution_count": 120,
   "metadata": {},
   "outputs": [
    {
     "data": {
      "text/html": [
       "<div>\n",
       "<style scoped>\n",
       "    .dataframe tbody tr th:only-of-type {\n",
       "        vertical-align: middle;\n",
       "    }\n",
       "\n",
       "    .dataframe tbody tr th {\n",
       "        vertical-align: top;\n",
       "    }\n",
       "\n",
       "    .dataframe thead th {\n",
       "        text-align: right;\n",
       "    }\n",
       "</style>\n",
       "<table border=\"1\" class=\"dataframe\">\n",
       "  <thead>\n",
       "    <tr style=\"text-align: right;\">\n",
       "      <th></th>\n",
       "      <th>Narrativa_bigrams</th>\n",
       "    </tr>\n",
       "  </thead>\n",
       "  <tbody>\n",
       "    <tr>\n",
       "      <th>0</th>\n",
       "      <td>tranquilidad convivencia casa educacion colect...</td>\n",
       "    </tr>\n",
       "    <tr>\n",
       "      <th>1</th>\n",
       "      <td>semana semana padres cuidadores pasar hijos es...</td>\n",
       "    </tr>\n",
       "    <tr>\n",
       "      <th>2</th>\n",
       "      <td>tranquilidad familia empleabilidad tolerancia ...</td>\n",
       "    </tr>\n",
       "    <tr>\n",
       "      <th>3</th>\n",
       "      <td>accion dano integracion comunitaria respeto de...</td>\n",
       "    </tr>\n",
       "    <tr>\n",
       "      <th>4</th>\n",
       "      <td>procesos formativo multiplicacion numero alian...</td>\n",
       "    </tr>\n",
       "  </tbody>\n",
       "</table>\n",
       "</div>"
      ],
      "text/plain": [
       "                                   Narrativa_bigrams\n",
       "0  tranquilidad convivencia casa educacion colect...\n",
       "1  semana semana padres cuidadores pasar hijos es...\n",
       "2  tranquilidad familia empleabilidad tolerancia ...\n",
       "3  accion dano integracion comunitaria respeto de...\n",
       "4  procesos formativo multiplicacion numero alian..."
      ]
     },
     "execution_count": 120,
     "metadata": {},
     "output_type": "execute_result"
    }
   ],
   "source": [
    "df_lemmatized.head()"
   ]
  },
  {
   "cell_type": "markdown",
   "metadata": {},
   "source": [
    "La lista de textos lematizados ahora se pasan a una nueva columna del dataframe llamada Narrativa_lemmatized"
   ]
  },
  {
   "cell_type": "code",
   "execution_count": 121,
   "metadata": {},
   "outputs": [
    {
     "name": "stderr",
     "output_type": "stream",
     "text": [
      "/usr/local/anaconda/lib/python3.6/site-packages/ipykernel_launcher.py:1: SettingWithCopyWarning: \n",
      "A value is trying to be set on a copy of a slice from a DataFrame.\n",
      "Try using .loc[row_indexer,col_indexer] = value instead\n",
      "\n",
      "See the caveats in the documentation: http://pandas.pydata.org/pandas-docs/stable/user_guide/indexing.html#returning-a-view-versus-a-copy\n",
      "  \"\"\"Entry point for launching an IPython kernel.\n"
     ]
    }
   ],
   "source": [
    "df[\"Narrativa_lemmatized\"]= df_lemmatized.values"
   ]
  },
  {
   "cell_type": "markdown",
   "metadata": {},
   "source": [
    "Observamos la diferencia en la limpieza de los datos en cada columna. "
   ]
  },
  {
   "cell_type": "code",
   "execution_count": 122,
   "metadata": {},
   "outputs": [
    {
     "data": {
      "text/html": [
       "<div>\n",
       "<style scoped>\n",
       "    .dataframe tbody tr th:only-of-type {\n",
       "        vertical-align: middle;\n",
       "    }\n",
       "\n",
       "    .dataframe tbody tr th {\n",
       "        vertical-align: top;\n",
       "    }\n",
       "\n",
       "    .dataframe thead th {\n",
       "        text-align: right;\n",
       "    }\n",
       "</style>\n",
       "<table border=\"1\" class=\"dataframe\">\n",
       "  <thead>\n",
       "    <tr style=\"text-align: right;\">\n",
       "      <th></th>\n",
       "      <th>Narrativa</th>\n",
       "      <th>Narrativa_processed</th>\n",
       "      <th>Narrativa_bigrams</th>\n",
       "      <th>Narrativa_lemmatized</th>\n",
       "    </tr>\n",
       "  </thead>\n",
       "  <tbody>\n",
       "    <tr>\n",
       "      <th>0</th>\n",
       "      <td>Tranquilidad, Convivencia, Casa, Educación, Co...</td>\n",
       "      <td>[tranquilidad, convivencia, casa, educacion, c...</td>\n",
       "      <td>tranquilidad convivencia casa educacion colect...</td>\n",
       "      <td>tranquilidad convivencia casa educacion colect...</td>\n",
       "    </tr>\n",
       "    <tr>\n",
       "      <th>1</th>\n",
       "      <td>Tiempo en horas de día de semana y de fin de s...</td>\n",
       "      <td>[tiempo, en, horas, de, dia, de, semana, de, f...</td>\n",
       "      <td>tiempo horas semana semana padres cuidadores p...</td>\n",
       "      <td>semana semana padres cuidadores pasar hijos es...</td>\n",
       "    </tr>\n",
       "    <tr>\n",
       "      <th>2</th>\n",
       "      <td>tranquilidad, familia, empleabilidad Toleranci...</td>\n",
       "      <td>[tranquilidad, familia, empleabilidad, toleran...</td>\n",
       "      <td>tranquilidad familia empleabilidad tolerancia ...</td>\n",
       "      <td>tranquilidad familia empleabilidad tolerancia ...</td>\n",
       "    </tr>\n",
       "    <tr>\n",
       "      <th>3</th>\n",
       "      <td>Acción sin daño, integración comunitaria, resp...</td>\n",
       "      <td>[accion, sin, dano, integracion, comunitaria, ...</td>\n",
       "      <td>accion dano integracion comunitaria respeto de...</td>\n",
       "      <td>accion dano integracion comunitaria respeto de...</td>\n",
       "    </tr>\n",
       "    <tr>\n",
       "      <th>4</th>\n",
       "      <td>Procesos formativos y de multiplicación. Numer...</td>\n",
       "      <td>[procesos, formativos, de, multiplicacion, num...</td>\n",
       "      <td>procesos formativos multiplicacion numero alia...</td>\n",
       "      <td>procesos formativo multiplicacion numero alian...</td>\n",
       "    </tr>\n",
       "    <tr>\n",
       "      <th>5</th>\n",
       "      <td>INICIATIVAS DE CULTURA CIUDADANA, EVENTOS DE C...</td>\n",
       "      <td>[iniciativas, de, cultura, ciudadana, eventos,...</td>\n",
       "      <td>iniciativas cultura_ciudadana eventos ciudad p...</td>\n",
       "      <td>iniciativas cultura_ciudadana eventos ciudad p...</td>\n",
       "    </tr>\n",
       "    <tr>\n",
       "      <th>6</th>\n",
       "      <td>Comunicación, tolerancia, concertación. Tolera...</td>\n",
       "      <td>[comunicacion, tolerancia, concertacion, toler...</td>\n",
       "      <td>comunicacion tolerancia concertacion toleranci...</td>\n",
       "      <td>comunicacion tolerancia concertacion toleranci...</td>\n",
       "    </tr>\n",
       "    <tr>\n",
       "      <th>7</th>\n",
       "      <td>Voluntad,comunicación, Reglas Respeto Toleranc...</td>\n",
       "      <td>[reglas, respeto, tolerancia, hogar, estado, d...</td>\n",
       "      <td>reglas respeto_tolerancia hogar tranquilidad c...</td>\n",
       "      <td>reglas respeto_tolerancia hogar tranquilidad c...</td>\n",
       "    </tr>\n",
       "    <tr>\n",
       "      <th>8</th>\n",
       "      <td>1. Sensibilidad social respecto temáticas coti...</td>\n",
       "      <td>[sensibilidad, social, respecto, tematicas, co...</td>\n",
       "      <td>sensibilidad social respecto tematicas cotidia...</td>\n",
       "      <td>sensibilidad social tematicas cotidiano apropi...</td>\n",
       "    </tr>\n",
       "    <tr>\n",
       "      <th>9</th>\n",
       "      <td>Cambio de percepción comunitaria, fortalecimie...</td>\n",
       "      <td>[cambio, de, percepcion, comunitaria, fortalec...</td>\n",
       "      <td>cambio percepcion comunitaria fortalecimiento ...</td>\n",
       "      <td>cambio percepcion comunitaria fortalecimiento ...</td>\n",
       "    </tr>\n",
       "    <tr>\n",
       "      <th>10</th>\n",
       "      <td>Cambio de hábitos, respeto por el medio ambien...</td>\n",
       "      <td>[cambio, de, habitos, respeto, por, el, medio,...</td>\n",
       "      <td>cambio habitos respeto medio_ambiente conviven...</td>\n",
       "      <td>cambio habitos respeto medio_ambiente conviven...</td>\n",
       "    </tr>\n",
       "    <tr>\n",
       "      <th>11</th>\n",
       "      <td>convivencia Respeto Tolerancia Compartir respe...</td>\n",
       "      <td>[convivencia, respeto, tolerancia, compartir, ...</td>\n",
       "      <td>convivencia respeto_tolerancia compartir respeto</td>\n",
       "      <td>convivencia respeto_tolerancia compartir respeto</td>\n",
       "    </tr>\n",
       "    <tr>\n",
       "      <th>12</th>\n",
       "      <td>Formaciones, PRQS respondidas, Diseño de estra...</td>\n",
       "      <td>[formaciones, prqs, respondidas, diseno, de, e...</td>\n",
       "      <td>formaciones prqs respondidas diseno estrategia...</td>\n",
       "      <td>formaciones prqs responder diseno estrategia t...</td>\n",
       "    </tr>\n",
       "    <tr>\n",
       "      <th>13</th>\n",
       "      <td>\"Alianzas multi-actor formalizadas\", \"Declarac...</td>\n",
       "      <td>[alianzas, multi, actor, formalizadas, declara...</td>\n",
       "      <td>alianzas multi actor formalizadas declaracione...</td>\n",
       "      <td>alianzas multi actor formalizar declaraciones ...</td>\n",
       "    </tr>\n",
       "    <tr>\n",
       "      <th>14</th>\n",
       "      <td>memoria, reconciliación, equidad Respeto Toler...</td>\n",
       "      <td>[memoria, reconciliacion, equidad, respeto, to...</td>\n",
       "      <td>memoria reconciliacion equidad respeto_toleran...</td>\n",
       "      <td>memoria reconciliacion equidad respeto_toleran...</td>\n",
       "    </tr>\n",
       "    <tr>\n",
       "      <th>15</th>\n",
       "      <td>cumplimiento, proyección, ejecución Amor Tranq...</td>\n",
       "      <td>[cumplimiento, proyeccion, ejecucion, amor, tr...</td>\n",
       "      <td>cumplimiento proyeccion ejecucion amor tranqui...</td>\n",
       "      <td>cumplimiento proyeccion ejecucion amor tranqui...</td>\n",
       "    </tr>\n",
       "    <tr>\n",
       "      <th>16</th>\n",
       "      <td>Participación ciudadana, reconocimiento de la ...</td>\n",
       "      <td>[participacion, ciudadana, reconocimiento, de,...</td>\n",
       "      <td>participacion ciudadana reconocimiento diversi...</td>\n",
       "      <td>participacion ciudadana reconocimiento diversi...</td>\n",
       "    </tr>\n",
       "    <tr>\n",
       "      <th>17</th>\n",
       "      <td>Asesorar,Guiar,Gestionar Respeto Tolerancia Ar...</td>\n",
       "      <td>[respeto, tolerancia, armonia, la, semilla, de...</td>\n",
       "      <td>respeto_tolerancia armonia semilla manos sembr...</td>\n",
       "      <td>respeto_tolerancia armonia semilla manos sembr...</td>\n",
       "    </tr>\n",
       "    <tr>\n",
       "      <th>18</th>\n",
       "      <td>Personas formadas en cultura ciudadana, % dism...</td>\n",
       "      <td>[personas, formadas, en, cultura, ciudadana, d...</td>\n",
       "      <td>personas formadas cultura_ciudadana disminucio...</td>\n",
       "      <td>personas formar cultura_ciudadana disminucion ...</td>\n",
       "    </tr>\n",
       "    <tr>\n",
       "      <th>19</th>\n",
       "      <td>Formas de resolución de conflictos, Cumplimien...</td>\n",
       "      <td>[formas, de, resolucion, de, conflictos, cumpl...</td>\n",
       "      <td>formas resolucion conflictos cumplimiento debe...</td>\n",
       "      <td>formas resolucion conflictos cumplimiento debe...</td>\n",
       "    </tr>\n",
       "    <tr>\n",
       "      <th>20</th>\n",
       "      <td>Reconciliación, vinculación de jóvenes a progr...</td>\n",
       "      <td>[reconciliacion, vinculacion, de, jovenes, pro...</td>\n",
       "      <td>reconciliacion vinculacion jovenes programas n...</td>\n",
       "      <td>reconciliacion vinculacion jovenes programas n...</td>\n",
       "    </tr>\n",
       "    <tr>\n",
       "      <th>21</th>\n",
       "      <td>Alianzas para la construcción de paz Armonía E...</td>\n",
       "      <td>[alianzas, para, la, construccion, de, paz, ar...</td>\n",
       "      <td>alianzas construccion armonia equilibrio no_vi...</td>\n",
       "      <td>alianzas construccion armonia equilibrio no_vi...</td>\n",
       "    </tr>\n",
       "    <tr>\n",
       "      <th>22</th>\n",
       "      <td>Cohesión social, convivencia pacífica, afianza...</td>\n",
       "      <td>[cohesion, social, convivencia, pacifica, afia...</td>\n",
       "      <td>cohesion social convivencia_pacifica afianzar ...</td>\n",
       "      <td>cohesion social convivencia_pacifica afianzar ...</td>\n",
       "    </tr>\n",
       "    <tr>\n",
       "      <th>23</th>\n",
       "      <td>Se pretende crear indicadores de gestión del p...</td>\n",
       "      <td>[se, pretende, crear, indicadores, de, gestion...</td>\n",
       "      <td>pretende crear indicadores gestion proceso ges...</td>\n",
       "      <td>pretender crear indicadores gestion proceso ge...</td>\n",
       "    </tr>\n",
       "    <tr>\n",
       "      <th>24</th>\n",
       "      <td>Aprendi Respeto No violencia Hogar Trabajar co...</td>\n",
       "      <td>[aprendi, respeto, no, violencia, hogar, traba...</td>\n",
       "      <td>aprendi respeto no_violencia hogar trabajar amor</td>\n",
       "      <td>aprendi respeto no_violencia hogar trabajar amor</td>\n",
       "    </tr>\n",
       "    <tr>\n",
       "      <th>25</th>\n",
       "      <td>resolución de conflictos, justicia comunitaria...</td>\n",
       "      <td>[resolucion, de, conflictos, justicia, comunit...</td>\n",
       "      <td>resolucion conflictos justicia comunitaria ali...</td>\n",
       "      <td>resolucion conflictos justicia comunitario ali...</td>\n",
       "    </tr>\n",
       "    <tr>\n",
       "      <th>26</th>\n",
       "      <td>Participación comunitaria, trabajo conjunto en...</td>\n",
       "      <td>[participacion, comunitaria, trabajo, conjunto...</td>\n",
       "      <td>participacion comunitaria trabajo conjunto par...</td>\n",
       "      <td>participacion comunitario conjuntar partes con...</td>\n",
       "    </tr>\n",
       "    <tr>\n",
       "      <th>27</th>\n",
       "      <td>Número de Jueces de Paz atentados, Número de c...</td>\n",
       "      <td>[numero, de, jueces, de, paz, atentados, numer...</td>\n",
       "      <td>numero jueces atentados numero ciudadanos aten...</td>\n",
       "      <td>numero jueces atentados numerar ciudadanos ate...</td>\n",
       "    </tr>\n",
       "    <tr>\n",
       "      <th>28</th>\n",
       "      <td>1. realización de proyectos e  iniciativas com...</td>\n",
       "      <td>[realizacion, de, proyectos, iniciativas, comu...</td>\n",
       "      <td>realizacion proyectos iniciativas_comunitarias...</td>\n",
       "      <td>realizacion proyectos iniciativas_comunitarias...</td>\n",
       "    </tr>\n",
       "    <tr>\n",
       "      <th>29</th>\n",
       "      <td>reconcer actitudes violentas, Respeto Trabajo ...</td>\n",
       "      <td>[reconcer, actitudes, violentas, respeto, trab...</td>\n",
       "      <td>reconcer actitudes violentas respeto trabajo_e...</td>\n",
       "      <td>reconcer actitudes violento respeto trabajo_em...</td>\n",
       "    </tr>\n",
       "    <tr>\n",
       "      <th>30</th>\n",
       "      <td>Violencia sexual,  Reclutamiento de personas, ...</td>\n",
       "      <td>[violencia, sexual, reclutamiento, de, persona...</td>\n",
       "      <td>violencia sexual reclutamiento personas trata ...</td>\n",
       "      <td>no_violencia sexual reclutamiento personas tra...</td>\n",
       "    </tr>\n",
       "    <tr>\n",
       "      <th>31</th>\n",
       "      <td>evento de ciudad realizado a través de la gráf...</td>\n",
       "      <td>[evento, de, ciudad, realizado, traves, de, la...</td>\n",
       "      <td>evento ciudad realizado traves grafica urbana ...</td>\n",
       "      <td>evento ciudad realizar traves grafica urbano n...</td>\n",
       "    </tr>\n",
       "    <tr>\n",
       "      <th>32</th>\n",
       "      <td>Trabajo con comunidades en condiciones de vuln...</td>\n",
       "      <td>[trabajo, con, comunidades, en, condiciones, d...</td>\n",
       "      <td>trabajo comunidades condiciones vulnerabilidad...</td>\n",
       "      <td>comunidades condiciones vulnerabilidad generar...</td>\n",
       "    </tr>\n",
       "    <tr>\n",
       "      <th>33</th>\n",
       "      <td>1. Problemáticas resueltas por medio de la cul...</td>\n",
       "      <td>[problematicas, resueltas, por, medio, de, la,...</td>\n",
       "      <td>problematicas resueltas medio cultura_ciudadan...</td>\n",
       "      <td>problematicas resolver cultura_ciudadana terri...</td>\n",
       "    </tr>\n",
       "    <tr>\n",
       "      <th>34</th>\n",
       "      <td>laboratorios de paz , reintegración, justicia ...</td>\n",
       "      <td>[laboratorios, de, paz, reintegracion, justici...</td>\n",
       "      <td>laboratorios reintegracion justicia comunitari...</td>\n",
       "      <td>laboratorios reintegracion justicia comunitari...</td>\n",
       "    </tr>\n",
       "    <tr>\n",
       "      <th>35</th>\n",
       "      <td>Alianzas, seguimiento a proyectos, cooperación...</td>\n",
       "      <td>[alianzas, seguimiento, proyectos, cooperacion...</td>\n",
       "      <td>alianzas seguimiento proyectos cooperacion res...</td>\n",
       "      <td>alianzas seguimiento proyectos cooperacion res...</td>\n",
       "    </tr>\n",
       "    <tr>\n",
       "      <th>36</th>\n",
       "      <td>Reconciliación, diálogo, perdón Armonía Amor U...</td>\n",
       "      <td>[reconciliacion, dialogo, perdon, armonia, amo...</td>\n",
       "      <td>reconciliacion dialogo perdon armonia amor uni...</td>\n",
       "      <td>reconciliacion dialogo perdon armonia amor uni...</td>\n",
       "    </tr>\n",
       "    <tr>\n",
       "      <th>37</th>\n",
       "      <td>gestores de paz formados con herramientas de c...</td>\n",
       "      <td>[gestores, de, paz, formados, con, herramienta...</td>\n",
       "      <td>gestores formados herramientas construccion in...</td>\n",
       "      <td>gestores formar herramientas construccion inic...</td>\n",
       "    </tr>\n",
       "    <tr>\n",
       "      <th>38</th>\n",
       "      <td>Reparacion de las victimas, participacion de l...</td>\n",
       "      <td>[reparacion, de, las, victimas, participacion,...</td>\n",
       "      <td>reparacion victimas participacion victimas rec...</td>\n",
       "      <td>reparacion victimas participacion victimas rec...</td>\n",
       "    </tr>\n",
       "    <tr>\n",
       "      <th>39</th>\n",
       "      <td>Identificar hechos de paz en los contextos cot...</td>\n",
       "      <td>[identificar, hechos, de, paz, en, los, contex...</td>\n",
       "      <td>identificar hechos contextos cotidianos promov...</td>\n",
       "      <td>identificar hechos contexto cotidiano promover...</td>\n",
       "    </tr>\n",
       "    <tr>\n",
       "      <th>40</th>\n",
       "      <td>Amor, respeto por la diferencia y servir a los...</td>\n",
       "      <td>[amor, respeto, por, la, diferencia, servir, l...</td>\n",
       "      <td>amor respeto diferencia servir demas respeto a...</td>\n",
       "      <td>amor respeto diferenciar servir respeto amor h...</td>\n",
       "    </tr>\n",
       "    <tr>\n",
       "      <th>41</th>\n",
       "      <td>realiza acciones de paz cotidiana con sigo mis...</td>\n",
       "      <td>[realiza, acciones, de, paz, cotidiana, con, s...</td>\n",
       "      <td>realiza acciones cotidiana sigo_mismo amigos f...</td>\n",
       "      <td>realizar acciones cotidiano sigo_mismo amigos ...</td>\n",
       "    </tr>\n",
       "    <tr>\n",
       "      <th>42</th>\n",
       "      <td>confianza interpersonal , confianza institucio...</td>\n",
       "      <td>[confianza, interpersonal, confianza, instituc...</td>\n",
       "      <td>confianza interpersonal confianza instituciona...</td>\n",
       "      <td>confianza interpersonal confianza instituciona...</td>\n",
       "    </tr>\n",
       "    <tr>\n",
       "      <th>43</th>\n",
       "      <td>Prevención de la Violencia, Prevención de la v...</td>\n",
       "      <td>[prevencion, de, la, violencia, prevencion, de...</td>\n",
       "      <td>prevencion violencia prevencion vinculacion jo...</td>\n",
       "      <td>prevencion no_violencia prevencion vinculacion...</td>\n",
       "    </tr>\n",
       "    <tr>\n",
       "      <th>44</th>\n",
       "      <td>1) Personas sensibilizadas en la importancia d...</td>\n",
       "      <td>[personas, sensibilizadas, en, la, importancia...</td>\n",
       "      <td>personas sensibilizadas importancia derechos_h...</td>\n",
       "      <td>personas sensibilizar importancia derechos_hum...</td>\n",
       "    </tr>\n",
       "    <tr>\n",
       "      <th>45</th>\n",
       "      <td>Estrategias de prevención, estrategia de promo...</td>\n",
       "      <td>[estrategias, de, prevencion, estrategia, de, ...</td>\n",
       "      <td>estrategias prevencion estrategia promocion vi...</td>\n",
       "      <td>estrategias prevencion estrategia promocion vi...</td>\n",
       "    </tr>\n",
       "    <tr>\n",
       "      <th>46</th>\n",
       "      <td>memoria,reconciliación,felicidad Respeto Tranq...</td>\n",
       "      <td>[respeto, tranquilidad, derecho, la, vivienda,...</td>\n",
       "      <td>respeto tranquilidad derecho vivienda digna re...</td>\n",
       "      <td>respeto tranquilidad derecho vivienda digno re...</td>\n",
       "    </tr>\n",
       "    <tr>\n",
       "      <th>47</th>\n",
       "      <td>Respeto, reconciliación, panificar, valores, v...</td>\n",
       "      <td>[respeto, reconciliacion, panificar, valores, ...</td>\n",
       "      <td>respeto reconciliacion panificar valores verda...</td>\n",
       "      <td>respeto reconciliacion panificar valores respe...</td>\n",
       "    </tr>\n",
       "    <tr>\n",
       "      <th>48</th>\n",
       "      <td>Participación ciudadana, Respeto Trabajo / Emp...</td>\n",
       "      <td>[participacion, ciudadana, respeto, trabajo, e...</td>\n",
       "      <td>participacion ciudadana respeto trabajo_empleo...</td>\n",
       "      <td>participacion ciudadana respeto trabajo_empleo...</td>\n",
       "    </tr>\n",
       "    <tr>\n",
       "      <th>49</th>\n",
       "      <td>Reconstruccion de memorias, inclusión social, ...</td>\n",
       "      <td>[reconstruccion, de, memorias, inclusion, soci...</td>\n",
       "      <td>reconstruccion memorias inclusion social parti...</td>\n",
       "      <td>reconstruccion memorias inclusion social parti...</td>\n",
       "    </tr>\n",
       "  </tbody>\n",
       "</table>\n",
       "</div>"
      ],
      "text/plain": [
       "                                            Narrativa  \\\n",
       "0   Tranquilidad, Convivencia, Casa, Educación, Co...   \n",
       "1   Tiempo en horas de día de semana y de fin de s...   \n",
       "2   tranquilidad, familia, empleabilidad Toleranci...   \n",
       "3   Acción sin daño, integración comunitaria, resp...   \n",
       "4   Procesos formativos y de multiplicación. Numer...   \n",
       "5   INICIATIVAS DE CULTURA CIUDADANA, EVENTOS DE C...   \n",
       "6   Comunicación, tolerancia, concertación. Tolera...   \n",
       "7   Voluntad,comunicación, Reglas Respeto Toleranc...   \n",
       "8   1. Sensibilidad social respecto temáticas coti...   \n",
       "9   Cambio de percepción comunitaria, fortalecimie...   \n",
       "10  Cambio de hábitos, respeto por el medio ambien...   \n",
       "11  convivencia Respeto Tolerancia Compartir respe...   \n",
       "12  Formaciones, PRQS respondidas, Diseño de estra...   \n",
       "13  \"Alianzas multi-actor formalizadas\", \"Declarac...   \n",
       "14  memoria, reconciliación, equidad Respeto Toler...   \n",
       "15  cumplimiento, proyección, ejecución Amor Tranq...   \n",
       "16  Participación ciudadana, reconocimiento de la ...   \n",
       "17  Asesorar,Guiar,Gestionar Respeto Tolerancia Ar...   \n",
       "18  Personas formadas en cultura ciudadana, % dism...   \n",
       "19  Formas de resolución de conflictos, Cumplimien...   \n",
       "20  Reconciliación, vinculación de jóvenes a progr...   \n",
       "21  Alianzas para la construcción de paz Armonía E...   \n",
       "22  Cohesión social, convivencia pacífica, afianza...   \n",
       "23  Se pretende crear indicadores de gestión del p...   \n",
       "24  Aprendi Respeto No violencia Hogar Trabajar co...   \n",
       "25  resolución de conflictos, justicia comunitaria...   \n",
       "26  Participación comunitaria, trabajo conjunto en...   \n",
       "27  Número de Jueces de Paz atentados, Número de c...   \n",
       "28  1. realización de proyectos e  iniciativas com...   \n",
       "29  reconcer actitudes violentas, Respeto Trabajo ...   \n",
       "30  Violencia sexual,  Reclutamiento de personas, ...   \n",
       "31  evento de ciudad realizado a través de la gráf...   \n",
       "32  Trabajo con comunidades en condiciones de vuln...   \n",
       "33  1. Problemáticas resueltas por medio de la cul...   \n",
       "34  laboratorios de paz , reintegración, justicia ...   \n",
       "35  Alianzas, seguimiento a proyectos, cooperación...   \n",
       "36  Reconciliación, diálogo, perdón Armonía Amor U...   \n",
       "37  gestores de paz formados con herramientas de c...   \n",
       "38  Reparacion de las victimas, participacion de l...   \n",
       "39  Identificar hechos de paz en los contextos cot...   \n",
       "40  Amor, respeto por la diferencia y servir a los...   \n",
       "41  realiza acciones de paz cotidiana con sigo mis...   \n",
       "42  confianza interpersonal , confianza institucio...   \n",
       "43  Prevención de la Violencia, Prevención de la v...   \n",
       "44  1) Personas sensibilizadas en la importancia d...   \n",
       "45  Estrategias de prevención, estrategia de promo...   \n",
       "46  memoria,reconciliación,felicidad Respeto Tranq...   \n",
       "47  Respeto, reconciliación, panificar, valores, v...   \n",
       "48  Participación ciudadana, Respeto Trabajo / Emp...   \n",
       "49  Reconstruccion de memorias, inclusión social, ...   \n",
       "\n",
       "                                  Narrativa_processed  \\\n",
       "0   [tranquilidad, convivencia, casa, educacion, c...   \n",
       "1   [tiempo, en, horas, de, dia, de, semana, de, f...   \n",
       "2   [tranquilidad, familia, empleabilidad, toleran...   \n",
       "3   [accion, sin, dano, integracion, comunitaria, ...   \n",
       "4   [procesos, formativos, de, multiplicacion, num...   \n",
       "5   [iniciativas, de, cultura, ciudadana, eventos,...   \n",
       "6   [comunicacion, tolerancia, concertacion, toler...   \n",
       "7   [reglas, respeto, tolerancia, hogar, estado, d...   \n",
       "8   [sensibilidad, social, respecto, tematicas, co...   \n",
       "9   [cambio, de, percepcion, comunitaria, fortalec...   \n",
       "10  [cambio, de, habitos, respeto, por, el, medio,...   \n",
       "11  [convivencia, respeto, tolerancia, compartir, ...   \n",
       "12  [formaciones, prqs, respondidas, diseno, de, e...   \n",
       "13  [alianzas, multi, actor, formalizadas, declara...   \n",
       "14  [memoria, reconciliacion, equidad, respeto, to...   \n",
       "15  [cumplimiento, proyeccion, ejecucion, amor, tr...   \n",
       "16  [participacion, ciudadana, reconocimiento, de,...   \n",
       "17  [respeto, tolerancia, armonia, la, semilla, de...   \n",
       "18  [personas, formadas, en, cultura, ciudadana, d...   \n",
       "19  [formas, de, resolucion, de, conflictos, cumpl...   \n",
       "20  [reconciliacion, vinculacion, de, jovenes, pro...   \n",
       "21  [alianzas, para, la, construccion, de, paz, ar...   \n",
       "22  [cohesion, social, convivencia, pacifica, afia...   \n",
       "23  [se, pretende, crear, indicadores, de, gestion...   \n",
       "24  [aprendi, respeto, no, violencia, hogar, traba...   \n",
       "25  [resolucion, de, conflictos, justicia, comunit...   \n",
       "26  [participacion, comunitaria, trabajo, conjunto...   \n",
       "27  [numero, de, jueces, de, paz, atentados, numer...   \n",
       "28  [realizacion, de, proyectos, iniciativas, comu...   \n",
       "29  [reconcer, actitudes, violentas, respeto, trab...   \n",
       "30  [violencia, sexual, reclutamiento, de, persona...   \n",
       "31  [evento, de, ciudad, realizado, traves, de, la...   \n",
       "32  [trabajo, con, comunidades, en, condiciones, d...   \n",
       "33  [problematicas, resueltas, por, medio, de, la,...   \n",
       "34  [laboratorios, de, paz, reintegracion, justici...   \n",
       "35  [alianzas, seguimiento, proyectos, cooperacion...   \n",
       "36  [reconciliacion, dialogo, perdon, armonia, amo...   \n",
       "37  [gestores, de, paz, formados, con, herramienta...   \n",
       "38  [reparacion, de, las, victimas, participacion,...   \n",
       "39  [identificar, hechos, de, paz, en, los, contex...   \n",
       "40  [amor, respeto, por, la, diferencia, servir, l...   \n",
       "41  [realiza, acciones, de, paz, cotidiana, con, s...   \n",
       "42  [confianza, interpersonal, confianza, instituc...   \n",
       "43  [prevencion, de, la, violencia, prevencion, de...   \n",
       "44  [personas, sensibilizadas, en, la, importancia...   \n",
       "45  [estrategias, de, prevencion, estrategia, de, ...   \n",
       "46  [respeto, tranquilidad, derecho, la, vivienda,...   \n",
       "47  [respeto, reconciliacion, panificar, valores, ...   \n",
       "48  [participacion, ciudadana, respeto, trabajo, e...   \n",
       "49  [reconstruccion, de, memorias, inclusion, soci...   \n",
       "\n",
       "                                    Narrativa_bigrams  \\\n",
       "0   tranquilidad convivencia casa educacion colect...   \n",
       "1   tiempo horas semana semana padres cuidadores p...   \n",
       "2   tranquilidad familia empleabilidad tolerancia ...   \n",
       "3   accion dano integracion comunitaria respeto de...   \n",
       "4   procesos formativos multiplicacion numero alia...   \n",
       "5   iniciativas cultura_ciudadana eventos ciudad p...   \n",
       "6   comunicacion tolerancia concertacion toleranci...   \n",
       "7   reglas respeto_tolerancia hogar tranquilidad c...   \n",
       "8   sensibilidad social respecto tematicas cotidia...   \n",
       "9   cambio percepcion comunitaria fortalecimiento ...   \n",
       "10  cambio habitos respeto medio_ambiente conviven...   \n",
       "11   convivencia respeto_tolerancia compartir respeto   \n",
       "12  formaciones prqs respondidas diseno estrategia...   \n",
       "13  alianzas multi actor formalizadas declaracione...   \n",
       "14  memoria reconciliacion equidad respeto_toleran...   \n",
       "15  cumplimiento proyeccion ejecucion amor tranqui...   \n",
       "16  participacion ciudadana reconocimiento diversi...   \n",
       "17  respeto_tolerancia armonia semilla manos sembr...   \n",
       "18  personas formadas cultura_ciudadana disminucio...   \n",
       "19  formas resolucion conflictos cumplimiento debe...   \n",
       "20  reconciliacion vinculacion jovenes programas n...   \n",
       "21  alianzas construccion armonia equilibrio no_vi...   \n",
       "22  cohesion social convivencia_pacifica afianzar ...   \n",
       "23  pretende crear indicadores gestion proceso ges...   \n",
       "24   aprendi respeto no_violencia hogar trabajar amor   \n",
       "25  resolucion conflictos justicia comunitaria ali...   \n",
       "26  participacion comunitaria trabajo conjunto par...   \n",
       "27  numero jueces atentados numero ciudadanos aten...   \n",
       "28  realizacion proyectos iniciativas_comunitarias...   \n",
       "29  reconcer actitudes violentas respeto trabajo_e...   \n",
       "30  violencia sexual reclutamiento personas trata ...   \n",
       "31  evento ciudad realizado traves grafica urbana ...   \n",
       "32  trabajo comunidades condiciones vulnerabilidad...   \n",
       "33  problematicas resueltas medio cultura_ciudadan...   \n",
       "34  laboratorios reintegracion justicia comunitari...   \n",
       "35  alianzas seguimiento proyectos cooperacion res...   \n",
       "36  reconciliacion dialogo perdon armonia amor uni...   \n",
       "37  gestores formados herramientas construccion in...   \n",
       "38  reparacion victimas participacion victimas rec...   \n",
       "39  identificar hechos contextos cotidianos promov...   \n",
       "40  amor respeto diferencia servir demas respeto a...   \n",
       "41  realiza acciones cotidiana sigo_mismo amigos f...   \n",
       "42  confianza interpersonal confianza instituciona...   \n",
       "43  prevencion violencia prevencion vinculacion jo...   \n",
       "44  personas sensibilizadas importancia derechos_h...   \n",
       "45  estrategias prevencion estrategia promocion vi...   \n",
       "46  respeto tranquilidad derecho vivienda digna re...   \n",
       "47  respeto reconciliacion panificar valores verda...   \n",
       "48  participacion ciudadana respeto trabajo_empleo...   \n",
       "49  reconstruccion memorias inclusion social parti...   \n",
       "\n",
       "                                 Narrativa_lemmatized  \n",
       "0   tranquilidad convivencia casa educacion colect...  \n",
       "1   semana semana padres cuidadores pasar hijos es...  \n",
       "2   tranquilidad familia empleabilidad tolerancia ...  \n",
       "3   accion dano integracion comunitaria respeto de...  \n",
       "4   procesos formativo multiplicacion numero alian...  \n",
       "5   iniciativas cultura_ciudadana eventos ciudad p...  \n",
       "6   comunicacion tolerancia concertacion toleranci...  \n",
       "7   reglas respeto_tolerancia hogar tranquilidad c...  \n",
       "8   sensibilidad social tematicas cotidiano apropi...  \n",
       "9   cambio percepcion comunitaria fortalecimiento ...  \n",
       "10  cambio habitos respeto medio_ambiente conviven...  \n",
       "11   convivencia respeto_tolerancia compartir respeto  \n",
       "12  formaciones prqs responder diseno estrategia t...  \n",
       "13  alianzas multi actor formalizar declaraciones ...  \n",
       "14  memoria reconciliacion equidad respeto_toleran...  \n",
       "15  cumplimiento proyeccion ejecucion amor tranqui...  \n",
       "16  participacion ciudadana reconocimiento diversi...  \n",
       "17  respeto_tolerancia armonia semilla manos sembr...  \n",
       "18  personas formar cultura_ciudadana disminucion ...  \n",
       "19  formas resolucion conflictos cumplimiento debe...  \n",
       "20  reconciliacion vinculacion jovenes programas n...  \n",
       "21  alianzas construccion armonia equilibrio no_vi...  \n",
       "22  cohesion social convivencia_pacifica afianzar ...  \n",
       "23  pretender crear indicadores gestion proceso ge...  \n",
       "24   aprendi respeto no_violencia hogar trabajar amor  \n",
       "25  resolucion conflictos justicia comunitario ali...  \n",
       "26  participacion comunitario conjuntar partes con...  \n",
       "27  numero jueces atentados numerar ciudadanos ate...  \n",
       "28  realizacion proyectos iniciativas_comunitarias...  \n",
       "29  reconcer actitudes violento respeto trabajo_em...  \n",
       "30  no_violencia sexual reclutamiento personas tra...  \n",
       "31  evento ciudad realizar traves grafica urbano n...  \n",
       "32  comunidades condiciones vulnerabilidad generar...  \n",
       "33  problematicas resolver cultura_ciudadana terri...  \n",
       "34  laboratorios reintegracion justicia comunitari...  \n",
       "35  alianzas seguimiento proyectos cooperacion res...  \n",
       "36  reconciliacion dialogo perdon armonia amor uni...  \n",
       "37  gestores formar herramientas construccion inic...  \n",
       "38  reparacion victimas participacion victimas rec...  \n",
       "39  identificar hechos contexto cotidiano promover...  \n",
       "40  amor respeto diferenciar servir respeto amor h...  \n",
       "41  realizar acciones cotidiano sigo_mismo amigos ...  \n",
       "42  confianza interpersonal confianza instituciona...  \n",
       "43  prevencion no_violencia prevencion vinculacion...  \n",
       "44  personas sensibilizar importancia derechos_hum...  \n",
       "45  estrategias prevencion estrategia promocion vi...  \n",
       "46  respeto tranquilidad derecho vivienda digno re...  \n",
       "47  respeto reconciliacion panificar valores respe...  \n",
       "48  participacion ciudadana respeto trabajo_empleo...  \n",
       "49  reconstruccion memorias inclusion social parti...  "
      ]
     },
     "execution_count": 122,
     "metadata": {},
     "output_type": "execute_result"
    }
   ],
   "source": [
    "df.head(50)"
   ]
  },
  {
   "cell_type": "markdown",
   "metadata": {},
   "source": [
    "Ahora visualizaremos una nube de palabras que contiene las palabras más significativas después de haber realizado la limpieza de los datos."
   ]
  },
  {
   "cell_type": "code",
   "execution_count": 123,
   "metadata": {
    "scrolled": false
   },
   "outputs": [
    {
     "data": {
      "image/png": "[encoded data removed]",
      "text/plain": [
       "<PIL.Image.Image image mode=RGB size=400x200 at 0x7F3090083EB8>"
      ]
     },
     "execution_count": 123,
     "metadata": {},
     "output_type": "execute_result"
    }
   ],
   "source": [
    "# Join the different processed titles together.\n",
    "long_string = ' '.join(list(df['Narrativa_lemmatized'].values))\n",
    "\n",
    "#stopwordsWc=[\"demas\",\"tener\",\"mismo\",\"poder\",\"cada\",\"tambien\", \"hacer\"]\n",
    "# Create a WordCloud object\n",
    "wordcloud = WordCloud(background_color=\"white\", collocations=False,  max_words=5000, contour_width=3, contour_color='steelblue')#,stopwords=stopwordsWc)\n",
    "# Generate a word cloud\n",
    "wordcloud.generate(long_string )\n",
    "# Visualize the word cloud\n",
    "wordcloud.to_image()"
   ]
  },
  {
   "cell_type": "code",
   "execution_count": 128,
   "metadata": {},
   "outputs": [
    {
     "name": "stdout",
     "output_type": "stream",
     "text": [
      "número total de narrativas (textos realizados por cada persona): 2969\n"
     ]
    }
   ],
   "source": [
    "print(\"número total de narrativas (textos realizados por cada persona):\", df.shape[0])"
   ]
  },
  {
   "cell_type": "code",
   "execution_count": 129,
   "metadata": {
    "scrolled": true
   },
   "outputs": [
    {
     "name": "stdout",
     "output_type": "stream",
     "text": [
      "número total de palabras: 22714\n"
     ]
    }
   ],
   "source": [
    "print(\"número total de palabras:\", len(long_string.split(\" \")))"
   ]
  },
  {
   "cell_type": "markdown",
   "metadata": {},
   "source": [
    "Ahora guardamos la nube de palabras en una imagen en el directorio actual"
   ]
  },
  {
   "cell_type": "code",
   "execution_count": 126,
   "metadata": {
    "scrolled": true
   },
   "outputs": [
    {
     "data": {
      "text/plain": [
       "<wordcloud.wordcloud.WordCloud at 0x7f30901a23c8>"
      ]
     },
     "execution_count": 126,
     "metadata": {},
     "output_type": "execute_result"
    }
   ],
   "source": [
    "wordcloud.to_file(\"./peaceWordCloud.png\")"
   ]
  },
  {
   "cell_type": "markdown",
   "metadata": {},
   "source": [
    "Guardamos los datos para ser procesados en el modelo"
   ]
  },
  {
   "cell_type": "code",
   "execution_count": 127,
   "metadata": {
    "collapsed": true
   },
   "outputs": [],
   "source": [
    "ruta = './data/'\n",
    "nombre_base = 'df_limpieza'\n",
    "\n",
    "nombre_archivo = ruta + nombre_base+'.xlsx'\n",
    "\n",
    "writer = pd.ExcelWriter(nombre_archivo)\n",
    "df.Narrativa_lemmatized.to_excel(writer,index=False)\n",
    "writer.save()"
   ]
  }
 ],
 "metadata": {
  "kernelspec": {
   "display_name": "Python 3",
   "language": "python",
   "name": "python3"
  },
  "language_info": {
   "codemirror_mode": {
    "name": "ipython",
    "version": 3
   },
   "file_extension": ".py",
   "mimetype": "text/x-python",
   "name": "python",
   "nbconvert_exporter": "python",
   "pygments_lexer": "ipython3",
   "version": "3.6.2"
  }
 },
 "nbformat": 4,
 "nbformat_minor": 2
}
